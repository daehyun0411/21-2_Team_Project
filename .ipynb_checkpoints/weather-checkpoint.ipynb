{
 "cells": [
  {
   "cell_type": "code",
   "execution_count": 1,
   "metadata": {},
   "outputs": [],
   "source": [
    "import pandas as pd\n",
    "import numpy as np\n",
    "import seaborn as sns\n",
    "import matplotlib.pyplot as plt\n",
    "import warnings\n",
    "\n",
    "%matplotlib inline\n",
    "%config InlineBackend.figure_format = 'retina'\n",
    "\n",
    "warnings.filterwarnings('ignore')\n",
    "plt.rcParams[\"figure.figsize\"] = (16,8)\n",
    "plt.rcParams['axes.unicode_minus'] = False\n",
    "plt.rc('font', family='Malgun Gothic')"
   ]
  },
  {
   "cell_type": "code",
   "execution_count": 2,
   "metadata": {},
   "outputs": [],
   "source": [
    "gw =  pd.read_csv(\"C:/Users/keogu/Desktop/빅데이터 자료분석/weather/강원도.csv\",encoding=\"cp949\",parse_dates=['일시'])\n",
    "gg =  pd.read_csv(\"C:/Users/keogu/Desktop/빅데이터 자료분석/weather/경기도.csv\",encoding=\"cp949\",parse_dates=['일시'])\n",
    "bs =  pd.read_csv(\"C:/Users/keogu/Desktop/빅데이터 자료분석/weather/부산.csv\",encoding=\"cp949\",parse_dates=['일시'])\n",
    "jn =  pd.read_csv(\"C:/Users/keogu/Desktop/빅데이터 자료분석/weather/전라남도.csv\",encoding=\"cp949\",parse_dates=['일시'])\n",
    "jb =  pd.read_csv(\"C:/Users/keogu/Desktop/빅데이터 자료분석/weather/전라북도.csv\",encoding=\"cp949\",parse_dates=['일시'])\n",
    "jj =  pd.read_csv(\"C:/Users/keogu/Desktop/빅데이터 자료분석/weather/제주도.csv\",encoding=\"cp949\",parse_dates=['일시'])\n",
    "cn =  pd.read_csv(\"C:/Users/keogu/Desktop/빅데이터 자료분석/weather/충청남도.csv\",encoding=\"cp949\",parse_dates=['일시'])"
   ]
  },
  {
   "cell_type": "code",
   "execution_count": 3,
   "metadata": {},
   "outputs": [],
   "source": [
    "gw_group = gw.groupby(['일시']).mean()\n",
    "gg_group = gg.groupby(['일시']).mean()\n",
    "bs_group = bs.groupby(['일시']).mean()\n",
    "jn_group = jn.groupby(['일시']).mean()\n",
    "jb_group = jb.groupby(['일시']).mean()\n",
    "jj_group = jj.groupby(['일시']).mean()\n",
    "cn_group = cn.groupby(['일시']).mean()"
   ]
  },
  {
   "cell_type": "code",
   "execution_count": 4,
   "metadata": {},
   "outputs": [],
   "source": [
    "gw_group.fillna(0,inplace=True)\n",
    "gg_group.fillna(0,inplace=True)\n",
    "bs_group.fillna(0,inplace=True)\n",
    "jn_group.fillna(0,inplace=True)\n",
    "jb_group.fillna(0,inplace=True)\n",
    "jj_group.fillna(0,inplace=True)\n",
    "cn_group.fillna(0,inplace=True)"
   ]
  },
  {
   "cell_type": "code",
   "execution_count": 5,
   "metadata": {},
   "outputs": [],
   "source": [
    "gw_week= gw_group.resample(rule='W').mean().reset_index()\n",
    "gg_week= gg_group.resample(rule='W').mean().reset_index()\n",
    "bs_week= bs_group.resample(rule='W').mean().reset_index()\n",
    "jn_week= jn_group.resample(rule='W').mean().reset_index()\n",
    "jb_week= jb_group.resample(rule='W').mean().reset_index()\n",
    "jj_week= jj_group.resample(rule='W').mean().reset_index()\n",
    "cn_week= cn_group.resample(rule='W').mean().reset_index()"
   ]
  },
  {
   "cell_type": "code",
   "execution_count": 6,
   "metadata": {},
   "outputs": [],
   "source": [
    "gw_week.drop(['지점'], axis=1, inplace=True)\n",
    "gg_week.drop(['지점'], axis=1, inplace=True)\n",
    "bs_week.drop(['지점'], axis=1, inplace=True)\n",
    "jn_week.drop(['지점'], axis=1, inplace=True)\n",
    "jb_week.drop(['지점'], axis=1, inplace=True)\n",
    "jj_week.drop(['지점'], axis=1, inplace=True)\n",
    "cn_week.drop(['지점'], axis=1, inplace=True)"
   ]
  },
  {
   "cell_type": "code",
   "execution_count": 7,
   "metadata": {},
   "outputs": [],
   "source": [
    "gw_week.to_csv(\"C:/Users/keogu/Desktop/빅데이터 자료분석/weather/강원도_전처리.csv\",index=False, encoding='cp949')\n",
    "gg_week.to_csv(\"C:/Users/keogu/Desktop/빅데이터 자료분석/weather/경기도_전처리.csv\",index=False, encoding='cp949')\n",
    "bs_week.to_csv(\"C:/Users/keogu/Desktop/빅데이터 자료분석/weather/부산_전처리.csv\",index=False, encoding='cp949')\n",
    "jn_week.to_csv(\"C:/Users/keogu/Desktop/빅데이터 자료분석/weather/전라남도_전처리.csv\",index=False, encoding='cp949')\n",
    "jb_week.to_csv(\"C:/Users/keogu/Desktop/빅데이터 자료분석/weather/전라북도_전처리.csv\",index=False, encoding='cp949')\n",
    "jj_week.to_csv(\"C:/Users/keogu/Desktop/빅데이터 자료분석/weather/제주도_전처리.csv\",index=False, encoding='cp949')\n",
    "cn_week.to_csv(\"C:/Users/keogu/Desktop/빅데이터 자료분석/weather/충청남도_전처리.csv\",index=False, encoding='cp949')"
   ]
  }
 ],
 "metadata": {
  "hide_input": false,
  "kernelspec": {
   "display_name": "Python 3",
   "language": "python",
   "name": "python3"
  },
  "language_info": {
   "codemirror_mode": {
    "name": "ipython",
    "version": 3
   },
   "file_extension": ".py",
   "mimetype": "text/x-python",
   "name": "python",
   "nbconvert_exporter": "python",
   "pygments_lexer": "ipython3",
   "version": "3.7.6"
  },
  "toc": {
   "base_numbering": 1,
   "nav_menu": {},
   "number_sections": true,
   "sideBar": true,
   "skip_h1_title": false,
   "title_cell": "Table of Contents",
   "title_sidebar": "Contents",
   "toc_cell": false,
   "toc_position": {},
   "toc_section_display": true,
   "toc_window_display": false
  },
  "varInspector": {
   "cols": {
    "lenName": 16,
    "lenType": 16,
    "lenVar": 40
   },
   "kernels_config": {
    "python": {
     "delete_cmd_postfix": "",
     "delete_cmd_prefix": "del ",
     "library": "var_list.py",
     "varRefreshCmd": "print(var_dic_list())"
    },
    "r": {
     "delete_cmd_postfix": ") ",
     "delete_cmd_prefix": "rm(",
     "library": "var_list.r",
     "varRefreshCmd": "cat(var_dic_list()) "
    }
   },
   "types_to_exclude": [
    "module",
    "function",
    "builtin_function_or_method",
    "instance",
    "_Feature"
   ],
   "window_display": false
  }
 },
 "nbformat": 4,
 "nbformat_minor": 4
}
