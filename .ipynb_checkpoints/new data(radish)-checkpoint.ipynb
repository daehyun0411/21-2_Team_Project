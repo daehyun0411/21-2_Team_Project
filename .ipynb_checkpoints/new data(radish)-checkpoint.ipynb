{
 "cells": [
  {
   "cell_type": "code",
   "execution_count": 38,
   "metadata": {},
   "outputs": [],
   "source": [
    "import pandas as pd\n",
    "import numpy as np\n",
    "import seaborn as sns\n",
    "import matplotlib.pyplot as plt\n",
    "import warnings\n",
    "\n",
    "%matplotlib inline\n",
    "%config InlineBackend.figure_format = 'retina'\n",
    "\n",
    "warnings.filterwarnings('ignore')\n",
    "plt.rcParams[\"figure.figsize\"] = (16,8)\n",
    "plt.rcParams['axes.unicode_minus'] = False\n",
    "plt.rc('font', family='Malgun Gothic')"
   ]
  },
  {
   "cell_type": "code",
   "execution_count": 39,
   "metadata": {},
   "outputs": [],
   "source": [
    "import plotly.express as px\n",
    "import plotly.graph_objects as go\n",
    "from plotly.subplots import make_subplots"
   ]
  },
  {
   "cell_type": "markdown",
   "metadata": {},
   "source": [
    "# 무"
   ]
  },
  {
   "cell_type": "code",
   "execution_count": 40,
   "metadata": {},
   "outputs": [],
   "source": [
    "rad = pd.read_csv(\"C:/Users/keogu/Desktop/빅데이터 자료분석/new data/무.csv\",parse_dates=['SALEDATE'])"
   ]
  },
  {
   "cell_type": "code",
   "execution_count": 41,
   "metadata": {},
   "outputs": [
    {
     "data": {
      "text/html": [
       "<div>\n",
       "<style scoped>\n",
       "    .dataframe tbody tr th:only-of-type {\n",
       "        vertical-align: middle;\n",
       "    }\n",
       "\n",
       "    .dataframe tbody tr th {\n",
       "        vertical-align: top;\n",
       "    }\n",
       "\n",
       "    .dataframe thead th {\n",
       "        text-align: right;\n",
       "    }\n",
       "</style>\n",
       "<table border=\"1\" class=\"dataframe\">\n",
       "  <thead>\n",
       "    <tr style=\"text-align: right;\">\n",
       "      <th></th>\n",
       "      <th>PUM_NM</th>\n",
       "      <th>LV_NM</th>\n",
       "      <th>TOT_AMT</th>\n",
       "      <th>SAN_NM</th>\n",
       "      <th>SALEDATE</th>\n",
       "      <th>CMP_NM</th>\n",
       "      <th>DAN_NM</th>\n",
       "      <th>WHSAL_NM</th>\n",
       "      <th>SIZE_NM</th>\n",
       "      <th>COST</th>\n",
       "      <th>POJ_NM</th>\n",
       "      <th>TOT_QTY</th>\n",
       "      <th>QTY</th>\n",
       "      <th>KIND_NM</th>\n",
       "      <th>DANQ</th>\n",
       "    </tr>\n",
       "  </thead>\n",
       "  <tbody>\n",
       "    <tr>\n",
       "      <th>0</th>\n",
       "      <td>무</td>\n",
       "      <td>.</td>\n",
       "      <td>1456000.0</td>\n",
       "      <td>제주도 서귀포시</td>\n",
       "      <td>2014-01-03</td>\n",
       "      <td>서울청과</td>\n",
       "      <td>kg</td>\n",
       "      <td>서울가락도매</td>\n",
       "      <td>.</td>\n",
       "      <td>5200.0</td>\n",
       "      <td>.</td>\n",
       "      <td>5040.0</td>\n",
       "      <td>280.0</td>\n",
       "      <td>기타무</td>\n",
       "      <td>18.0</td>\n",
       "    </tr>\n",
       "    <tr>\n",
       "      <th>1</th>\n",
       "      <td>무</td>\n",
       "      <td>특</td>\n",
       "      <td>1344000.0</td>\n",
       "      <td>제주도 서귀포시</td>\n",
       "      <td>2014-01-03</td>\n",
       "      <td>한국청과</td>\n",
       "      <td>kg</td>\n",
       "      <td>서울가락도매</td>\n",
       "      <td>.</td>\n",
       "      <td>4800.0</td>\n",
       "      <td>PE대</td>\n",
       "      <td>5040.0</td>\n",
       "      <td>280.0</td>\n",
       "      <td>기타무</td>\n",
       "      <td>18.0</td>\n",
       "    </tr>\n",
       "    <tr>\n",
       "      <th>2</th>\n",
       "      <td>무</td>\n",
       "      <td>특</td>\n",
       "      <td>1400000.0</td>\n",
       "      <td>제주도 제주시</td>\n",
       "      <td>2014-01-03</td>\n",
       "      <td>한국청과</td>\n",
       "      <td>kg</td>\n",
       "      <td>서울가락도매</td>\n",
       "      <td>.</td>\n",
       "      <td>5000.0</td>\n",
       "      <td>PE대</td>\n",
       "      <td>5040.0</td>\n",
       "      <td>280.0</td>\n",
       "      <td>기타무</td>\n",
       "      <td>18.0</td>\n",
       "    </tr>\n",
       "    <tr>\n",
       "      <th>3</th>\n",
       "      <td>무</td>\n",
       "      <td>특</td>\n",
       "      <td>1344000.0</td>\n",
       "      <td>제주도 제주시</td>\n",
       "      <td>2014-01-03</td>\n",
       "      <td>한국청과</td>\n",
       "      <td>kg</td>\n",
       "      <td>서울가락도매</td>\n",
       "      <td>.</td>\n",
       "      <td>4800.0</td>\n",
       "      <td>PE대</td>\n",
       "      <td>5040.0</td>\n",
       "      <td>280.0</td>\n",
       "      <td>기타무</td>\n",
       "      <td>18.0</td>\n",
       "    </tr>\n",
       "    <tr>\n",
       "      <th>4</th>\n",
       "      <td>무</td>\n",
       "      <td>특</td>\n",
       "      <td>1484000.0</td>\n",
       "      <td>제주도 서귀포시</td>\n",
       "      <td>2014-01-03</td>\n",
       "      <td>한국청과</td>\n",
       "      <td>kg</td>\n",
       "      <td>서울가락도매</td>\n",
       "      <td>.</td>\n",
       "      <td>5300.0</td>\n",
       "      <td>PE대</td>\n",
       "      <td>5040.0</td>\n",
       "      <td>280.0</td>\n",
       "      <td>기타무</td>\n",
       "      <td>18.0</td>\n",
       "    </tr>\n",
       "    <tr>\n",
       "      <th>...</th>\n",
       "      <td>...</td>\n",
       "      <td>...</td>\n",
       "      <td>...</td>\n",
       "      <td>...</td>\n",
       "      <td>...</td>\n",
       "      <td>...</td>\n",
       "      <td>...</td>\n",
       "      <td>...</td>\n",
       "      <td>...</td>\n",
       "      <td>...</td>\n",
       "      <td>...</td>\n",
       "      <td>...</td>\n",
       "      <td>...</td>\n",
       "      <td>...</td>\n",
       "      <td>...</td>\n",
       "    </tr>\n",
       "    <tr>\n",
       "      <th>1883767</th>\n",
       "      <td>무</td>\n",
       "      <td>특</td>\n",
       "      <td>64000.0</td>\n",
       "      <td>강원 횡성군</td>\n",
       "      <td>2021-10-30</td>\n",
       "      <td>대인농산</td>\n",
       "      <td>kg</td>\n",
       "      <td>인천구월도매</td>\n",
       "      <td>10개</td>\n",
       "      <td>8000.0</td>\n",
       "      <td>상자</td>\n",
       "      <td>160.0</td>\n",
       "      <td>8.0</td>\n",
       "      <td>가을무</td>\n",
       "      <td>20.0</td>\n",
       "    </tr>\n",
       "    <tr>\n",
       "      <th>1883768</th>\n",
       "      <td>무</td>\n",
       "      <td>특</td>\n",
       "      <td>336000.0</td>\n",
       "      <td>강원 횡성군</td>\n",
       "      <td>2021-10-30</td>\n",
       "      <td>대인농산</td>\n",
       "      <td>kg</td>\n",
       "      <td>인천구월도매</td>\n",
       "      <td>9개</td>\n",
       "      <td>7000.0</td>\n",
       "      <td>상자</td>\n",
       "      <td>960.0</td>\n",
       "      <td>48.0</td>\n",
       "      <td>가을무</td>\n",
       "      <td>20.0</td>\n",
       "    </tr>\n",
       "    <tr>\n",
       "      <th>1883769</th>\n",
       "      <td>무</td>\n",
       "      <td>특</td>\n",
       "      <td>30000.0</td>\n",
       "      <td>강원 횡성군</td>\n",
       "      <td>2021-10-30</td>\n",
       "      <td>대인농산</td>\n",
       "      <td>kg</td>\n",
       "      <td>인천구월도매</td>\n",
       "      <td>8개</td>\n",
       "      <td>7500.0</td>\n",
       "      <td>상자</td>\n",
       "      <td>80.0</td>\n",
       "      <td>4.0</td>\n",
       "      <td>가을무</td>\n",
       "      <td>20.0</td>\n",
       "    </tr>\n",
       "    <tr>\n",
       "      <th>1883770</th>\n",
       "      <td>무</td>\n",
       "      <td>특</td>\n",
       "      <td>93600.0</td>\n",
       "      <td>강원 횡성군</td>\n",
       "      <td>2021-10-30</td>\n",
       "      <td>대인농산</td>\n",
       "      <td>kg</td>\n",
       "      <td>인천구월도매</td>\n",
       "      <td>.</td>\n",
       "      <td>7200.0</td>\n",
       "      <td>상자</td>\n",
       "      <td>260.0</td>\n",
       "      <td>13.0</td>\n",
       "      <td>가을무</td>\n",
       "      <td>20.0</td>\n",
       "    </tr>\n",
       "    <tr>\n",
       "      <th>1883771</th>\n",
       "      <td>무</td>\n",
       "      <td>특</td>\n",
       "      <td>357000.0</td>\n",
       "      <td>강원 횡성군</td>\n",
       "      <td>2021-10-30</td>\n",
       "      <td>대인농산</td>\n",
       "      <td>kg</td>\n",
       "      <td>인천구월도매</td>\n",
       "      <td>.</td>\n",
       "      <td>8500.0</td>\n",
       "      <td>상자</td>\n",
       "      <td>840.0</td>\n",
       "      <td>42.0</td>\n",
       "      <td>가을무</td>\n",
       "      <td>20.0</td>\n",
       "    </tr>\n",
       "  </tbody>\n",
       "</table>\n",
       "<p>1883772 rows × 15 columns</p>\n",
       "</div>"
      ],
      "text/plain": [
       "        PUM_NM LV_NM    TOT_AMT    SAN_NM   SALEDATE CMP_NM DAN_NM WHSAL_NM  \\\n",
       "0            무     .  1456000.0  제주도 서귀포시 2014-01-03   서울청과     kg   서울가락도매   \n",
       "1            무     특  1344000.0  제주도 서귀포시 2014-01-03   한국청과     kg   서울가락도매   \n",
       "2            무     특  1400000.0   제주도 제주시 2014-01-03   한국청과     kg   서울가락도매   \n",
       "3            무     특  1344000.0   제주도 제주시 2014-01-03   한국청과     kg   서울가락도매   \n",
       "4            무     특  1484000.0  제주도 서귀포시 2014-01-03   한국청과     kg   서울가락도매   \n",
       "...        ...   ...        ...       ...        ...    ...    ...      ...   \n",
       "1883767      무     특    64000.0    강원 횡성군 2021-10-30   대인농산     kg   인천구월도매   \n",
       "1883768      무     특   336000.0    강원 횡성군 2021-10-30   대인농산     kg   인천구월도매   \n",
       "1883769      무     특    30000.0    강원 횡성군 2021-10-30   대인농산     kg   인천구월도매   \n",
       "1883770      무     특    93600.0    강원 횡성군 2021-10-30   대인농산     kg   인천구월도매   \n",
       "1883771      무     특   357000.0    강원 횡성군 2021-10-30   대인농산     kg   인천구월도매   \n",
       "\n",
       "        SIZE_NM    COST POJ_NM  TOT_QTY    QTY KIND_NM  DANQ  \n",
       "0             .  5200.0      .   5040.0  280.0     기타무  18.0  \n",
       "1             .  4800.0    PE대   5040.0  280.0     기타무  18.0  \n",
       "2             .  5000.0    PE대   5040.0  280.0     기타무  18.0  \n",
       "3             .  4800.0    PE대   5040.0  280.0     기타무  18.0  \n",
       "4             .  5300.0    PE대   5040.0  280.0     기타무  18.0  \n",
       "...         ...     ...    ...      ...    ...     ...   ...  \n",
       "1883767     10개  8000.0     상자    160.0    8.0     가을무  20.0  \n",
       "1883768      9개  7000.0     상자    960.0   48.0     가을무  20.0  \n",
       "1883769      8개  7500.0     상자     80.0    4.0     가을무  20.0  \n",
       "1883770       .  7200.0     상자    260.0   13.0     가을무  20.0  \n",
       "1883771       .  8500.0     상자    840.0   42.0     가을무  20.0  \n",
       "\n",
       "[1883772 rows x 15 columns]"
      ]
     },
     "execution_count": 41,
     "metadata": {},
     "output_type": "execute_result"
    }
   ],
   "source": [
    "rad"
   ]
  },
  {
   "cell_type": "code",
   "execution_count": 42,
   "metadata": {},
   "outputs": [
    {
     "name": "stdout",
     "output_type": "stream",
     "text": [
      "<class 'pandas.core.frame.DataFrame'>\n",
      "RangeIndex: 1883772 entries, 0 to 1883771\n",
      "Data columns (total 15 columns):\n",
      " #   Column    Dtype         \n",
      "---  ------    -----         \n",
      " 0   PUM_NM    object        \n",
      " 1   LV_NM     object        \n",
      " 2   TOT_AMT   float64       \n",
      " 3   SAN_NM    object        \n",
      " 4   SALEDATE  datetime64[ns]\n",
      " 5   CMP_NM    object        \n",
      " 6   DAN_NM    object        \n",
      " 7   WHSAL_NM  object        \n",
      " 8   SIZE_NM   object        \n",
      " 9   COST      float64       \n",
      " 10  POJ_NM    object        \n",
      " 11  TOT_QTY   float64       \n",
      " 12  QTY       float64       \n",
      " 13  KIND_NM   object        \n",
      " 14  DANQ      float64       \n",
      "dtypes: datetime64[ns](1), float64(5), object(9)\n",
      "memory usage: 215.6+ MB\n"
     ]
    }
   ],
   "source": [
    "rad.info()"
   ]
  },
  {
   "cell_type": "markdown",
   "metadata": {},
   "source": [
    "## 필요없는 컬럼 삭제  \n",
    "**필요없는 칼럼**\n",
    "- PUM_NM: 품목\n",
    "- LV_NM: 등급  \n",
    "- CMP_NM: 법인\n",
    "- DAN_NM: 단위\n",
    "- WHSAL_NM: 도매시장 \n",
    "- SIZE_NM: 크기\n",
    "- COST: 단가\n",
    "- POJ_NM: 포장 \n",
    "- QTY: 물량\n",
    "- KIND_NM: 품종 \n",
    "- DANQ: 단위물량"
   ]
  },
  {
   "cell_type": "code",
   "execution_count": 43,
   "metadata": {},
   "outputs": [],
   "source": [
    "rad.drop(columns=['CMP_NM','WHSAL_NM','POJ_NM','KIND_NM','PUM_NM','LV_NM','SIZE_NM','QTY','DANQ','COST','DAN_NM'], axis=1, inplace=True)"
   ]
  },
  {
   "cell_type": "code",
   "execution_count": 44,
   "metadata": {},
   "outputs": [
    {
     "data": {
      "text/html": [
       "<div>\n",
       "<style scoped>\n",
       "    .dataframe tbody tr th:only-of-type {\n",
       "        vertical-align: middle;\n",
       "    }\n",
       "\n",
       "    .dataframe tbody tr th {\n",
       "        vertical-align: top;\n",
       "    }\n",
       "\n",
       "    .dataframe thead th {\n",
       "        text-align: right;\n",
       "    }\n",
       "</style>\n",
       "<table border=\"1\" class=\"dataframe\">\n",
       "  <thead>\n",
       "    <tr style=\"text-align: right;\">\n",
       "      <th></th>\n",
       "      <th>TOT_AMT</th>\n",
       "      <th>SAN_NM</th>\n",
       "      <th>SALEDATE</th>\n",
       "      <th>TOT_QTY</th>\n",
       "    </tr>\n",
       "  </thead>\n",
       "  <tbody>\n",
       "    <tr>\n",
       "      <th>0</th>\n",
       "      <td>1456000.0</td>\n",
       "      <td>제주도 서귀포시</td>\n",
       "      <td>2014-01-03</td>\n",
       "      <td>5040.0</td>\n",
       "    </tr>\n",
       "    <tr>\n",
       "      <th>1</th>\n",
       "      <td>1344000.0</td>\n",
       "      <td>제주도 서귀포시</td>\n",
       "      <td>2014-01-03</td>\n",
       "      <td>5040.0</td>\n",
       "    </tr>\n",
       "    <tr>\n",
       "      <th>2</th>\n",
       "      <td>1400000.0</td>\n",
       "      <td>제주도 제주시</td>\n",
       "      <td>2014-01-03</td>\n",
       "      <td>5040.0</td>\n",
       "    </tr>\n",
       "    <tr>\n",
       "      <th>3</th>\n",
       "      <td>1344000.0</td>\n",
       "      <td>제주도 제주시</td>\n",
       "      <td>2014-01-03</td>\n",
       "      <td>5040.0</td>\n",
       "    </tr>\n",
       "    <tr>\n",
       "      <th>4</th>\n",
       "      <td>1484000.0</td>\n",
       "      <td>제주도 서귀포시</td>\n",
       "      <td>2014-01-03</td>\n",
       "      <td>5040.0</td>\n",
       "    </tr>\n",
       "    <tr>\n",
       "      <th>...</th>\n",
       "      <td>...</td>\n",
       "      <td>...</td>\n",
       "      <td>...</td>\n",
       "      <td>...</td>\n",
       "    </tr>\n",
       "    <tr>\n",
       "      <th>1883767</th>\n",
       "      <td>64000.0</td>\n",
       "      <td>강원 횡성군</td>\n",
       "      <td>2021-10-30</td>\n",
       "      <td>160.0</td>\n",
       "    </tr>\n",
       "    <tr>\n",
       "      <th>1883768</th>\n",
       "      <td>336000.0</td>\n",
       "      <td>강원 횡성군</td>\n",
       "      <td>2021-10-30</td>\n",
       "      <td>960.0</td>\n",
       "    </tr>\n",
       "    <tr>\n",
       "      <th>1883769</th>\n",
       "      <td>30000.0</td>\n",
       "      <td>강원 횡성군</td>\n",
       "      <td>2021-10-30</td>\n",
       "      <td>80.0</td>\n",
       "    </tr>\n",
       "    <tr>\n",
       "      <th>1883770</th>\n",
       "      <td>93600.0</td>\n",
       "      <td>강원 횡성군</td>\n",
       "      <td>2021-10-30</td>\n",
       "      <td>260.0</td>\n",
       "    </tr>\n",
       "    <tr>\n",
       "      <th>1883771</th>\n",
       "      <td>357000.0</td>\n",
       "      <td>강원 횡성군</td>\n",
       "      <td>2021-10-30</td>\n",
       "      <td>840.0</td>\n",
       "    </tr>\n",
       "  </tbody>\n",
       "</table>\n",
       "<p>1883772 rows × 4 columns</p>\n",
       "</div>"
      ],
      "text/plain": [
       "           TOT_AMT    SAN_NM   SALEDATE  TOT_QTY\n",
       "0        1456000.0  제주도 서귀포시 2014-01-03   5040.0\n",
       "1        1344000.0  제주도 서귀포시 2014-01-03   5040.0\n",
       "2        1400000.0   제주도 제주시 2014-01-03   5040.0\n",
       "3        1344000.0   제주도 제주시 2014-01-03   5040.0\n",
       "4        1484000.0  제주도 서귀포시 2014-01-03   5040.0\n",
       "...            ...       ...        ...      ...\n",
       "1883767    64000.0    강원 횡성군 2021-10-30    160.0\n",
       "1883768   336000.0    강원 횡성군 2021-10-30    960.0\n",
       "1883769    30000.0    강원 횡성군 2021-10-30     80.0\n",
       "1883770    93600.0    강원 횡성군 2021-10-30    260.0\n",
       "1883771   357000.0    강원 횡성군 2021-10-30    840.0\n",
       "\n",
       "[1883772 rows x 4 columns]"
      ]
     },
     "execution_count": 44,
     "metadata": {},
     "output_type": "execute_result"
    }
   ],
   "source": [
    "rad"
   ]
  },
  {
   "cell_type": "markdown",
   "metadata": {},
   "source": [
    "**남은 컬럼**\n",
    "- TOT_AMT: 총 금액\n",
    "- SAN_NM: 산지\n",
    "- SALEDATE: 경락 일자   \n",
    "- TOT_QTY:총 물량"
   ]
  },
  {
   "cell_type": "markdown",
   "metadata": {},
   "source": [
    "## 총 금액 / 총 물량 \n",
    "- 음수거나 0인 값 제거(거래 취소)\n",
    "- 이상치 제거(?)"
   ]
  },
  {
   "cell_type": "code",
   "execution_count": 45,
   "metadata": {},
   "outputs": [
    {
     "data": {
      "text/html": [
       "<div>\n",
       "<style scoped>\n",
       "    .dataframe tbody tr th:only-of-type {\n",
       "        vertical-align: middle;\n",
       "    }\n",
       "\n",
       "    .dataframe tbody tr th {\n",
       "        vertical-align: top;\n",
       "    }\n",
       "\n",
       "    .dataframe thead th {\n",
       "        text-align: right;\n",
       "    }\n",
       "</style>\n",
       "<table border=\"1\" class=\"dataframe\">\n",
       "  <thead>\n",
       "    <tr style=\"text-align: right;\">\n",
       "      <th></th>\n",
       "      <th>TOT_AMT</th>\n",
       "      <th>SAN_NM</th>\n",
       "      <th>SALEDATE</th>\n",
       "      <th>TOT_QTY</th>\n",
       "    </tr>\n",
       "  </thead>\n",
       "  <tbody>\n",
       "    <tr>\n",
       "      <th>151</th>\n",
       "      <td>-868000.0</td>\n",
       "      <td>제주도 제주시</td>\n",
       "      <td>2014-01-03</td>\n",
       "      <td>-5040.0</td>\n",
       "    </tr>\n",
       "    <tr>\n",
       "      <th>342</th>\n",
       "      <td>-1624000.0</td>\n",
       "      <td>제주도 제주시</td>\n",
       "      <td>2014-01-06</td>\n",
       "      <td>-5040.0</td>\n",
       "    </tr>\n",
       "    <tr>\n",
       "      <th>344</th>\n",
       "      <td>-1808400.0</td>\n",
       "      <td>전라북도 부안군</td>\n",
       "      <td>2014-01-06</td>\n",
       "      <td>-9864.0</td>\n",
       "    </tr>\n",
       "    <tr>\n",
       "      <th>436</th>\n",
       "      <td>-1624000.0</td>\n",
       "      <td>제주도 제주시</td>\n",
       "      <td>2014-01-06</td>\n",
       "      <td>-5220.0</td>\n",
       "    </tr>\n",
       "    <tr>\n",
       "      <th>664</th>\n",
       "      <td>-1115200.0</td>\n",
       "      <td>제주도 제주시</td>\n",
       "      <td>2014-01-08</td>\n",
       "      <td>-4896.0</td>\n",
       "    </tr>\n",
       "    <tr>\n",
       "      <th>...</th>\n",
       "      <td>...</td>\n",
       "      <td>...</td>\n",
       "      <td>...</td>\n",
       "      <td>...</td>\n",
       "    </tr>\n",
       "    <tr>\n",
       "      <th>1883171</th>\n",
       "      <td>0.0</td>\n",
       "      <td>경기도 용인시</td>\n",
       "      <td>2021-10-30</td>\n",
       "      <td>40.0</td>\n",
       "    </tr>\n",
       "    <tr>\n",
       "      <th>1883292</th>\n",
       "      <td>0.0</td>\n",
       "      <td>강원도 홍천군</td>\n",
       "      <td>2021-10-30</td>\n",
       "      <td>20.0</td>\n",
       "    </tr>\n",
       "    <tr>\n",
       "      <th>1883294</th>\n",
       "      <td>0.0</td>\n",
       "      <td>강원도 홍천군</td>\n",
       "      <td>2021-10-30</td>\n",
       "      <td>20.0</td>\n",
       "    </tr>\n",
       "    <tr>\n",
       "      <th>1883403</th>\n",
       "      <td>0.0</td>\n",
       "      <td>강원도 춘천시</td>\n",
       "      <td>2021-10-30</td>\n",
       "      <td>20.0</td>\n",
       "    </tr>\n",
       "    <tr>\n",
       "      <th>1883405</th>\n",
       "      <td>0.0</td>\n",
       "      <td>강원도 춘천시</td>\n",
       "      <td>2021-10-30</td>\n",
       "      <td>40.0</td>\n",
       "    </tr>\n",
       "  </tbody>\n",
       "</table>\n",
       "<p>19991 rows × 4 columns</p>\n",
       "</div>"
      ],
      "text/plain": [
       "           TOT_AMT    SAN_NM   SALEDATE  TOT_QTY\n",
       "151      -868000.0   제주도 제주시 2014-01-03  -5040.0\n",
       "342     -1624000.0   제주도 제주시 2014-01-06  -5040.0\n",
       "344     -1808400.0  전라북도 부안군 2014-01-06  -9864.0\n",
       "436     -1624000.0   제주도 제주시 2014-01-06  -5220.0\n",
       "664     -1115200.0   제주도 제주시 2014-01-08  -4896.0\n",
       "...            ...       ...        ...      ...\n",
       "1883171        0.0   경기도 용인시 2021-10-30     40.0\n",
       "1883292        0.0   강원도 홍천군 2021-10-30     20.0\n",
       "1883294        0.0   강원도 홍천군 2021-10-30     20.0\n",
       "1883403        0.0   강원도 춘천시 2021-10-30     20.0\n",
       "1883405        0.0   강원도 춘천시 2021-10-30     40.0\n",
       "\n",
       "[19991 rows x 4 columns]"
      ]
     },
     "execution_count": 45,
     "metadata": {},
     "output_type": "execute_result"
    }
   ],
   "source": [
    "rad[(rad['TOT_AMT'] <= 0)|(rad['TOT_QTY'] <= 0)]"
   ]
  },
  {
   "cell_type": "code",
   "execution_count": 46,
   "metadata": {},
   "outputs": [],
   "source": [
    "drop_index = rad[(rad['TOT_AMT'] <= 0)|(rad['TOT_QTY'] <= 0)].index\n",
    "rad.drop(index = drop_index, axis=0, inplace=True)"
   ]
  },
  {
   "cell_type": "code",
   "execution_count": 47,
   "metadata": {},
   "outputs": [
    {
     "data": {
      "text/html": [
       "<div>\n",
       "<style scoped>\n",
       "    .dataframe tbody tr th:only-of-type {\n",
       "        vertical-align: middle;\n",
       "    }\n",
       "\n",
       "    .dataframe tbody tr th {\n",
       "        vertical-align: top;\n",
       "    }\n",
       "\n",
       "    .dataframe thead th {\n",
       "        text-align: right;\n",
       "    }\n",
       "</style>\n",
       "<table border=\"1\" class=\"dataframe\">\n",
       "  <thead>\n",
       "    <tr style=\"text-align: right;\">\n",
       "      <th></th>\n",
       "      <th>TOT_AMT</th>\n",
       "      <th>SAN_NM</th>\n",
       "      <th>SALEDATE</th>\n",
       "      <th>TOT_QTY</th>\n",
       "    </tr>\n",
       "  </thead>\n",
       "  <tbody>\n",
       "    <tr>\n",
       "      <th>0</th>\n",
       "      <td>1456000.0</td>\n",
       "      <td>제주도 서귀포시</td>\n",
       "      <td>2014-01-03</td>\n",
       "      <td>5040.0</td>\n",
       "    </tr>\n",
       "    <tr>\n",
       "      <th>1</th>\n",
       "      <td>1344000.0</td>\n",
       "      <td>제주도 서귀포시</td>\n",
       "      <td>2014-01-03</td>\n",
       "      <td>5040.0</td>\n",
       "    </tr>\n",
       "    <tr>\n",
       "      <th>2</th>\n",
       "      <td>1400000.0</td>\n",
       "      <td>제주도 제주시</td>\n",
       "      <td>2014-01-03</td>\n",
       "      <td>5040.0</td>\n",
       "    </tr>\n",
       "    <tr>\n",
       "      <th>3</th>\n",
       "      <td>1344000.0</td>\n",
       "      <td>제주도 제주시</td>\n",
       "      <td>2014-01-03</td>\n",
       "      <td>5040.0</td>\n",
       "    </tr>\n",
       "    <tr>\n",
       "      <th>4</th>\n",
       "      <td>1484000.0</td>\n",
       "      <td>제주도 서귀포시</td>\n",
       "      <td>2014-01-03</td>\n",
       "      <td>5040.0</td>\n",
       "    </tr>\n",
       "    <tr>\n",
       "      <th>...</th>\n",
       "      <td>...</td>\n",
       "      <td>...</td>\n",
       "      <td>...</td>\n",
       "      <td>...</td>\n",
       "    </tr>\n",
       "    <tr>\n",
       "      <th>1883767</th>\n",
       "      <td>64000.0</td>\n",
       "      <td>강원 횡성군</td>\n",
       "      <td>2021-10-30</td>\n",
       "      <td>160.0</td>\n",
       "    </tr>\n",
       "    <tr>\n",
       "      <th>1883768</th>\n",
       "      <td>336000.0</td>\n",
       "      <td>강원 횡성군</td>\n",
       "      <td>2021-10-30</td>\n",
       "      <td>960.0</td>\n",
       "    </tr>\n",
       "    <tr>\n",
       "      <th>1883769</th>\n",
       "      <td>30000.0</td>\n",
       "      <td>강원 횡성군</td>\n",
       "      <td>2021-10-30</td>\n",
       "      <td>80.0</td>\n",
       "    </tr>\n",
       "    <tr>\n",
       "      <th>1883770</th>\n",
       "      <td>93600.0</td>\n",
       "      <td>강원 횡성군</td>\n",
       "      <td>2021-10-30</td>\n",
       "      <td>260.0</td>\n",
       "    </tr>\n",
       "    <tr>\n",
       "      <th>1883771</th>\n",
       "      <td>357000.0</td>\n",
       "      <td>강원 횡성군</td>\n",
       "      <td>2021-10-30</td>\n",
       "      <td>840.0</td>\n",
       "    </tr>\n",
       "  </tbody>\n",
       "</table>\n",
       "<p>1863781 rows × 4 columns</p>\n",
       "</div>"
      ],
      "text/plain": [
       "           TOT_AMT    SAN_NM   SALEDATE  TOT_QTY\n",
       "0        1456000.0  제주도 서귀포시 2014-01-03   5040.0\n",
       "1        1344000.0  제주도 서귀포시 2014-01-03   5040.0\n",
       "2        1400000.0   제주도 제주시 2014-01-03   5040.0\n",
       "3        1344000.0   제주도 제주시 2014-01-03   5040.0\n",
       "4        1484000.0  제주도 서귀포시 2014-01-03   5040.0\n",
       "...            ...       ...        ...      ...\n",
       "1883767    64000.0    강원 횡성군 2021-10-30    160.0\n",
       "1883768   336000.0    강원 횡성군 2021-10-30    960.0\n",
       "1883769    30000.0    강원 횡성군 2021-10-30     80.0\n",
       "1883770    93600.0    강원 횡성군 2021-10-30    260.0\n",
       "1883771   357000.0    강원 횡성군 2021-10-30    840.0\n",
       "\n",
       "[1863781 rows x 4 columns]"
      ]
     },
     "execution_count": 47,
     "metadata": {},
     "output_type": "execute_result"
    }
   ],
   "source": [
    "rad"
   ]
  },
  {
   "cell_type": "markdown",
   "metadata": {},
   "source": [
    "## 산지  \n",
    "- null 값 제거x  \n",
    "- 수입산 삭제  \n",
    "- 시/도 단위로 변환  \n",
    "- 주산지 선정"
   ]
  },
  {
   "cell_type": "code",
   "execution_count": 48,
   "metadata": {},
   "outputs": [
    {
     "data": {
      "text/html": [
       "<div>\n",
       "<style scoped>\n",
       "    .dataframe tbody tr th:only-of-type {\n",
       "        vertical-align: middle;\n",
       "    }\n",
       "\n",
       "    .dataframe tbody tr th {\n",
       "        vertical-align: top;\n",
       "    }\n",
       "\n",
       "    .dataframe thead th {\n",
       "        text-align: right;\n",
       "    }\n",
       "</style>\n",
       "<table border=\"1\" class=\"dataframe\">\n",
       "  <thead>\n",
       "    <tr style=\"text-align: right;\">\n",
       "      <th></th>\n",
       "      <th>TOT_AMT</th>\n",
       "      <th>SAN_NM</th>\n",
       "      <th>SALEDATE</th>\n",
       "      <th>TOT_QTY</th>\n",
       "    </tr>\n",
       "  </thead>\n",
       "  <tbody>\n",
       "    <tr>\n",
       "      <th>17097</th>\n",
       "      <td>307500.0</td>\n",
       "      <td>NaN</td>\n",
       "      <td>2014-06-30</td>\n",
       "      <td>2214.0</td>\n",
       "    </tr>\n",
       "    <tr>\n",
       "      <th>17099</th>\n",
       "      <td>2375100.0</td>\n",
       "      <td>NaN</td>\n",
       "      <td>2014-06-30</td>\n",
       "      <td>6786.0</td>\n",
       "    </tr>\n",
       "    <tr>\n",
       "      <th>17100</th>\n",
       "      <td>2725500.0</td>\n",
       "      <td>NaN</td>\n",
       "      <td>2014-06-30</td>\n",
       "      <td>7110.0</td>\n",
       "    </tr>\n",
       "    <tr>\n",
       "      <th>17101</th>\n",
       "      <td>294000.0</td>\n",
       "      <td>NaN</td>\n",
       "      <td>2014-06-30</td>\n",
       "      <td>1890.0</td>\n",
       "    </tr>\n",
       "    <tr>\n",
       "      <th>17116</th>\n",
       "      <td>3465000.0</td>\n",
       "      <td>NaN</td>\n",
       "      <td>2014-06-30</td>\n",
       "      <td>8100.0</td>\n",
       "    </tr>\n",
       "    <tr>\n",
       "      <th>...</th>\n",
       "      <td>...</td>\n",
       "      <td>...</td>\n",
       "      <td>...</td>\n",
       "      <td>...</td>\n",
       "    </tr>\n",
       "    <tr>\n",
       "      <th>1882899</th>\n",
       "      <td>360000.0</td>\n",
       "      <td>NaN</td>\n",
       "      <td>2021-10-30</td>\n",
       "      <td>800.0</td>\n",
       "    </tr>\n",
       "    <tr>\n",
       "      <th>1882900</th>\n",
       "      <td>356400.0</td>\n",
       "      <td>NaN</td>\n",
       "      <td>2021-10-30</td>\n",
       "      <td>792.0</td>\n",
       "    </tr>\n",
       "    <tr>\n",
       "      <th>1882901</th>\n",
       "      <td>350000.0</td>\n",
       "      <td>NaN</td>\n",
       "      <td>2021-10-30</td>\n",
       "      <td>800.0</td>\n",
       "    </tr>\n",
       "    <tr>\n",
       "      <th>1882902</th>\n",
       "      <td>350000.0</td>\n",
       "      <td>NaN</td>\n",
       "      <td>2021-10-30</td>\n",
       "      <td>800.0</td>\n",
       "    </tr>\n",
       "    <tr>\n",
       "      <th>1882903</th>\n",
       "      <td>350000.0</td>\n",
       "      <td>NaN</td>\n",
       "      <td>2021-10-30</td>\n",
       "      <td>800.0</td>\n",
       "    </tr>\n",
       "  </tbody>\n",
       "</table>\n",
       "<p>66262 rows × 4 columns</p>\n",
       "</div>"
      ],
      "text/plain": [
       "           TOT_AMT SAN_NM   SALEDATE  TOT_QTY\n",
       "17097     307500.0    NaN 2014-06-30   2214.0\n",
       "17099    2375100.0    NaN 2014-06-30   6786.0\n",
       "17100    2725500.0    NaN 2014-06-30   7110.0\n",
       "17101     294000.0    NaN 2014-06-30   1890.0\n",
       "17116    3465000.0    NaN 2014-06-30   8100.0\n",
       "...            ...    ...        ...      ...\n",
       "1882899   360000.0    NaN 2021-10-30    800.0\n",
       "1882900   356400.0    NaN 2021-10-30    792.0\n",
       "1882901   350000.0    NaN 2021-10-30    800.0\n",
       "1882902   350000.0    NaN 2021-10-30    800.0\n",
       "1882903   350000.0    NaN 2021-10-30    800.0\n",
       "\n",
       "[66262 rows x 4 columns]"
      ]
     },
     "execution_count": 48,
     "metadata": {},
     "output_type": "execute_result"
    }
   ],
   "source": [
    "rad[rad['SAN_NM'].isnull()]"
   ]
  },
  {
   "cell_type": "code",
   "execution_count": 49,
   "metadata": {},
   "outputs": [
    {
     "data": {
      "text/plain": [
       "array(['제주도 서귀포시', '제주도 제주시', '전라남도 영암군', '전라북도 고창군', '충청남도 당진군',\n",
       "       '전라남도 신안군', '전라남도 무안군', '전라남도 해남군', '전라북도 부안군', '충청남도 홍성군',\n",
       "       '인천광역시 강화군', '경기도 평택시', '경상북도 상주시', '충청북도 음성군', '전라남도 함평군',\n",
       "       '경기도 고양시', '충청북도 괴산군', '충청남도 예산군', '울산광역시 울주군', '서울특별시 노원구',\n",
       "       '충청남도 부여군', '광주광역시 광산구', '경기도 김포시', '경상북도 영천시', '서울특별시 송파구',\n",
       "       '전라북도 군산시', '전라북도 김제시', '경상남도 합천군', '강원도 원주시', '중국', '충청남도 서산시',\n",
       "       '광주 서구', '전라남도 강진군', '전라남도 나주시', '전라북도 완주군', '전라남도 장성군',\n",
       "       '서울특별시 강남구', '전라남도 목포시', '전라북도 전주시', '전라남도 영광군', '부산광역시 부산진구',\n",
       "       '전라북도 정읍시', '경상남도 밀양시', '충청남도 태안군', '충청북도 충주시', '부산광역시 사상구',\n",
       "       '경기도 양주시', '서울특별시 성북구', '충청남도 논산시', '충청북도 제천시', '경기도 안성시',\n",
       "       '충청남도 보령시', '경기도 이천시', nan, '강원도 평창군', '경상북도 영덕군', '대전광역시 대덕구',\n",
       "       '강원도 영월군', '경기도 여주군', '강원도 인제군', '강원도 강릉시', '강원도 홍천군', '강원도 횡성군',\n",
       "       '경기도 연천군', '강원도 철원군', '경상북도 안동시', '경상북도 봉화군', '경상북도 성주군',\n",
       "       '전라남도 보성군', '충청남도 아산시', '경기도 포천시', '충청북도 단양군', '전라북도 무주군',\n",
       "       '경상북도 영양군', '경상북도 청송군', '강원도 정선군', '강원도 삼척시', '경기도 화성시', '경기도 광주시',\n",
       "       '강원도 양구군', '경상북도 포항시', '서울특별시 강동구', '강원도 고성군', '강원도 태백시', '서울 강서구',\n",
       "       '강원도 춘천시', '경상북도 예천군', '서울특별시 양천구', '강원도 화천군', '전라북도 익산시',\n",
       "       '인천광역시 남동구', '경상북도 구미시', '충청남도 서천군', '광주 남구', '경상남도 창원시 의창(성산)구',\n",
       "       '전라남도 진도군', '경상남도 창녕군', '제주 제주시', '제주 서귀포시', '제주 남제주군', '강원 원주시',\n",
       "       '제주 북제주군', '울산 북구', '부산 사하구', '경기 하남시', '전남 무안군', '충청남도 천안시',\n",
       "       '전라남도 고흥군', '경기 오산시', '전남 고흥군', '충남 서산시', '광주광역시', '서울 송파구',\n",
       "       '경기 용인시 처인구', '충남 논산시', '부산 부산진구', '부산 북구', '전라남도 완도군', '충남 당진군',\n",
       "       '전북 군산시', '충청북도 청주시', '경기 안성시', '전남 나주시', '경상북도 군위군', '경기 부천시 소사구',\n",
       "       '강원도 동해시', '전북 고창군', '전라북도 남원시', '경상북도 칠곡군', '강원 영월군', '전북 익산시',\n",
       "       '충남 예산군', '충북 음성군', '강원 강릉시', '경기 여주군', '경기 광주시', '전북 정읍시',\n",
       "       '강원도 양양군', '강원 춘천시', '서울 중랑구', '강원 평창군', '강원 정선군', '울산 울주군',\n",
       "       '대구 달서구', '부산 수영구', '충남 보령시', '전남 해남군', '부산광역시 금정구', '강원 홍천군',\n",
       "       '강원 횡성군', '광주 광산구', '서울 동대문구', '경기 평택시', '광주 북구', '경기도 파주시',\n",
       "       '경기 구리시', '전남 영암군', '부산 사상구', '전북 부안군', '경기도 광명시', '전남 함평군',\n",
       "       '대구 북구', '전라남도 곡성군', '대구 동구', '전남 목포시', '전북 전주시 덕진구', '경남 마산시',\n",
       "       '울산 남구', '부산광역시', '제주도', '서울특별시', '서울 강남구', '인천광역시', '경기도 구리시',\n",
       "       '인천 남동구', '경기 수원시 권선구', '경상북도 경주시', '전남 장성군', '서울 종로구', '경남 김해시',\n",
       "       '전남 완도군', '전라남도', '경남 진주시', '경북 상주시', '경북 구미시', '대전광역시', '경기도',\n",
       "       '부산 중구', '충북 청주시 흥덕구', '충북 충주시', '전북 김제시', '대전 대덕구', '대구광역시',\n",
       "       '경북 포항시 북구', '충청북도 청원군', '인천 계양구', '경남 창녕군', '충북 제천시', '경기도 안산시',\n",
       "       '경기도 시흥시', '충북 옥천군', '경상남도 진해시', '충남 천안시 동남구', '경남 산청군',\n",
       "       '경상남도 의령군', '경북 김천시', '충청남도', '전남 여수시', '부산 해운대구', '전남 장흥군',\n",
       "       '대전 유성구', '전북 전주시 완산구', '경북 의성군', '경상북도 의성군', '경상남도 김해시', '경남 양산시',\n",
       "       '전남 담양군', '경상북도 청도군', '경상남도', '경남 의령군', '경북 군위군', '경북 칠곡군',\n",
       "       '전남 신안군', '전북 완주군', '부산광역시 기장군', '경남 창원시', '전남 광양시', '경기도 하남시',\n",
       "       '경상북도 고령군', '충남 서천군', '충청남도 금산군', '전남 진도군', '울산광역시', '전남 순천시',\n",
       "       '전북 진안군', '전남 화순군', '경남 거제시', '경상남도 창원시 마산회원구', '서울 중구', '경남 합천군',\n",
       "       '경기도 남양주시', '부산 강서구', '충북 청주시 상당구', '경기 고양시 일산서구', '대전 중구',\n",
       "       '대구 수성구', '경상북도 문경시', '충남 천안시', '충청북도 옥천군', '부산 금정구', '충남 공주시',\n",
       "       '전북 장수군', '경기 화성시', '경북 영덕군', '경북 청송군', '수입산', '경기도 용인시', '경남 밀양시',\n",
       "       '충북 괴산군', '경상북도 김천시', '경북 안동시', '경남 사천시', '대구 남구', '경남 통영시',\n",
       "       '충남 계룡시', '경상남도 고성군', '전남 보성군', '충청북도', '광주 동구', '대전광역시 유성구',\n",
       "       '충남 부여군', '경북 예천군', '경상남도 함안군', '경기 양평군', '강원도', '경남 고성군',\n",
       "       '경상남도 거제시', '경기 시흥시', '충북 단양군', '경북 포항시 남구', '경기 남양주시', '전라남도 화순군',\n",
       "       '경남 함안군', '충청북도 보은군', '서울특별시 서초구', '경북 봉화군', '경기도 가평군', '전남 곡성군',\n",
       "       '경기 의정부시', '경남 함양군', '미국', '대전 서구', '서울 광진구', '경기 성남시 수정구',\n",
       "       '충북 영동군', '인천 부평구', '전라북도', '전남 영광군', '충북 청원군', '전북 순창군', '전북 임실군',\n",
       "       '대전 동구', '경기 동두천시', '충청남도 청양군', '전북 남원시', '강원 태백시', '경북 경주시',\n",
       "       '충남 연기군', '강원 동해시', '경기 양주시', '강원 속초시', '경북 영양군', '대구광역시 달성군',\n",
       "       '충남 홍성군', '경기도 오산시', '경기 안산시 상록구', '경기 이천시', '경상남도 거창군', '경기 김포시',\n",
       "       '경기 안양시 동안구', '경기 파주시', '세종시 세종시', '충청남도 공주시', '전북 무주군', '충남 태안군',\n",
       "       '경북 영주시', '충남 아산시', '전라북도 장수군', '경상남도 진주시', '경상북도 영주시', '경기도 수원시',\n",
       "       '경기 성남시 분당구', '경남 하동군', '경상북도', '경상남도 하동군', '경남 거창군', '강원 철원군',\n",
       "       '충남 천안시 서북구', '경상북도 경산시', '경기 광명시', '서울 관악구', '인천 연수구',\n",
       "       '대구광역시 달서구', '강원 양양군', '경상남도 남해군', '서울 서대문구', '강원 양구군', '강원 인제군',\n",
       "       '전라북도 진안군', '경북 영천시', '강원 삼척시', '경기 연천군', '경기도 의정부시', '충청북도 영동군',\n",
       "       '인천 서구', '전라남도 담양군', '인천 강화군', '경북 울진군', '서울특별시 중랑구', '충북 보은군',\n",
       "       '서울 노원구', '대구 서구', '경북 경산시', '전남 강진군', '경기 포천시', '경상남도 양산시',\n",
       "       '경기도 양평군', '경기 안양시 만안구', '인천 동구', '충북 진천군', '충청북도 진천군', '경북 성주군',\n",
       "       '강원 고성군', '경기 부천시 원미구', '서울 은평구', '경기도 동두천시', '경기 수원시 장안구',\n",
       "       '경기 용인시', '인천광역시 계양구', '부산 기장군', '경기도 부천시', '충청북도 증평군', '경기 가평군',\n",
       "       '충남 청양군', '경남 진해시', '충북 증평군', '경상남도 산청군', '경북 청도군', '경기도 의왕시',\n",
       "       '경기 수원시 팔달구', '경북 고령군', '경상북도 울진군', '전라남도 여수시', '대구 달성군',\n",
       "       '경기 성남시 중원구', '울산 동구', '충남 금산군', '부산 동구', '서울특별시 용산구', '경상남도 통영시',\n",
       "       '충청남도 계룡시', '경기 고양시 덕양구', '전라남도 장흥군', '부산 동래구', '경기 용인시 기흥구',\n",
       "       '경상남도 함양군', '원양산', '경기도 성남시', '울산 중구', '경북 문경시', '경남 남해군',\n",
       "       '경기도 안양시', '서울 서초구', '강원 화천군', '전라북도 순창군', '서울특별시 서대문구',\n",
       "       '경기 부천시 오정구', '경기 안산시', '인천 중구', '서울 도봉구', '경기 군포시', '인천광역시 옹진군',\n",
       "       '태국', '부산광역시 해운대구', '전라남도 광양시', '대구 중구', '전라북도 임실군', '서울 강동구',\n",
       "       '경기 양주군', '서울 양천구', '서울특별시 은평구', '서울특별시 도봉구', '경상남도 사천시', '인천 남구',\n",
       "       '전남 구례군', '경북 울릉군', '경기 의왕시', '서울 동작구', '부산광역시 사하구', '경기 고양시 일산구',\n",
       "       '전라남도 구례군', '세종시', '경기 과천시'], dtype=object)"
      ]
     },
     "execution_count": 49,
     "metadata": {},
     "output_type": "execute_result"
    }
   ],
   "source": [
    "rad['SAN_NM'].unique()"
   ]
  },
  {
   "cell_type": "code",
   "execution_count": 50,
   "metadata": {},
   "outputs": [],
   "source": [
    "name_split = rad['SAN_NM'].str.split(\" \")\n",
    "rad['SAN_NM'] = name_split.str.get(0)"
   ]
  },
  {
   "cell_type": "code",
   "execution_count": 51,
   "metadata": {},
   "outputs": [
    {
     "data": {
      "text/plain": [
       "array(['제주도', '전라남도', '전라북도', '충청남도', '인천광역시', '경기도', '경상북도', '충청북도',\n",
       "       '울산광역시', '서울특별시', '광주광역시', '경상남도', '강원도', '중국', '광주', '부산광역시', nan,\n",
       "       '대전광역시', '서울', '제주', '강원', '울산', '부산', '경기', '전남', '충남', '전북',\n",
       "       '충북', '대구', '경남', '인천', '경북', '대전', '대구광역시', '수입산', '미국', '세종시',\n",
       "       '원양산', '태국'], dtype=object)"
      ]
     },
     "execution_count": 51,
     "metadata": {},
     "output_type": "execute_result"
    }
   ],
   "source": [
    "rad['SAN_NM'].unique()"
   ]
  },
  {
   "cell_type": "code",
   "execution_count": 52,
   "metadata": {},
   "outputs": [],
   "source": [
    "# 수입산 삭제\n",
    "drop_index = rad[(rad['SAN_NM'] == '중국')|(rad['SAN_NM'] == '수입산')|(rad['SAN_NM'] == '미국')|(rad['SAN_NM'] == '원양산')|(rad['SAN_NM'] == '태국')].index\n",
    "rad.drop(index = drop_index, axis=0, inplace=True)"
   ]
  },
  {
   "cell_type": "code",
   "execution_count": 53,
   "metadata": {},
   "outputs": [],
   "source": [
    "rad['SAN_NM'].replace(['경기','서울','전남','충남','강원','경북','전북','경남','충북','광주','제주','대전','부산','대구','세종시','울산','인천'],\n",
    "                      ['경기도','서울특별시','전라남도','충청남도','강원도','경상북도','전라북도','경상남도','충청북도','광주광역시','제주도','대전광역시','부산광역시','대구광역시','세종특별자치시','울산광역시','인천광역시'],inplace=True)"
   ]
  },
  {
   "cell_type": "code",
   "execution_count": 54,
   "metadata": {},
   "outputs": [],
   "source": [
    "rad['SAN_NM'].fillna('산지없음',inplace=True)"
   ]
  },
  {
   "cell_type": "code",
   "execution_count": 55,
   "metadata": {},
   "outputs": [
    {
     "data": {
      "text/plain": [
       "array(['제주도', '전라남도', '전라북도', '충청남도', '인천광역시', '경기도', '경상북도', '충청북도',\n",
       "       '울산광역시', '서울특별시', '광주광역시', '경상남도', '강원도', '부산광역시', '산지없음', '대전광역시',\n",
       "       '대구광역시', '세종특별자치시'], dtype=object)"
      ]
     },
     "execution_count": 55,
     "metadata": {},
     "output_type": "execute_result"
    }
   ],
   "source": [
    "rad['SAN_NM'].unique()"
   ]
  },
  {
   "cell_type": "code",
   "execution_count": 56,
   "metadata": {},
   "outputs": [
    {
     "name": "stdout",
     "output_type": "stream",
     "text": [
      "18\n"
     ]
    }
   ],
   "source": [
    "print(len(rad['SAN_NM'].unique()))"
   ]
  },
  {
   "cell_type": "code",
   "execution_count": 57,
   "metadata": {},
   "outputs": [
    {
     "data": {
      "text/plain": [
       "SAN_NM\n",
       "제주도        37.205849\n",
       "강원도        22.141097\n",
       "전라북도       11.346218\n",
       "전라남도        6.636596\n",
       "충청남도        6.011830\n",
       "경기도         3.898286\n",
       "산지없음        2.303549\n",
       "경상북도        1.951721\n",
       "경상남도        1.654139\n",
       "서울특별시       1.453387\n",
       "광주광역시       1.273251\n",
       "부산광역시       1.224342\n",
       "대전광역시       1.053865\n",
       "충청북도        0.890047\n",
       "대구광역시       0.532200\n",
       "울산광역시       0.305803\n",
       "인천광역시       0.113799\n",
       "세종특별자치시     0.004020\n",
       "Name: TOT_QTY, dtype: float64"
      ]
     },
     "execution_count": 57,
     "metadata": {},
     "output_type": "execute_result"
    }
   ],
   "source": [
    "rad.groupby(['SAN_NM'])['TOT_QTY'].sum().sort_values(ascending=False)/sum(rad.groupby(['SAN_NM'])['TOT_QTY'].sum().sort_values(ascending=False)) * 100"
   ]
  },
  {
   "cell_type": "code",
   "execution_count": 58,
   "metadata": {},
   "outputs": [
    {
     "name": "stdout",
     "output_type": "stream",
     "text": [
      "2014 년도 \n",
      "주산지: 제주도 \n",
      "총 물량: 83095658.0 \n",
      "비율: 45.66\n",
      "2015 년도 \n",
      "주산지: 제주도 \n",
      "총 물량: 90289114.0 \n",
      "비율: 47.62\n",
      "2016 년도 \n",
      "주산지: 제주도 \n",
      "총 물량: 172223639.5 \n",
      "비율: 36.39\n",
      "2017 년도 \n",
      "주산지: 제주도 \n",
      "총 물량: 166765844.90000007 \n",
      "비율: 33.95\n",
      "2018 년도 \n",
      "주산지: 제주도 \n",
      "총 물량: 145082909.99999997 \n",
      "비율: 30.5\n",
      "2019 년도 \n",
      "주산지: 제주도 \n",
      "총 물량: 163908315.79999995 \n",
      "비율: 35.75\n",
      "2020 년도 \n",
      "주산지: 제주도 \n",
      "총 물량: 170158924.10000002 \n",
      "비율: 35.51\n",
      "2021 년도 \n",
      "주산지: 제주도 \n",
      "총 물량: 156474971.40000004 \n",
      "비율: 46.57\n"
     ]
    }
   ],
   "source": [
    "for i in (2014,2015,2016,2017,2018,2019,2020,2021):\n",
    "    rad_year = rad[rad['SALEDATE'].dt.year == i]\n",
    "    joosan = rad_year.groupby(['SAN_NM'])['TOT_QTY'].sum().sort_values(ascending=True).index[-1]\n",
    "    joosan_amt = rad_year.groupby(['SAN_NM'])['TOT_QTY'].sum().sort_values(ascending=True)[-1]\n",
    "    ratio = joosan_amt / sum(rad_year.groupby(['SAN_NM'])['TOT_QTY'].sum().sort_values(ascending=True)) * 100\n",
    "    print(i,'년도', '\\n주산지:', joosan, '\\n총 물량:', joosan_amt, '\\n비율:', round(ratio,2))"
   ]
  },
  {
   "cell_type": "code",
   "execution_count": 59,
   "metadata": {},
   "outputs": [
    {
     "data": {
      "application/vnd.plotly.v1+json": {
       "config": {
        "plotlyServerURL": "https://plot.ly"
       },
       "data": [
        {
         "domain": {
          "x": [
           0,
           0.45
          ],
          "y": [
           0.84375,
           1
          ]
         },
         "hole": 0.4,
         "hoverinfo": "label+percent+name",
         "labels": [
          "강원도",
          "경기도",
          "경상남도",
          "경상북도",
          "광주광역시",
          "대전광역시",
          "부산광역시",
          "산지없음",
          "서울특별시",
          "울산광역시",
          "인천광역시",
          "전라남도",
          "전라북도",
          "제주도",
          "충청남도",
          "충청북도"
         ],
         "name": "2014",
         "textinfo": "none",
         "type": "pie",
         "values": [
          46170644,
          3203201,
          79968,
          1651076,
          233900,
          18000,
          87900,
          2312712,
          140670,
          92556,
          40005,
          9084024,
          20361370,
          83095658,
          14412013,
          1020738
         ]
        },
        {
         "domain": {
          "x": [
           0.55,
           1
          ],
          "y": [
           0.84375,
           1
          ]
         },
         "hole": 0.4,
         "hoverinfo": "label+percent+name",
         "labels": [
          "강원도",
          "경기도",
          "경상남도",
          "경상북도",
          "광주광역시",
          "대구광역시",
          "대전광역시",
          "부산광역시",
          "산지없음",
          "서울특별시",
          "울산광역시",
          "전라남도",
          "전라북도",
          "제주도",
          "충청남도",
          "충청북도"
         ],
         "name": "2015",
         "textinfo": "none",
         "type": "pie",
         "values": [
          47216206,
          3378369,
          46974,
          1379523,
          184480,
          35100,
          32000,
          234862,
          1884140,
          931701,
          91320,
          8678638,
          19936998,
          90289114,
          14939247.5,
          332796
         ]
        },
        {
         "domain": {
          "x": [
           0,
           0.45
          ],
          "y": [
           0.5625,
           0.71875
          ]
         },
         "hole": 0.4,
         "hoverinfo": "label+percent+name",
         "labels": [
          "강원도",
          "경기도",
          "경상남도",
          "경상북도",
          "광주광역시",
          "대구광역시",
          "대전광역시",
          "부산광역시",
          "산지없음",
          "서울특별시",
          "세종특별자치시",
          "울산광역시",
          "인천광역시",
          "전라남도",
          "전라북도",
          "제주도",
          "충청남도",
          "충청북도"
         ],
         "name": "2016",
         "textinfo": "none",
         "type": "pie",
         "values": [
          93292775,
          22059887.5,
          7707567.1000000015,
          9007686.760000002,
          7834957.5,
          3047087,
          6832750,
          6164166.200000001,
          12409066.9,
          9001763.000000002,
          15311,
          1946096.5,
          1792972.5,
          31117654.3,
          47766462,
          172223639.5,
          33745193.1,
          7348509.2
         ]
        },
        {
         "domain": {
          "x": [
           0.55,
           1
          ],
          "y": [
           0.5625,
           0.71875
          ]
         },
         "hole": 0.4,
         "hoverinfo": "label+percent+name",
         "labels": [
          "강원도",
          "경기도",
          "경상남도",
          "경상북도",
          "광주광역시",
          "대구광역시",
          "대전광역시",
          "부산광역시",
          "산지없음",
          "서울특별시",
          "세종특별자치시",
          "울산광역시",
          "인천광역시",
          "전라남도",
          "전라북도",
          "제주도",
          "충청남도",
          "충청북도"
         ],
         "name": "2017",
         "textinfo": "none",
         "type": "pie",
         "values": [
          98659315.95000003,
          21544720.3,
          10564550.600000005,
          11086336.700000003,
          7147922.5,
          3786542,
          8053732.5,
          7579439.4,
          14805916.3,
          10441012.000000002,
          30510,
          1785260.9,
          457508,
          37522637.5,
          54285629.9,
          166765844.90000007,
          30980844.4,
          5756924.09
         ]
        },
        {
         "domain": {
          "x": [
           0,
           0.45
          ],
          "y": [
           0.28125,
           0.4375
          ]
         },
         "hole": 0.4,
         "hoverinfo": "label+percent+name",
         "labels": [
          "강원도",
          "경기도",
          "경상남도",
          "경상북도",
          "광주광역시",
          "대구광역시",
          "대전광역시",
          "부산광역시",
          "산지없음",
          "서울특별시",
          "세종특별자치시",
          "울산광역시",
          "인천광역시",
          "전라남도",
          "전라북도",
          "제주도",
          "충청남도",
          "충청북도"
         ],
         "name": "2018",
         "textinfo": "none",
         "type": "pie",
         "values": [
          97193754.66000006,
          23523148.599999998,
          9952591.400000004,
          11860977.7,
          8006497.399999999,
          2490943.5,
          8684543.4,
          6635837.1,
          16183684.09999999,
          9050612,
          28290,
          1428937.5,
          317148.5,
          40594961.6,
          58231155.599999994,
          145082909.99999997,
          31733293.92,
          4707562.5
         ]
        },
        {
         "domain": {
          "x": [
           0.55,
           1
          ],
          "y": [
           0.28125,
           0.4375
          ]
         },
         "hole": 0.4,
         "hoverinfo": "label+percent+name",
         "labels": [
          "강원도",
          "경기도",
          "경상남도",
          "경상북도",
          "광주광역시",
          "대구광역시",
          "대전광역시",
          "부산광역시",
          "산지없음",
          "서울특별시",
          "세종특별자치시",
          "울산광역시",
          "인천광역시",
          "전라남도",
          "전라북도",
          "제주도",
          "충청남도",
          "충청북도"
         ],
         "name": "2019",
         "textinfo": "none",
         "type": "pie",
         "values": [
          95834619.30000003,
          21254714.18000002,
          8751662.000000006,
          11000585.399999995,
          6868510.2,
          2849428.7,
          4757249.35,
          6227946.000000002,
          13440386.8,
          6133557.899999999,
          5350,
          1905577.7,
          182537,
          33980944,
          54548030.599999994,
          163908315.79999995,
          23663055.5,
          3168376.4
         ]
        },
        {
         "domain": {
          "x": [
           0,
           0.45
          ],
          "y": [
           0,
           0.15625
          ]
         },
         "hole": 0.4,
         "hoverinfo": "label+percent+name",
         "labels": [
          "강원도",
          "경기도",
          "경상남도",
          "경상북도",
          "광주광역시",
          "대구광역시",
          "대전광역시",
          "부산광역시",
          "산지없음",
          "서울특별시",
          "세종특별자치시",
          "울산광역시",
          "인천광역시",
          "전라남도",
          "전라북도",
          "제주도",
          "충청남도",
          "충청북도"
         ],
         "name": "2020",
         "textinfo": "none",
         "type": "pie",
         "values": [
          109348470.10000014,
          14478357.660000002,
          8515232.999999987,
          9714680.099999994,
          6846380,
          3239240.6000000006,
          3303403.12,
          5884567.900000004,
          5656818.399999999,
          6626518.599999999,
          11584,
          1437527.8,
          490631.06,
          33926159.30000001,
          67955523.89999999,
          170158924.10000002,
          28520016.200000003,
          3055399.6
         ]
        },
        {
         "domain": {
          "x": [
           0.55,
           1
          ],
          "y": [
           0,
           0.15625
          ]
         },
         "hole": 0.4,
         "hoverinfo": "label+percent+name",
         "labels": [
          "강원도",
          "경기도",
          "경상남도",
          "경상북도",
          "광주광역시",
          "대구광역시",
          "대전광역시",
          "부산광역시",
          "산지없음",
          "서울특별시",
          "세종특별자치시",
          "울산광역시",
          "인천광역시",
          "전라남도",
          "전라북도",
          "제주도",
          "충청남도",
          "충청북도"
         ],
         "name": "2021",
         "textinfo": "none",
         "type": "pie",
         "values": [
          95455445.70000006,
          10840572.799999999,
          5420494.900000001,
          4520176.999999998,
          2163940.2,
          972860.3,
          835681.7,
          4962782.800000003,
          4384092.000000002,
          2518931.2,
          33000,
          748385.9,
          230513.8,
          9869457,
          27006310.799999997,
          156474971.40000004,
          7503432.999999999,
          2072403.6
         ]
        }
       ],
       "layout": {
        "annotations": [
         {
          "font": {
           "size": 16
          },
          "showarrow": false,
          "text": "2014",
          "x": 0.225,
          "xanchor": "center",
          "xref": "paper",
          "y": 1,
          "yanchor": "bottom",
          "yref": "paper"
         },
         {
          "font": {
           "size": 16
          },
          "showarrow": false,
          "text": "2015",
          "x": 0.775,
          "xanchor": "center",
          "xref": "paper",
          "y": 1,
          "yanchor": "bottom",
          "yref": "paper"
         },
         {
          "font": {
           "size": 16
          },
          "showarrow": false,
          "text": "2016",
          "x": 0.225,
          "xanchor": "center",
          "xref": "paper",
          "y": 0.71875,
          "yanchor": "bottom",
          "yref": "paper"
         },
         {
          "font": {
           "size": 16
          },
          "showarrow": false,
          "text": "2017",
          "x": 0.775,
          "xanchor": "center",
          "xref": "paper",
          "y": 0.71875,
          "yanchor": "bottom",
          "yref": "paper"
         },
         {
          "font": {
           "size": 16
          },
          "showarrow": false,
          "text": "2018",
          "x": 0.225,
          "xanchor": "center",
          "xref": "paper",
          "y": 0.4375,
          "yanchor": "bottom",
          "yref": "paper"
         },
         {
          "font": {
           "size": 16
          },
          "showarrow": false,
          "text": "2019",
          "x": 0.775,
          "xanchor": "center",
          "xref": "paper",
          "y": 0.4375,
          "yanchor": "bottom",
          "yref": "paper"
         },
         {
          "font": {
           "size": 16
          },
          "showarrow": false,
          "text": "2020",
          "x": 0.225,
          "xanchor": "center",
          "xref": "paper",
          "y": 0.15625,
          "yanchor": "bottom",
          "yref": "paper"
         },
         {
          "font": {
           "size": 16
          },
          "showarrow": false,
          "text": "2021",
          "x": 0.775,
          "xanchor": "center",
          "xref": "paper",
          "y": 0.15625,
          "yanchor": "bottom",
          "yref": "paper"
         }
        ],
        "showlegend": true,
        "template": {
         "data": {
          "bar": [
           {
            "error_x": {
             "color": "#2a3f5f"
            },
            "error_y": {
             "color": "#2a3f5f"
            },
            "marker": {
             "line": {
              "color": "#E5ECF6",
              "width": 0.5
             },
             "pattern": {
              "fillmode": "overlay",
              "size": 10,
              "solidity": 0.2
             }
            },
            "type": "bar"
           }
          ],
          "barpolar": [
           {
            "marker": {
             "line": {
              "color": "#E5ECF6",
              "width": 0.5
             },
             "pattern": {
              "fillmode": "overlay",
              "size": 10,
              "solidity": 0.2
             }
            },
            "type": "barpolar"
           }
          ],
          "carpet": [
           {
            "aaxis": {
             "endlinecolor": "#2a3f5f",
             "gridcolor": "white",
             "linecolor": "white",
             "minorgridcolor": "white",
             "startlinecolor": "#2a3f5f"
            },
            "baxis": {
             "endlinecolor": "#2a3f5f",
             "gridcolor": "white",
             "linecolor": "white",
             "minorgridcolor": "white",
             "startlinecolor": "#2a3f5f"
            },
            "type": "carpet"
           }
          ],
          "choropleth": [
           {
            "colorbar": {
             "outlinewidth": 0,
             "ticks": ""
            },
            "type": "choropleth"
           }
          ],
          "contour": [
           {
            "colorbar": {
             "outlinewidth": 0,
             "ticks": ""
            },
            "colorscale": [
             [
              0,
              "#0d0887"
             ],
             [
              0.1111111111111111,
              "#46039f"
             ],
             [
              0.2222222222222222,
              "#7201a8"
             ],
             [
              0.3333333333333333,
              "#9c179e"
             ],
             [
              0.4444444444444444,
              "#bd3786"
             ],
             [
              0.5555555555555556,
              "#d8576b"
             ],
             [
              0.6666666666666666,
              "#ed7953"
             ],
             [
              0.7777777777777778,
              "#fb9f3a"
             ],
             [
              0.8888888888888888,
              "#fdca26"
             ],
             [
              1,
              "#f0f921"
             ]
            ],
            "type": "contour"
           }
          ],
          "contourcarpet": [
           {
            "colorbar": {
             "outlinewidth": 0,
             "ticks": ""
            },
            "type": "contourcarpet"
           }
          ],
          "heatmap": [
           {
            "colorbar": {
             "outlinewidth": 0,
             "ticks": ""
            },
            "colorscale": [
             [
              0,
              "#0d0887"
             ],
             [
              0.1111111111111111,
              "#46039f"
             ],
             [
              0.2222222222222222,
              "#7201a8"
             ],
             [
              0.3333333333333333,
              "#9c179e"
             ],
             [
              0.4444444444444444,
              "#bd3786"
             ],
             [
              0.5555555555555556,
              "#d8576b"
             ],
             [
              0.6666666666666666,
              "#ed7953"
             ],
             [
              0.7777777777777778,
              "#fb9f3a"
             ],
             [
              0.8888888888888888,
              "#fdca26"
             ],
             [
              1,
              "#f0f921"
             ]
            ],
            "type": "heatmap"
           }
          ],
          "heatmapgl": [
           {
            "colorbar": {
             "outlinewidth": 0,
             "ticks": ""
            },
            "colorscale": [
             [
              0,
              "#0d0887"
             ],
             [
              0.1111111111111111,
              "#46039f"
             ],
             [
              0.2222222222222222,
              "#7201a8"
             ],
             [
              0.3333333333333333,
              "#9c179e"
             ],
             [
              0.4444444444444444,
              "#bd3786"
             ],
             [
              0.5555555555555556,
              "#d8576b"
             ],
             [
              0.6666666666666666,
              "#ed7953"
             ],
             [
              0.7777777777777778,
              "#fb9f3a"
             ],
             [
              0.8888888888888888,
              "#fdca26"
             ],
             [
              1,
              "#f0f921"
             ]
            ],
            "type": "heatmapgl"
           }
          ],
          "histogram": [
           {
            "marker": {
             "pattern": {
              "fillmode": "overlay",
              "size": 10,
              "solidity": 0.2
             }
            },
            "type": "histogram"
           }
          ],
          "histogram2d": [
           {
            "colorbar": {
             "outlinewidth": 0,
             "ticks": ""
            },
            "colorscale": [
             [
              0,
              "#0d0887"
             ],
             [
              0.1111111111111111,
              "#46039f"
             ],
             [
              0.2222222222222222,
              "#7201a8"
             ],
             [
              0.3333333333333333,
              "#9c179e"
             ],
             [
              0.4444444444444444,
              "#bd3786"
             ],
             [
              0.5555555555555556,
              "#d8576b"
             ],
             [
              0.6666666666666666,
              "#ed7953"
             ],
             [
              0.7777777777777778,
              "#fb9f3a"
             ],
             [
              0.8888888888888888,
              "#fdca26"
             ],
             [
              1,
              "#f0f921"
             ]
            ],
            "type": "histogram2d"
           }
          ],
          "histogram2dcontour": [
           {
            "colorbar": {
             "outlinewidth": 0,
             "ticks": ""
            },
            "colorscale": [
             [
              0,
              "#0d0887"
             ],
             [
              0.1111111111111111,
              "#46039f"
             ],
             [
              0.2222222222222222,
              "#7201a8"
             ],
             [
              0.3333333333333333,
              "#9c179e"
             ],
             [
              0.4444444444444444,
              "#bd3786"
             ],
             [
              0.5555555555555556,
              "#d8576b"
             ],
             [
              0.6666666666666666,
              "#ed7953"
             ],
             [
              0.7777777777777778,
              "#fb9f3a"
             ],
             [
              0.8888888888888888,
              "#fdca26"
             ],
             [
              1,
              "#f0f921"
             ]
            ],
            "type": "histogram2dcontour"
           }
          ],
          "mesh3d": [
           {
            "colorbar": {
             "outlinewidth": 0,
             "ticks": ""
            },
            "type": "mesh3d"
           }
          ],
          "parcoords": [
           {
            "line": {
             "colorbar": {
              "outlinewidth": 0,
              "ticks": ""
             }
            },
            "type": "parcoords"
           }
          ],
          "pie": [
           {
            "automargin": true,
            "type": "pie"
           }
          ],
          "scatter": [
           {
            "marker": {
             "colorbar": {
              "outlinewidth": 0,
              "ticks": ""
             }
            },
            "type": "scatter"
           }
          ],
          "scatter3d": [
           {
            "line": {
             "colorbar": {
              "outlinewidth": 0,
              "ticks": ""
             }
            },
            "marker": {
             "colorbar": {
              "outlinewidth": 0,
              "ticks": ""
             }
            },
            "type": "scatter3d"
           }
          ],
          "scattercarpet": [
           {
            "marker": {
             "colorbar": {
              "outlinewidth": 0,
              "ticks": ""
             }
            },
            "type": "scattercarpet"
           }
          ],
          "scattergeo": [
           {
            "marker": {
             "colorbar": {
              "outlinewidth": 0,
              "ticks": ""
             }
            },
            "type": "scattergeo"
           }
          ],
          "scattergl": [
           {
            "marker": {
             "colorbar": {
              "outlinewidth": 0,
              "ticks": ""
             }
            },
            "type": "scattergl"
           }
          ],
          "scattermapbox": [
           {
            "marker": {
             "colorbar": {
              "outlinewidth": 0,
              "ticks": ""
             }
            },
            "type": "scattermapbox"
           }
          ],
          "scatterpolar": [
           {
            "marker": {
             "colorbar": {
              "outlinewidth": 0,
              "ticks": ""
             }
            },
            "type": "scatterpolar"
           }
          ],
          "scatterpolargl": [
           {
            "marker": {
             "colorbar": {
              "outlinewidth": 0,
              "ticks": ""
             }
            },
            "type": "scatterpolargl"
           }
          ],
          "scatterternary": [
           {
            "marker": {
             "colorbar": {
              "outlinewidth": 0,
              "ticks": ""
             }
            },
            "type": "scatterternary"
           }
          ],
          "surface": [
           {
            "colorbar": {
             "outlinewidth": 0,
             "ticks": ""
            },
            "colorscale": [
             [
              0,
              "#0d0887"
             ],
             [
              0.1111111111111111,
              "#46039f"
             ],
             [
              0.2222222222222222,
              "#7201a8"
             ],
             [
              0.3333333333333333,
              "#9c179e"
             ],
             [
              0.4444444444444444,
              "#bd3786"
             ],
             [
              0.5555555555555556,
              "#d8576b"
             ],
             [
              0.6666666666666666,
              "#ed7953"
             ],
             [
              0.7777777777777778,
              "#fb9f3a"
             ],
             [
              0.8888888888888888,
              "#fdca26"
             ],
             [
              1,
              "#f0f921"
             ]
            ],
            "type": "surface"
           }
          ],
          "table": [
           {
            "cells": {
             "fill": {
              "color": "#EBF0F8"
             },
             "line": {
              "color": "white"
             }
            },
            "header": {
             "fill": {
              "color": "#C8D4E3"
             },
             "line": {
              "color": "white"
             }
            },
            "type": "table"
           }
          ]
         },
         "layout": {
          "annotationdefaults": {
           "arrowcolor": "#2a3f5f",
           "arrowhead": 0,
           "arrowwidth": 1
          },
          "autotypenumbers": "strict",
          "coloraxis": {
           "colorbar": {
            "outlinewidth": 0,
            "ticks": ""
           }
          },
          "colorscale": {
           "diverging": [
            [
             0,
             "#8e0152"
            ],
            [
             0.1,
             "#c51b7d"
            ],
            [
             0.2,
             "#de77ae"
            ],
            [
             0.3,
             "#f1b6da"
            ],
            [
             0.4,
             "#fde0ef"
            ],
            [
             0.5,
             "#f7f7f7"
            ],
            [
             0.6,
             "#e6f5d0"
            ],
            [
             0.7,
             "#b8e186"
            ],
            [
             0.8,
             "#7fbc41"
            ],
            [
             0.9,
             "#4d9221"
            ],
            [
             1,
             "#276419"
            ]
           ],
           "sequential": [
            [
             0,
             "#0d0887"
            ],
            [
             0.1111111111111111,
             "#46039f"
            ],
            [
             0.2222222222222222,
             "#7201a8"
            ],
            [
             0.3333333333333333,
             "#9c179e"
            ],
            [
             0.4444444444444444,
             "#bd3786"
            ],
            [
             0.5555555555555556,
             "#d8576b"
            ],
            [
             0.6666666666666666,
             "#ed7953"
            ],
            [
             0.7777777777777778,
             "#fb9f3a"
            ],
            [
             0.8888888888888888,
             "#fdca26"
            ],
            [
             1,
             "#f0f921"
            ]
           ],
           "sequentialminus": [
            [
             0,
             "#0d0887"
            ],
            [
             0.1111111111111111,
             "#46039f"
            ],
            [
             0.2222222222222222,
             "#7201a8"
            ],
            [
             0.3333333333333333,
             "#9c179e"
            ],
            [
             0.4444444444444444,
             "#bd3786"
            ],
            [
             0.5555555555555556,
             "#d8576b"
            ],
            [
             0.6666666666666666,
             "#ed7953"
            ],
            [
             0.7777777777777778,
             "#fb9f3a"
            ],
            [
             0.8888888888888888,
             "#fdca26"
            ],
            [
             1,
             "#f0f921"
            ]
           ]
          },
          "colorway": [
           "#636efa",
           "#EF553B",
           "#00cc96",
           "#ab63fa",
           "#FFA15A",
           "#19d3f3",
           "#FF6692",
           "#B6E880",
           "#FF97FF",
           "#FECB52"
          ],
          "font": {
           "color": "#2a3f5f"
          },
          "geo": {
           "bgcolor": "white",
           "lakecolor": "white",
           "landcolor": "#E5ECF6",
           "showlakes": true,
           "showland": true,
           "subunitcolor": "white"
          },
          "hoverlabel": {
           "align": "left"
          },
          "hovermode": "closest",
          "mapbox": {
           "style": "light"
          },
          "paper_bgcolor": "white",
          "plot_bgcolor": "#E5ECF6",
          "polar": {
           "angularaxis": {
            "gridcolor": "white",
            "linecolor": "white",
            "ticks": ""
           },
           "bgcolor": "#E5ECF6",
           "radialaxis": {
            "gridcolor": "white",
            "linecolor": "white",
            "ticks": ""
           }
          },
          "scene": {
           "xaxis": {
            "backgroundcolor": "#E5ECF6",
            "gridcolor": "white",
            "gridwidth": 2,
            "linecolor": "white",
            "showbackground": true,
            "ticks": "",
            "zerolinecolor": "white"
           },
           "yaxis": {
            "backgroundcolor": "#E5ECF6",
            "gridcolor": "white",
            "gridwidth": 2,
            "linecolor": "white",
            "showbackground": true,
            "ticks": "",
            "zerolinecolor": "white"
           },
           "zaxis": {
            "backgroundcolor": "#E5ECF6",
            "gridcolor": "white",
            "gridwidth": 2,
            "linecolor": "white",
            "showbackground": true,
            "ticks": "",
            "zerolinecolor": "white"
           }
          },
          "shapedefaults": {
           "line": {
            "color": "#2a3f5f"
           }
          },
          "ternary": {
           "aaxis": {
            "gridcolor": "white",
            "linecolor": "white",
            "ticks": ""
           },
           "baxis": {
            "gridcolor": "white",
            "linecolor": "white",
            "ticks": ""
           },
           "bgcolor": "#E5ECF6",
           "caxis": {
            "gridcolor": "white",
            "linecolor": "white",
            "ticks": ""
           }
          },
          "title": {
           "x": 0.05
          },
          "xaxis": {
           "automargin": true,
           "gridcolor": "white",
           "linecolor": "white",
           "ticks": "",
           "title": {
            "standoff": 15
           },
           "zerolinecolor": "white",
           "zerolinewidth": 2
          },
          "yaxis": {
           "automargin": true,
           "gridcolor": "white",
           "linecolor": "white",
           "ticks": "",
           "title": {
            "standoff": 15
           },
           "zerolinecolor": "white",
           "zerolinewidth": 2
          }
         }
        },
        "title": {
         "text": "년도별 주산지 비율"
        }
       }
      },
      "text/html": [
       "<div>                            <div id=\"2d0a83a7-b376-4ecd-8d5b-b4a7d7719f17\" class=\"plotly-graph-div\" style=\"height:525px; width:100%;\"></div>            <script type=\"text/javascript\">                require([\"plotly\"], function(Plotly) {                    window.PLOTLYENV=window.PLOTLYENV || {};                                    if (document.getElementById(\"2d0a83a7-b376-4ecd-8d5b-b4a7d7719f17\")) {                    Plotly.newPlot(                        \"2d0a83a7-b376-4ecd-8d5b-b4a7d7719f17\",                        [{\"domain\":{\"x\":[0.0,0.45],\"y\":[0.84375,1.0]},\"hole\":0.4,\"hoverinfo\":\"label+percent+name\",\"labels\":[\"\\uac15\\uc6d0\\ub3c4\",\"\\uacbd\\uae30\\ub3c4\",\"\\uacbd\\uc0c1\\ub0a8\\ub3c4\",\"\\uacbd\\uc0c1\\ubd81\\ub3c4\",\"\\uad11\\uc8fc\\uad11\\uc5ed\\uc2dc\",\"\\ub300\\uc804\\uad11\\uc5ed\\uc2dc\",\"\\ubd80\\uc0b0\\uad11\\uc5ed\\uc2dc\",\"\\uc0b0\\uc9c0\\uc5c6\\uc74c\",\"\\uc11c\\uc6b8\\ud2b9\\ubcc4\\uc2dc\",\"\\uc6b8\\uc0b0\\uad11\\uc5ed\\uc2dc\",\"\\uc778\\ucc9c\\uad11\\uc5ed\\uc2dc\",\"\\uc804\\ub77c\\ub0a8\\ub3c4\",\"\\uc804\\ub77c\\ubd81\\ub3c4\",\"\\uc81c\\uc8fc\\ub3c4\",\"\\ucda9\\uccad\\ub0a8\\ub3c4\",\"\\ucda9\\uccad\\ubd81\\ub3c4\"],\"name\":\"2014\",\"textinfo\":\"none\",\"type\":\"pie\",\"values\":[46170644.0,3203201.0,79968.0,1651076.0,233900.0,18000.0,87900.0,2312712.0,140670.0,92556.0,40005.0,9084024.0,20361370.0,83095658.0,14412013.0,1020738.0]},{\"domain\":{\"x\":[0.55,1.0],\"y\":[0.84375,1.0]},\"hole\":0.4,\"hoverinfo\":\"label+percent+name\",\"labels\":[\"\\uac15\\uc6d0\\ub3c4\",\"\\uacbd\\uae30\\ub3c4\",\"\\uacbd\\uc0c1\\ub0a8\\ub3c4\",\"\\uacbd\\uc0c1\\ubd81\\ub3c4\",\"\\uad11\\uc8fc\\uad11\\uc5ed\\uc2dc\",\"\\ub300\\uad6c\\uad11\\uc5ed\\uc2dc\",\"\\ub300\\uc804\\uad11\\uc5ed\\uc2dc\",\"\\ubd80\\uc0b0\\uad11\\uc5ed\\uc2dc\",\"\\uc0b0\\uc9c0\\uc5c6\\uc74c\",\"\\uc11c\\uc6b8\\ud2b9\\ubcc4\\uc2dc\",\"\\uc6b8\\uc0b0\\uad11\\uc5ed\\uc2dc\",\"\\uc804\\ub77c\\ub0a8\\ub3c4\",\"\\uc804\\ub77c\\ubd81\\ub3c4\",\"\\uc81c\\uc8fc\\ub3c4\",\"\\ucda9\\uccad\\ub0a8\\ub3c4\",\"\\ucda9\\uccad\\ubd81\\ub3c4\"],\"name\":\"2015\",\"textinfo\":\"none\",\"type\":\"pie\",\"values\":[47216206.0,3378369.0,46974.0,1379523.0,184480.0,35100.0,32000.0,234862.0,1884140.0,931701.0,91320.0,8678638.0,19936998.0,90289114.0,14939247.5,332796.0]},{\"domain\":{\"x\":[0.0,0.45],\"y\":[0.5625,0.71875]},\"hole\":0.4,\"hoverinfo\":\"label+percent+name\",\"labels\":[\"\\uac15\\uc6d0\\ub3c4\",\"\\uacbd\\uae30\\ub3c4\",\"\\uacbd\\uc0c1\\ub0a8\\ub3c4\",\"\\uacbd\\uc0c1\\ubd81\\ub3c4\",\"\\uad11\\uc8fc\\uad11\\uc5ed\\uc2dc\",\"\\ub300\\uad6c\\uad11\\uc5ed\\uc2dc\",\"\\ub300\\uc804\\uad11\\uc5ed\\uc2dc\",\"\\ubd80\\uc0b0\\uad11\\uc5ed\\uc2dc\",\"\\uc0b0\\uc9c0\\uc5c6\\uc74c\",\"\\uc11c\\uc6b8\\ud2b9\\ubcc4\\uc2dc\",\"\\uc138\\uc885\\ud2b9\\ubcc4\\uc790\\uce58\\uc2dc\",\"\\uc6b8\\uc0b0\\uad11\\uc5ed\\uc2dc\",\"\\uc778\\ucc9c\\uad11\\uc5ed\\uc2dc\",\"\\uc804\\ub77c\\ub0a8\\ub3c4\",\"\\uc804\\ub77c\\ubd81\\ub3c4\",\"\\uc81c\\uc8fc\\ub3c4\",\"\\ucda9\\uccad\\ub0a8\\ub3c4\",\"\\ucda9\\uccad\\ubd81\\ub3c4\"],\"name\":\"2016\",\"textinfo\":\"none\",\"type\":\"pie\",\"values\":[93292775.0,22059887.5,7707567.1000000015,9007686.760000002,7834957.5,3047087.0,6832750.0,6164166.200000001,12409066.9,9001763.000000002,15311.0,1946096.5,1792972.5,31117654.3,47766462.0,172223639.5,33745193.1,7348509.2]},{\"domain\":{\"x\":[0.55,1.0],\"y\":[0.5625,0.71875]},\"hole\":0.4,\"hoverinfo\":\"label+percent+name\",\"labels\":[\"\\uac15\\uc6d0\\ub3c4\",\"\\uacbd\\uae30\\ub3c4\",\"\\uacbd\\uc0c1\\ub0a8\\ub3c4\",\"\\uacbd\\uc0c1\\ubd81\\ub3c4\",\"\\uad11\\uc8fc\\uad11\\uc5ed\\uc2dc\",\"\\ub300\\uad6c\\uad11\\uc5ed\\uc2dc\",\"\\ub300\\uc804\\uad11\\uc5ed\\uc2dc\",\"\\ubd80\\uc0b0\\uad11\\uc5ed\\uc2dc\",\"\\uc0b0\\uc9c0\\uc5c6\\uc74c\",\"\\uc11c\\uc6b8\\ud2b9\\ubcc4\\uc2dc\",\"\\uc138\\uc885\\ud2b9\\ubcc4\\uc790\\uce58\\uc2dc\",\"\\uc6b8\\uc0b0\\uad11\\uc5ed\\uc2dc\",\"\\uc778\\ucc9c\\uad11\\uc5ed\\uc2dc\",\"\\uc804\\ub77c\\ub0a8\\ub3c4\",\"\\uc804\\ub77c\\ubd81\\ub3c4\",\"\\uc81c\\uc8fc\\ub3c4\",\"\\ucda9\\uccad\\ub0a8\\ub3c4\",\"\\ucda9\\uccad\\ubd81\\ub3c4\"],\"name\":\"2017\",\"textinfo\":\"none\",\"type\":\"pie\",\"values\":[98659315.95000003,21544720.3,10564550.600000005,11086336.700000003,7147922.5,3786542.0,8053732.5,7579439.4,14805916.3,10441012.000000002,30510.0,1785260.9,457508.0,37522637.5,54285629.9,166765844.90000007,30980844.4,5756924.09]},{\"domain\":{\"x\":[0.0,0.45],\"y\":[0.28125,0.4375]},\"hole\":0.4,\"hoverinfo\":\"label+percent+name\",\"labels\":[\"\\uac15\\uc6d0\\ub3c4\",\"\\uacbd\\uae30\\ub3c4\",\"\\uacbd\\uc0c1\\ub0a8\\ub3c4\",\"\\uacbd\\uc0c1\\ubd81\\ub3c4\",\"\\uad11\\uc8fc\\uad11\\uc5ed\\uc2dc\",\"\\ub300\\uad6c\\uad11\\uc5ed\\uc2dc\",\"\\ub300\\uc804\\uad11\\uc5ed\\uc2dc\",\"\\ubd80\\uc0b0\\uad11\\uc5ed\\uc2dc\",\"\\uc0b0\\uc9c0\\uc5c6\\uc74c\",\"\\uc11c\\uc6b8\\ud2b9\\ubcc4\\uc2dc\",\"\\uc138\\uc885\\ud2b9\\ubcc4\\uc790\\uce58\\uc2dc\",\"\\uc6b8\\uc0b0\\uad11\\uc5ed\\uc2dc\",\"\\uc778\\ucc9c\\uad11\\uc5ed\\uc2dc\",\"\\uc804\\ub77c\\ub0a8\\ub3c4\",\"\\uc804\\ub77c\\ubd81\\ub3c4\",\"\\uc81c\\uc8fc\\ub3c4\",\"\\ucda9\\uccad\\ub0a8\\ub3c4\",\"\\ucda9\\uccad\\ubd81\\ub3c4\"],\"name\":\"2018\",\"textinfo\":\"none\",\"type\":\"pie\",\"values\":[97193754.66000006,23523148.599999998,9952591.400000004,11860977.7,8006497.399999999,2490943.5,8684543.4,6635837.1,16183684.09999999,9050612.0,28290.0,1428937.5,317148.5,40594961.6,58231155.599999994,145082909.99999997,31733293.92,4707562.5]},{\"domain\":{\"x\":[0.55,1.0],\"y\":[0.28125,0.4375]},\"hole\":0.4,\"hoverinfo\":\"label+percent+name\",\"labels\":[\"\\uac15\\uc6d0\\ub3c4\",\"\\uacbd\\uae30\\ub3c4\",\"\\uacbd\\uc0c1\\ub0a8\\ub3c4\",\"\\uacbd\\uc0c1\\ubd81\\ub3c4\",\"\\uad11\\uc8fc\\uad11\\uc5ed\\uc2dc\",\"\\ub300\\uad6c\\uad11\\uc5ed\\uc2dc\",\"\\ub300\\uc804\\uad11\\uc5ed\\uc2dc\",\"\\ubd80\\uc0b0\\uad11\\uc5ed\\uc2dc\",\"\\uc0b0\\uc9c0\\uc5c6\\uc74c\",\"\\uc11c\\uc6b8\\ud2b9\\ubcc4\\uc2dc\",\"\\uc138\\uc885\\ud2b9\\ubcc4\\uc790\\uce58\\uc2dc\",\"\\uc6b8\\uc0b0\\uad11\\uc5ed\\uc2dc\",\"\\uc778\\ucc9c\\uad11\\uc5ed\\uc2dc\",\"\\uc804\\ub77c\\ub0a8\\ub3c4\",\"\\uc804\\ub77c\\ubd81\\ub3c4\",\"\\uc81c\\uc8fc\\ub3c4\",\"\\ucda9\\uccad\\ub0a8\\ub3c4\",\"\\ucda9\\uccad\\ubd81\\ub3c4\"],\"name\":\"2019\",\"textinfo\":\"none\",\"type\":\"pie\",\"values\":[95834619.30000003,21254714.18000002,8751662.000000006,11000585.399999995,6868510.2,2849428.7,4757249.35,6227946.000000002,13440386.8,6133557.899999999,5350.0,1905577.7,182537.0,33980944.0,54548030.599999994,163908315.79999995,23663055.5,3168376.4]},{\"domain\":{\"x\":[0.0,0.45],\"y\":[0.0,0.15625]},\"hole\":0.4,\"hoverinfo\":\"label+percent+name\",\"labels\":[\"\\uac15\\uc6d0\\ub3c4\",\"\\uacbd\\uae30\\ub3c4\",\"\\uacbd\\uc0c1\\ub0a8\\ub3c4\",\"\\uacbd\\uc0c1\\ubd81\\ub3c4\",\"\\uad11\\uc8fc\\uad11\\uc5ed\\uc2dc\",\"\\ub300\\uad6c\\uad11\\uc5ed\\uc2dc\",\"\\ub300\\uc804\\uad11\\uc5ed\\uc2dc\",\"\\ubd80\\uc0b0\\uad11\\uc5ed\\uc2dc\",\"\\uc0b0\\uc9c0\\uc5c6\\uc74c\",\"\\uc11c\\uc6b8\\ud2b9\\ubcc4\\uc2dc\",\"\\uc138\\uc885\\ud2b9\\ubcc4\\uc790\\uce58\\uc2dc\",\"\\uc6b8\\uc0b0\\uad11\\uc5ed\\uc2dc\",\"\\uc778\\ucc9c\\uad11\\uc5ed\\uc2dc\",\"\\uc804\\ub77c\\ub0a8\\ub3c4\",\"\\uc804\\ub77c\\ubd81\\ub3c4\",\"\\uc81c\\uc8fc\\ub3c4\",\"\\ucda9\\uccad\\ub0a8\\ub3c4\",\"\\ucda9\\uccad\\ubd81\\ub3c4\"],\"name\":\"2020\",\"textinfo\":\"none\",\"type\":\"pie\",\"values\":[109348470.10000014,14478357.660000002,8515232.999999987,9714680.099999994,6846380.0,3239240.6000000006,3303403.12,5884567.900000004,5656818.399999999,6626518.599999999,11584.0,1437527.8,490631.06,33926159.30000001,67955523.89999999,170158924.10000002,28520016.200000003,3055399.6]},{\"domain\":{\"x\":[0.55,1.0],\"y\":[0.0,0.15625]},\"hole\":0.4,\"hoverinfo\":\"label+percent+name\",\"labels\":[\"\\uac15\\uc6d0\\ub3c4\",\"\\uacbd\\uae30\\ub3c4\",\"\\uacbd\\uc0c1\\ub0a8\\ub3c4\",\"\\uacbd\\uc0c1\\ubd81\\ub3c4\",\"\\uad11\\uc8fc\\uad11\\uc5ed\\uc2dc\",\"\\ub300\\uad6c\\uad11\\uc5ed\\uc2dc\",\"\\ub300\\uc804\\uad11\\uc5ed\\uc2dc\",\"\\ubd80\\uc0b0\\uad11\\uc5ed\\uc2dc\",\"\\uc0b0\\uc9c0\\uc5c6\\uc74c\",\"\\uc11c\\uc6b8\\ud2b9\\ubcc4\\uc2dc\",\"\\uc138\\uc885\\ud2b9\\ubcc4\\uc790\\uce58\\uc2dc\",\"\\uc6b8\\uc0b0\\uad11\\uc5ed\\uc2dc\",\"\\uc778\\ucc9c\\uad11\\uc5ed\\uc2dc\",\"\\uc804\\ub77c\\ub0a8\\ub3c4\",\"\\uc804\\ub77c\\ubd81\\ub3c4\",\"\\uc81c\\uc8fc\\ub3c4\",\"\\ucda9\\uccad\\ub0a8\\ub3c4\",\"\\ucda9\\uccad\\ubd81\\ub3c4\"],\"name\":\"2021\",\"textinfo\":\"none\",\"type\":\"pie\",\"values\":[95455445.70000006,10840572.799999999,5420494.900000001,4520176.999999998,2163940.2,972860.3,835681.7,4962782.800000003,4384092.000000002,2518931.2,33000.0,748385.9,230513.8,9869457.0,27006310.799999997,156474971.40000004,7503432.999999999,2072403.6]}],                        {\"annotations\":[{\"font\":{\"size\":16},\"showarrow\":false,\"text\":\"2014\",\"x\":0.225,\"xanchor\":\"center\",\"xref\":\"paper\",\"y\":1.0,\"yanchor\":\"bottom\",\"yref\":\"paper\"},{\"font\":{\"size\":16},\"showarrow\":false,\"text\":\"2015\",\"x\":0.775,\"xanchor\":\"center\",\"xref\":\"paper\",\"y\":1.0,\"yanchor\":\"bottom\",\"yref\":\"paper\"},{\"font\":{\"size\":16},\"showarrow\":false,\"text\":\"2016\",\"x\":0.225,\"xanchor\":\"center\",\"xref\":\"paper\",\"y\":0.71875,\"yanchor\":\"bottom\",\"yref\":\"paper\"},{\"font\":{\"size\":16},\"showarrow\":false,\"text\":\"2017\",\"x\":0.775,\"xanchor\":\"center\",\"xref\":\"paper\",\"y\":0.71875,\"yanchor\":\"bottom\",\"yref\":\"paper\"},{\"font\":{\"size\":16},\"showarrow\":false,\"text\":\"2018\",\"x\":0.225,\"xanchor\":\"center\",\"xref\":\"paper\",\"y\":0.4375,\"yanchor\":\"bottom\",\"yref\":\"paper\"},{\"font\":{\"size\":16},\"showarrow\":false,\"text\":\"2019\",\"x\":0.775,\"xanchor\":\"center\",\"xref\":\"paper\",\"y\":0.4375,\"yanchor\":\"bottom\",\"yref\":\"paper\"},{\"font\":{\"size\":16},\"showarrow\":false,\"text\":\"2020\",\"x\":0.225,\"xanchor\":\"center\",\"xref\":\"paper\",\"y\":0.15625,\"yanchor\":\"bottom\",\"yref\":\"paper\"},{\"font\":{\"size\":16},\"showarrow\":false,\"text\":\"2021\",\"x\":0.775,\"xanchor\":\"center\",\"xref\":\"paper\",\"y\":0.15625,\"yanchor\":\"bottom\",\"yref\":\"paper\"}],\"showlegend\":true,\"template\":{\"data\":{\"bar\":[{\"error_x\":{\"color\":\"#2a3f5f\"},\"error_y\":{\"color\":\"#2a3f5f\"},\"marker\":{\"line\":{\"color\":\"#E5ECF6\",\"width\":0.5},\"pattern\":{\"fillmode\":\"overlay\",\"size\":10,\"solidity\":0.2}},\"type\":\"bar\"}],\"barpolar\":[{\"marker\":{\"line\":{\"color\":\"#E5ECF6\",\"width\":0.5},\"pattern\":{\"fillmode\":\"overlay\",\"size\":10,\"solidity\":0.2}},\"type\":\"barpolar\"}],\"carpet\":[{\"aaxis\":{\"endlinecolor\":\"#2a3f5f\",\"gridcolor\":\"white\",\"linecolor\":\"white\",\"minorgridcolor\":\"white\",\"startlinecolor\":\"#2a3f5f\"},\"baxis\":{\"endlinecolor\":\"#2a3f5f\",\"gridcolor\":\"white\",\"linecolor\":\"white\",\"minorgridcolor\":\"white\",\"startlinecolor\":\"#2a3f5f\"},\"type\":\"carpet\"}],\"choropleth\":[{\"colorbar\":{\"outlinewidth\":0,\"ticks\":\"\"},\"type\":\"choropleth\"}],\"contour\":[{\"colorbar\":{\"outlinewidth\":0,\"ticks\":\"\"},\"colorscale\":[[0.0,\"#0d0887\"],[0.1111111111111111,\"#46039f\"],[0.2222222222222222,\"#7201a8\"],[0.3333333333333333,\"#9c179e\"],[0.4444444444444444,\"#bd3786\"],[0.5555555555555556,\"#d8576b\"],[0.6666666666666666,\"#ed7953\"],[0.7777777777777778,\"#fb9f3a\"],[0.8888888888888888,\"#fdca26\"],[1.0,\"#f0f921\"]],\"type\":\"contour\"}],\"contourcarpet\":[{\"colorbar\":{\"outlinewidth\":0,\"ticks\":\"\"},\"type\":\"contourcarpet\"}],\"heatmap\":[{\"colorbar\":{\"outlinewidth\":0,\"ticks\":\"\"},\"colorscale\":[[0.0,\"#0d0887\"],[0.1111111111111111,\"#46039f\"],[0.2222222222222222,\"#7201a8\"],[0.3333333333333333,\"#9c179e\"],[0.4444444444444444,\"#bd3786\"],[0.5555555555555556,\"#d8576b\"],[0.6666666666666666,\"#ed7953\"],[0.7777777777777778,\"#fb9f3a\"],[0.8888888888888888,\"#fdca26\"],[1.0,\"#f0f921\"]],\"type\":\"heatmap\"}],\"heatmapgl\":[{\"colorbar\":{\"outlinewidth\":0,\"ticks\":\"\"},\"colorscale\":[[0.0,\"#0d0887\"],[0.1111111111111111,\"#46039f\"],[0.2222222222222222,\"#7201a8\"],[0.3333333333333333,\"#9c179e\"],[0.4444444444444444,\"#bd3786\"],[0.5555555555555556,\"#d8576b\"],[0.6666666666666666,\"#ed7953\"],[0.7777777777777778,\"#fb9f3a\"],[0.8888888888888888,\"#fdca26\"],[1.0,\"#f0f921\"]],\"type\":\"heatmapgl\"}],\"histogram\":[{\"marker\":{\"pattern\":{\"fillmode\":\"overlay\",\"size\":10,\"solidity\":0.2}},\"type\":\"histogram\"}],\"histogram2d\":[{\"colorbar\":{\"outlinewidth\":0,\"ticks\":\"\"},\"colorscale\":[[0.0,\"#0d0887\"],[0.1111111111111111,\"#46039f\"],[0.2222222222222222,\"#7201a8\"],[0.3333333333333333,\"#9c179e\"],[0.4444444444444444,\"#bd3786\"],[0.5555555555555556,\"#d8576b\"],[0.6666666666666666,\"#ed7953\"],[0.7777777777777778,\"#fb9f3a\"],[0.8888888888888888,\"#fdca26\"],[1.0,\"#f0f921\"]],\"type\":\"histogram2d\"}],\"histogram2dcontour\":[{\"colorbar\":{\"outlinewidth\":0,\"ticks\":\"\"},\"colorscale\":[[0.0,\"#0d0887\"],[0.1111111111111111,\"#46039f\"],[0.2222222222222222,\"#7201a8\"],[0.3333333333333333,\"#9c179e\"],[0.4444444444444444,\"#bd3786\"],[0.5555555555555556,\"#d8576b\"],[0.6666666666666666,\"#ed7953\"],[0.7777777777777778,\"#fb9f3a\"],[0.8888888888888888,\"#fdca26\"],[1.0,\"#f0f921\"]],\"type\":\"histogram2dcontour\"}],\"mesh3d\":[{\"colorbar\":{\"outlinewidth\":0,\"ticks\":\"\"},\"type\":\"mesh3d\"}],\"parcoords\":[{\"line\":{\"colorbar\":{\"outlinewidth\":0,\"ticks\":\"\"}},\"type\":\"parcoords\"}],\"pie\":[{\"automargin\":true,\"type\":\"pie\"}],\"scatter\":[{\"marker\":{\"colorbar\":{\"outlinewidth\":0,\"ticks\":\"\"}},\"type\":\"scatter\"}],\"scatter3d\":[{\"line\":{\"colorbar\":{\"outlinewidth\":0,\"ticks\":\"\"}},\"marker\":{\"colorbar\":{\"outlinewidth\":0,\"ticks\":\"\"}},\"type\":\"scatter3d\"}],\"scattercarpet\":[{\"marker\":{\"colorbar\":{\"outlinewidth\":0,\"ticks\":\"\"}},\"type\":\"scattercarpet\"}],\"scattergeo\":[{\"marker\":{\"colorbar\":{\"outlinewidth\":0,\"ticks\":\"\"}},\"type\":\"scattergeo\"}],\"scattergl\":[{\"marker\":{\"colorbar\":{\"outlinewidth\":0,\"ticks\":\"\"}},\"type\":\"scattergl\"}],\"scattermapbox\":[{\"marker\":{\"colorbar\":{\"outlinewidth\":0,\"ticks\":\"\"}},\"type\":\"scattermapbox\"}],\"scatterpolar\":[{\"marker\":{\"colorbar\":{\"outlinewidth\":0,\"ticks\":\"\"}},\"type\":\"scatterpolar\"}],\"scatterpolargl\":[{\"marker\":{\"colorbar\":{\"outlinewidth\":0,\"ticks\":\"\"}},\"type\":\"scatterpolargl\"}],\"scatterternary\":[{\"marker\":{\"colorbar\":{\"outlinewidth\":0,\"ticks\":\"\"}},\"type\":\"scatterternary\"}],\"surface\":[{\"colorbar\":{\"outlinewidth\":0,\"ticks\":\"\"},\"colorscale\":[[0.0,\"#0d0887\"],[0.1111111111111111,\"#46039f\"],[0.2222222222222222,\"#7201a8\"],[0.3333333333333333,\"#9c179e\"],[0.4444444444444444,\"#bd3786\"],[0.5555555555555556,\"#d8576b\"],[0.6666666666666666,\"#ed7953\"],[0.7777777777777778,\"#fb9f3a\"],[0.8888888888888888,\"#fdca26\"],[1.0,\"#f0f921\"]],\"type\":\"surface\"}],\"table\":[{\"cells\":{\"fill\":{\"color\":\"#EBF0F8\"},\"line\":{\"color\":\"white\"}},\"header\":{\"fill\":{\"color\":\"#C8D4E3\"},\"line\":{\"color\":\"white\"}},\"type\":\"table\"}]},\"layout\":{\"annotationdefaults\":{\"arrowcolor\":\"#2a3f5f\",\"arrowhead\":0,\"arrowwidth\":1},\"autotypenumbers\":\"strict\",\"coloraxis\":{\"colorbar\":{\"outlinewidth\":0,\"ticks\":\"\"}},\"colorscale\":{\"diverging\":[[0,\"#8e0152\"],[0.1,\"#c51b7d\"],[0.2,\"#de77ae\"],[0.3,\"#f1b6da\"],[0.4,\"#fde0ef\"],[0.5,\"#f7f7f7\"],[0.6,\"#e6f5d0\"],[0.7,\"#b8e186\"],[0.8,\"#7fbc41\"],[0.9,\"#4d9221\"],[1,\"#276419\"]],\"sequential\":[[0.0,\"#0d0887\"],[0.1111111111111111,\"#46039f\"],[0.2222222222222222,\"#7201a8\"],[0.3333333333333333,\"#9c179e\"],[0.4444444444444444,\"#bd3786\"],[0.5555555555555556,\"#d8576b\"],[0.6666666666666666,\"#ed7953\"],[0.7777777777777778,\"#fb9f3a\"],[0.8888888888888888,\"#fdca26\"],[1.0,\"#f0f921\"]],\"sequentialminus\":[[0.0,\"#0d0887\"],[0.1111111111111111,\"#46039f\"],[0.2222222222222222,\"#7201a8\"],[0.3333333333333333,\"#9c179e\"],[0.4444444444444444,\"#bd3786\"],[0.5555555555555556,\"#d8576b\"],[0.6666666666666666,\"#ed7953\"],[0.7777777777777778,\"#fb9f3a\"],[0.8888888888888888,\"#fdca26\"],[1.0,\"#f0f921\"]]},\"colorway\":[\"#636efa\",\"#EF553B\",\"#00cc96\",\"#ab63fa\",\"#FFA15A\",\"#19d3f3\",\"#FF6692\",\"#B6E880\",\"#FF97FF\",\"#FECB52\"],\"font\":{\"color\":\"#2a3f5f\"},\"geo\":{\"bgcolor\":\"white\",\"lakecolor\":\"white\",\"landcolor\":\"#E5ECF6\",\"showlakes\":true,\"showland\":true,\"subunitcolor\":\"white\"},\"hoverlabel\":{\"align\":\"left\"},\"hovermode\":\"closest\",\"mapbox\":{\"style\":\"light\"},\"paper_bgcolor\":\"white\",\"plot_bgcolor\":\"#E5ECF6\",\"polar\":{\"angularaxis\":{\"gridcolor\":\"white\",\"linecolor\":\"white\",\"ticks\":\"\"},\"bgcolor\":\"#E5ECF6\",\"radialaxis\":{\"gridcolor\":\"white\",\"linecolor\":\"white\",\"ticks\":\"\"}},\"scene\":{\"xaxis\":{\"backgroundcolor\":\"#E5ECF6\",\"gridcolor\":\"white\",\"gridwidth\":2,\"linecolor\":\"white\",\"showbackground\":true,\"ticks\":\"\",\"zerolinecolor\":\"white\"},\"yaxis\":{\"backgroundcolor\":\"#E5ECF6\",\"gridcolor\":\"white\",\"gridwidth\":2,\"linecolor\":\"white\",\"showbackground\":true,\"ticks\":\"\",\"zerolinecolor\":\"white\"},\"zaxis\":{\"backgroundcolor\":\"#E5ECF6\",\"gridcolor\":\"white\",\"gridwidth\":2,\"linecolor\":\"white\",\"showbackground\":true,\"ticks\":\"\",\"zerolinecolor\":\"white\"}},\"shapedefaults\":{\"line\":{\"color\":\"#2a3f5f\"}},\"ternary\":{\"aaxis\":{\"gridcolor\":\"white\",\"linecolor\":\"white\",\"ticks\":\"\"},\"baxis\":{\"gridcolor\":\"white\",\"linecolor\":\"white\",\"ticks\":\"\"},\"bgcolor\":\"#E5ECF6\",\"caxis\":{\"gridcolor\":\"white\",\"linecolor\":\"white\",\"ticks\":\"\"}},\"title\":{\"x\":0.05},\"xaxis\":{\"automargin\":true,\"gridcolor\":\"white\",\"linecolor\":\"white\",\"ticks\":\"\",\"title\":{\"standoff\":15},\"zerolinecolor\":\"white\",\"zerolinewidth\":2},\"yaxis\":{\"automargin\":true,\"gridcolor\":\"white\",\"linecolor\":\"white\",\"ticks\":\"\",\"title\":{\"standoff\":15},\"zerolinecolor\":\"white\",\"zerolinewidth\":2}}},\"title\":{\"text\":\"\\ub144\\ub3c4\\ubcc4 \\uc8fc\\uc0b0\\uc9c0 \\ube44\\uc728\"}},                        {\"responsive\": true}                    ).then(function(){\n",
       "                            \n",
       "var gd = document.getElementById('2d0a83a7-b376-4ecd-8d5b-b4a7d7719f17');\n",
       "var x = new MutationObserver(function (mutations, observer) {{\n",
       "        var display = window.getComputedStyle(gd).display;\n",
       "        if (!display || display === 'none') {{\n",
       "            console.log([gd, 'removed!']);\n",
       "            Plotly.purge(gd);\n",
       "            observer.disconnect();\n",
       "        }}\n",
       "}});\n",
       "\n",
       "// Listen for the removal of the full notebook cells\n",
       "var notebookContainer = gd.closest('#notebook-container');\n",
       "if (notebookContainer) {{\n",
       "    x.observe(notebookContainer, {childList: true});\n",
       "}}\n",
       "\n",
       "// Listen for the clearing of the current output cell\n",
       "var outputEl = gd.closest('.output');\n",
       "if (outputEl) {{\n",
       "    x.observe(outputEl, {childList: true});\n",
       "}}\n",
       "\n",
       "                        })                };                });            </script>        </div>"
      ]
     },
     "metadata": {},
     "output_type": "display_data"
    }
   ],
   "source": [
    "specs = [[{'type':'domain'}, {'type':'domain'}], [{'type':'domain'}, {'type':'domain'}],[{'type':'domain'}, {'type':'domain'}],[{'type':'domain'}, {'type':'domain'}]]\n",
    "fig = make_subplots(rows=4, cols=2, specs=specs,\n",
    "                    subplot_titles=['2014', '2015', '2016', '2017', '2018', '2019', '2020', '2021'])\n",
    "\n",
    "fig.add_trace(go.Pie(labels=rad[rad['SALEDATE'].dt.year == 2014].groupby(['SAN_NM'])['TOT_QTY'].sum().reset_index()['SAN_NM'], \n",
    "                     values=rad[rad['SALEDATE'].dt.year == 2014].groupby(['SAN_NM'])['TOT_QTY'].sum().reset_index()['TOT_QTY'],\n",
    "                     name='2014',), 1, 1)\n",
    "fig.add_trace(go.Pie(labels=rad[rad['SALEDATE'].dt.year == 2015].groupby(['SAN_NM'])['TOT_QTY'].sum().reset_index()['SAN_NM'], \n",
    "                     values=rad[rad['SALEDATE'].dt.year == 2015].groupby(['SAN_NM'])['TOT_QTY'].sum().reset_index()['TOT_QTY'],\n",
    "                     name='2015',), 1, 2)\n",
    "fig.add_trace(go.Pie(labels=rad[rad['SALEDATE'].dt.year == 2016].groupby(['SAN_NM'])['TOT_QTY'].sum().reset_index()['SAN_NM'], \n",
    "                     values=rad[rad['SALEDATE'].dt.year == 2016].groupby(['SAN_NM'])['TOT_QTY'].sum().reset_index()['TOT_QTY'],\n",
    "                     name='2016',), 2, 1)\n",
    "fig.add_trace(go.Pie(labels=rad[rad['SALEDATE'].dt.year == 2017].groupby(['SAN_NM'])['TOT_QTY'].sum().reset_index()['SAN_NM'], \n",
    "                     values=rad[rad['SALEDATE'].dt.year == 2017].groupby(['SAN_NM'])['TOT_QTY'].sum().reset_index()['TOT_QTY'],\n",
    "                     name='2017',), 2, 2)\n",
    "fig.add_trace(go.Pie(labels=rad[rad['SALEDATE'].dt.year == 2018].groupby(['SAN_NM'])['TOT_QTY'].sum().reset_index()['SAN_NM'], \n",
    "                     values=rad[rad['SALEDATE'].dt.year == 2018].groupby(['SAN_NM'])['TOT_QTY'].sum().reset_index()['TOT_QTY'],\n",
    "                     name='2018',), 3, 1)\n",
    "fig.add_trace(go.Pie(labels=rad[rad['SALEDATE'].dt.year == 2019].groupby(['SAN_NM'])['TOT_QTY'].sum().reset_index()['SAN_NM'], \n",
    "                     values=rad[rad['SALEDATE'].dt.year == 2019].groupby(['SAN_NM'])['TOT_QTY'].sum().reset_index()['TOT_QTY'],\n",
    "                     name='2019',), 3, 2)\n",
    "fig.add_trace(go.Pie(labels=rad[rad['SALEDATE'].dt.year == 2020].groupby(['SAN_NM'])['TOT_QTY'].sum().reset_index()['SAN_NM'], \n",
    "                     values=rad[rad['SALEDATE'].dt.year == 2020].groupby(['SAN_NM'])['TOT_QTY'].sum().reset_index()['TOT_QTY'],\n",
    "                     name='2020',), 4, 1)\n",
    "fig.add_trace(go.Pie(labels=rad[rad['SALEDATE'].dt.year == 2021].groupby(['SAN_NM'])['TOT_QTY'].sum().reset_index()['SAN_NM'], \n",
    "                     values=rad[rad['SALEDATE'].dt.year == 2021].groupby(['SAN_NM'])['TOT_QTY'].sum().reset_index()['TOT_QTY'],\n",
    "                     name='2021',), 4, 2)\n",
    "\n",
    "fig.update_traces(hole=.4, hoverinfo='label+percent+name', textinfo='none')\n",
    "fig.update(layout_title_text='년도별 주산지 비율',\n",
    "           layout_showlegend=True)\n",
    "\n",
    "fig = go.Figure(fig)\n",
    "fig.show()"
   ]
  },
  {
   "cell_type": "code",
   "execution_count": 60,
   "metadata": {},
   "outputs": [],
   "source": [
    "rad.drop(['SAN_NM'],axis=1,inplace=True)"
   ]
  },
  {
   "cell_type": "markdown",
   "metadata": {},
   "source": [
    "## 주별로 묶기"
   ]
  },
  {
   "cell_type": "code",
   "execution_count": 61,
   "metadata": {},
   "outputs": [
    {
     "data": {
      "text/html": [
       "<div>\n",
       "<style scoped>\n",
       "    .dataframe tbody tr th:only-of-type {\n",
       "        vertical-align: middle;\n",
       "    }\n",
       "\n",
       "    .dataframe tbody tr th {\n",
       "        vertical-align: top;\n",
       "    }\n",
       "\n",
       "    .dataframe thead th {\n",
       "        text-align: right;\n",
       "    }\n",
       "</style>\n",
       "<table border=\"1\" class=\"dataframe\">\n",
       "  <thead>\n",
       "    <tr style=\"text-align: right;\">\n",
       "      <th></th>\n",
       "      <th>TOT_AMT</th>\n",
       "      <th>SALEDATE</th>\n",
       "      <th>TOT_QTY</th>\n",
       "    </tr>\n",
       "  </thead>\n",
       "  <tbody>\n",
       "    <tr>\n",
       "      <th>0</th>\n",
       "      <td>1456000.0</td>\n",
       "      <td>2014-01-03</td>\n",
       "      <td>5040.0</td>\n",
       "    </tr>\n",
       "    <tr>\n",
       "      <th>1</th>\n",
       "      <td>1344000.0</td>\n",
       "      <td>2014-01-03</td>\n",
       "      <td>5040.0</td>\n",
       "    </tr>\n",
       "    <tr>\n",
       "      <th>2</th>\n",
       "      <td>1400000.0</td>\n",
       "      <td>2014-01-03</td>\n",
       "      <td>5040.0</td>\n",
       "    </tr>\n",
       "    <tr>\n",
       "      <th>3</th>\n",
       "      <td>1344000.0</td>\n",
       "      <td>2014-01-03</td>\n",
       "      <td>5040.0</td>\n",
       "    </tr>\n",
       "    <tr>\n",
       "      <th>4</th>\n",
       "      <td>1484000.0</td>\n",
       "      <td>2014-01-03</td>\n",
       "      <td>5040.0</td>\n",
       "    </tr>\n",
       "    <tr>\n",
       "      <th>...</th>\n",
       "      <td>...</td>\n",
       "      <td>...</td>\n",
       "      <td>...</td>\n",
       "    </tr>\n",
       "    <tr>\n",
       "      <th>1883767</th>\n",
       "      <td>64000.0</td>\n",
       "      <td>2021-10-30</td>\n",
       "      <td>160.0</td>\n",
       "    </tr>\n",
       "    <tr>\n",
       "      <th>1883768</th>\n",
       "      <td>336000.0</td>\n",
       "      <td>2021-10-30</td>\n",
       "      <td>960.0</td>\n",
       "    </tr>\n",
       "    <tr>\n",
       "      <th>1883769</th>\n",
       "      <td>30000.0</td>\n",
       "      <td>2021-10-30</td>\n",
       "      <td>80.0</td>\n",
       "    </tr>\n",
       "    <tr>\n",
       "      <th>1883770</th>\n",
       "      <td>93600.0</td>\n",
       "      <td>2021-10-30</td>\n",
       "      <td>260.0</td>\n",
       "    </tr>\n",
       "    <tr>\n",
       "      <th>1883771</th>\n",
       "      <td>357000.0</td>\n",
       "      <td>2021-10-30</td>\n",
       "      <td>840.0</td>\n",
       "    </tr>\n",
       "  </tbody>\n",
       "</table>\n",
       "<p>1857491 rows × 3 columns</p>\n",
       "</div>"
      ],
      "text/plain": [
       "           TOT_AMT   SALEDATE  TOT_QTY\n",
       "0        1456000.0 2014-01-03   5040.0\n",
       "1        1344000.0 2014-01-03   5040.0\n",
       "2        1400000.0 2014-01-03   5040.0\n",
       "3        1344000.0 2014-01-03   5040.0\n",
       "4        1484000.0 2014-01-03   5040.0\n",
       "...            ...        ...      ...\n",
       "1883767    64000.0 2021-10-30    160.0\n",
       "1883768   336000.0 2021-10-30    960.0\n",
       "1883769    30000.0 2021-10-30     80.0\n",
       "1883770    93600.0 2021-10-30    260.0\n",
       "1883771   357000.0 2021-10-30    840.0\n",
       "\n",
       "[1857491 rows x 3 columns]"
      ]
     },
     "execution_count": 61,
     "metadata": {},
     "output_type": "execute_result"
    }
   ],
   "source": [
    "rad"
   ]
  },
  {
   "cell_type": "code",
   "execution_count": 62,
   "metadata": {},
   "outputs": [],
   "source": [
    "rad.set_index(['SALEDATE'], inplace=True)"
   ]
  },
  {
   "cell_type": "code",
   "execution_count": 63,
   "metadata": {},
   "outputs": [],
   "source": [
    "rad_week= rad.resample(rule='W').sum().reset_index()"
   ]
  },
  {
   "cell_type": "code",
   "execution_count": 64,
   "metadata": {},
   "outputs": [
    {
     "data": {
      "text/html": [
       "<div>\n",
       "<style scoped>\n",
       "    .dataframe tbody tr th:only-of-type {\n",
       "        vertical-align: middle;\n",
       "    }\n",
       "\n",
       "    .dataframe tbody tr th {\n",
       "        vertical-align: top;\n",
       "    }\n",
       "\n",
       "    .dataframe thead th {\n",
       "        text-align: right;\n",
       "    }\n",
       "</style>\n",
       "<table border=\"1\" class=\"dataframe\">\n",
       "  <thead>\n",
       "    <tr style=\"text-align: right;\">\n",
       "      <th></th>\n",
       "      <th>SALEDATE</th>\n",
       "      <th>TOT_AMT</th>\n",
       "      <th>TOT_QTY</th>\n",
       "    </tr>\n",
       "  </thead>\n",
       "  <tbody>\n",
       "    <tr>\n",
       "      <th>0</th>\n",
       "      <td>2014-01-05</td>\n",
       "      <td>4.405974e+08</td>\n",
       "      <td>1449540.0</td>\n",
       "    </tr>\n",
       "    <tr>\n",
       "      <th>1</th>\n",
       "      <td>2014-01-12</td>\n",
       "      <td>9.670760e+08</td>\n",
       "      <td>3884332.0</td>\n",
       "    </tr>\n",
       "    <tr>\n",
       "      <th>2</th>\n",
       "      <td>2014-01-19</td>\n",
       "      <td>8.252389e+08</td>\n",
       "      <td>3484982.0</td>\n",
       "    </tr>\n",
       "    <tr>\n",
       "      <th>3</th>\n",
       "      <td>2014-01-26</td>\n",
       "      <td>9.860628e+08</td>\n",
       "      <td>3904496.0</td>\n",
       "    </tr>\n",
       "    <tr>\n",
       "      <th>4</th>\n",
       "      <td>2014-02-02</td>\n",
       "      <td>7.329970e+08</td>\n",
       "      <td>2881752.0</td>\n",
       "    </tr>\n",
       "    <tr>\n",
       "      <th>...</th>\n",
       "      <td>...</td>\n",
       "      <td>...</td>\n",
       "      <td>...</td>\n",
       "    </tr>\n",
       "    <tr>\n",
       "      <th>404</th>\n",
       "      <td>2021-10-03</td>\n",
       "      <td>2.682000e+09</td>\n",
       "      <td>9458963.6</td>\n",
       "    </tr>\n",
       "    <tr>\n",
       "      <th>405</th>\n",
       "      <td>2021-10-10</td>\n",
       "      <td>2.170946e+09</td>\n",
       "      <td>7344774.8</td>\n",
       "    </tr>\n",
       "    <tr>\n",
       "      <th>406</th>\n",
       "      <td>2021-10-17</td>\n",
       "      <td>2.384931e+09</td>\n",
       "      <td>8675149.2</td>\n",
       "    </tr>\n",
       "    <tr>\n",
       "      <th>407</th>\n",
       "      <td>2021-10-24</td>\n",
       "      <td>3.934332e+09</td>\n",
       "      <td>8475146.3</td>\n",
       "    </tr>\n",
       "    <tr>\n",
       "      <th>408</th>\n",
       "      <td>2021-10-31</td>\n",
       "      <td>4.599514e+09</td>\n",
       "      <td>11262948.4</td>\n",
       "    </tr>\n",
       "  </tbody>\n",
       "</table>\n",
       "<p>409 rows × 3 columns</p>\n",
       "</div>"
      ],
      "text/plain": [
       "      SALEDATE       TOT_AMT     TOT_QTY\n",
       "0   2014-01-05  4.405974e+08   1449540.0\n",
       "1   2014-01-12  9.670760e+08   3884332.0\n",
       "2   2014-01-19  8.252389e+08   3484982.0\n",
       "3   2014-01-26  9.860628e+08   3904496.0\n",
       "4   2014-02-02  7.329970e+08   2881752.0\n",
       "..         ...           ...         ...\n",
       "404 2021-10-03  2.682000e+09   9458963.6\n",
       "405 2021-10-10  2.170946e+09   7344774.8\n",
       "406 2021-10-17  2.384931e+09   8675149.2\n",
       "407 2021-10-24  3.934332e+09   8475146.3\n",
       "408 2021-10-31  4.599514e+09  11262948.4\n",
       "\n",
       "[409 rows x 3 columns]"
      ]
     },
     "execution_count": 64,
     "metadata": {},
     "output_type": "execute_result"
    }
   ],
   "source": [
    "rad_week"
   ]
  },
  {
   "cell_type": "code",
   "execution_count": 65,
   "metadata": {},
   "outputs": [],
   "source": [
    "rad_week['PER_PRICE'] = rad_week['TOT_AMT']/rad_week['TOT_QTY']"
   ]
  },
  {
   "cell_type": "code",
   "execution_count": 66,
   "metadata": {},
   "outputs": [
    {
     "data": {
      "text/html": [
       "<div>\n",
       "<style scoped>\n",
       "    .dataframe tbody tr th:only-of-type {\n",
       "        vertical-align: middle;\n",
       "    }\n",
       "\n",
       "    .dataframe tbody tr th {\n",
       "        vertical-align: top;\n",
       "    }\n",
       "\n",
       "    .dataframe thead th {\n",
       "        text-align: right;\n",
       "    }\n",
       "</style>\n",
       "<table border=\"1\" class=\"dataframe\">\n",
       "  <thead>\n",
       "    <tr style=\"text-align: right;\">\n",
       "      <th></th>\n",
       "      <th>SALEDATE</th>\n",
       "      <th>TOT_AMT</th>\n",
       "      <th>TOT_QTY</th>\n",
       "      <th>PER_PRICE</th>\n",
       "    </tr>\n",
       "  </thead>\n",
       "  <tbody>\n",
       "    <tr>\n",
       "      <th>0</th>\n",
       "      <td>2014-01-05</td>\n",
       "      <td>4.405974e+08</td>\n",
       "      <td>1449540.0</td>\n",
       "      <td>303.956704</td>\n",
       "    </tr>\n",
       "    <tr>\n",
       "      <th>1</th>\n",
       "      <td>2014-01-12</td>\n",
       "      <td>9.670760e+08</td>\n",
       "      <td>3884332.0</td>\n",
       "      <td>248.968420</td>\n",
       "    </tr>\n",
       "    <tr>\n",
       "      <th>2</th>\n",
       "      <td>2014-01-19</td>\n",
       "      <td>8.252389e+08</td>\n",
       "      <td>3484982.0</td>\n",
       "      <td>236.798612</td>\n",
       "    </tr>\n",
       "    <tr>\n",
       "      <th>3</th>\n",
       "      <td>2014-01-26</td>\n",
       "      <td>9.860628e+08</td>\n",
       "      <td>3904496.0</td>\n",
       "      <td>252.545465</td>\n",
       "    </tr>\n",
       "    <tr>\n",
       "      <th>4</th>\n",
       "      <td>2014-02-02</td>\n",
       "      <td>7.329970e+08</td>\n",
       "      <td>2881752.0</td>\n",
       "      <td>254.358113</td>\n",
       "    </tr>\n",
       "    <tr>\n",
       "      <th>...</th>\n",
       "      <td>...</td>\n",
       "      <td>...</td>\n",
       "      <td>...</td>\n",
       "      <td>...</td>\n",
       "    </tr>\n",
       "    <tr>\n",
       "      <th>404</th>\n",
       "      <td>2021-10-03</td>\n",
       "      <td>2.682000e+09</td>\n",
       "      <td>9458963.6</td>\n",
       "      <td>283.540538</td>\n",
       "    </tr>\n",
       "    <tr>\n",
       "      <th>405</th>\n",
       "      <td>2021-10-10</td>\n",
       "      <td>2.170946e+09</td>\n",
       "      <td>7344774.8</td>\n",
       "      <td>295.576960</td>\n",
       "    </tr>\n",
       "    <tr>\n",
       "      <th>406</th>\n",
       "      <td>2021-10-17</td>\n",
       "      <td>2.384931e+09</td>\n",
       "      <td>8675149.2</td>\n",
       "      <td>274.915266</td>\n",
       "    </tr>\n",
       "    <tr>\n",
       "      <th>407</th>\n",
       "      <td>2021-10-24</td>\n",
       "      <td>3.934332e+09</td>\n",
       "      <td>8475146.3</td>\n",
       "      <td>464.219937</td>\n",
       "    </tr>\n",
       "    <tr>\n",
       "      <th>408</th>\n",
       "      <td>2021-10-31</td>\n",
       "      <td>4.599514e+09</td>\n",
       "      <td>11262948.4</td>\n",
       "      <td>408.375631</td>\n",
       "    </tr>\n",
       "  </tbody>\n",
       "</table>\n",
       "<p>409 rows × 4 columns</p>\n",
       "</div>"
      ],
      "text/plain": [
       "      SALEDATE       TOT_AMT     TOT_QTY   PER_PRICE\n",
       "0   2014-01-05  4.405974e+08   1449540.0  303.956704\n",
       "1   2014-01-12  9.670760e+08   3884332.0  248.968420\n",
       "2   2014-01-19  8.252389e+08   3484982.0  236.798612\n",
       "3   2014-01-26  9.860628e+08   3904496.0  252.545465\n",
       "4   2014-02-02  7.329970e+08   2881752.0  254.358113\n",
       "..         ...           ...         ...         ...\n",
       "404 2021-10-03  2.682000e+09   9458963.6  283.540538\n",
       "405 2021-10-10  2.170946e+09   7344774.8  295.576960\n",
       "406 2021-10-17  2.384931e+09   8675149.2  274.915266\n",
       "407 2021-10-24  3.934332e+09   8475146.3  464.219937\n",
       "408 2021-10-31  4.599514e+09  11262948.4  408.375631\n",
       "\n",
       "[409 rows x 4 columns]"
      ]
     },
     "execution_count": 66,
     "metadata": {},
     "output_type": "execute_result"
    }
   ],
   "source": [
    "rad_week"
   ]
  },
  {
   "cell_type": "code",
   "execution_count": 67,
   "metadata": {},
   "outputs": [],
   "source": [
    "rad_week.drop(['TOT_AMT'],axis=1,inplace=True)"
   ]
  },
  {
   "cell_type": "code",
   "execution_count": 68,
   "metadata": {},
   "outputs": [
    {
     "data": {
      "application/vnd.plotly.v1+json": {
       "config": {
        "plotlyServerURL": "https://plot.ly"
       },
       "data": [
        {
         "hovertemplate": "SALEDATE=%{x}<br>PER_PRICE=%{y}<extra></extra>",
         "legendgroup": "",
         "line": {
          "color": "#636efa",
          "dash": "solid"
         },
         "marker": {
          "symbol": "circle"
         },
         "mode": "lines",
         "name": "",
         "orientation": "v",
         "showlegend": false,
         "type": "scatter",
         "x": [
          "2014-01-05T00:00:00",
          "2014-01-12T00:00:00",
          "2014-01-19T00:00:00",
          "2014-01-26T00:00:00",
          "2014-02-02T00:00:00",
          "2014-02-09T00:00:00",
          "2014-02-16T00:00:00",
          "2014-02-23T00:00:00",
          "2014-03-02T00:00:00",
          "2014-03-09T00:00:00",
          "2014-03-16T00:00:00",
          "2014-03-23T00:00:00",
          "2014-03-30T00:00:00",
          "2014-04-06T00:00:00",
          "2014-04-13T00:00:00",
          "2014-04-20T00:00:00",
          "2014-04-27T00:00:00",
          "2014-05-04T00:00:00",
          "2014-05-11T00:00:00",
          "2014-05-18T00:00:00",
          "2014-05-25T00:00:00",
          "2014-06-01T00:00:00",
          "2014-06-08T00:00:00",
          "2014-06-15T00:00:00",
          "2014-06-22T00:00:00",
          "2014-06-29T00:00:00",
          "2014-07-06T00:00:00",
          "2014-07-13T00:00:00",
          "2014-07-20T00:00:00",
          "2014-07-27T00:00:00",
          "2014-08-03T00:00:00",
          "2014-08-10T00:00:00",
          "2014-08-17T00:00:00",
          "2014-08-24T00:00:00",
          "2014-08-31T00:00:00",
          "2014-09-07T00:00:00",
          "2014-09-14T00:00:00",
          "2014-09-21T00:00:00",
          "2014-09-28T00:00:00",
          "2014-10-05T00:00:00",
          "2014-10-12T00:00:00",
          "2014-10-19T00:00:00",
          "2014-10-26T00:00:00",
          "2014-11-02T00:00:00",
          "2014-11-09T00:00:00",
          "2014-11-16T00:00:00",
          "2014-11-23T00:00:00",
          "2014-11-30T00:00:00",
          "2014-12-07T00:00:00",
          "2014-12-14T00:00:00",
          "2014-12-21T00:00:00",
          "2014-12-28T00:00:00",
          "2015-01-04T00:00:00",
          "2015-01-11T00:00:00",
          "2015-01-18T00:00:00",
          "2015-01-25T00:00:00",
          "2015-02-01T00:00:00",
          "2015-02-08T00:00:00",
          "2015-02-15T00:00:00",
          "2015-02-22T00:00:00",
          "2015-03-01T00:00:00",
          "2015-03-08T00:00:00",
          "2015-03-15T00:00:00",
          "2015-03-22T00:00:00",
          "2015-03-29T00:00:00",
          "2015-04-05T00:00:00",
          "2015-04-12T00:00:00",
          "2015-04-19T00:00:00",
          "2015-04-26T00:00:00",
          "2015-05-03T00:00:00",
          "2015-05-10T00:00:00",
          "2015-05-17T00:00:00",
          "2015-05-24T00:00:00",
          "2015-05-31T00:00:00",
          "2015-06-07T00:00:00",
          "2015-06-14T00:00:00",
          "2015-06-21T00:00:00",
          "2015-06-28T00:00:00",
          "2015-07-05T00:00:00",
          "2015-07-12T00:00:00",
          "2015-07-19T00:00:00",
          "2015-07-26T00:00:00",
          "2015-08-02T00:00:00",
          "2015-08-09T00:00:00",
          "2015-08-16T00:00:00",
          "2015-08-23T00:00:00",
          "2015-08-30T00:00:00",
          "2015-09-06T00:00:00",
          "2015-09-13T00:00:00",
          "2015-09-20T00:00:00",
          "2015-09-27T00:00:00",
          "2015-10-04T00:00:00",
          "2015-10-11T00:00:00",
          "2015-10-18T00:00:00",
          "2015-10-25T00:00:00",
          "2015-11-01T00:00:00",
          "2015-11-08T00:00:00",
          "2015-11-15T00:00:00",
          "2015-11-22T00:00:00",
          "2015-11-29T00:00:00",
          "2015-12-06T00:00:00",
          "2015-12-13T00:00:00",
          "2015-12-20T00:00:00",
          "2015-12-27T00:00:00",
          "2016-01-03T00:00:00",
          "2016-01-10T00:00:00",
          "2016-01-17T00:00:00",
          "2016-01-24T00:00:00",
          "2016-01-31T00:00:00",
          "2016-02-07T00:00:00",
          "2016-02-14T00:00:00",
          "2016-02-21T00:00:00",
          "2016-02-28T00:00:00",
          "2016-03-06T00:00:00",
          "2016-03-13T00:00:00",
          "2016-03-20T00:00:00",
          "2016-03-27T00:00:00",
          "2016-04-03T00:00:00",
          "2016-04-10T00:00:00",
          "2016-04-17T00:00:00",
          "2016-04-24T00:00:00",
          "2016-05-01T00:00:00",
          "2016-05-08T00:00:00",
          "2016-05-15T00:00:00",
          "2016-05-22T00:00:00",
          "2016-05-29T00:00:00",
          "2016-06-05T00:00:00",
          "2016-06-12T00:00:00",
          "2016-06-19T00:00:00",
          "2016-06-26T00:00:00",
          "2016-07-03T00:00:00",
          "2016-07-10T00:00:00",
          "2016-07-17T00:00:00",
          "2016-07-24T00:00:00",
          "2016-07-31T00:00:00",
          "2016-08-07T00:00:00",
          "2016-08-14T00:00:00",
          "2016-08-21T00:00:00",
          "2016-08-28T00:00:00",
          "2016-09-04T00:00:00",
          "2016-09-11T00:00:00",
          "2016-09-18T00:00:00",
          "2016-09-25T00:00:00",
          "2016-10-02T00:00:00",
          "2016-10-09T00:00:00",
          "2016-10-16T00:00:00",
          "2016-10-23T00:00:00",
          "2016-10-30T00:00:00",
          "2016-11-06T00:00:00",
          "2016-11-13T00:00:00",
          "2016-11-20T00:00:00",
          "2016-11-27T00:00:00",
          "2016-12-04T00:00:00",
          "2016-12-11T00:00:00",
          "2016-12-18T00:00:00",
          "2016-12-25T00:00:00",
          "2017-01-01T00:00:00",
          "2017-01-08T00:00:00",
          "2017-01-15T00:00:00",
          "2017-01-22T00:00:00",
          "2017-01-29T00:00:00",
          "2017-02-05T00:00:00",
          "2017-02-12T00:00:00",
          "2017-02-19T00:00:00",
          "2017-02-26T00:00:00",
          "2017-03-05T00:00:00",
          "2017-03-12T00:00:00",
          "2017-03-19T00:00:00",
          "2017-03-26T00:00:00",
          "2017-04-02T00:00:00",
          "2017-04-09T00:00:00",
          "2017-04-16T00:00:00",
          "2017-04-23T00:00:00",
          "2017-04-30T00:00:00",
          "2017-05-07T00:00:00",
          "2017-05-14T00:00:00",
          "2017-05-21T00:00:00",
          "2017-05-28T00:00:00",
          "2017-06-04T00:00:00",
          "2017-06-11T00:00:00",
          "2017-06-18T00:00:00",
          "2017-06-25T00:00:00",
          "2017-07-02T00:00:00",
          "2017-07-09T00:00:00",
          "2017-07-16T00:00:00",
          "2017-07-23T00:00:00",
          "2017-07-30T00:00:00",
          "2017-08-06T00:00:00",
          "2017-08-13T00:00:00",
          "2017-08-20T00:00:00",
          "2017-08-27T00:00:00",
          "2017-09-03T00:00:00",
          "2017-09-10T00:00:00",
          "2017-09-17T00:00:00",
          "2017-09-24T00:00:00",
          "2017-10-01T00:00:00",
          "2017-10-08T00:00:00",
          "2017-10-15T00:00:00",
          "2017-10-22T00:00:00",
          "2017-10-29T00:00:00",
          "2017-11-05T00:00:00",
          "2017-11-12T00:00:00",
          "2017-11-19T00:00:00",
          "2017-11-26T00:00:00",
          "2017-12-03T00:00:00",
          "2017-12-10T00:00:00",
          "2017-12-17T00:00:00",
          "2017-12-24T00:00:00",
          "2017-12-31T00:00:00",
          "2018-01-07T00:00:00",
          "2018-01-14T00:00:00",
          "2018-01-21T00:00:00",
          "2018-01-28T00:00:00",
          "2018-02-04T00:00:00",
          "2018-02-11T00:00:00",
          "2018-02-18T00:00:00",
          "2018-02-25T00:00:00",
          "2018-03-04T00:00:00",
          "2018-03-11T00:00:00",
          "2018-03-18T00:00:00",
          "2018-03-25T00:00:00",
          "2018-04-01T00:00:00",
          "2018-04-08T00:00:00",
          "2018-04-15T00:00:00",
          "2018-04-22T00:00:00",
          "2018-04-29T00:00:00",
          "2018-05-06T00:00:00",
          "2018-05-13T00:00:00",
          "2018-05-20T00:00:00",
          "2018-05-27T00:00:00",
          "2018-06-03T00:00:00",
          "2018-06-10T00:00:00",
          "2018-06-17T00:00:00",
          "2018-06-24T00:00:00",
          "2018-07-01T00:00:00",
          "2018-07-08T00:00:00",
          "2018-07-15T00:00:00",
          "2018-07-22T00:00:00",
          "2018-07-29T00:00:00",
          "2018-08-05T00:00:00",
          "2018-08-12T00:00:00",
          "2018-08-19T00:00:00",
          "2018-08-26T00:00:00",
          "2018-09-02T00:00:00",
          "2018-09-09T00:00:00",
          "2018-09-16T00:00:00",
          "2018-09-23T00:00:00",
          "2018-09-30T00:00:00",
          "2018-10-07T00:00:00",
          "2018-10-14T00:00:00",
          "2018-10-21T00:00:00",
          "2018-10-28T00:00:00",
          "2018-11-04T00:00:00",
          "2018-11-11T00:00:00",
          "2018-11-18T00:00:00",
          "2018-11-25T00:00:00",
          "2018-12-02T00:00:00",
          "2018-12-09T00:00:00",
          "2018-12-16T00:00:00",
          "2018-12-23T00:00:00",
          "2018-12-30T00:00:00",
          "2019-01-06T00:00:00",
          "2019-01-13T00:00:00",
          "2019-01-20T00:00:00",
          "2019-01-27T00:00:00",
          "2019-02-03T00:00:00",
          "2019-02-10T00:00:00",
          "2019-02-17T00:00:00",
          "2019-02-24T00:00:00",
          "2019-03-03T00:00:00",
          "2019-03-10T00:00:00",
          "2019-03-17T00:00:00",
          "2019-03-24T00:00:00",
          "2019-03-31T00:00:00",
          "2019-04-07T00:00:00",
          "2019-04-14T00:00:00",
          "2019-04-21T00:00:00",
          "2019-04-28T00:00:00",
          "2019-05-05T00:00:00",
          "2019-05-12T00:00:00",
          "2019-05-19T00:00:00",
          "2019-05-26T00:00:00",
          "2019-06-02T00:00:00",
          "2019-06-09T00:00:00",
          "2019-06-16T00:00:00",
          "2019-06-23T00:00:00",
          "2019-06-30T00:00:00",
          "2019-07-07T00:00:00",
          "2019-07-14T00:00:00",
          "2019-07-21T00:00:00",
          "2019-07-28T00:00:00",
          "2019-08-04T00:00:00",
          "2019-08-11T00:00:00",
          "2019-08-18T00:00:00",
          "2019-08-25T00:00:00",
          "2019-09-01T00:00:00",
          "2019-09-08T00:00:00",
          "2019-09-15T00:00:00",
          "2019-09-22T00:00:00",
          "2019-09-29T00:00:00",
          "2019-10-06T00:00:00",
          "2019-10-13T00:00:00",
          "2019-10-20T00:00:00",
          "2019-10-27T00:00:00",
          "2019-11-03T00:00:00",
          "2019-11-10T00:00:00",
          "2019-11-17T00:00:00",
          "2019-11-24T00:00:00",
          "2019-12-01T00:00:00",
          "2019-12-08T00:00:00",
          "2019-12-15T00:00:00",
          "2019-12-22T00:00:00",
          "2019-12-29T00:00:00",
          "2020-01-05T00:00:00",
          "2020-01-12T00:00:00",
          "2020-01-19T00:00:00",
          "2020-01-26T00:00:00",
          "2020-02-02T00:00:00",
          "2020-02-09T00:00:00",
          "2020-02-16T00:00:00",
          "2020-02-23T00:00:00",
          "2020-03-01T00:00:00",
          "2020-03-08T00:00:00",
          "2020-03-15T00:00:00",
          "2020-03-22T00:00:00",
          "2020-03-29T00:00:00",
          "2020-04-05T00:00:00",
          "2020-04-12T00:00:00",
          "2020-04-19T00:00:00",
          "2020-04-26T00:00:00",
          "2020-05-03T00:00:00",
          "2020-05-10T00:00:00",
          "2020-05-17T00:00:00",
          "2020-05-24T00:00:00",
          "2020-05-31T00:00:00",
          "2020-06-07T00:00:00",
          "2020-06-14T00:00:00",
          "2020-06-21T00:00:00",
          "2020-06-28T00:00:00",
          "2020-07-05T00:00:00",
          "2020-07-12T00:00:00",
          "2020-07-19T00:00:00",
          "2020-07-26T00:00:00",
          "2020-08-02T00:00:00",
          "2020-08-09T00:00:00",
          "2020-08-16T00:00:00",
          "2020-08-23T00:00:00",
          "2020-08-30T00:00:00",
          "2020-09-06T00:00:00",
          "2020-09-13T00:00:00",
          "2020-09-20T00:00:00",
          "2020-09-27T00:00:00",
          "2020-10-04T00:00:00",
          "2020-10-11T00:00:00",
          "2020-10-18T00:00:00",
          "2020-10-25T00:00:00",
          "2020-11-01T00:00:00",
          "2020-11-08T00:00:00",
          "2020-11-15T00:00:00",
          "2020-11-22T00:00:00",
          "2020-11-29T00:00:00",
          "2020-12-06T00:00:00",
          "2020-12-13T00:00:00",
          "2020-12-20T00:00:00",
          "2020-12-27T00:00:00",
          "2021-01-03T00:00:00",
          "2021-01-10T00:00:00",
          "2021-01-17T00:00:00",
          "2021-01-24T00:00:00",
          "2021-01-31T00:00:00",
          "2021-02-07T00:00:00",
          "2021-02-14T00:00:00",
          "2021-02-21T00:00:00",
          "2021-02-28T00:00:00",
          "2021-03-07T00:00:00",
          "2021-03-14T00:00:00",
          "2021-03-21T00:00:00",
          "2021-03-28T00:00:00",
          "2021-04-04T00:00:00",
          "2021-04-11T00:00:00",
          "2021-04-18T00:00:00",
          "2021-04-25T00:00:00",
          "2021-05-02T00:00:00",
          "2021-05-09T00:00:00",
          "2021-05-16T00:00:00",
          "2021-05-23T00:00:00",
          "2021-05-30T00:00:00",
          "2021-06-06T00:00:00",
          "2021-06-13T00:00:00",
          "2021-06-20T00:00:00",
          "2021-06-27T00:00:00",
          "2021-07-04T00:00:00",
          "2021-07-11T00:00:00",
          "2021-07-18T00:00:00",
          "2021-07-25T00:00:00",
          "2021-08-01T00:00:00",
          "2021-08-08T00:00:00",
          "2021-08-15T00:00:00",
          "2021-08-22T00:00:00",
          "2021-08-29T00:00:00",
          "2021-09-05T00:00:00",
          "2021-09-12T00:00:00",
          "2021-09-19T00:00:00",
          "2021-09-26T00:00:00",
          "2021-10-03T00:00:00",
          "2021-10-10T00:00:00",
          "2021-10-17T00:00:00",
          "2021-10-24T00:00:00",
          "2021-10-31T00:00:00"
         ],
         "xaxis": "x",
         "y": [
          303.9567035059398,
          248.96841979521832,
          236.79861187231384,
          252.54546451065644,
          254.35811270366082,
          233.21429220193366,
          280.1147838800124,
          238.80884973697243,
          299.38065538891556,
          340.9760083133078,
          307.4692118327233,
          298.2421225217265,
          323.9599783837101,
          291.05439868270446,
          308.1506313877874,
          369.83842769502974,
          332.10591749130356,
          343.6174111260524,
          375.92101776938364,
          309.4647864877995,
          291.49466000499683,
          320.6473805129182,
          398.2846897358283,
          333.6063970350589,
          324.4436975262068,
          342.3537765735205,
          390.2131458505276,
          305.68877869134263,
          315.43308754985173,
          400.4401911888063,
          375.2260197269242,
          379.703215336241,
          299.71032200182356,
          311.27310248375056,
          308.7227157018018,
          407.9483003328199,
          426.7421437282171,
          373.6204052308922,
          538.6527706646929,
          388.85356053512436,
          351.92085929346825,
          393.54869190610134,
          415.4622877370752,
          324.8130877230875,
          353.0121495705406,
          424.7092182422582,
          448.96351411894125,
          445.0670743988138,
          507.21784063246133,
          424.32789623982353,
          338.73140324911066,
          391.48368973092033,
          390.6323048421572,
          394.82263796307444,
          337.9056726376458,
          350.0949982473296,
          348.31481758513985,
          392.8117615571725,
          458.9303300338431,
          446.5808680890673,
          416.2665974370318,
          359.9820562720339,
          388.8823629749935,
          408.12480760742784,
          384.9184238873258,
          405.72615515865215,
          407.33597748894545,
          353.99129573636685,
          381.09641290284287,
          381.6777053105674,
          443.3157725420141,
          437.28846577175767,
          419.8149006311429,
          610.2672710985158,
          593.8947199366678,
          560.1884776082584,
          595.9320635498725,
          607.8199794978811,
          751.8090430558962,
          899.7780147044108,
          716.1509630894772,
          665.8204297701603,
          536.1789832653635,
          512.2434813744263,
          566.7109961321091,
          477.64492937817204,
          498.14849871625404,
          360.7145839096004,
          335.9338198872737,
          295.496171909922,
          397.21000322982894,
          394.47394079704765,
          327.65067951438067,
          320.3992301532327,
          321.7470622374592,
          360.10277797294276,
          350.3221857028731,
          419.0735360796453,
          449.8748582152159,
          555.6454569304088,
          401.2274730675304,
          336.00929421772736,
          380.9281932441831,
          327.4797670345388,
          360.33869926760144,
          399.354735134714,
          313.27542364042847,
          425.51599201283454,
          656.1844476139938,
          645.9613494600083,
          363.4716732748027,
          432.7489619831265,
          448.19283239885226,
          624.0360194705282,
          640.623580259248,
          613.6173001276501,
          571.1904879984985,
          710.6366677145106,
          811.7709797560476,
          756.0543288409572,
          677.3107698472376,
          781.8432262860562,
          880.1606442097218,
          798.8282900968834,
          598.512226255007,
          461.54337652791196,
          398.48685607172445,
          367.86319731208255,
          356.56242929794706,
          446.13218718301835,
          405.53629524236203,
          440.0794755929506,
          343.65459372767515,
          426.1673692975412,
          432.00986887080086,
          446.0602711693601,
          482.87708543326784,
          635.4664663383608,
          757.7289702444365,
          1030.8671789251998,
          836.6258084658311,
          944.068054427337,
          816.5875726434645,
          946.2974989992094,
          1174.3209821832688,
          1040.8102509697771,
          1020.5901261036132,
          937.307944773725,
          629.142553635213,
          667.4854075429733,
          701.8994798418549,
          705.1242060775355,
          764.0944539682246,
          833.3020885351601,
          1072.4919047102924,
          1104.9279105898388,
          970.1543057723984,
          1026.290899887277,
          805.2148303380537,
          782.6510489522939,
          734.6704400106179,
          867.2517964477845,
          762.3248734521827,
          716.7046832587606,
          654.792704667187,
          755.4450030461246,
          617.7986832035391,
          612.581650196536,
          678.3507600565425,
          712.2924607267166,
          608.4854982079524,
          566.4224792593839,
          495.8334501091766,
          556.8669216733,
          647.915936533467,
          677.9622043417916,
          486.66188073511466,
          485.88903783307495,
          487.7763091745935,
          498.9988267931414,
          370.46534621855176,
          389.2891975843217,
          386.92354683377306,
          369.832335142063,
          385.35525143511444,
          482.6495367590525,
          667.0513905985828,
          628.5708931093271,
          732.9187671493986,
          740.1821930232925,
          720.0846907233159,
          705.2907216476284,
          758.8297225988123,
          686.7953909432729,
          544.7450205343783,
          484.4778369634893,
          649.5959746355327,
          428.61293681162897,
          299.16734166773875,
          299.9441550759776,
          334.510333321881,
          338.20122836743553,
          355.1675622567946,
          366.27001799589203,
          302.40891934513786,
          358.6506334248107,
          347.20381437567937,
          361.3161044359178,
          339.3189697607706,
          403.44224278443704,
          359.237703981411,
          378.40650530718966,
          344.9570047288976,
          545.2356269990413,
          729.8089910779381,
          562.9286317164396,
          582.5809968568298,
          754.5733305424337,
          711.4449342525463,
          589.4541059969912,
          804.1828426164242,
          720.5894207758333,
          640.6035463136411,
          736.976103706448,
          879.5821123334306,
          957.3815903943168,
          1074.1633725782776,
          978.2204405480212,
          958.9905225681797,
          563.4375698198905,
          565.8596720220129,
          577.6023615383076,
          477.16271982386314,
          441.83406474630823,
          530.6271694424807,
          453.80502533047076,
          486.9048109858012,
          601.46275202804,
          775.6155094539588,
          846.8559509410543,
          966.3222177882705,
          812.5252305085069,
          1084.3510073915181,
          960.1644858421563,
          917.0538856135826,
          919.316737735915,
          910.1664847626976,
          863.0805095799641,
          646.0436870230133,
          589.7286140347744,
          515.5608658975021,
          373.66301160183065,
          366.6149697182818,
          383.6878265835909,
          402.0972473618863,
          339.3942822076393,
          296.8884097367021,
          322.9009866265239,
          350.9703552096431,
          302.851264741552,
          292.98270239812484,
          355.6550141537698,
          282.9157619339812,
          274.4886570831607,
          308.46568451321116,
          306.95029077308726,
          306.6834975117264,
          344.145874577939,
          318.2433891771929,
          324.2709813871471,
          310.4285090298881,
          295.5973262660483,
          254.17670648288194,
          264.67517994246896,
          279.02891508321403,
          298.1403740720185,
          296.42842833207527,
          330.17071673676975,
          416.8133062211071,
          389.6235451852252,
          370.8545494821753,
          315.74960835747953,
          317.3530140649417,
          374.2274073237541,
          375.13927177215413,
          376.4508929820724,
          375.29016687881915,
          315.9707156873818,
          403.1744638403873,
          332.74022677853435,
          247.2425875624799,
          240.91369781620992,
          283.5853854701954,
          312.1881020070375,
          339.4540262667824,
          388.11567608859764,
          510.08160318080104,
          456.6814205005318,
          424.00428275773123,
          482.8463047651409,
          807.5557560297142,
          756.0592521269363,
          846.9178575357408,
          861.2013210828658,
          795.122637795933,
          750.2398914251047,
          753.7825044773881,
          799.8710068362847,
          715.7183365890878,
          810.3711839111427,
          999.749266294889,
          1037.877172847346,
          985.5687776154433,
          1123.2273331187157,
          972.7256636521798,
          771.589371695161,
          636.7587702835302,
          517.5561867032425,
          423.1166246563235,
          465.4980399265103,
          441.99137362087214,
          365.4807677169432,
          427.2157855814555,
          363.3696960377607,
          346.1929295768479,
          441.8882632264861,
          374.5696241964731,
          341.16465310793916,
          410.82377068228885,
          406.06476417972544,
          406.23288295842417,
          397.2595832615154,
          338.27872458753933,
          325.8125388313157,
          322.33120946633625,
          399.22877728235903,
          471.73988675100867,
          469.33107290678953,
          538.6458532783105,
          495.84778277235904,
          438.7594425250605,
          479.3625339442753,
          413.9779725385853,
          433.25752027474164,
          502.3590393889645,
          528.2366792498001,
          569.052188050277,
          1021.5718095439736,
          910.4666005687551,
          890.4758596930315,
          921.3722303132378,
          963.9532961596834,
          1136.4446720614485,
          891.9259805866786,
          627.7210774471226,
          540.9156819153278,
          449.32091232329293,
          478.9021764220692,
          466.5693040519606,
          487.38603648807043,
          452.50156766362306,
          356.6423424697786,
          376.4801541117103,
          424.3697135683806,
          498.4327232749422,
          494.609996510865,
          586.8714952923754,
          608.3376654301659,
          495.7444172035581,
          407.9434336747099,
          395.76684816494935,
          333.12693009779775,
          339.3838087362066,
          317.8693564803821,
          324.49109800784566,
          278.63218856601094,
          328.69928237989285,
          275.87562602387203,
          289.65796582721913,
          314.5958335439142,
          338.26140652726025,
          323.69808416694264,
          396.4771904170876,
          362.32229121309325,
          353.72731632450126,
          299.64496053039716,
          322.17117541266026,
          341.0345645831519,
          398.0998190448241,
          361.8497898347172,
          370.3043358566918,
          440.94789088633416,
          559.6411885908902,
          324.7004786187857,
          367.4684085981375,
          476.63668144650717,
          533.6453595370886,
          455.6121282685036,
          424.8410845375007,
          400.80996864249846,
          382.55609339640273,
          375.6514174543778,
          402.75294999188714,
          392.9943591149243,
          283.5405378872586,
          295.57696037188225,
          274.9152664717283,
          464.21993730066936,
          408.3756309315952
         ],
         "yaxis": "y"
        }
       ],
       "layout": {
        "legend": {
         "tracegroupgap": 0
        },
        "margin": {
         "t": 60
        },
        "template": {
         "data": {
          "bar": [
           {
            "error_x": {
             "color": "#2a3f5f"
            },
            "error_y": {
             "color": "#2a3f5f"
            },
            "marker": {
             "line": {
              "color": "#E5ECF6",
              "width": 0.5
             },
             "pattern": {
              "fillmode": "overlay",
              "size": 10,
              "solidity": 0.2
             }
            },
            "type": "bar"
           }
          ],
          "barpolar": [
           {
            "marker": {
             "line": {
              "color": "#E5ECF6",
              "width": 0.5
             },
             "pattern": {
              "fillmode": "overlay",
              "size": 10,
              "solidity": 0.2
             }
            },
            "type": "barpolar"
           }
          ],
          "carpet": [
           {
            "aaxis": {
             "endlinecolor": "#2a3f5f",
             "gridcolor": "white",
             "linecolor": "white",
             "minorgridcolor": "white",
             "startlinecolor": "#2a3f5f"
            },
            "baxis": {
             "endlinecolor": "#2a3f5f",
             "gridcolor": "white",
             "linecolor": "white",
             "minorgridcolor": "white",
             "startlinecolor": "#2a3f5f"
            },
            "type": "carpet"
           }
          ],
          "choropleth": [
           {
            "colorbar": {
             "outlinewidth": 0,
             "ticks": ""
            },
            "type": "choropleth"
           }
          ],
          "contour": [
           {
            "colorbar": {
             "outlinewidth": 0,
             "ticks": ""
            },
            "colorscale": [
             [
              0,
              "#0d0887"
             ],
             [
              0.1111111111111111,
              "#46039f"
             ],
             [
              0.2222222222222222,
              "#7201a8"
             ],
             [
              0.3333333333333333,
              "#9c179e"
             ],
             [
              0.4444444444444444,
              "#bd3786"
             ],
             [
              0.5555555555555556,
              "#d8576b"
             ],
             [
              0.6666666666666666,
              "#ed7953"
             ],
             [
              0.7777777777777778,
              "#fb9f3a"
             ],
             [
              0.8888888888888888,
              "#fdca26"
             ],
             [
              1,
              "#f0f921"
             ]
            ],
            "type": "contour"
           }
          ],
          "contourcarpet": [
           {
            "colorbar": {
             "outlinewidth": 0,
             "ticks": ""
            },
            "type": "contourcarpet"
           }
          ],
          "heatmap": [
           {
            "colorbar": {
             "outlinewidth": 0,
             "ticks": ""
            },
            "colorscale": [
             [
              0,
              "#0d0887"
             ],
             [
              0.1111111111111111,
              "#46039f"
             ],
             [
              0.2222222222222222,
              "#7201a8"
             ],
             [
              0.3333333333333333,
              "#9c179e"
             ],
             [
              0.4444444444444444,
              "#bd3786"
             ],
             [
              0.5555555555555556,
              "#d8576b"
             ],
             [
              0.6666666666666666,
              "#ed7953"
             ],
             [
              0.7777777777777778,
              "#fb9f3a"
             ],
             [
              0.8888888888888888,
              "#fdca26"
             ],
             [
              1,
              "#f0f921"
             ]
            ],
            "type": "heatmap"
           }
          ],
          "heatmapgl": [
           {
            "colorbar": {
             "outlinewidth": 0,
             "ticks": ""
            },
            "colorscale": [
             [
              0,
              "#0d0887"
             ],
             [
              0.1111111111111111,
              "#46039f"
             ],
             [
              0.2222222222222222,
              "#7201a8"
             ],
             [
              0.3333333333333333,
              "#9c179e"
             ],
             [
              0.4444444444444444,
              "#bd3786"
             ],
             [
              0.5555555555555556,
              "#d8576b"
             ],
             [
              0.6666666666666666,
              "#ed7953"
             ],
             [
              0.7777777777777778,
              "#fb9f3a"
             ],
             [
              0.8888888888888888,
              "#fdca26"
             ],
             [
              1,
              "#f0f921"
             ]
            ],
            "type": "heatmapgl"
           }
          ],
          "histogram": [
           {
            "marker": {
             "pattern": {
              "fillmode": "overlay",
              "size": 10,
              "solidity": 0.2
             }
            },
            "type": "histogram"
           }
          ],
          "histogram2d": [
           {
            "colorbar": {
             "outlinewidth": 0,
             "ticks": ""
            },
            "colorscale": [
             [
              0,
              "#0d0887"
             ],
             [
              0.1111111111111111,
              "#46039f"
             ],
             [
              0.2222222222222222,
              "#7201a8"
             ],
             [
              0.3333333333333333,
              "#9c179e"
             ],
             [
              0.4444444444444444,
              "#bd3786"
             ],
             [
              0.5555555555555556,
              "#d8576b"
             ],
             [
              0.6666666666666666,
              "#ed7953"
             ],
             [
              0.7777777777777778,
              "#fb9f3a"
             ],
             [
              0.8888888888888888,
              "#fdca26"
             ],
             [
              1,
              "#f0f921"
             ]
            ],
            "type": "histogram2d"
           }
          ],
          "histogram2dcontour": [
           {
            "colorbar": {
             "outlinewidth": 0,
             "ticks": ""
            },
            "colorscale": [
             [
              0,
              "#0d0887"
             ],
             [
              0.1111111111111111,
              "#46039f"
             ],
             [
              0.2222222222222222,
              "#7201a8"
             ],
             [
              0.3333333333333333,
              "#9c179e"
             ],
             [
              0.4444444444444444,
              "#bd3786"
             ],
             [
              0.5555555555555556,
              "#d8576b"
             ],
             [
              0.6666666666666666,
              "#ed7953"
             ],
             [
              0.7777777777777778,
              "#fb9f3a"
             ],
             [
              0.8888888888888888,
              "#fdca26"
             ],
             [
              1,
              "#f0f921"
             ]
            ],
            "type": "histogram2dcontour"
           }
          ],
          "mesh3d": [
           {
            "colorbar": {
             "outlinewidth": 0,
             "ticks": ""
            },
            "type": "mesh3d"
           }
          ],
          "parcoords": [
           {
            "line": {
             "colorbar": {
              "outlinewidth": 0,
              "ticks": ""
             }
            },
            "type": "parcoords"
           }
          ],
          "pie": [
           {
            "automargin": true,
            "type": "pie"
           }
          ],
          "scatter": [
           {
            "marker": {
             "colorbar": {
              "outlinewidth": 0,
              "ticks": ""
             }
            },
            "type": "scatter"
           }
          ],
          "scatter3d": [
           {
            "line": {
             "colorbar": {
              "outlinewidth": 0,
              "ticks": ""
             }
            },
            "marker": {
             "colorbar": {
              "outlinewidth": 0,
              "ticks": ""
             }
            },
            "type": "scatter3d"
           }
          ],
          "scattercarpet": [
           {
            "marker": {
             "colorbar": {
              "outlinewidth": 0,
              "ticks": ""
             }
            },
            "type": "scattercarpet"
           }
          ],
          "scattergeo": [
           {
            "marker": {
             "colorbar": {
              "outlinewidth": 0,
              "ticks": ""
             }
            },
            "type": "scattergeo"
           }
          ],
          "scattergl": [
           {
            "marker": {
             "colorbar": {
              "outlinewidth": 0,
              "ticks": ""
             }
            },
            "type": "scattergl"
           }
          ],
          "scattermapbox": [
           {
            "marker": {
             "colorbar": {
              "outlinewidth": 0,
              "ticks": ""
             }
            },
            "type": "scattermapbox"
           }
          ],
          "scatterpolar": [
           {
            "marker": {
             "colorbar": {
              "outlinewidth": 0,
              "ticks": ""
             }
            },
            "type": "scatterpolar"
           }
          ],
          "scatterpolargl": [
           {
            "marker": {
             "colorbar": {
              "outlinewidth": 0,
              "ticks": ""
             }
            },
            "type": "scatterpolargl"
           }
          ],
          "scatterternary": [
           {
            "marker": {
             "colorbar": {
              "outlinewidth": 0,
              "ticks": ""
             }
            },
            "type": "scatterternary"
           }
          ],
          "surface": [
           {
            "colorbar": {
             "outlinewidth": 0,
             "ticks": ""
            },
            "colorscale": [
             [
              0,
              "#0d0887"
             ],
             [
              0.1111111111111111,
              "#46039f"
             ],
             [
              0.2222222222222222,
              "#7201a8"
             ],
             [
              0.3333333333333333,
              "#9c179e"
             ],
             [
              0.4444444444444444,
              "#bd3786"
             ],
             [
              0.5555555555555556,
              "#d8576b"
             ],
             [
              0.6666666666666666,
              "#ed7953"
             ],
             [
              0.7777777777777778,
              "#fb9f3a"
             ],
             [
              0.8888888888888888,
              "#fdca26"
             ],
             [
              1,
              "#f0f921"
             ]
            ],
            "type": "surface"
           }
          ],
          "table": [
           {
            "cells": {
             "fill": {
              "color": "#EBF0F8"
             },
             "line": {
              "color": "white"
             }
            },
            "header": {
             "fill": {
              "color": "#C8D4E3"
             },
             "line": {
              "color": "white"
             }
            },
            "type": "table"
           }
          ]
         },
         "layout": {
          "annotationdefaults": {
           "arrowcolor": "#2a3f5f",
           "arrowhead": 0,
           "arrowwidth": 1
          },
          "autotypenumbers": "strict",
          "coloraxis": {
           "colorbar": {
            "outlinewidth": 0,
            "ticks": ""
           }
          },
          "colorscale": {
           "diverging": [
            [
             0,
             "#8e0152"
            ],
            [
             0.1,
             "#c51b7d"
            ],
            [
             0.2,
             "#de77ae"
            ],
            [
             0.3,
             "#f1b6da"
            ],
            [
             0.4,
             "#fde0ef"
            ],
            [
             0.5,
             "#f7f7f7"
            ],
            [
             0.6,
             "#e6f5d0"
            ],
            [
             0.7,
             "#b8e186"
            ],
            [
             0.8,
             "#7fbc41"
            ],
            [
             0.9,
             "#4d9221"
            ],
            [
             1,
             "#276419"
            ]
           ],
           "sequential": [
            [
             0,
             "#0d0887"
            ],
            [
             0.1111111111111111,
             "#46039f"
            ],
            [
             0.2222222222222222,
             "#7201a8"
            ],
            [
             0.3333333333333333,
             "#9c179e"
            ],
            [
             0.4444444444444444,
             "#bd3786"
            ],
            [
             0.5555555555555556,
             "#d8576b"
            ],
            [
             0.6666666666666666,
             "#ed7953"
            ],
            [
             0.7777777777777778,
             "#fb9f3a"
            ],
            [
             0.8888888888888888,
             "#fdca26"
            ],
            [
             1,
             "#f0f921"
            ]
           ],
           "sequentialminus": [
            [
             0,
             "#0d0887"
            ],
            [
             0.1111111111111111,
             "#46039f"
            ],
            [
             0.2222222222222222,
             "#7201a8"
            ],
            [
             0.3333333333333333,
             "#9c179e"
            ],
            [
             0.4444444444444444,
             "#bd3786"
            ],
            [
             0.5555555555555556,
             "#d8576b"
            ],
            [
             0.6666666666666666,
             "#ed7953"
            ],
            [
             0.7777777777777778,
             "#fb9f3a"
            ],
            [
             0.8888888888888888,
             "#fdca26"
            ],
            [
             1,
             "#f0f921"
            ]
           ]
          },
          "colorway": [
           "#636efa",
           "#EF553B",
           "#00cc96",
           "#ab63fa",
           "#FFA15A",
           "#19d3f3",
           "#FF6692",
           "#B6E880",
           "#FF97FF",
           "#FECB52"
          ],
          "font": {
           "color": "#2a3f5f"
          },
          "geo": {
           "bgcolor": "white",
           "lakecolor": "white",
           "landcolor": "#E5ECF6",
           "showlakes": true,
           "showland": true,
           "subunitcolor": "white"
          },
          "hoverlabel": {
           "align": "left"
          },
          "hovermode": "closest",
          "mapbox": {
           "style": "light"
          },
          "paper_bgcolor": "white",
          "plot_bgcolor": "#E5ECF6",
          "polar": {
           "angularaxis": {
            "gridcolor": "white",
            "linecolor": "white",
            "ticks": ""
           },
           "bgcolor": "#E5ECF6",
           "radialaxis": {
            "gridcolor": "white",
            "linecolor": "white",
            "ticks": ""
           }
          },
          "scene": {
           "xaxis": {
            "backgroundcolor": "#E5ECF6",
            "gridcolor": "white",
            "gridwidth": 2,
            "linecolor": "white",
            "showbackground": true,
            "ticks": "",
            "zerolinecolor": "white"
           },
           "yaxis": {
            "backgroundcolor": "#E5ECF6",
            "gridcolor": "white",
            "gridwidth": 2,
            "linecolor": "white",
            "showbackground": true,
            "ticks": "",
            "zerolinecolor": "white"
           },
           "zaxis": {
            "backgroundcolor": "#E5ECF6",
            "gridcolor": "white",
            "gridwidth": 2,
            "linecolor": "white",
            "showbackground": true,
            "ticks": "",
            "zerolinecolor": "white"
           }
          },
          "shapedefaults": {
           "line": {
            "color": "#2a3f5f"
           }
          },
          "ternary": {
           "aaxis": {
            "gridcolor": "white",
            "linecolor": "white",
            "ticks": ""
           },
           "baxis": {
            "gridcolor": "white",
            "linecolor": "white",
            "ticks": ""
           },
           "bgcolor": "#E5ECF6",
           "caxis": {
            "gridcolor": "white",
            "linecolor": "white",
            "ticks": ""
           }
          },
          "title": {
           "x": 0.05
          },
          "xaxis": {
           "automargin": true,
           "gridcolor": "white",
           "linecolor": "white",
           "ticks": "",
           "title": {
            "standoff": 15
           },
           "zerolinecolor": "white",
           "zerolinewidth": 2
          },
          "yaxis": {
           "automargin": true,
           "gridcolor": "white",
           "linecolor": "white",
           "ticks": "",
           "title": {
            "standoff": 15
           },
           "zerolinecolor": "white",
           "zerolinewidth": 2
          }
         }
        },
        "xaxis": {
         "anchor": "y",
         "domain": [
          0,
          1
         ],
         "title": {
          "text": "SALEDATE"
         }
        },
        "yaxis": {
         "anchor": "x",
         "domain": [
          0,
          1
         ],
         "title": {
          "text": "PER_PRICE"
         }
        }
       }
      },
      "text/html": [
       "<div>                            <div id=\"2ee88104-b8c1-469b-9f0e-3202d3f9ddd7\" class=\"plotly-graph-div\" style=\"height:525px; width:100%;\"></div>            <script type=\"text/javascript\">                require([\"plotly\"], function(Plotly) {                    window.PLOTLYENV=window.PLOTLYENV || {};                                    if (document.getElementById(\"2ee88104-b8c1-469b-9f0e-3202d3f9ddd7\")) {                    Plotly.newPlot(                        \"2ee88104-b8c1-469b-9f0e-3202d3f9ddd7\",                        [{\"hovertemplate\":\"SALEDATE=%{x}<br>PER_PRICE=%{y}<extra></extra>\",\"legendgroup\":\"\",\"line\":{\"color\":\"#636efa\",\"dash\":\"solid\"},\"marker\":{\"symbol\":\"circle\"},\"mode\":\"lines\",\"name\":\"\",\"orientation\":\"v\",\"showlegend\":false,\"type\":\"scatter\",\"x\":[\"2014-01-05T00:00:00\",\"2014-01-12T00:00:00\",\"2014-01-19T00:00:00\",\"2014-01-26T00:00:00\",\"2014-02-02T00:00:00\",\"2014-02-09T00:00:00\",\"2014-02-16T00:00:00\",\"2014-02-23T00:00:00\",\"2014-03-02T00:00:00\",\"2014-03-09T00:00:00\",\"2014-03-16T00:00:00\",\"2014-03-23T00:00:00\",\"2014-03-30T00:00:00\",\"2014-04-06T00:00:00\",\"2014-04-13T00:00:00\",\"2014-04-20T00:00:00\",\"2014-04-27T00:00:00\",\"2014-05-04T00:00:00\",\"2014-05-11T00:00:00\",\"2014-05-18T00:00:00\",\"2014-05-25T00:00:00\",\"2014-06-01T00:00:00\",\"2014-06-08T00:00:00\",\"2014-06-15T00:00:00\",\"2014-06-22T00:00:00\",\"2014-06-29T00:00:00\",\"2014-07-06T00:00:00\",\"2014-07-13T00:00:00\",\"2014-07-20T00:00:00\",\"2014-07-27T00:00:00\",\"2014-08-03T00:00:00\",\"2014-08-10T00:00:00\",\"2014-08-17T00:00:00\",\"2014-08-24T00:00:00\",\"2014-08-31T00:00:00\",\"2014-09-07T00:00:00\",\"2014-09-14T00:00:00\",\"2014-09-21T00:00:00\",\"2014-09-28T00:00:00\",\"2014-10-05T00:00:00\",\"2014-10-12T00:00:00\",\"2014-10-19T00:00:00\",\"2014-10-26T00:00:00\",\"2014-11-02T00:00:00\",\"2014-11-09T00:00:00\",\"2014-11-16T00:00:00\",\"2014-11-23T00:00:00\",\"2014-11-30T00:00:00\",\"2014-12-07T00:00:00\",\"2014-12-14T00:00:00\",\"2014-12-21T00:00:00\",\"2014-12-28T00:00:00\",\"2015-01-04T00:00:00\",\"2015-01-11T00:00:00\",\"2015-01-18T00:00:00\",\"2015-01-25T00:00:00\",\"2015-02-01T00:00:00\",\"2015-02-08T00:00:00\",\"2015-02-15T00:00:00\",\"2015-02-22T00:00:00\",\"2015-03-01T00:00:00\",\"2015-03-08T00:00:00\",\"2015-03-15T00:00:00\",\"2015-03-22T00:00:00\",\"2015-03-29T00:00:00\",\"2015-04-05T00:00:00\",\"2015-04-12T00:00:00\",\"2015-04-19T00:00:00\",\"2015-04-26T00:00:00\",\"2015-05-03T00:00:00\",\"2015-05-10T00:00:00\",\"2015-05-17T00:00:00\",\"2015-05-24T00:00:00\",\"2015-05-31T00:00:00\",\"2015-06-07T00:00:00\",\"2015-06-14T00:00:00\",\"2015-06-21T00:00:00\",\"2015-06-28T00:00:00\",\"2015-07-05T00:00:00\",\"2015-07-12T00:00:00\",\"2015-07-19T00:00:00\",\"2015-07-26T00:00:00\",\"2015-08-02T00:00:00\",\"2015-08-09T00:00:00\",\"2015-08-16T00:00:00\",\"2015-08-23T00:00:00\",\"2015-08-30T00:00:00\",\"2015-09-06T00:00:00\",\"2015-09-13T00:00:00\",\"2015-09-20T00:00:00\",\"2015-09-27T00:00:00\",\"2015-10-04T00:00:00\",\"2015-10-11T00:00:00\",\"2015-10-18T00:00:00\",\"2015-10-25T00:00:00\",\"2015-11-01T00:00:00\",\"2015-11-08T00:00:00\",\"2015-11-15T00:00:00\",\"2015-11-22T00:00:00\",\"2015-11-29T00:00:00\",\"2015-12-06T00:00:00\",\"2015-12-13T00:00:00\",\"2015-12-20T00:00:00\",\"2015-12-27T00:00:00\",\"2016-01-03T00:00:00\",\"2016-01-10T00:00:00\",\"2016-01-17T00:00:00\",\"2016-01-24T00:00:00\",\"2016-01-31T00:00:00\",\"2016-02-07T00:00:00\",\"2016-02-14T00:00:00\",\"2016-02-21T00:00:00\",\"2016-02-28T00:00:00\",\"2016-03-06T00:00:00\",\"2016-03-13T00:00:00\",\"2016-03-20T00:00:00\",\"2016-03-27T00:00:00\",\"2016-04-03T00:00:00\",\"2016-04-10T00:00:00\",\"2016-04-17T00:00:00\",\"2016-04-24T00:00:00\",\"2016-05-01T00:00:00\",\"2016-05-08T00:00:00\",\"2016-05-15T00:00:00\",\"2016-05-22T00:00:00\",\"2016-05-29T00:00:00\",\"2016-06-05T00:00:00\",\"2016-06-12T00:00:00\",\"2016-06-19T00:00:00\",\"2016-06-26T00:00:00\",\"2016-07-03T00:00:00\",\"2016-07-10T00:00:00\",\"2016-07-17T00:00:00\",\"2016-07-24T00:00:00\",\"2016-07-31T00:00:00\",\"2016-08-07T00:00:00\",\"2016-08-14T00:00:00\",\"2016-08-21T00:00:00\",\"2016-08-28T00:00:00\",\"2016-09-04T00:00:00\",\"2016-09-11T00:00:00\",\"2016-09-18T00:00:00\",\"2016-09-25T00:00:00\",\"2016-10-02T00:00:00\",\"2016-10-09T00:00:00\",\"2016-10-16T00:00:00\",\"2016-10-23T00:00:00\",\"2016-10-30T00:00:00\",\"2016-11-06T00:00:00\",\"2016-11-13T00:00:00\",\"2016-11-20T00:00:00\",\"2016-11-27T00:00:00\",\"2016-12-04T00:00:00\",\"2016-12-11T00:00:00\",\"2016-12-18T00:00:00\",\"2016-12-25T00:00:00\",\"2017-01-01T00:00:00\",\"2017-01-08T00:00:00\",\"2017-01-15T00:00:00\",\"2017-01-22T00:00:00\",\"2017-01-29T00:00:00\",\"2017-02-05T00:00:00\",\"2017-02-12T00:00:00\",\"2017-02-19T00:00:00\",\"2017-02-26T00:00:00\",\"2017-03-05T00:00:00\",\"2017-03-12T00:00:00\",\"2017-03-19T00:00:00\",\"2017-03-26T00:00:00\",\"2017-04-02T00:00:00\",\"2017-04-09T00:00:00\",\"2017-04-16T00:00:00\",\"2017-04-23T00:00:00\",\"2017-04-30T00:00:00\",\"2017-05-07T00:00:00\",\"2017-05-14T00:00:00\",\"2017-05-21T00:00:00\",\"2017-05-28T00:00:00\",\"2017-06-04T00:00:00\",\"2017-06-11T00:00:00\",\"2017-06-18T00:00:00\",\"2017-06-25T00:00:00\",\"2017-07-02T00:00:00\",\"2017-07-09T00:00:00\",\"2017-07-16T00:00:00\",\"2017-07-23T00:00:00\",\"2017-07-30T00:00:00\",\"2017-08-06T00:00:00\",\"2017-08-13T00:00:00\",\"2017-08-20T00:00:00\",\"2017-08-27T00:00:00\",\"2017-09-03T00:00:00\",\"2017-09-10T00:00:00\",\"2017-09-17T00:00:00\",\"2017-09-24T00:00:00\",\"2017-10-01T00:00:00\",\"2017-10-08T00:00:00\",\"2017-10-15T00:00:00\",\"2017-10-22T00:00:00\",\"2017-10-29T00:00:00\",\"2017-11-05T00:00:00\",\"2017-11-12T00:00:00\",\"2017-11-19T00:00:00\",\"2017-11-26T00:00:00\",\"2017-12-03T00:00:00\",\"2017-12-10T00:00:00\",\"2017-12-17T00:00:00\",\"2017-12-24T00:00:00\",\"2017-12-31T00:00:00\",\"2018-01-07T00:00:00\",\"2018-01-14T00:00:00\",\"2018-01-21T00:00:00\",\"2018-01-28T00:00:00\",\"2018-02-04T00:00:00\",\"2018-02-11T00:00:00\",\"2018-02-18T00:00:00\",\"2018-02-25T00:00:00\",\"2018-03-04T00:00:00\",\"2018-03-11T00:00:00\",\"2018-03-18T00:00:00\",\"2018-03-25T00:00:00\",\"2018-04-01T00:00:00\",\"2018-04-08T00:00:00\",\"2018-04-15T00:00:00\",\"2018-04-22T00:00:00\",\"2018-04-29T00:00:00\",\"2018-05-06T00:00:00\",\"2018-05-13T00:00:00\",\"2018-05-20T00:00:00\",\"2018-05-27T00:00:00\",\"2018-06-03T00:00:00\",\"2018-06-10T00:00:00\",\"2018-06-17T00:00:00\",\"2018-06-24T00:00:00\",\"2018-07-01T00:00:00\",\"2018-07-08T00:00:00\",\"2018-07-15T00:00:00\",\"2018-07-22T00:00:00\",\"2018-07-29T00:00:00\",\"2018-08-05T00:00:00\",\"2018-08-12T00:00:00\",\"2018-08-19T00:00:00\",\"2018-08-26T00:00:00\",\"2018-09-02T00:00:00\",\"2018-09-09T00:00:00\",\"2018-09-16T00:00:00\",\"2018-09-23T00:00:00\",\"2018-09-30T00:00:00\",\"2018-10-07T00:00:00\",\"2018-10-14T00:00:00\",\"2018-10-21T00:00:00\",\"2018-10-28T00:00:00\",\"2018-11-04T00:00:00\",\"2018-11-11T00:00:00\",\"2018-11-18T00:00:00\",\"2018-11-25T00:00:00\",\"2018-12-02T00:00:00\",\"2018-12-09T00:00:00\",\"2018-12-16T00:00:00\",\"2018-12-23T00:00:00\",\"2018-12-30T00:00:00\",\"2019-01-06T00:00:00\",\"2019-01-13T00:00:00\",\"2019-01-20T00:00:00\",\"2019-01-27T00:00:00\",\"2019-02-03T00:00:00\",\"2019-02-10T00:00:00\",\"2019-02-17T00:00:00\",\"2019-02-24T00:00:00\",\"2019-03-03T00:00:00\",\"2019-03-10T00:00:00\",\"2019-03-17T00:00:00\",\"2019-03-24T00:00:00\",\"2019-03-31T00:00:00\",\"2019-04-07T00:00:00\",\"2019-04-14T00:00:00\",\"2019-04-21T00:00:00\",\"2019-04-28T00:00:00\",\"2019-05-05T00:00:00\",\"2019-05-12T00:00:00\",\"2019-05-19T00:00:00\",\"2019-05-26T00:00:00\",\"2019-06-02T00:00:00\",\"2019-06-09T00:00:00\",\"2019-06-16T00:00:00\",\"2019-06-23T00:00:00\",\"2019-06-30T00:00:00\",\"2019-07-07T00:00:00\",\"2019-07-14T00:00:00\",\"2019-07-21T00:00:00\",\"2019-07-28T00:00:00\",\"2019-08-04T00:00:00\",\"2019-08-11T00:00:00\",\"2019-08-18T00:00:00\",\"2019-08-25T00:00:00\",\"2019-09-01T00:00:00\",\"2019-09-08T00:00:00\",\"2019-09-15T00:00:00\",\"2019-09-22T00:00:00\",\"2019-09-29T00:00:00\",\"2019-10-06T00:00:00\",\"2019-10-13T00:00:00\",\"2019-10-20T00:00:00\",\"2019-10-27T00:00:00\",\"2019-11-03T00:00:00\",\"2019-11-10T00:00:00\",\"2019-11-17T00:00:00\",\"2019-11-24T00:00:00\",\"2019-12-01T00:00:00\",\"2019-12-08T00:00:00\",\"2019-12-15T00:00:00\",\"2019-12-22T00:00:00\",\"2019-12-29T00:00:00\",\"2020-01-05T00:00:00\",\"2020-01-12T00:00:00\",\"2020-01-19T00:00:00\",\"2020-01-26T00:00:00\",\"2020-02-02T00:00:00\",\"2020-02-09T00:00:00\",\"2020-02-16T00:00:00\",\"2020-02-23T00:00:00\",\"2020-03-01T00:00:00\",\"2020-03-08T00:00:00\",\"2020-03-15T00:00:00\",\"2020-03-22T00:00:00\",\"2020-03-29T00:00:00\",\"2020-04-05T00:00:00\",\"2020-04-12T00:00:00\",\"2020-04-19T00:00:00\",\"2020-04-26T00:00:00\",\"2020-05-03T00:00:00\",\"2020-05-10T00:00:00\",\"2020-05-17T00:00:00\",\"2020-05-24T00:00:00\",\"2020-05-31T00:00:00\",\"2020-06-07T00:00:00\",\"2020-06-14T00:00:00\",\"2020-06-21T00:00:00\",\"2020-06-28T00:00:00\",\"2020-07-05T00:00:00\",\"2020-07-12T00:00:00\",\"2020-07-19T00:00:00\",\"2020-07-26T00:00:00\",\"2020-08-02T00:00:00\",\"2020-08-09T00:00:00\",\"2020-08-16T00:00:00\",\"2020-08-23T00:00:00\",\"2020-08-30T00:00:00\",\"2020-09-06T00:00:00\",\"2020-09-13T00:00:00\",\"2020-09-20T00:00:00\",\"2020-09-27T00:00:00\",\"2020-10-04T00:00:00\",\"2020-10-11T00:00:00\",\"2020-10-18T00:00:00\",\"2020-10-25T00:00:00\",\"2020-11-01T00:00:00\",\"2020-11-08T00:00:00\",\"2020-11-15T00:00:00\",\"2020-11-22T00:00:00\",\"2020-11-29T00:00:00\",\"2020-12-06T00:00:00\",\"2020-12-13T00:00:00\",\"2020-12-20T00:00:00\",\"2020-12-27T00:00:00\",\"2021-01-03T00:00:00\",\"2021-01-10T00:00:00\",\"2021-01-17T00:00:00\",\"2021-01-24T00:00:00\",\"2021-01-31T00:00:00\",\"2021-02-07T00:00:00\",\"2021-02-14T00:00:00\",\"2021-02-21T00:00:00\",\"2021-02-28T00:00:00\",\"2021-03-07T00:00:00\",\"2021-03-14T00:00:00\",\"2021-03-21T00:00:00\",\"2021-03-28T00:00:00\",\"2021-04-04T00:00:00\",\"2021-04-11T00:00:00\",\"2021-04-18T00:00:00\",\"2021-04-25T00:00:00\",\"2021-05-02T00:00:00\",\"2021-05-09T00:00:00\",\"2021-05-16T00:00:00\",\"2021-05-23T00:00:00\",\"2021-05-30T00:00:00\",\"2021-06-06T00:00:00\",\"2021-06-13T00:00:00\",\"2021-06-20T00:00:00\",\"2021-06-27T00:00:00\",\"2021-07-04T00:00:00\",\"2021-07-11T00:00:00\",\"2021-07-18T00:00:00\",\"2021-07-25T00:00:00\",\"2021-08-01T00:00:00\",\"2021-08-08T00:00:00\",\"2021-08-15T00:00:00\",\"2021-08-22T00:00:00\",\"2021-08-29T00:00:00\",\"2021-09-05T00:00:00\",\"2021-09-12T00:00:00\",\"2021-09-19T00:00:00\",\"2021-09-26T00:00:00\",\"2021-10-03T00:00:00\",\"2021-10-10T00:00:00\",\"2021-10-17T00:00:00\",\"2021-10-24T00:00:00\",\"2021-10-31T00:00:00\"],\"xaxis\":\"x\",\"y\":[303.9567035059398,248.96841979521832,236.79861187231384,252.54546451065644,254.35811270366082,233.21429220193366,280.1147838800124,238.80884973697243,299.38065538891556,340.9760083133078,307.4692118327233,298.2421225217265,323.9599783837101,291.05439868270446,308.1506313877874,369.83842769502974,332.10591749130356,343.6174111260524,375.92101776938364,309.4647864877995,291.49466000499683,320.6473805129182,398.2846897358283,333.6063970350589,324.4436975262068,342.3537765735205,390.2131458505276,305.68877869134263,315.43308754985173,400.4401911888063,375.2260197269242,379.703215336241,299.71032200182356,311.27310248375056,308.7227157018018,407.9483003328199,426.7421437282171,373.6204052308922,538.6527706646929,388.85356053512436,351.92085929346825,393.54869190610134,415.4622877370752,324.8130877230875,353.0121495705406,424.7092182422582,448.96351411894125,445.0670743988138,507.21784063246133,424.32789623982353,338.73140324911066,391.48368973092033,390.6323048421572,394.82263796307444,337.9056726376458,350.0949982473296,348.31481758513985,392.8117615571725,458.9303300338431,446.5808680890673,416.2665974370318,359.9820562720339,388.8823629749935,408.12480760742784,384.9184238873258,405.72615515865215,407.33597748894545,353.99129573636685,381.09641290284287,381.6777053105674,443.3157725420141,437.28846577175767,419.8149006311429,610.2672710985158,593.8947199366678,560.1884776082584,595.9320635498725,607.8199794978811,751.8090430558962,899.7780147044108,716.1509630894772,665.8204297701603,536.1789832653635,512.2434813744263,566.7109961321091,477.64492937817204,498.14849871625404,360.7145839096004,335.9338198872737,295.496171909922,397.21000322982894,394.47394079704765,327.65067951438067,320.3992301532327,321.7470622374592,360.10277797294276,350.3221857028731,419.0735360796453,449.8748582152159,555.6454569304088,401.2274730675304,336.00929421772736,380.9281932441831,327.4797670345388,360.33869926760144,399.354735134714,313.27542364042847,425.51599201283454,656.1844476139938,645.9613494600083,363.4716732748027,432.7489619831265,448.19283239885226,624.0360194705282,640.623580259248,613.6173001276501,571.1904879984985,710.6366677145106,811.7709797560476,756.0543288409572,677.3107698472376,781.8432262860562,880.1606442097218,798.8282900968834,598.512226255007,461.54337652791196,398.48685607172445,367.86319731208255,356.56242929794706,446.13218718301835,405.53629524236203,440.0794755929506,343.65459372767515,426.1673692975412,432.00986887080086,446.0602711693601,482.87708543326784,635.4664663383608,757.7289702444365,1030.8671789251998,836.6258084658311,944.068054427337,816.5875726434645,946.2974989992094,1174.3209821832688,1040.8102509697771,1020.5901261036132,937.307944773725,629.142553635213,667.4854075429733,701.8994798418549,705.1242060775355,764.0944539682246,833.3020885351601,1072.4919047102924,1104.9279105898388,970.1543057723984,1026.290899887277,805.2148303380537,782.6510489522939,734.6704400106179,867.2517964477845,762.3248734521827,716.7046832587606,654.792704667187,755.4450030461246,617.7986832035391,612.581650196536,678.3507600565425,712.2924607267166,608.4854982079524,566.4224792593839,495.8334501091766,556.8669216733,647.915936533467,677.9622043417916,486.66188073511466,485.88903783307495,487.7763091745935,498.9988267931414,370.46534621855176,389.2891975843217,386.92354683377306,369.832335142063,385.35525143511444,482.6495367590525,667.0513905985828,628.5708931093271,732.9187671493986,740.1821930232925,720.0846907233159,705.2907216476284,758.8297225988123,686.7953909432729,544.7450205343783,484.4778369634893,649.5959746355327,428.61293681162897,299.16734166773875,299.9441550759776,334.510333321881,338.20122836743553,355.1675622567946,366.27001799589203,302.40891934513786,358.6506334248107,347.20381437567937,361.3161044359178,339.3189697607706,403.44224278443704,359.237703981411,378.40650530718966,344.9570047288976,545.2356269990413,729.8089910779381,562.9286317164396,582.5809968568298,754.5733305424337,711.4449342525463,589.4541059969912,804.1828426164242,720.5894207758333,640.6035463136411,736.976103706448,879.5821123334306,957.3815903943168,1074.1633725782776,978.2204405480212,958.9905225681797,563.4375698198905,565.8596720220129,577.6023615383076,477.16271982386314,441.83406474630823,530.6271694424807,453.80502533047076,486.9048109858012,601.46275202804,775.6155094539588,846.8559509410543,966.3222177882705,812.5252305085069,1084.3510073915181,960.1644858421563,917.0538856135826,919.316737735915,910.1664847626976,863.0805095799641,646.0436870230133,589.7286140347744,515.5608658975021,373.66301160183065,366.6149697182818,383.6878265835909,402.0972473618863,339.3942822076393,296.8884097367021,322.9009866265239,350.9703552096431,302.851264741552,292.98270239812484,355.6550141537698,282.9157619339812,274.4886570831607,308.46568451321116,306.95029077308726,306.6834975117264,344.145874577939,318.2433891771929,324.2709813871471,310.4285090298881,295.5973262660483,254.17670648288194,264.67517994246896,279.02891508321403,298.1403740720185,296.42842833207527,330.17071673676975,416.8133062211071,389.6235451852252,370.8545494821753,315.74960835747953,317.3530140649417,374.2274073237541,375.13927177215413,376.4508929820724,375.29016687881915,315.9707156873818,403.1744638403873,332.74022677853435,247.2425875624799,240.91369781620992,283.5853854701954,312.1881020070375,339.4540262667824,388.11567608859764,510.08160318080104,456.6814205005318,424.00428275773123,482.8463047651409,807.5557560297142,756.0592521269363,846.9178575357408,861.2013210828658,795.122637795933,750.2398914251047,753.7825044773881,799.8710068362847,715.7183365890878,810.3711839111427,999.749266294889,1037.877172847346,985.5687776154433,1123.2273331187157,972.7256636521798,771.589371695161,636.7587702835302,517.5561867032425,423.1166246563235,465.4980399265103,441.99137362087214,365.4807677169432,427.2157855814555,363.3696960377607,346.1929295768479,441.8882632264861,374.5696241964731,341.16465310793916,410.82377068228885,406.06476417972544,406.23288295842417,397.2595832615154,338.27872458753933,325.8125388313157,322.33120946633625,399.22877728235903,471.73988675100867,469.33107290678953,538.6458532783105,495.84778277235904,438.7594425250605,479.3625339442753,413.9779725385853,433.25752027474164,502.3590393889645,528.2366792498001,569.052188050277,1021.5718095439736,910.4666005687551,890.4758596930315,921.3722303132378,963.9532961596834,1136.4446720614485,891.9259805866786,627.7210774471226,540.9156819153278,449.32091232329293,478.9021764220692,466.5693040519606,487.38603648807043,452.50156766362306,356.6423424697786,376.4801541117103,424.3697135683806,498.4327232749422,494.609996510865,586.8714952923754,608.3376654301659,495.7444172035581,407.9434336747099,395.76684816494935,333.12693009779775,339.3838087362066,317.8693564803821,324.49109800784566,278.63218856601094,328.69928237989285,275.87562602387203,289.65796582721913,314.5958335439142,338.26140652726025,323.69808416694264,396.4771904170876,362.32229121309325,353.72731632450126,299.64496053039716,322.17117541266026,341.0345645831519,398.0998190448241,361.8497898347172,370.3043358566918,440.94789088633416,559.6411885908902,324.7004786187857,367.4684085981375,476.63668144650717,533.6453595370886,455.6121282685036,424.8410845375007,400.80996864249846,382.55609339640273,375.6514174543778,402.75294999188714,392.9943591149243,283.5405378872586,295.57696037188225,274.9152664717283,464.21993730066936,408.3756309315952],\"yaxis\":\"y\"}],                        {\"legend\":{\"tracegroupgap\":0},\"margin\":{\"t\":60},\"template\":{\"data\":{\"bar\":[{\"error_x\":{\"color\":\"#2a3f5f\"},\"error_y\":{\"color\":\"#2a3f5f\"},\"marker\":{\"line\":{\"color\":\"#E5ECF6\",\"width\":0.5},\"pattern\":{\"fillmode\":\"overlay\",\"size\":10,\"solidity\":0.2}},\"type\":\"bar\"}],\"barpolar\":[{\"marker\":{\"line\":{\"color\":\"#E5ECF6\",\"width\":0.5},\"pattern\":{\"fillmode\":\"overlay\",\"size\":10,\"solidity\":0.2}},\"type\":\"barpolar\"}],\"carpet\":[{\"aaxis\":{\"endlinecolor\":\"#2a3f5f\",\"gridcolor\":\"white\",\"linecolor\":\"white\",\"minorgridcolor\":\"white\",\"startlinecolor\":\"#2a3f5f\"},\"baxis\":{\"endlinecolor\":\"#2a3f5f\",\"gridcolor\":\"white\",\"linecolor\":\"white\",\"minorgridcolor\":\"white\",\"startlinecolor\":\"#2a3f5f\"},\"type\":\"carpet\"}],\"choropleth\":[{\"colorbar\":{\"outlinewidth\":0,\"ticks\":\"\"},\"type\":\"choropleth\"}],\"contour\":[{\"colorbar\":{\"outlinewidth\":0,\"ticks\":\"\"},\"colorscale\":[[0.0,\"#0d0887\"],[0.1111111111111111,\"#46039f\"],[0.2222222222222222,\"#7201a8\"],[0.3333333333333333,\"#9c179e\"],[0.4444444444444444,\"#bd3786\"],[0.5555555555555556,\"#d8576b\"],[0.6666666666666666,\"#ed7953\"],[0.7777777777777778,\"#fb9f3a\"],[0.8888888888888888,\"#fdca26\"],[1.0,\"#f0f921\"]],\"type\":\"contour\"}],\"contourcarpet\":[{\"colorbar\":{\"outlinewidth\":0,\"ticks\":\"\"},\"type\":\"contourcarpet\"}],\"heatmap\":[{\"colorbar\":{\"outlinewidth\":0,\"ticks\":\"\"},\"colorscale\":[[0.0,\"#0d0887\"],[0.1111111111111111,\"#46039f\"],[0.2222222222222222,\"#7201a8\"],[0.3333333333333333,\"#9c179e\"],[0.4444444444444444,\"#bd3786\"],[0.5555555555555556,\"#d8576b\"],[0.6666666666666666,\"#ed7953\"],[0.7777777777777778,\"#fb9f3a\"],[0.8888888888888888,\"#fdca26\"],[1.0,\"#f0f921\"]],\"type\":\"heatmap\"}],\"heatmapgl\":[{\"colorbar\":{\"outlinewidth\":0,\"ticks\":\"\"},\"colorscale\":[[0.0,\"#0d0887\"],[0.1111111111111111,\"#46039f\"],[0.2222222222222222,\"#7201a8\"],[0.3333333333333333,\"#9c179e\"],[0.4444444444444444,\"#bd3786\"],[0.5555555555555556,\"#d8576b\"],[0.6666666666666666,\"#ed7953\"],[0.7777777777777778,\"#fb9f3a\"],[0.8888888888888888,\"#fdca26\"],[1.0,\"#f0f921\"]],\"type\":\"heatmapgl\"}],\"histogram\":[{\"marker\":{\"pattern\":{\"fillmode\":\"overlay\",\"size\":10,\"solidity\":0.2}},\"type\":\"histogram\"}],\"histogram2d\":[{\"colorbar\":{\"outlinewidth\":0,\"ticks\":\"\"},\"colorscale\":[[0.0,\"#0d0887\"],[0.1111111111111111,\"#46039f\"],[0.2222222222222222,\"#7201a8\"],[0.3333333333333333,\"#9c179e\"],[0.4444444444444444,\"#bd3786\"],[0.5555555555555556,\"#d8576b\"],[0.6666666666666666,\"#ed7953\"],[0.7777777777777778,\"#fb9f3a\"],[0.8888888888888888,\"#fdca26\"],[1.0,\"#f0f921\"]],\"type\":\"histogram2d\"}],\"histogram2dcontour\":[{\"colorbar\":{\"outlinewidth\":0,\"ticks\":\"\"},\"colorscale\":[[0.0,\"#0d0887\"],[0.1111111111111111,\"#46039f\"],[0.2222222222222222,\"#7201a8\"],[0.3333333333333333,\"#9c179e\"],[0.4444444444444444,\"#bd3786\"],[0.5555555555555556,\"#d8576b\"],[0.6666666666666666,\"#ed7953\"],[0.7777777777777778,\"#fb9f3a\"],[0.8888888888888888,\"#fdca26\"],[1.0,\"#f0f921\"]],\"type\":\"histogram2dcontour\"}],\"mesh3d\":[{\"colorbar\":{\"outlinewidth\":0,\"ticks\":\"\"},\"type\":\"mesh3d\"}],\"parcoords\":[{\"line\":{\"colorbar\":{\"outlinewidth\":0,\"ticks\":\"\"}},\"type\":\"parcoords\"}],\"pie\":[{\"automargin\":true,\"type\":\"pie\"}],\"scatter\":[{\"marker\":{\"colorbar\":{\"outlinewidth\":0,\"ticks\":\"\"}},\"type\":\"scatter\"}],\"scatter3d\":[{\"line\":{\"colorbar\":{\"outlinewidth\":0,\"ticks\":\"\"}},\"marker\":{\"colorbar\":{\"outlinewidth\":0,\"ticks\":\"\"}},\"type\":\"scatter3d\"}],\"scattercarpet\":[{\"marker\":{\"colorbar\":{\"outlinewidth\":0,\"ticks\":\"\"}},\"type\":\"scattercarpet\"}],\"scattergeo\":[{\"marker\":{\"colorbar\":{\"outlinewidth\":0,\"ticks\":\"\"}},\"type\":\"scattergeo\"}],\"scattergl\":[{\"marker\":{\"colorbar\":{\"outlinewidth\":0,\"ticks\":\"\"}},\"type\":\"scattergl\"}],\"scattermapbox\":[{\"marker\":{\"colorbar\":{\"outlinewidth\":0,\"ticks\":\"\"}},\"type\":\"scattermapbox\"}],\"scatterpolar\":[{\"marker\":{\"colorbar\":{\"outlinewidth\":0,\"ticks\":\"\"}},\"type\":\"scatterpolar\"}],\"scatterpolargl\":[{\"marker\":{\"colorbar\":{\"outlinewidth\":0,\"ticks\":\"\"}},\"type\":\"scatterpolargl\"}],\"scatterternary\":[{\"marker\":{\"colorbar\":{\"outlinewidth\":0,\"ticks\":\"\"}},\"type\":\"scatterternary\"}],\"surface\":[{\"colorbar\":{\"outlinewidth\":0,\"ticks\":\"\"},\"colorscale\":[[0.0,\"#0d0887\"],[0.1111111111111111,\"#46039f\"],[0.2222222222222222,\"#7201a8\"],[0.3333333333333333,\"#9c179e\"],[0.4444444444444444,\"#bd3786\"],[0.5555555555555556,\"#d8576b\"],[0.6666666666666666,\"#ed7953\"],[0.7777777777777778,\"#fb9f3a\"],[0.8888888888888888,\"#fdca26\"],[1.0,\"#f0f921\"]],\"type\":\"surface\"}],\"table\":[{\"cells\":{\"fill\":{\"color\":\"#EBF0F8\"},\"line\":{\"color\":\"white\"}},\"header\":{\"fill\":{\"color\":\"#C8D4E3\"},\"line\":{\"color\":\"white\"}},\"type\":\"table\"}]},\"layout\":{\"annotationdefaults\":{\"arrowcolor\":\"#2a3f5f\",\"arrowhead\":0,\"arrowwidth\":1},\"autotypenumbers\":\"strict\",\"coloraxis\":{\"colorbar\":{\"outlinewidth\":0,\"ticks\":\"\"}},\"colorscale\":{\"diverging\":[[0,\"#8e0152\"],[0.1,\"#c51b7d\"],[0.2,\"#de77ae\"],[0.3,\"#f1b6da\"],[0.4,\"#fde0ef\"],[0.5,\"#f7f7f7\"],[0.6,\"#e6f5d0\"],[0.7,\"#b8e186\"],[0.8,\"#7fbc41\"],[0.9,\"#4d9221\"],[1,\"#276419\"]],\"sequential\":[[0.0,\"#0d0887\"],[0.1111111111111111,\"#46039f\"],[0.2222222222222222,\"#7201a8\"],[0.3333333333333333,\"#9c179e\"],[0.4444444444444444,\"#bd3786\"],[0.5555555555555556,\"#d8576b\"],[0.6666666666666666,\"#ed7953\"],[0.7777777777777778,\"#fb9f3a\"],[0.8888888888888888,\"#fdca26\"],[1.0,\"#f0f921\"]],\"sequentialminus\":[[0.0,\"#0d0887\"],[0.1111111111111111,\"#46039f\"],[0.2222222222222222,\"#7201a8\"],[0.3333333333333333,\"#9c179e\"],[0.4444444444444444,\"#bd3786\"],[0.5555555555555556,\"#d8576b\"],[0.6666666666666666,\"#ed7953\"],[0.7777777777777778,\"#fb9f3a\"],[0.8888888888888888,\"#fdca26\"],[1.0,\"#f0f921\"]]},\"colorway\":[\"#636efa\",\"#EF553B\",\"#00cc96\",\"#ab63fa\",\"#FFA15A\",\"#19d3f3\",\"#FF6692\",\"#B6E880\",\"#FF97FF\",\"#FECB52\"],\"font\":{\"color\":\"#2a3f5f\"},\"geo\":{\"bgcolor\":\"white\",\"lakecolor\":\"white\",\"landcolor\":\"#E5ECF6\",\"showlakes\":true,\"showland\":true,\"subunitcolor\":\"white\"},\"hoverlabel\":{\"align\":\"left\"},\"hovermode\":\"closest\",\"mapbox\":{\"style\":\"light\"},\"paper_bgcolor\":\"white\",\"plot_bgcolor\":\"#E5ECF6\",\"polar\":{\"angularaxis\":{\"gridcolor\":\"white\",\"linecolor\":\"white\",\"ticks\":\"\"},\"bgcolor\":\"#E5ECF6\",\"radialaxis\":{\"gridcolor\":\"white\",\"linecolor\":\"white\",\"ticks\":\"\"}},\"scene\":{\"xaxis\":{\"backgroundcolor\":\"#E5ECF6\",\"gridcolor\":\"white\",\"gridwidth\":2,\"linecolor\":\"white\",\"showbackground\":true,\"ticks\":\"\",\"zerolinecolor\":\"white\"},\"yaxis\":{\"backgroundcolor\":\"#E5ECF6\",\"gridcolor\":\"white\",\"gridwidth\":2,\"linecolor\":\"white\",\"showbackground\":true,\"ticks\":\"\",\"zerolinecolor\":\"white\"},\"zaxis\":{\"backgroundcolor\":\"#E5ECF6\",\"gridcolor\":\"white\",\"gridwidth\":2,\"linecolor\":\"white\",\"showbackground\":true,\"ticks\":\"\",\"zerolinecolor\":\"white\"}},\"shapedefaults\":{\"line\":{\"color\":\"#2a3f5f\"}},\"ternary\":{\"aaxis\":{\"gridcolor\":\"white\",\"linecolor\":\"white\",\"ticks\":\"\"},\"baxis\":{\"gridcolor\":\"white\",\"linecolor\":\"white\",\"ticks\":\"\"},\"bgcolor\":\"#E5ECF6\",\"caxis\":{\"gridcolor\":\"white\",\"linecolor\":\"white\",\"ticks\":\"\"}},\"title\":{\"x\":0.05},\"xaxis\":{\"automargin\":true,\"gridcolor\":\"white\",\"linecolor\":\"white\",\"ticks\":\"\",\"title\":{\"standoff\":15},\"zerolinecolor\":\"white\",\"zerolinewidth\":2},\"yaxis\":{\"automargin\":true,\"gridcolor\":\"white\",\"linecolor\":\"white\",\"ticks\":\"\",\"title\":{\"standoff\":15},\"zerolinecolor\":\"white\",\"zerolinewidth\":2}}},\"xaxis\":{\"anchor\":\"y\",\"domain\":[0.0,1.0],\"title\":{\"text\":\"SALEDATE\"}},\"yaxis\":{\"anchor\":\"x\",\"domain\":[0.0,1.0],\"title\":{\"text\":\"PER_PRICE\"}}},                        {\"responsive\": true}                    ).then(function(){\n",
       "                            \n",
       "var gd = document.getElementById('2ee88104-b8c1-469b-9f0e-3202d3f9ddd7');\n",
       "var x = new MutationObserver(function (mutations, observer) {{\n",
       "        var display = window.getComputedStyle(gd).display;\n",
       "        if (!display || display === 'none') {{\n",
       "            console.log([gd, 'removed!']);\n",
       "            Plotly.purge(gd);\n",
       "            observer.disconnect();\n",
       "        }}\n",
       "}});\n",
       "\n",
       "// Listen for the removal of the full notebook cells\n",
       "var notebookContainer = gd.closest('#notebook-container');\n",
       "if (notebookContainer) {{\n",
       "    x.observe(notebookContainer, {childList: true});\n",
       "}}\n",
       "\n",
       "// Listen for the clearing of the current output cell\n",
       "var outputEl = gd.closest('.output');\n",
       "if (outputEl) {{\n",
       "    x.observe(outputEl, {childList: true});\n",
       "}}\n",
       "\n",
       "                        })                };                });            </script>        </div>"
      ]
     },
     "metadata": {},
     "output_type": "display_data"
    }
   ],
   "source": [
    "fig = px.line(rad_week, x='SALEDATE', y='PER_PRICE')\n",
    "fig.show()"
   ]
  },
  {
   "cell_type": "code",
   "execution_count": 69,
   "metadata": {},
   "outputs": [
    {
     "data": {
      "application/vnd.plotly.v1+json": {
       "config": {
        "plotlyServerURL": "https://plot.ly"
       },
       "data": [
        {
         "name": "단위 당 가격(kg)",
         "type": "scatter",
         "x": [
          "2014-01-05T00:00:00",
          "2014-01-12T00:00:00",
          "2014-01-19T00:00:00",
          "2014-01-26T00:00:00",
          "2014-02-02T00:00:00",
          "2014-02-09T00:00:00",
          "2014-02-16T00:00:00",
          "2014-02-23T00:00:00",
          "2014-03-02T00:00:00",
          "2014-03-09T00:00:00",
          "2014-03-16T00:00:00",
          "2014-03-23T00:00:00",
          "2014-03-30T00:00:00",
          "2014-04-06T00:00:00",
          "2014-04-13T00:00:00",
          "2014-04-20T00:00:00",
          "2014-04-27T00:00:00",
          "2014-05-04T00:00:00",
          "2014-05-11T00:00:00",
          "2014-05-18T00:00:00",
          "2014-05-25T00:00:00",
          "2014-06-01T00:00:00",
          "2014-06-08T00:00:00",
          "2014-06-15T00:00:00",
          "2014-06-22T00:00:00",
          "2014-06-29T00:00:00",
          "2014-07-06T00:00:00",
          "2014-07-13T00:00:00",
          "2014-07-20T00:00:00",
          "2014-07-27T00:00:00",
          "2014-08-03T00:00:00",
          "2014-08-10T00:00:00",
          "2014-08-17T00:00:00",
          "2014-08-24T00:00:00",
          "2014-08-31T00:00:00",
          "2014-09-07T00:00:00",
          "2014-09-14T00:00:00",
          "2014-09-21T00:00:00",
          "2014-09-28T00:00:00",
          "2014-10-05T00:00:00",
          "2014-10-12T00:00:00",
          "2014-10-19T00:00:00",
          "2014-10-26T00:00:00",
          "2014-11-02T00:00:00",
          "2014-11-09T00:00:00",
          "2014-11-16T00:00:00",
          "2014-11-23T00:00:00",
          "2014-11-30T00:00:00",
          "2014-12-07T00:00:00",
          "2014-12-14T00:00:00",
          "2014-12-21T00:00:00",
          "2014-12-28T00:00:00",
          "2015-01-04T00:00:00",
          "2015-01-11T00:00:00",
          "2015-01-18T00:00:00",
          "2015-01-25T00:00:00",
          "2015-02-01T00:00:00",
          "2015-02-08T00:00:00",
          "2015-02-15T00:00:00",
          "2015-02-22T00:00:00",
          "2015-03-01T00:00:00",
          "2015-03-08T00:00:00",
          "2015-03-15T00:00:00",
          "2015-03-22T00:00:00",
          "2015-03-29T00:00:00",
          "2015-04-05T00:00:00",
          "2015-04-12T00:00:00",
          "2015-04-19T00:00:00",
          "2015-04-26T00:00:00",
          "2015-05-03T00:00:00",
          "2015-05-10T00:00:00",
          "2015-05-17T00:00:00",
          "2015-05-24T00:00:00",
          "2015-05-31T00:00:00",
          "2015-06-07T00:00:00",
          "2015-06-14T00:00:00",
          "2015-06-21T00:00:00",
          "2015-06-28T00:00:00",
          "2015-07-05T00:00:00",
          "2015-07-12T00:00:00",
          "2015-07-19T00:00:00",
          "2015-07-26T00:00:00",
          "2015-08-02T00:00:00",
          "2015-08-09T00:00:00",
          "2015-08-16T00:00:00",
          "2015-08-23T00:00:00",
          "2015-08-30T00:00:00",
          "2015-09-06T00:00:00",
          "2015-09-13T00:00:00",
          "2015-09-20T00:00:00",
          "2015-09-27T00:00:00",
          "2015-10-04T00:00:00",
          "2015-10-11T00:00:00",
          "2015-10-18T00:00:00",
          "2015-10-25T00:00:00",
          "2015-11-01T00:00:00",
          "2015-11-08T00:00:00",
          "2015-11-15T00:00:00",
          "2015-11-22T00:00:00",
          "2015-11-29T00:00:00",
          "2015-12-06T00:00:00",
          "2015-12-13T00:00:00",
          "2015-12-20T00:00:00",
          "2015-12-27T00:00:00",
          "2016-01-03T00:00:00",
          "2016-01-10T00:00:00",
          "2016-01-17T00:00:00",
          "2016-01-24T00:00:00",
          "2016-01-31T00:00:00",
          "2016-02-07T00:00:00",
          "2016-02-14T00:00:00",
          "2016-02-21T00:00:00",
          "2016-02-28T00:00:00",
          "2016-03-06T00:00:00",
          "2016-03-13T00:00:00",
          "2016-03-20T00:00:00",
          "2016-03-27T00:00:00",
          "2016-04-03T00:00:00",
          "2016-04-10T00:00:00",
          "2016-04-17T00:00:00",
          "2016-04-24T00:00:00",
          "2016-05-01T00:00:00",
          "2016-05-08T00:00:00",
          "2016-05-15T00:00:00",
          "2016-05-22T00:00:00",
          "2016-05-29T00:00:00",
          "2016-06-05T00:00:00",
          "2016-06-12T00:00:00",
          "2016-06-19T00:00:00",
          "2016-06-26T00:00:00",
          "2016-07-03T00:00:00",
          "2016-07-10T00:00:00",
          "2016-07-17T00:00:00",
          "2016-07-24T00:00:00",
          "2016-07-31T00:00:00",
          "2016-08-07T00:00:00",
          "2016-08-14T00:00:00",
          "2016-08-21T00:00:00",
          "2016-08-28T00:00:00",
          "2016-09-04T00:00:00",
          "2016-09-11T00:00:00",
          "2016-09-18T00:00:00",
          "2016-09-25T00:00:00",
          "2016-10-02T00:00:00",
          "2016-10-09T00:00:00",
          "2016-10-16T00:00:00",
          "2016-10-23T00:00:00",
          "2016-10-30T00:00:00",
          "2016-11-06T00:00:00",
          "2016-11-13T00:00:00",
          "2016-11-20T00:00:00",
          "2016-11-27T00:00:00",
          "2016-12-04T00:00:00",
          "2016-12-11T00:00:00",
          "2016-12-18T00:00:00",
          "2016-12-25T00:00:00",
          "2017-01-01T00:00:00",
          "2017-01-08T00:00:00",
          "2017-01-15T00:00:00",
          "2017-01-22T00:00:00",
          "2017-01-29T00:00:00",
          "2017-02-05T00:00:00",
          "2017-02-12T00:00:00",
          "2017-02-19T00:00:00",
          "2017-02-26T00:00:00",
          "2017-03-05T00:00:00",
          "2017-03-12T00:00:00",
          "2017-03-19T00:00:00",
          "2017-03-26T00:00:00",
          "2017-04-02T00:00:00",
          "2017-04-09T00:00:00",
          "2017-04-16T00:00:00",
          "2017-04-23T00:00:00",
          "2017-04-30T00:00:00",
          "2017-05-07T00:00:00",
          "2017-05-14T00:00:00",
          "2017-05-21T00:00:00",
          "2017-05-28T00:00:00",
          "2017-06-04T00:00:00",
          "2017-06-11T00:00:00",
          "2017-06-18T00:00:00",
          "2017-06-25T00:00:00",
          "2017-07-02T00:00:00",
          "2017-07-09T00:00:00",
          "2017-07-16T00:00:00",
          "2017-07-23T00:00:00",
          "2017-07-30T00:00:00",
          "2017-08-06T00:00:00",
          "2017-08-13T00:00:00",
          "2017-08-20T00:00:00",
          "2017-08-27T00:00:00",
          "2017-09-03T00:00:00",
          "2017-09-10T00:00:00",
          "2017-09-17T00:00:00",
          "2017-09-24T00:00:00",
          "2017-10-01T00:00:00",
          "2017-10-08T00:00:00",
          "2017-10-15T00:00:00",
          "2017-10-22T00:00:00",
          "2017-10-29T00:00:00",
          "2017-11-05T00:00:00",
          "2017-11-12T00:00:00",
          "2017-11-19T00:00:00",
          "2017-11-26T00:00:00",
          "2017-12-03T00:00:00",
          "2017-12-10T00:00:00",
          "2017-12-17T00:00:00",
          "2017-12-24T00:00:00",
          "2017-12-31T00:00:00",
          "2018-01-07T00:00:00",
          "2018-01-14T00:00:00",
          "2018-01-21T00:00:00",
          "2018-01-28T00:00:00",
          "2018-02-04T00:00:00",
          "2018-02-11T00:00:00",
          "2018-02-18T00:00:00",
          "2018-02-25T00:00:00",
          "2018-03-04T00:00:00",
          "2018-03-11T00:00:00",
          "2018-03-18T00:00:00",
          "2018-03-25T00:00:00",
          "2018-04-01T00:00:00",
          "2018-04-08T00:00:00",
          "2018-04-15T00:00:00",
          "2018-04-22T00:00:00",
          "2018-04-29T00:00:00",
          "2018-05-06T00:00:00",
          "2018-05-13T00:00:00",
          "2018-05-20T00:00:00",
          "2018-05-27T00:00:00",
          "2018-06-03T00:00:00",
          "2018-06-10T00:00:00",
          "2018-06-17T00:00:00",
          "2018-06-24T00:00:00",
          "2018-07-01T00:00:00",
          "2018-07-08T00:00:00",
          "2018-07-15T00:00:00",
          "2018-07-22T00:00:00",
          "2018-07-29T00:00:00",
          "2018-08-05T00:00:00",
          "2018-08-12T00:00:00",
          "2018-08-19T00:00:00",
          "2018-08-26T00:00:00",
          "2018-09-02T00:00:00",
          "2018-09-09T00:00:00",
          "2018-09-16T00:00:00",
          "2018-09-23T00:00:00",
          "2018-09-30T00:00:00",
          "2018-10-07T00:00:00",
          "2018-10-14T00:00:00",
          "2018-10-21T00:00:00",
          "2018-10-28T00:00:00",
          "2018-11-04T00:00:00",
          "2018-11-11T00:00:00",
          "2018-11-18T00:00:00",
          "2018-11-25T00:00:00",
          "2018-12-02T00:00:00",
          "2018-12-09T00:00:00",
          "2018-12-16T00:00:00",
          "2018-12-23T00:00:00",
          "2018-12-30T00:00:00",
          "2019-01-06T00:00:00",
          "2019-01-13T00:00:00",
          "2019-01-20T00:00:00",
          "2019-01-27T00:00:00",
          "2019-02-03T00:00:00",
          "2019-02-10T00:00:00",
          "2019-02-17T00:00:00",
          "2019-02-24T00:00:00",
          "2019-03-03T00:00:00",
          "2019-03-10T00:00:00",
          "2019-03-17T00:00:00",
          "2019-03-24T00:00:00",
          "2019-03-31T00:00:00",
          "2019-04-07T00:00:00",
          "2019-04-14T00:00:00",
          "2019-04-21T00:00:00",
          "2019-04-28T00:00:00",
          "2019-05-05T00:00:00",
          "2019-05-12T00:00:00",
          "2019-05-19T00:00:00",
          "2019-05-26T00:00:00",
          "2019-06-02T00:00:00",
          "2019-06-09T00:00:00",
          "2019-06-16T00:00:00",
          "2019-06-23T00:00:00",
          "2019-06-30T00:00:00",
          "2019-07-07T00:00:00",
          "2019-07-14T00:00:00",
          "2019-07-21T00:00:00",
          "2019-07-28T00:00:00",
          "2019-08-04T00:00:00",
          "2019-08-11T00:00:00",
          "2019-08-18T00:00:00",
          "2019-08-25T00:00:00",
          "2019-09-01T00:00:00",
          "2019-09-08T00:00:00",
          "2019-09-15T00:00:00",
          "2019-09-22T00:00:00",
          "2019-09-29T00:00:00",
          "2019-10-06T00:00:00",
          "2019-10-13T00:00:00",
          "2019-10-20T00:00:00",
          "2019-10-27T00:00:00",
          "2019-11-03T00:00:00",
          "2019-11-10T00:00:00",
          "2019-11-17T00:00:00",
          "2019-11-24T00:00:00",
          "2019-12-01T00:00:00",
          "2019-12-08T00:00:00",
          "2019-12-15T00:00:00",
          "2019-12-22T00:00:00",
          "2019-12-29T00:00:00",
          "2020-01-05T00:00:00",
          "2020-01-12T00:00:00",
          "2020-01-19T00:00:00",
          "2020-01-26T00:00:00",
          "2020-02-02T00:00:00",
          "2020-02-09T00:00:00",
          "2020-02-16T00:00:00",
          "2020-02-23T00:00:00",
          "2020-03-01T00:00:00",
          "2020-03-08T00:00:00",
          "2020-03-15T00:00:00",
          "2020-03-22T00:00:00",
          "2020-03-29T00:00:00",
          "2020-04-05T00:00:00",
          "2020-04-12T00:00:00",
          "2020-04-19T00:00:00",
          "2020-04-26T00:00:00",
          "2020-05-03T00:00:00",
          "2020-05-10T00:00:00",
          "2020-05-17T00:00:00",
          "2020-05-24T00:00:00",
          "2020-05-31T00:00:00",
          "2020-06-07T00:00:00",
          "2020-06-14T00:00:00",
          "2020-06-21T00:00:00",
          "2020-06-28T00:00:00",
          "2020-07-05T00:00:00",
          "2020-07-12T00:00:00",
          "2020-07-19T00:00:00",
          "2020-07-26T00:00:00",
          "2020-08-02T00:00:00",
          "2020-08-09T00:00:00",
          "2020-08-16T00:00:00",
          "2020-08-23T00:00:00",
          "2020-08-30T00:00:00",
          "2020-09-06T00:00:00",
          "2020-09-13T00:00:00",
          "2020-09-20T00:00:00",
          "2020-09-27T00:00:00",
          "2020-10-04T00:00:00",
          "2020-10-11T00:00:00",
          "2020-10-18T00:00:00",
          "2020-10-25T00:00:00",
          "2020-11-01T00:00:00",
          "2020-11-08T00:00:00",
          "2020-11-15T00:00:00",
          "2020-11-22T00:00:00",
          "2020-11-29T00:00:00",
          "2020-12-06T00:00:00",
          "2020-12-13T00:00:00",
          "2020-12-20T00:00:00",
          "2020-12-27T00:00:00",
          "2021-01-03T00:00:00",
          "2021-01-10T00:00:00",
          "2021-01-17T00:00:00",
          "2021-01-24T00:00:00",
          "2021-01-31T00:00:00",
          "2021-02-07T00:00:00",
          "2021-02-14T00:00:00",
          "2021-02-21T00:00:00",
          "2021-02-28T00:00:00",
          "2021-03-07T00:00:00",
          "2021-03-14T00:00:00",
          "2021-03-21T00:00:00",
          "2021-03-28T00:00:00",
          "2021-04-04T00:00:00",
          "2021-04-11T00:00:00",
          "2021-04-18T00:00:00",
          "2021-04-25T00:00:00",
          "2021-05-02T00:00:00",
          "2021-05-09T00:00:00",
          "2021-05-16T00:00:00",
          "2021-05-23T00:00:00",
          "2021-05-30T00:00:00",
          "2021-06-06T00:00:00",
          "2021-06-13T00:00:00",
          "2021-06-20T00:00:00",
          "2021-06-27T00:00:00",
          "2021-07-04T00:00:00",
          "2021-07-11T00:00:00",
          "2021-07-18T00:00:00",
          "2021-07-25T00:00:00",
          "2021-08-01T00:00:00",
          "2021-08-08T00:00:00",
          "2021-08-15T00:00:00",
          "2021-08-22T00:00:00",
          "2021-08-29T00:00:00",
          "2021-09-05T00:00:00",
          "2021-09-12T00:00:00",
          "2021-09-19T00:00:00",
          "2021-09-26T00:00:00",
          "2021-10-03T00:00:00",
          "2021-10-10T00:00:00",
          "2021-10-17T00:00:00",
          "2021-10-24T00:00:00",
          "2021-10-31T00:00:00"
         ],
         "y": [
          303.9567035059398,
          248.96841979521832,
          236.79861187231384,
          252.54546451065644,
          254.35811270366082,
          233.21429220193366,
          280.1147838800124,
          238.80884973697243,
          299.38065538891556,
          340.9760083133078,
          307.4692118327233,
          298.2421225217265,
          323.9599783837101,
          291.05439868270446,
          308.1506313877874,
          369.83842769502974,
          332.10591749130356,
          343.6174111260524,
          375.92101776938364,
          309.4647864877995,
          291.49466000499683,
          320.6473805129182,
          398.2846897358283,
          333.6063970350589,
          324.4436975262068,
          342.3537765735205,
          390.2131458505276,
          305.68877869134263,
          315.43308754985173,
          400.4401911888063,
          375.2260197269242,
          379.703215336241,
          299.71032200182356,
          311.27310248375056,
          308.7227157018018,
          407.9483003328199,
          426.7421437282171,
          373.6204052308922,
          538.6527706646929,
          388.85356053512436,
          351.92085929346825,
          393.54869190610134,
          415.4622877370752,
          324.8130877230875,
          353.0121495705406,
          424.7092182422582,
          448.96351411894125,
          445.0670743988138,
          507.21784063246133,
          424.32789623982353,
          338.73140324911066,
          391.48368973092033,
          390.6323048421572,
          394.82263796307444,
          337.9056726376458,
          350.0949982473296,
          348.31481758513985,
          392.8117615571725,
          458.9303300338431,
          446.5808680890673,
          416.2665974370318,
          359.9820562720339,
          388.8823629749935,
          408.12480760742784,
          384.9184238873258,
          405.72615515865215,
          407.33597748894545,
          353.99129573636685,
          381.09641290284287,
          381.6777053105674,
          443.3157725420141,
          437.28846577175767,
          419.8149006311429,
          610.2672710985158,
          593.8947199366678,
          560.1884776082584,
          595.9320635498725,
          607.8199794978811,
          751.8090430558962,
          899.7780147044108,
          716.1509630894772,
          665.8204297701603,
          536.1789832653635,
          512.2434813744263,
          566.7109961321091,
          477.64492937817204,
          498.14849871625404,
          360.7145839096004,
          335.9338198872737,
          295.496171909922,
          397.21000322982894,
          394.47394079704765,
          327.65067951438067,
          320.3992301532327,
          321.7470622374592,
          360.10277797294276,
          350.3221857028731,
          419.0735360796453,
          449.8748582152159,
          555.6454569304088,
          401.2274730675304,
          336.00929421772736,
          380.9281932441831,
          327.4797670345388,
          360.33869926760144,
          399.354735134714,
          313.27542364042847,
          425.51599201283454,
          656.1844476139938,
          645.9613494600083,
          363.4716732748027,
          432.7489619831265,
          448.19283239885226,
          624.0360194705282,
          640.623580259248,
          613.6173001276501,
          571.1904879984985,
          710.6366677145106,
          811.7709797560476,
          756.0543288409572,
          677.3107698472376,
          781.8432262860562,
          880.1606442097218,
          798.8282900968834,
          598.512226255007,
          461.54337652791196,
          398.48685607172445,
          367.86319731208255,
          356.56242929794706,
          446.13218718301835,
          405.53629524236203,
          440.0794755929506,
          343.65459372767515,
          426.1673692975412,
          432.00986887080086,
          446.0602711693601,
          482.87708543326784,
          635.4664663383608,
          757.7289702444365,
          1030.8671789251998,
          836.6258084658311,
          944.068054427337,
          816.5875726434645,
          946.2974989992094,
          1174.3209821832688,
          1040.8102509697771,
          1020.5901261036132,
          937.307944773725,
          629.142553635213,
          667.4854075429733,
          701.8994798418549,
          705.1242060775355,
          764.0944539682246,
          833.3020885351601,
          1072.4919047102924,
          1104.9279105898388,
          970.1543057723984,
          1026.290899887277,
          805.2148303380537,
          782.6510489522939,
          734.6704400106179,
          867.2517964477845,
          762.3248734521827,
          716.7046832587606,
          654.792704667187,
          755.4450030461246,
          617.7986832035391,
          612.581650196536,
          678.3507600565425,
          712.2924607267166,
          608.4854982079524,
          566.4224792593839,
          495.8334501091766,
          556.8669216733,
          647.915936533467,
          677.9622043417916,
          486.66188073511466,
          485.88903783307495,
          487.7763091745935,
          498.9988267931414,
          370.46534621855176,
          389.2891975843217,
          386.92354683377306,
          369.832335142063,
          385.35525143511444,
          482.6495367590525,
          667.0513905985828,
          628.5708931093271,
          732.9187671493986,
          740.1821930232925,
          720.0846907233159,
          705.2907216476284,
          758.8297225988123,
          686.7953909432729,
          544.7450205343783,
          484.4778369634893,
          649.5959746355327,
          428.61293681162897,
          299.16734166773875,
          299.9441550759776,
          334.510333321881,
          338.20122836743553,
          355.1675622567946,
          366.27001799589203,
          302.40891934513786,
          358.6506334248107,
          347.20381437567937,
          361.3161044359178,
          339.3189697607706,
          403.44224278443704,
          359.237703981411,
          378.40650530718966,
          344.9570047288976,
          545.2356269990413,
          729.8089910779381,
          562.9286317164396,
          582.5809968568298,
          754.5733305424337,
          711.4449342525463,
          589.4541059969912,
          804.1828426164242,
          720.5894207758333,
          640.6035463136411,
          736.976103706448,
          879.5821123334306,
          957.3815903943168,
          1074.1633725782776,
          978.2204405480212,
          958.9905225681797,
          563.4375698198905,
          565.8596720220129,
          577.6023615383076,
          477.16271982386314,
          441.83406474630823,
          530.6271694424807,
          453.80502533047076,
          486.9048109858012,
          601.46275202804,
          775.6155094539588,
          846.8559509410543,
          966.3222177882705,
          812.5252305085069,
          1084.3510073915181,
          960.1644858421563,
          917.0538856135826,
          919.316737735915,
          910.1664847626976,
          863.0805095799641,
          646.0436870230133,
          589.7286140347744,
          515.5608658975021,
          373.66301160183065,
          366.6149697182818,
          383.6878265835909,
          402.0972473618863,
          339.3942822076393,
          296.8884097367021,
          322.9009866265239,
          350.9703552096431,
          302.851264741552,
          292.98270239812484,
          355.6550141537698,
          282.9157619339812,
          274.4886570831607,
          308.46568451321116,
          306.95029077308726,
          306.6834975117264,
          344.145874577939,
          318.2433891771929,
          324.2709813871471,
          310.4285090298881,
          295.5973262660483,
          254.17670648288194,
          264.67517994246896,
          279.02891508321403,
          298.1403740720185,
          296.42842833207527,
          330.17071673676975,
          416.8133062211071,
          389.6235451852252,
          370.8545494821753,
          315.74960835747953,
          317.3530140649417,
          374.2274073237541,
          375.13927177215413,
          376.4508929820724,
          375.29016687881915,
          315.9707156873818,
          403.1744638403873,
          332.74022677853435,
          247.2425875624799,
          240.91369781620992,
          283.5853854701954,
          312.1881020070375,
          339.4540262667824,
          388.11567608859764,
          510.08160318080104,
          456.6814205005318,
          424.00428275773123,
          482.8463047651409,
          807.5557560297142,
          756.0592521269363,
          846.9178575357408,
          861.2013210828658,
          795.122637795933,
          750.2398914251047,
          753.7825044773881,
          799.8710068362847,
          715.7183365890878,
          810.3711839111427,
          999.749266294889,
          1037.877172847346,
          985.5687776154433,
          1123.2273331187157,
          972.7256636521798,
          771.589371695161,
          636.7587702835302,
          517.5561867032425,
          423.1166246563235,
          465.4980399265103,
          441.99137362087214,
          365.4807677169432,
          427.2157855814555,
          363.3696960377607,
          346.1929295768479,
          441.8882632264861,
          374.5696241964731,
          341.16465310793916,
          410.82377068228885,
          406.06476417972544,
          406.23288295842417,
          397.2595832615154,
          338.27872458753933,
          325.8125388313157,
          322.33120946633625,
          399.22877728235903,
          471.73988675100867,
          469.33107290678953,
          538.6458532783105,
          495.84778277235904,
          438.7594425250605,
          479.3625339442753,
          413.9779725385853,
          433.25752027474164,
          502.3590393889645,
          528.2366792498001,
          569.052188050277,
          1021.5718095439736,
          910.4666005687551,
          890.4758596930315,
          921.3722303132378,
          963.9532961596834,
          1136.4446720614485,
          891.9259805866786,
          627.7210774471226,
          540.9156819153278,
          449.32091232329293,
          478.9021764220692,
          466.5693040519606,
          487.38603648807043,
          452.50156766362306,
          356.6423424697786,
          376.4801541117103,
          424.3697135683806,
          498.4327232749422,
          494.609996510865,
          586.8714952923754,
          608.3376654301659,
          495.7444172035581,
          407.9434336747099,
          395.76684816494935,
          333.12693009779775,
          339.3838087362066,
          317.8693564803821,
          324.49109800784566,
          278.63218856601094,
          328.69928237989285,
          275.87562602387203,
          289.65796582721913,
          314.5958335439142,
          338.26140652726025,
          323.69808416694264,
          396.4771904170876,
          362.32229121309325,
          353.72731632450126,
          299.64496053039716,
          322.17117541266026,
          341.0345645831519,
          398.0998190448241,
          361.8497898347172,
          370.3043358566918,
          440.94789088633416,
          559.6411885908902,
          324.7004786187857,
          367.4684085981375,
          476.63668144650717,
          533.6453595370886,
          455.6121282685036,
          424.8410845375007,
          400.80996864249846,
          382.55609339640273,
          375.6514174543778,
          402.75294999188714,
          392.9943591149243,
          283.5405378872586,
          295.57696037188225,
          274.9152664717283,
          464.21993730066936,
          408.3756309315952
         ]
        },
        {
         "name": "총 물량",
         "type": "scatter",
         "x": [
          "2014-01-05T00:00:00",
          "2014-01-12T00:00:00",
          "2014-01-19T00:00:00",
          "2014-01-26T00:00:00",
          "2014-02-02T00:00:00",
          "2014-02-09T00:00:00",
          "2014-02-16T00:00:00",
          "2014-02-23T00:00:00",
          "2014-03-02T00:00:00",
          "2014-03-09T00:00:00",
          "2014-03-16T00:00:00",
          "2014-03-23T00:00:00",
          "2014-03-30T00:00:00",
          "2014-04-06T00:00:00",
          "2014-04-13T00:00:00",
          "2014-04-20T00:00:00",
          "2014-04-27T00:00:00",
          "2014-05-04T00:00:00",
          "2014-05-11T00:00:00",
          "2014-05-18T00:00:00",
          "2014-05-25T00:00:00",
          "2014-06-01T00:00:00",
          "2014-06-08T00:00:00",
          "2014-06-15T00:00:00",
          "2014-06-22T00:00:00",
          "2014-06-29T00:00:00",
          "2014-07-06T00:00:00",
          "2014-07-13T00:00:00",
          "2014-07-20T00:00:00",
          "2014-07-27T00:00:00",
          "2014-08-03T00:00:00",
          "2014-08-10T00:00:00",
          "2014-08-17T00:00:00",
          "2014-08-24T00:00:00",
          "2014-08-31T00:00:00",
          "2014-09-07T00:00:00",
          "2014-09-14T00:00:00",
          "2014-09-21T00:00:00",
          "2014-09-28T00:00:00",
          "2014-10-05T00:00:00",
          "2014-10-12T00:00:00",
          "2014-10-19T00:00:00",
          "2014-10-26T00:00:00",
          "2014-11-02T00:00:00",
          "2014-11-09T00:00:00",
          "2014-11-16T00:00:00",
          "2014-11-23T00:00:00",
          "2014-11-30T00:00:00",
          "2014-12-07T00:00:00",
          "2014-12-14T00:00:00",
          "2014-12-21T00:00:00",
          "2014-12-28T00:00:00",
          "2015-01-04T00:00:00",
          "2015-01-11T00:00:00",
          "2015-01-18T00:00:00",
          "2015-01-25T00:00:00",
          "2015-02-01T00:00:00",
          "2015-02-08T00:00:00",
          "2015-02-15T00:00:00",
          "2015-02-22T00:00:00",
          "2015-03-01T00:00:00",
          "2015-03-08T00:00:00",
          "2015-03-15T00:00:00",
          "2015-03-22T00:00:00",
          "2015-03-29T00:00:00",
          "2015-04-05T00:00:00",
          "2015-04-12T00:00:00",
          "2015-04-19T00:00:00",
          "2015-04-26T00:00:00",
          "2015-05-03T00:00:00",
          "2015-05-10T00:00:00",
          "2015-05-17T00:00:00",
          "2015-05-24T00:00:00",
          "2015-05-31T00:00:00",
          "2015-06-07T00:00:00",
          "2015-06-14T00:00:00",
          "2015-06-21T00:00:00",
          "2015-06-28T00:00:00",
          "2015-07-05T00:00:00",
          "2015-07-12T00:00:00",
          "2015-07-19T00:00:00",
          "2015-07-26T00:00:00",
          "2015-08-02T00:00:00",
          "2015-08-09T00:00:00",
          "2015-08-16T00:00:00",
          "2015-08-23T00:00:00",
          "2015-08-30T00:00:00",
          "2015-09-06T00:00:00",
          "2015-09-13T00:00:00",
          "2015-09-20T00:00:00",
          "2015-09-27T00:00:00",
          "2015-10-04T00:00:00",
          "2015-10-11T00:00:00",
          "2015-10-18T00:00:00",
          "2015-10-25T00:00:00",
          "2015-11-01T00:00:00",
          "2015-11-08T00:00:00",
          "2015-11-15T00:00:00",
          "2015-11-22T00:00:00",
          "2015-11-29T00:00:00",
          "2015-12-06T00:00:00",
          "2015-12-13T00:00:00",
          "2015-12-20T00:00:00",
          "2015-12-27T00:00:00",
          "2016-01-03T00:00:00",
          "2016-01-10T00:00:00",
          "2016-01-17T00:00:00",
          "2016-01-24T00:00:00",
          "2016-01-31T00:00:00",
          "2016-02-07T00:00:00",
          "2016-02-14T00:00:00",
          "2016-02-21T00:00:00",
          "2016-02-28T00:00:00",
          "2016-03-06T00:00:00",
          "2016-03-13T00:00:00",
          "2016-03-20T00:00:00",
          "2016-03-27T00:00:00",
          "2016-04-03T00:00:00",
          "2016-04-10T00:00:00",
          "2016-04-17T00:00:00",
          "2016-04-24T00:00:00",
          "2016-05-01T00:00:00",
          "2016-05-08T00:00:00",
          "2016-05-15T00:00:00",
          "2016-05-22T00:00:00",
          "2016-05-29T00:00:00",
          "2016-06-05T00:00:00",
          "2016-06-12T00:00:00",
          "2016-06-19T00:00:00",
          "2016-06-26T00:00:00",
          "2016-07-03T00:00:00",
          "2016-07-10T00:00:00",
          "2016-07-17T00:00:00",
          "2016-07-24T00:00:00",
          "2016-07-31T00:00:00",
          "2016-08-07T00:00:00",
          "2016-08-14T00:00:00",
          "2016-08-21T00:00:00",
          "2016-08-28T00:00:00",
          "2016-09-04T00:00:00",
          "2016-09-11T00:00:00",
          "2016-09-18T00:00:00",
          "2016-09-25T00:00:00",
          "2016-10-02T00:00:00",
          "2016-10-09T00:00:00",
          "2016-10-16T00:00:00",
          "2016-10-23T00:00:00",
          "2016-10-30T00:00:00",
          "2016-11-06T00:00:00",
          "2016-11-13T00:00:00",
          "2016-11-20T00:00:00",
          "2016-11-27T00:00:00",
          "2016-12-04T00:00:00",
          "2016-12-11T00:00:00",
          "2016-12-18T00:00:00",
          "2016-12-25T00:00:00",
          "2017-01-01T00:00:00",
          "2017-01-08T00:00:00",
          "2017-01-15T00:00:00",
          "2017-01-22T00:00:00",
          "2017-01-29T00:00:00",
          "2017-02-05T00:00:00",
          "2017-02-12T00:00:00",
          "2017-02-19T00:00:00",
          "2017-02-26T00:00:00",
          "2017-03-05T00:00:00",
          "2017-03-12T00:00:00",
          "2017-03-19T00:00:00",
          "2017-03-26T00:00:00",
          "2017-04-02T00:00:00",
          "2017-04-09T00:00:00",
          "2017-04-16T00:00:00",
          "2017-04-23T00:00:00",
          "2017-04-30T00:00:00",
          "2017-05-07T00:00:00",
          "2017-05-14T00:00:00",
          "2017-05-21T00:00:00",
          "2017-05-28T00:00:00",
          "2017-06-04T00:00:00",
          "2017-06-11T00:00:00",
          "2017-06-18T00:00:00",
          "2017-06-25T00:00:00",
          "2017-07-02T00:00:00",
          "2017-07-09T00:00:00",
          "2017-07-16T00:00:00",
          "2017-07-23T00:00:00",
          "2017-07-30T00:00:00",
          "2017-08-06T00:00:00",
          "2017-08-13T00:00:00",
          "2017-08-20T00:00:00",
          "2017-08-27T00:00:00",
          "2017-09-03T00:00:00",
          "2017-09-10T00:00:00",
          "2017-09-17T00:00:00",
          "2017-09-24T00:00:00",
          "2017-10-01T00:00:00",
          "2017-10-08T00:00:00",
          "2017-10-15T00:00:00",
          "2017-10-22T00:00:00",
          "2017-10-29T00:00:00",
          "2017-11-05T00:00:00",
          "2017-11-12T00:00:00",
          "2017-11-19T00:00:00",
          "2017-11-26T00:00:00",
          "2017-12-03T00:00:00",
          "2017-12-10T00:00:00",
          "2017-12-17T00:00:00",
          "2017-12-24T00:00:00",
          "2017-12-31T00:00:00",
          "2018-01-07T00:00:00",
          "2018-01-14T00:00:00",
          "2018-01-21T00:00:00",
          "2018-01-28T00:00:00",
          "2018-02-04T00:00:00",
          "2018-02-11T00:00:00",
          "2018-02-18T00:00:00",
          "2018-02-25T00:00:00",
          "2018-03-04T00:00:00",
          "2018-03-11T00:00:00",
          "2018-03-18T00:00:00",
          "2018-03-25T00:00:00",
          "2018-04-01T00:00:00",
          "2018-04-08T00:00:00",
          "2018-04-15T00:00:00",
          "2018-04-22T00:00:00",
          "2018-04-29T00:00:00",
          "2018-05-06T00:00:00",
          "2018-05-13T00:00:00",
          "2018-05-20T00:00:00",
          "2018-05-27T00:00:00",
          "2018-06-03T00:00:00",
          "2018-06-10T00:00:00",
          "2018-06-17T00:00:00",
          "2018-06-24T00:00:00",
          "2018-07-01T00:00:00",
          "2018-07-08T00:00:00",
          "2018-07-15T00:00:00",
          "2018-07-22T00:00:00",
          "2018-07-29T00:00:00",
          "2018-08-05T00:00:00",
          "2018-08-12T00:00:00",
          "2018-08-19T00:00:00",
          "2018-08-26T00:00:00",
          "2018-09-02T00:00:00",
          "2018-09-09T00:00:00",
          "2018-09-16T00:00:00",
          "2018-09-23T00:00:00",
          "2018-09-30T00:00:00",
          "2018-10-07T00:00:00",
          "2018-10-14T00:00:00",
          "2018-10-21T00:00:00",
          "2018-10-28T00:00:00",
          "2018-11-04T00:00:00",
          "2018-11-11T00:00:00",
          "2018-11-18T00:00:00",
          "2018-11-25T00:00:00",
          "2018-12-02T00:00:00",
          "2018-12-09T00:00:00",
          "2018-12-16T00:00:00",
          "2018-12-23T00:00:00",
          "2018-12-30T00:00:00",
          "2019-01-06T00:00:00",
          "2019-01-13T00:00:00",
          "2019-01-20T00:00:00",
          "2019-01-27T00:00:00",
          "2019-02-03T00:00:00",
          "2019-02-10T00:00:00",
          "2019-02-17T00:00:00",
          "2019-02-24T00:00:00",
          "2019-03-03T00:00:00",
          "2019-03-10T00:00:00",
          "2019-03-17T00:00:00",
          "2019-03-24T00:00:00",
          "2019-03-31T00:00:00",
          "2019-04-07T00:00:00",
          "2019-04-14T00:00:00",
          "2019-04-21T00:00:00",
          "2019-04-28T00:00:00",
          "2019-05-05T00:00:00",
          "2019-05-12T00:00:00",
          "2019-05-19T00:00:00",
          "2019-05-26T00:00:00",
          "2019-06-02T00:00:00",
          "2019-06-09T00:00:00",
          "2019-06-16T00:00:00",
          "2019-06-23T00:00:00",
          "2019-06-30T00:00:00",
          "2019-07-07T00:00:00",
          "2019-07-14T00:00:00",
          "2019-07-21T00:00:00",
          "2019-07-28T00:00:00",
          "2019-08-04T00:00:00",
          "2019-08-11T00:00:00",
          "2019-08-18T00:00:00",
          "2019-08-25T00:00:00",
          "2019-09-01T00:00:00",
          "2019-09-08T00:00:00",
          "2019-09-15T00:00:00",
          "2019-09-22T00:00:00",
          "2019-09-29T00:00:00",
          "2019-10-06T00:00:00",
          "2019-10-13T00:00:00",
          "2019-10-20T00:00:00",
          "2019-10-27T00:00:00",
          "2019-11-03T00:00:00",
          "2019-11-10T00:00:00",
          "2019-11-17T00:00:00",
          "2019-11-24T00:00:00",
          "2019-12-01T00:00:00",
          "2019-12-08T00:00:00",
          "2019-12-15T00:00:00",
          "2019-12-22T00:00:00",
          "2019-12-29T00:00:00",
          "2020-01-05T00:00:00",
          "2020-01-12T00:00:00",
          "2020-01-19T00:00:00",
          "2020-01-26T00:00:00",
          "2020-02-02T00:00:00",
          "2020-02-09T00:00:00",
          "2020-02-16T00:00:00",
          "2020-02-23T00:00:00",
          "2020-03-01T00:00:00",
          "2020-03-08T00:00:00",
          "2020-03-15T00:00:00",
          "2020-03-22T00:00:00",
          "2020-03-29T00:00:00",
          "2020-04-05T00:00:00",
          "2020-04-12T00:00:00",
          "2020-04-19T00:00:00",
          "2020-04-26T00:00:00",
          "2020-05-03T00:00:00",
          "2020-05-10T00:00:00",
          "2020-05-17T00:00:00",
          "2020-05-24T00:00:00",
          "2020-05-31T00:00:00",
          "2020-06-07T00:00:00",
          "2020-06-14T00:00:00",
          "2020-06-21T00:00:00",
          "2020-06-28T00:00:00",
          "2020-07-05T00:00:00",
          "2020-07-12T00:00:00",
          "2020-07-19T00:00:00",
          "2020-07-26T00:00:00",
          "2020-08-02T00:00:00",
          "2020-08-09T00:00:00",
          "2020-08-16T00:00:00",
          "2020-08-23T00:00:00",
          "2020-08-30T00:00:00",
          "2020-09-06T00:00:00",
          "2020-09-13T00:00:00",
          "2020-09-20T00:00:00",
          "2020-09-27T00:00:00",
          "2020-10-04T00:00:00",
          "2020-10-11T00:00:00",
          "2020-10-18T00:00:00",
          "2020-10-25T00:00:00",
          "2020-11-01T00:00:00",
          "2020-11-08T00:00:00",
          "2020-11-15T00:00:00",
          "2020-11-22T00:00:00",
          "2020-11-29T00:00:00",
          "2020-12-06T00:00:00",
          "2020-12-13T00:00:00",
          "2020-12-20T00:00:00",
          "2020-12-27T00:00:00",
          "2021-01-03T00:00:00",
          "2021-01-10T00:00:00",
          "2021-01-17T00:00:00",
          "2021-01-24T00:00:00",
          "2021-01-31T00:00:00",
          "2021-02-07T00:00:00",
          "2021-02-14T00:00:00",
          "2021-02-21T00:00:00",
          "2021-02-28T00:00:00",
          "2021-03-07T00:00:00",
          "2021-03-14T00:00:00",
          "2021-03-21T00:00:00",
          "2021-03-28T00:00:00",
          "2021-04-04T00:00:00",
          "2021-04-11T00:00:00",
          "2021-04-18T00:00:00",
          "2021-04-25T00:00:00",
          "2021-05-02T00:00:00",
          "2021-05-09T00:00:00",
          "2021-05-16T00:00:00",
          "2021-05-23T00:00:00",
          "2021-05-30T00:00:00",
          "2021-06-06T00:00:00",
          "2021-06-13T00:00:00",
          "2021-06-20T00:00:00",
          "2021-06-27T00:00:00",
          "2021-07-04T00:00:00",
          "2021-07-11T00:00:00",
          "2021-07-18T00:00:00",
          "2021-07-25T00:00:00",
          "2021-08-01T00:00:00",
          "2021-08-08T00:00:00",
          "2021-08-15T00:00:00",
          "2021-08-22T00:00:00",
          "2021-08-29T00:00:00",
          "2021-09-05T00:00:00",
          "2021-09-12T00:00:00",
          "2021-09-19T00:00:00",
          "2021-09-26T00:00:00",
          "2021-10-03T00:00:00",
          "2021-10-10T00:00:00",
          "2021-10-17T00:00:00",
          "2021-10-24T00:00:00",
          "2021-10-31T00:00:00"
         ],
         "xaxis": "x",
         "y": [
          1449540,
          3884332,
          3484982,
          3904496,
          2881752,
          2312086,
          4060152,
          3077244,
          3355870,
          3849250,
          3671378,
          3685126,
          3049552,
          3485930,
          3318246,
          3042972,
          3066198,
          3220010,
          3645934,
          3890410,
          3546258,
          3444682,
          3488640,
          3298278,
          2990064,
          3058778,
          2932180,
          3088998,
          2853460,
          2985112,
          2414568,
          3253470,
          3283646,
          3452118,
          4225324,
          4689624,
          2077894,
          3148526,
          3315486,
          3392931,
          3461076,
          3694536,
          3808602,
          4231691,
          4644444,
          4634799,
          5606936,
          4389156,
          3596868,
          4283416,
          3180932,
          3396020,
          2527262,
          4235010,
          4016650,
          3417642,
          3823592,
          3803612,
          4912375,
          2913572,
          3352129,
          4008030,
          3822368,
          3702066,
          3708745,
          3530554,
          3731500,
          3873504,
          3504282,
          3045362,
          3532775.5,
          3652364,
          3789316,
          3379041,
          3698592,
          3210514,
          3207056,
          2622168,
          3172202,
          2748155,
          3161700,
          2769713,
          2958176,
          3228518,
          2845737,
          3304644,
          3333214,
          3904440,
          4284006,
          4899310,
          4848554,
          2213268,
          3697052,
          3773738,
          3563256,
          3814436,
          4538842,
          4413167,
          5011116,
          4642742,
          4747151,
          3586531,
          3420667,
          3300060,
          2351998,
          17779798.059999995,
          8988961.499999996,
          6546352.299999998,
          8156154.3,
          14513924,
          3820164.5,
          8877529.100000001,
          8544724.9,
          9557686.299999999,
          8899115.9,
          9220052.2,
          8991062.5,
          8700723.899999999,
          8132774.5,
          7940482.3,
          8642780.899999999,
          6438504.1,
          7157892.6,
          8395875.1,
          8550005.700000001,
          8881778.2,
          9025851.899999999,
          8043640.200000002,
          7878572.5,
          7100174,
          7617454.3,
          7571431.4,
          7534475.8,
          7174321.799999999,
          7101927,
          6923097.8,
          8194700,
          6826194.6,
          7634679.8,
          9333763.5,
          13106181.6,
          5553863.5,
          9959395.6,
          8059377.699999999,
          7297668.6,
          9181129.4,
          7860623.3,
          8529708,
          13028525.7,
          13465467.100000001,
          16163084.4,
          16439561.899999999,
          12774631.1,
          10784472.5,
          9105449.3,
          8372131.2,
          8775102.700000001,
          8481236.700000001,
          10356467.9,
          10729529.899999999,
          7947168.45,
          5146822.29,
          9951495.199999996,
          9076282.6,
          8149281.4,
          9680660.700000001,
          10943012.4,
          9469769,
          8446740,
          10351337.2,
          8915639.5,
          9876695.5,
          9047961.499999998,
          8230897,
          7736316.699999999,
          8457278.3,
          9074513.4,
          7820752.1,
          7562893.100000001,
          8131728.800000001,
          8002813.5,
          7777029,
          7580000,
          7462714.699999999,
          6517337.5,
          6988965.5,
          7052107.000000001,
          6950205.1,
          7887849.5,
          7836573.4,
          7699107.7,
          9552087.099999998,
          9565957.6,
          10857796.5,
          12211204.899999999,
          13852104.6,
          3575080,
          11816910.1,
          10717637.299999997,
          10114670.399999999,
          10906013.7,
          15046898.399999999,
          17016508.1,
          17825679.3,
          14692930.7,
          10606002.300000003,
          10157929.7,
          10155352.899999999,
          7244701.8,
          7436131.5,
          8535207.899999999,
          8228592.200000001,
          8963822.999999998,
          8720117.000000002,
          10910839.020000001,
          8232881.200000001,
          7211699.6,
          6900045.1,
          9655373.16,
          8382400.2,
          6950246.2,
          8648953.7,
          7789660.7,
          7867977.5,
          7202327.8999999985,
          6735304.500000001,
          7560285.9,
          7659537.299999999,
          7680825.5,
          8679027.5,
          8240077.399999999,
          8374202.500000002,
          8153567.699999999,
          8090413.4,
          7286895.2,
          7086702.1,
          7471608,
          6789745.5,
          7082377,
          6587520.300000001,
          7660835.899999999,
          7764062.7,
          6882929.7,
          8059490,
          9621492,
          11593223.3,
          12989362.9,
          5726190.6,
          9379636.6,
          9519070,
          10831171.099999998,
          12129378.999999998,
          14217241.5,
          13819107.5,
          19382551.5,
          18408797.2,
          13637003.4,
          10665454.19999999,
          9739296.400000004,
          9811526.3,
          8114731.800000001,
          5696256.299999999,
          11139247.9,
          9414703.600000005,
          11239200.900000004,
          11846024.100000001,
          2856699.5,
          8703931.130000003,
          8308182.900000002,
          9742375.4,
          8893044.8,
          9999125,
          9736200.799999999,
          8449422.8,
          9993089,
          7762318.1,
          9921377,
          6989496.3,
          8063963.4,
          8251686.200000001,
          7919839.799999996,
          8451648.699999997,
          7964625.999999999,
          7191934.599999999,
          7638460.999999999,
          7075416.4,
          7829274,
          7421058.600000001,
          6805151.699999999,
          7596177.5,
          6885494.8,
          6591920.099999999,
          8165460.1,
          6812628,
          8333331.3,
          9349322,
          12147430.899999999,
          8034883.299999999,
          9673953.7,
          8567612.399999999,
          7292045.4,
          9331955.3,
          8666681.800000003,
          9175715.1,
          9879809.000000002,
          12377078.500000004,
          13906099.599999994,
          14762301.700000005,
          12916257.700000003,
          8977264.100000001,
          7805145.299999999,
          7462656.1,
          6952925.699999999,
          5182552.4,
          10213998.699999997,
          11282243.199999996,
          8260710.7,
          5898179.3,
          8787042.4,
          8198162.000000002,
          9017410.299999999,
          9337014.2,
          8499257.400000002,
          8944558.400000002,
          8634925.9,
          8674397.600000001,
          8905006.9,
          9396688.1,
          7517458.6,
          7729689.5,
          8498898.56,
          7683782.800000001,
          8793594.499999998,
          7923212.099999999,
          8878129.699999997,
          7546882.200000001,
          6382308.5,
          6553836.8,
          6570158.8,
          6489277.299999999,
          7684901.499999997,
          7540225.799999999,
          6484523.9,
          6447394.100000001,
          7725745.100000001,
          8126725.100000001,
          7118913.200000001,
          6997842.1,
          7514407.900000002,
          8428482.3,
          10491678.3,
          12287036.700000001,
          6218242.700000003,
          11127626.699999992,
          9709194.799999999,
          11399197.5,
          12936892.099999998,
          14923167.919999992,
          18714989.720000006,
          17726482.940000005,
          19330358.600000005,
          12485304.3,
          9693955.1,
          6950423.300000004,
          8976698.100000001,
          4503981.499999999,
          8147559.100000001,
          6898122.2,
          9959865.200000001,
          8728210.6,
          11420567.199999997,
          6806844.199999999,
          6442574.299999999,
          10133450.200000001,
          8918099.3,
          10797967.199999996,
          7722330.999999999,
          9443929,
          8489897.3,
          7700923.599999999,
          7454498.25,
          7647717.499999999,
          5852583.999999999,
          7415924.799999999,
          7736521.8,
          7298413.899999994,
          7581690.5,
          7220665.7,
          6325544.399999999,
          5418283.1,
          6702601.600000001,
          6339942.8,
          6326186.799999999,
          5873672.500000001,
          5660100.2,
          5770326.149999999,
          5814779.800000001,
          6632465.300000002,
          6721781.4,
          7497185.299999999,
          8792398.599999998,
          10361381.1,
          12324932.200000001,
          4395072.7,
          9458963.6,
          7344774.800000002,
          8675149.2,
          8475146.3,
          11262948.399999999
         ],
         "yaxis": "y2"
        }
       ],
       "layout": {
        "template": {
         "data": {
          "bar": [
           {
            "error_x": {
             "color": "#2a3f5f"
            },
            "error_y": {
             "color": "#2a3f5f"
            },
            "marker": {
             "line": {
              "color": "#E5ECF6",
              "width": 0.5
             },
             "pattern": {
              "fillmode": "overlay",
              "size": 10,
              "solidity": 0.2
             }
            },
            "type": "bar"
           }
          ],
          "barpolar": [
           {
            "marker": {
             "line": {
              "color": "#E5ECF6",
              "width": 0.5
             },
             "pattern": {
              "fillmode": "overlay",
              "size": 10,
              "solidity": 0.2
             }
            },
            "type": "barpolar"
           }
          ],
          "carpet": [
           {
            "aaxis": {
             "endlinecolor": "#2a3f5f",
             "gridcolor": "white",
             "linecolor": "white",
             "minorgridcolor": "white",
             "startlinecolor": "#2a3f5f"
            },
            "baxis": {
             "endlinecolor": "#2a3f5f",
             "gridcolor": "white",
             "linecolor": "white",
             "minorgridcolor": "white",
             "startlinecolor": "#2a3f5f"
            },
            "type": "carpet"
           }
          ],
          "choropleth": [
           {
            "colorbar": {
             "outlinewidth": 0,
             "ticks": ""
            },
            "type": "choropleth"
           }
          ],
          "contour": [
           {
            "colorbar": {
             "outlinewidth": 0,
             "ticks": ""
            },
            "colorscale": [
             [
              0,
              "#0d0887"
             ],
             [
              0.1111111111111111,
              "#46039f"
             ],
             [
              0.2222222222222222,
              "#7201a8"
             ],
             [
              0.3333333333333333,
              "#9c179e"
             ],
             [
              0.4444444444444444,
              "#bd3786"
             ],
             [
              0.5555555555555556,
              "#d8576b"
             ],
             [
              0.6666666666666666,
              "#ed7953"
             ],
             [
              0.7777777777777778,
              "#fb9f3a"
             ],
             [
              0.8888888888888888,
              "#fdca26"
             ],
             [
              1,
              "#f0f921"
             ]
            ],
            "type": "contour"
           }
          ],
          "contourcarpet": [
           {
            "colorbar": {
             "outlinewidth": 0,
             "ticks": ""
            },
            "type": "contourcarpet"
           }
          ],
          "heatmap": [
           {
            "colorbar": {
             "outlinewidth": 0,
             "ticks": ""
            },
            "colorscale": [
             [
              0,
              "#0d0887"
             ],
             [
              0.1111111111111111,
              "#46039f"
             ],
             [
              0.2222222222222222,
              "#7201a8"
             ],
             [
              0.3333333333333333,
              "#9c179e"
             ],
             [
              0.4444444444444444,
              "#bd3786"
             ],
             [
              0.5555555555555556,
              "#d8576b"
             ],
             [
              0.6666666666666666,
              "#ed7953"
             ],
             [
              0.7777777777777778,
              "#fb9f3a"
             ],
             [
              0.8888888888888888,
              "#fdca26"
             ],
             [
              1,
              "#f0f921"
             ]
            ],
            "type": "heatmap"
           }
          ],
          "heatmapgl": [
           {
            "colorbar": {
             "outlinewidth": 0,
             "ticks": ""
            },
            "colorscale": [
             [
              0,
              "#0d0887"
             ],
             [
              0.1111111111111111,
              "#46039f"
             ],
             [
              0.2222222222222222,
              "#7201a8"
             ],
             [
              0.3333333333333333,
              "#9c179e"
             ],
             [
              0.4444444444444444,
              "#bd3786"
             ],
             [
              0.5555555555555556,
              "#d8576b"
             ],
             [
              0.6666666666666666,
              "#ed7953"
             ],
             [
              0.7777777777777778,
              "#fb9f3a"
             ],
             [
              0.8888888888888888,
              "#fdca26"
             ],
             [
              1,
              "#f0f921"
             ]
            ],
            "type": "heatmapgl"
           }
          ],
          "histogram": [
           {
            "marker": {
             "pattern": {
              "fillmode": "overlay",
              "size": 10,
              "solidity": 0.2
             }
            },
            "type": "histogram"
           }
          ],
          "histogram2d": [
           {
            "colorbar": {
             "outlinewidth": 0,
             "ticks": ""
            },
            "colorscale": [
             [
              0,
              "#0d0887"
             ],
             [
              0.1111111111111111,
              "#46039f"
             ],
             [
              0.2222222222222222,
              "#7201a8"
             ],
             [
              0.3333333333333333,
              "#9c179e"
             ],
             [
              0.4444444444444444,
              "#bd3786"
             ],
             [
              0.5555555555555556,
              "#d8576b"
             ],
             [
              0.6666666666666666,
              "#ed7953"
             ],
             [
              0.7777777777777778,
              "#fb9f3a"
             ],
             [
              0.8888888888888888,
              "#fdca26"
             ],
             [
              1,
              "#f0f921"
             ]
            ],
            "type": "histogram2d"
           }
          ],
          "histogram2dcontour": [
           {
            "colorbar": {
             "outlinewidth": 0,
             "ticks": ""
            },
            "colorscale": [
             [
              0,
              "#0d0887"
             ],
             [
              0.1111111111111111,
              "#46039f"
             ],
             [
              0.2222222222222222,
              "#7201a8"
             ],
             [
              0.3333333333333333,
              "#9c179e"
             ],
             [
              0.4444444444444444,
              "#bd3786"
             ],
             [
              0.5555555555555556,
              "#d8576b"
             ],
             [
              0.6666666666666666,
              "#ed7953"
             ],
             [
              0.7777777777777778,
              "#fb9f3a"
             ],
             [
              0.8888888888888888,
              "#fdca26"
             ],
             [
              1,
              "#f0f921"
             ]
            ],
            "type": "histogram2dcontour"
           }
          ],
          "mesh3d": [
           {
            "colorbar": {
             "outlinewidth": 0,
             "ticks": ""
            },
            "type": "mesh3d"
           }
          ],
          "parcoords": [
           {
            "line": {
             "colorbar": {
              "outlinewidth": 0,
              "ticks": ""
             }
            },
            "type": "parcoords"
           }
          ],
          "pie": [
           {
            "automargin": true,
            "type": "pie"
           }
          ],
          "scatter": [
           {
            "marker": {
             "colorbar": {
              "outlinewidth": 0,
              "ticks": ""
             }
            },
            "type": "scatter"
           }
          ],
          "scatter3d": [
           {
            "line": {
             "colorbar": {
              "outlinewidth": 0,
              "ticks": ""
             }
            },
            "marker": {
             "colorbar": {
              "outlinewidth": 0,
              "ticks": ""
             }
            },
            "type": "scatter3d"
           }
          ],
          "scattercarpet": [
           {
            "marker": {
             "colorbar": {
              "outlinewidth": 0,
              "ticks": ""
             }
            },
            "type": "scattercarpet"
           }
          ],
          "scattergeo": [
           {
            "marker": {
             "colorbar": {
              "outlinewidth": 0,
              "ticks": ""
             }
            },
            "type": "scattergeo"
           }
          ],
          "scattergl": [
           {
            "marker": {
             "colorbar": {
              "outlinewidth": 0,
              "ticks": ""
             }
            },
            "type": "scattergl"
           }
          ],
          "scattermapbox": [
           {
            "marker": {
             "colorbar": {
              "outlinewidth": 0,
              "ticks": ""
             }
            },
            "type": "scattermapbox"
           }
          ],
          "scatterpolar": [
           {
            "marker": {
             "colorbar": {
              "outlinewidth": 0,
              "ticks": ""
             }
            },
            "type": "scatterpolar"
           }
          ],
          "scatterpolargl": [
           {
            "marker": {
             "colorbar": {
              "outlinewidth": 0,
              "ticks": ""
             }
            },
            "type": "scatterpolargl"
           }
          ],
          "scatterternary": [
           {
            "marker": {
             "colorbar": {
              "outlinewidth": 0,
              "ticks": ""
             }
            },
            "type": "scatterternary"
           }
          ],
          "surface": [
           {
            "colorbar": {
             "outlinewidth": 0,
             "ticks": ""
            },
            "colorscale": [
             [
              0,
              "#0d0887"
             ],
             [
              0.1111111111111111,
              "#46039f"
             ],
             [
              0.2222222222222222,
              "#7201a8"
             ],
             [
              0.3333333333333333,
              "#9c179e"
             ],
             [
              0.4444444444444444,
              "#bd3786"
             ],
             [
              0.5555555555555556,
              "#d8576b"
             ],
             [
              0.6666666666666666,
              "#ed7953"
             ],
             [
              0.7777777777777778,
              "#fb9f3a"
             ],
             [
              0.8888888888888888,
              "#fdca26"
             ],
             [
              1,
              "#f0f921"
             ]
            ],
            "type": "surface"
           }
          ],
          "table": [
           {
            "cells": {
             "fill": {
              "color": "#EBF0F8"
             },
             "line": {
              "color": "white"
             }
            },
            "header": {
             "fill": {
              "color": "#C8D4E3"
             },
             "line": {
              "color": "white"
             }
            },
            "type": "table"
           }
          ]
         },
         "layout": {
          "annotationdefaults": {
           "arrowcolor": "#2a3f5f",
           "arrowhead": 0,
           "arrowwidth": 1
          },
          "autotypenumbers": "strict",
          "coloraxis": {
           "colorbar": {
            "outlinewidth": 0,
            "ticks": ""
           }
          },
          "colorscale": {
           "diverging": [
            [
             0,
             "#8e0152"
            ],
            [
             0.1,
             "#c51b7d"
            ],
            [
             0.2,
             "#de77ae"
            ],
            [
             0.3,
             "#f1b6da"
            ],
            [
             0.4,
             "#fde0ef"
            ],
            [
             0.5,
             "#f7f7f7"
            ],
            [
             0.6,
             "#e6f5d0"
            ],
            [
             0.7,
             "#b8e186"
            ],
            [
             0.8,
             "#7fbc41"
            ],
            [
             0.9,
             "#4d9221"
            ],
            [
             1,
             "#276419"
            ]
           ],
           "sequential": [
            [
             0,
             "#0d0887"
            ],
            [
             0.1111111111111111,
             "#46039f"
            ],
            [
             0.2222222222222222,
             "#7201a8"
            ],
            [
             0.3333333333333333,
             "#9c179e"
            ],
            [
             0.4444444444444444,
             "#bd3786"
            ],
            [
             0.5555555555555556,
             "#d8576b"
            ],
            [
             0.6666666666666666,
             "#ed7953"
            ],
            [
             0.7777777777777778,
             "#fb9f3a"
            ],
            [
             0.8888888888888888,
             "#fdca26"
            ],
            [
             1,
             "#f0f921"
            ]
           ],
           "sequentialminus": [
            [
             0,
             "#0d0887"
            ],
            [
             0.1111111111111111,
             "#46039f"
            ],
            [
             0.2222222222222222,
             "#7201a8"
            ],
            [
             0.3333333333333333,
             "#9c179e"
            ],
            [
             0.4444444444444444,
             "#bd3786"
            ],
            [
             0.5555555555555556,
             "#d8576b"
            ],
            [
             0.6666666666666666,
             "#ed7953"
            ],
            [
             0.7777777777777778,
             "#fb9f3a"
            ],
            [
             0.8888888888888888,
             "#fdca26"
            ],
            [
             1,
             "#f0f921"
            ]
           ]
          },
          "colorway": [
           "#636efa",
           "#EF553B",
           "#00cc96",
           "#ab63fa",
           "#FFA15A",
           "#19d3f3",
           "#FF6692",
           "#B6E880",
           "#FF97FF",
           "#FECB52"
          ],
          "font": {
           "color": "#2a3f5f"
          },
          "geo": {
           "bgcolor": "white",
           "lakecolor": "white",
           "landcolor": "#E5ECF6",
           "showlakes": true,
           "showland": true,
           "subunitcolor": "white"
          },
          "hoverlabel": {
           "align": "left"
          },
          "hovermode": "closest",
          "mapbox": {
           "style": "light"
          },
          "paper_bgcolor": "white",
          "plot_bgcolor": "#E5ECF6",
          "polar": {
           "angularaxis": {
            "gridcolor": "white",
            "linecolor": "white",
            "ticks": ""
           },
           "bgcolor": "#E5ECF6",
           "radialaxis": {
            "gridcolor": "white",
            "linecolor": "white",
            "ticks": ""
           }
          },
          "scene": {
           "xaxis": {
            "backgroundcolor": "#E5ECF6",
            "gridcolor": "white",
            "gridwidth": 2,
            "linecolor": "white",
            "showbackground": true,
            "ticks": "",
            "zerolinecolor": "white"
           },
           "yaxis": {
            "backgroundcolor": "#E5ECF6",
            "gridcolor": "white",
            "gridwidth": 2,
            "linecolor": "white",
            "showbackground": true,
            "ticks": "",
            "zerolinecolor": "white"
           },
           "zaxis": {
            "backgroundcolor": "#E5ECF6",
            "gridcolor": "white",
            "gridwidth": 2,
            "linecolor": "white",
            "showbackground": true,
            "ticks": "",
            "zerolinecolor": "white"
           }
          },
          "shapedefaults": {
           "line": {
            "color": "#2a3f5f"
           }
          },
          "ternary": {
           "aaxis": {
            "gridcolor": "white",
            "linecolor": "white",
            "ticks": ""
           },
           "baxis": {
            "gridcolor": "white",
            "linecolor": "white",
            "ticks": ""
           },
           "bgcolor": "#E5ECF6",
           "caxis": {
            "gridcolor": "white",
            "linecolor": "white",
            "ticks": ""
           }
          },
          "title": {
           "x": 0.05
          },
          "xaxis": {
           "automargin": true,
           "gridcolor": "white",
           "linecolor": "white",
           "ticks": "",
           "title": {
            "standoff": 15
           },
           "zerolinecolor": "white",
           "zerolinewidth": 2
          },
          "yaxis": {
           "automargin": true,
           "gridcolor": "white",
           "linecolor": "white",
           "ticks": "",
           "title": {
            "standoff": 15
           },
           "zerolinecolor": "white",
           "zerolinewidth": 2
          }
         }
        },
        "title": {
         "text": "총 물량 & 단위 가격"
        },
        "xaxis": {
         "anchor": "y",
         "domain": [
          0,
          0.94
         ]
        },
        "yaxis": {
         "anchor": "x",
         "domain": [
          0,
          1
         ],
         "title": {
          "text": "단위 당 가격(kg)"
         }
        },
        "yaxis2": {
         "anchor": "x",
         "overlaying": "y",
         "side": "right",
         "title": {
          "text": "총 물량"
         }
        }
       }
      },
      "text/html": [
       "<div>                            <div id=\"8a7b3c6f-51ab-4e0f-8dca-fdfd84c52498\" class=\"plotly-graph-div\" style=\"height:525px; width:100%;\"></div>            <script type=\"text/javascript\">                require([\"plotly\"], function(Plotly) {                    window.PLOTLYENV=window.PLOTLYENV || {};                                    if (document.getElementById(\"8a7b3c6f-51ab-4e0f-8dca-fdfd84c52498\")) {                    Plotly.newPlot(                        \"8a7b3c6f-51ab-4e0f-8dca-fdfd84c52498\",                        [{\"name\":\"\\ub2e8\\uc704 \\ub2f9 \\uac00\\uaca9(kg)\",\"type\":\"scatter\",\"x\":[\"2014-01-05T00:00:00\",\"2014-01-12T00:00:00\",\"2014-01-19T00:00:00\",\"2014-01-26T00:00:00\",\"2014-02-02T00:00:00\",\"2014-02-09T00:00:00\",\"2014-02-16T00:00:00\",\"2014-02-23T00:00:00\",\"2014-03-02T00:00:00\",\"2014-03-09T00:00:00\",\"2014-03-16T00:00:00\",\"2014-03-23T00:00:00\",\"2014-03-30T00:00:00\",\"2014-04-06T00:00:00\",\"2014-04-13T00:00:00\",\"2014-04-20T00:00:00\",\"2014-04-27T00:00:00\",\"2014-05-04T00:00:00\",\"2014-05-11T00:00:00\",\"2014-05-18T00:00:00\",\"2014-05-25T00:00:00\",\"2014-06-01T00:00:00\",\"2014-06-08T00:00:00\",\"2014-06-15T00:00:00\",\"2014-06-22T00:00:00\",\"2014-06-29T00:00:00\",\"2014-07-06T00:00:00\",\"2014-07-13T00:00:00\",\"2014-07-20T00:00:00\",\"2014-07-27T00:00:00\",\"2014-08-03T00:00:00\",\"2014-08-10T00:00:00\",\"2014-08-17T00:00:00\",\"2014-08-24T00:00:00\",\"2014-08-31T00:00:00\",\"2014-09-07T00:00:00\",\"2014-09-14T00:00:00\",\"2014-09-21T00:00:00\",\"2014-09-28T00:00:00\",\"2014-10-05T00:00:00\",\"2014-10-12T00:00:00\",\"2014-10-19T00:00:00\",\"2014-10-26T00:00:00\",\"2014-11-02T00:00:00\",\"2014-11-09T00:00:00\",\"2014-11-16T00:00:00\",\"2014-11-23T00:00:00\",\"2014-11-30T00:00:00\",\"2014-12-07T00:00:00\",\"2014-12-14T00:00:00\",\"2014-12-21T00:00:00\",\"2014-12-28T00:00:00\",\"2015-01-04T00:00:00\",\"2015-01-11T00:00:00\",\"2015-01-18T00:00:00\",\"2015-01-25T00:00:00\",\"2015-02-01T00:00:00\",\"2015-02-08T00:00:00\",\"2015-02-15T00:00:00\",\"2015-02-22T00:00:00\",\"2015-03-01T00:00:00\",\"2015-03-08T00:00:00\",\"2015-03-15T00:00:00\",\"2015-03-22T00:00:00\",\"2015-03-29T00:00:00\",\"2015-04-05T00:00:00\",\"2015-04-12T00:00:00\",\"2015-04-19T00:00:00\",\"2015-04-26T00:00:00\",\"2015-05-03T00:00:00\",\"2015-05-10T00:00:00\",\"2015-05-17T00:00:00\",\"2015-05-24T00:00:00\",\"2015-05-31T00:00:00\",\"2015-06-07T00:00:00\",\"2015-06-14T00:00:00\",\"2015-06-21T00:00:00\",\"2015-06-28T00:00:00\",\"2015-07-05T00:00:00\",\"2015-07-12T00:00:00\",\"2015-07-19T00:00:00\",\"2015-07-26T00:00:00\",\"2015-08-02T00:00:00\",\"2015-08-09T00:00:00\",\"2015-08-16T00:00:00\",\"2015-08-23T00:00:00\",\"2015-08-30T00:00:00\",\"2015-09-06T00:00:00\",\"2015-09-13T00:00:00\",\"2015-09-20T00:00:00\",\"2015-09-27T00:00:00\",\"2015-10-04T00:00:00\",\"2015-10-11T00:00:00\",\"2015-10-18T00:00:00\",\"2015-10-25T00:00:00\",\"2015-11-01T00:00:00\",\"2015-11-08T00:00:00\",\"2015-11-15T00:00:00\",\"2015-11-22T00:00:00\",\"2015-11-29T00:00:00\",\"2015-12-06T00:00:00\",\"2015-12-13T00:00:00\",\"2015-12-20T00:00:00\",\"2015-12-27T00:00:00\",\"2016-01-03T00:00:00\",\"2016-01-10T00:00:00\",\"2016-01-17T00:00:00\",\"2016-01-24T00:00:00\",\"2016-01-31T00:00:00\",\"2016-02-07T00:00:00\",\"2016-02-14T00:00:00\",\"2016-02-21T00:00:00\",\"2016-02-28T00:00:00\",\"2016-03-06T00:00:00\",\"2016-03-13T00:00:00\",\"2016-03-20T00:00:00\",\"2016-03-27T00:00:00\",\"2016-04-03T00:00:00\",\"2016-04-10T00:00:00\",\"2016-04-17T00:00:00\",\"2016-04-24T00:00:00\",\"2016-05-01T00:00:00\",\"2016-05-08T00:00:00\",\"2016-05-15T00:00:00\",\"2016-05-22T00:00:00\",\"2016-05-29T00:00:00\",\"2016-06-05T00:00:00\",\"2016-06-12T00:00:00\",\"2016-06-19T00:00:00\",\"2016-06-26T00:00:00\",\"2016-07-03T00:00:00\",\"2016-07-10T00:00:00\",\"2016-07-17T00:00:00\",\"2016-07-24T00:00:00\",\"2016-07-31T00:00:00\",\"2016-08-07T00:00:00\",\"2016-08-14T00:00:00\",\"2016-08-21T00:00:00\",\"2016-08-28T00:00:00\",\"2016-09-04T00:00:00\",\"2016-09-11T00:00:00\",\"2016-09-18T00:00:00\",\"2016-09-25T00:00:00\",\"2016-10-02T00:00:00\",\"2016-10-09T00:00:00\",\"2016-10-16T00:00:00\",\"2016-10-23T00:00:00\",\"2016-10-30T00:00:00\",\"2016-11-06T00:00:00\",\"2016-11-13T00:00:00\",\"2016-11-20T00:00:00\",\"2016-11-27T00:00:00\",\"2016-12-04T00:00:00\",\"2016-12-11T00:00:00\",\"2016-12-18T00:00:00\",\"2016-12-25T00:00:00\",\"2017-01-01T00:00:00\",\"2017-01-08T00:00:00\",\"2017-01-15T00:00:00\",\"2017-01-22T00:00:00\",\"2017-01-29T00:00:00\",\"2017-02-05T00:00:00\",\"2017-02-12T00:00:00\",\"2017-02-19T00:00:00\",\"2017-02-26T00:00:00\",\"2017-03-05T00:00:00\",\"2017-03-12T00:00:00\",\"2017-03-19T00:00:00\",\"2017-03-26T00:00:00\",\"2017-04-02T00:00:00\",\"2017-04-09T00:00:00\",\"2017-04-16T00:00:00\",\"2017-04-23T00:00:00\",\"2017-04-30T00:00:00\",\"2017-05-07T00:00:00\",\"2017-05-14T00:00:00\",\"2017-05-21T00:00:00\",\"2017-05-28T00:00:00\",\"2017-06-04T00:00:00\",\"2017-06-11T00:00:00\",\"2017-06-18T00:00:00\",\"2017-06-25T00:00:00\",\"2017-07-02T00:00:00\",\"2017-07-09T00:00:00\",\"2017-07-16T00:00:00\",\"2017-07-23T00:00:00\",\"2017-07-30T00:00:00\",\"2017-08-06T00:00:00\",\"2017-08-13T00:00:00\",\"2017-08-20T00:00:00\",\"2017-08-27T00:00:00\",\"2017-09-03T00:00:00\",\"2017-09-10T00:00:00\",\"2017-09-17T00:00:00\",\"2017-09-24T00:00:00\",\"2017-10-01T00:00:00\",\"2017-10-08T00:00:00\",\"2017-10-15T00:00:00\",\"2017-10-22T00:00:00\",\"2017-10-29T00:00:00\",\"2017-11-05T00:00:00\",\"2017-11-12T00:00:00\",\"2017-11-19T00:00:00\",\"2017-11-26T00:00:00\",\"2017-12-03T00:00:00\",\"2017-12-10T00:00:00\",\"2017-12-17T00:00:00\",\"2017-12-24T00:00:00\",\"2017-12-31T00:00:00\",\"2018-01-07T00:00:00\",\"2018-01-14T00:00:00\",\"2018-01-21T00:00:00\",\"2018-01-28T00:00:00\",\"2018-02-04T00:00:00\",\"2018-02-11T00:00:00\",\"2018-02-18T00:00:00\",\"2018-02-25T00:00:00\",\"2018-03-04T00:00:00\",\"2018-03-11T00:00:00\",\"2018-03-18T00:00:00\",\"2018-03-25T00:00:00\",\"2018-04-01T00:00:00\",\"2018-04-08T00:00:00\",\"2018-04-15T00:00:00\",\"2018-04-22T00:00:00\",\"2018-04-29T00:00:00\",\"2018-05-06T00:00:00\",\"2018-05-13T00:00:00\",\"2018-05-20T00:00:00\",\"2018-05-27T00:00:00\",\"2018-06-03T00:00:00\",\"2018-06-10T00:00:00\",\"2018-06-17T00:00:00\",\"2018-06-24T00:00:00\",\"2018-07-01T00:00:00\",\"2018-07-08T00:00:00\",\"2018-07-15T00:00:00\",\"2018-07-22T00:00:00\",\"2018-07-29T00:00:00\",\"2018-08-05T00:00:00\",\"2018-08-12T00:00:00\",\"2018-08-19T00:00:00\",\"2018-08-26T00:00:00\",\"2018-09-02T00:00:00\",\"2018-09-09T00:00:00\",\"2018-09-16T00:00:00\",\"2018-09-23T00:00:00\",\"2018-09-30T00:00:00\",\"2018-10-07T00:00:00\",\"2018-10-14T00:00:00\",\"2018-10-21T00:00:00\",\"2018-10-28T00:00:00\",\"2018-11-04T00:00:00\",\"2018-11-11T00:00:00\",\"2018-11-18T00:00:00\",\"2018-11-25T00:00:00\",\"2018-12-02T00:00:00\",\"2018-12-09T00:00:00\",\"2018-12-16T00:00:00\",\"2018-12-23T00:00:00\",\"2018-12-30T00:00:00\",\"2019-01-06T00:00:00\",\"2019-01-13T00:00:00\",\"2019-01-20T00:00:00\",\"2019-01-27T00:00:00\",\"2019-02-03T00:00:00\",\"2019-02-10T00:00:00\",\"2019-02-17T00:00:00\",\"2019-02-24T00:00:00\",\"2019-03-03T00:00:00\",\"2019-03-10T00:00:00\",\"2019-03-17T00:00:00\",\"2019-03-24T00:00:00\",\"2019-03-31T00:00:00\",\"2019-04-07T00:00:00\",\"2019-04-14T00:00:00\",\"2019-04-21T00:00:00\",\"2019-04-28T00:00:00\",\"2019-05-05T00:00:00\",\"2019-05-12T00:00:00\",\"2019-05-19T00:00:00\",\"2019-05-26T00:00:00\",\"2019-06-02T00:00:00\",\"2019-06-09T00:00:00\",\"2019-06-16T00:00:00\",\"2019-06-23T00:00:00\",\"2019-06-30T00:00:00\",\"2019-07-07T00:00:00\",\"2019-07-14T00:00:00\",\"2019-07-21T00:00:00\",\"2019-07-28T00:00:00\",\"2019-08-04T00:00:00\",\"2019-08-11T00:00:00\",\"2019-08-18T00:00:00\",\"2019-08-25T00:00:00\",\"2019-09-01T00:00:00\",\"2019-09-08T00:00:00\",\"2019-09-15T00:00:00\",\"2019-09-22T00:00:00\",\"2019-09-29T00:00:00\",\"2019-10-06T00:00:00\",\"2019-10-13T00:00:00\",\"2019-10-20T00:00:00\",\"2019-10-27T00:00:00\",\"2019-11-03T00:00:00\",\"2019-11-10T00:00:00\",\"2019-11-17T00:00:00\",\"2019-11-24T00:00:00\",\"2019-12-01T00:00:00\",\"2019-12-08T00:00:00\",\"2019-12-15T00:00:00\",\"2019-12-22T00:00:00\",\"2019-12-29T00:00:00\",\"2020-01-05T00:00:00\",\"2020-01-12T00:00:00\",\"2020-01-19T00:00:00\",\"2020-01-26T00:00:00\",\"2020-02-02T00:00:00\",\"2020-02-09T00:00:00\",\"2020-02-16T00:00:00\",\"2020-02-23T00:00:00\",\"2020-03-01T00:00:00\",\"2020-03-08T00:00:00\",\"2020-03-15T00:00:00\",\"2020-03-22T00:00:00\",\"2020-03-29T00:00:00\",\"2020-04-05T00:00:00\",\"2020-04-12T00:00:00\",\"2020-04-19T00:00:00\",\"2020-04-26T00:00:00\",\"2020-05-03T00:00:00\",\"2020-05-10T00:00:00\",\"2020-05-17T00:00:00\",\"2020-05-24T00:00:00\",\"2020-05-31T00:00:00\",\"2020-06-07T00:00:00\",\"2020-06-14T00:00:00\",\"2020-06-21T00:00:00\",\"2020-06-28T00:00:00\",\"2020-07-05T00:00:00\",\"2020-07-12T00:00:00\",\"2020-07-19T00:00:00\",\"2020-07-26T00:00:00\",\"2020-08-02T00:00:00\",\"2020-08-09T00:00:00\",\"2020-08-16T00:00:00\",\"2020-08-23T00:00:00\",\"2020-08-30T00:00:00\",\"2020-09-06T00:00:00\",\"2020-09-13T00:00:00\",\"2020-09-20T00:00:00\",\"2020-09-27T00:00:00\",\"2020-10-04T00:00:00\",\"2020-10-11T00:00:00\",\"2020-10-18T00:00:00\",\"2020-10-25T00:00:00\",\"2020-11-01T00:00:00\",\"2020-11-08T00:00:00\",\"2020-11-15T00:00:00\",\"2020-11-22T00:00:00\",\"2020-11-29T00:00:00\",\"2020-12-06T00:00:00\",\"2020-12-13T00:00:00\",\"2020-12-20T00:00:00\",\"2020-12-27T00:00:00\",\"2021-01-03T00:00:00\",\"2021-01-10T00:00:00\",\"2021-01-17T00:00:00\",\"2021-01-24T00:00:00\",\"2021-01-31T00:00:00\",\"2021-02-07T00:00:00\",\"2021-02-14T00:00:00\",\"2021-02-21T00:00:00\",\"2021-02-28T00:00:00\",\"2021-03-07T00:00:00\",\"2021-03-14T00:00:00\",\"2021-03-21T00:00:00\",\"2021-03-28T00:00:00\",\"2021-04-04T00:00:00\",\"2021-04-11T00:00:00\",\"2021-04-18T00:00:00\",\"2021-04-25T00:00:00\",\"2021-05-02T00:00:00\",\"2021-05-09T00:00:00\",\"2021-05-16T00:00:00\",\"2021-05-23T00:00:00\",\"2021-05-30T00:00:00\",\"2021-06-06T00:00:00\",\"2021-06-13T00:00:00\",\"2021-06-20T00:00:00\",\"2021-06-27T00:00:00\",\"2021-07-04T00:00:00\",\"2021-07-11T00:00:00\",\"2021-07-18T00:00:00\",\"2021-07-25T00:00:00\",\"2021-08-01T00:00:00\",\"2021-08-08T00:00:00\",\"2021-08-15T00:00:00\",\"2021-08-22T00:00:00\",\"2021-08-29T00:00:00\",\"2021-09-05T00:00:00\",\"2021-09-12T00:00:00\",\"2021-09-19T00:00:00\",\"2021-09-26T00:00:00\",\"2021-10-03T00:00:00\",\"2021-10-10T00:00:00\",\"2021-10-17T00:00:00\",\"2021-10-24T00:00:00\",\"2021-10-31T00:00:00\"],\"y\":[303.9567035059398,248.96841979521832,236.79861187231384,252.54546451065644,254.35811270366082,233.21429220193366,280.1147838800124,238.80884973697243,299.38065538891556,340.9760083133078,307.4692118327233,298.2421225217265,323.9599783837101,291.05439868270446,308.1506313877874,369.83842769502974,332.10591749130356,343.6174111260524,375.92101776938364,309.4647864877995,291.49466000499683,320.6473805129182,398.2846897358283,333.6063970350589,324.4436975262068,342.3537765735205,390.2131458505276,305.68877869134263,315.43308754985173,400.4401911888063,375.2260197269242,379.703215336241,299.71032200182356,311.27310248375056,308.7227157018018,407.9483003328199,426.7421437282171,373.6204052308922,538.6527706646929,388.85356053512436,351.92085929346825,393.54869190610134,415.4622877370752,324.8130877230875,353.0121495705406,424.7092182422582,448.96351411894125,445.0670743988138,507.21784063246133,424.32789623982353,338.73140324911066,391.48368973092033,390.6323048421572,394.82263796307444,337.9056726376458,350.0949982473296,348.31481758513985,392.8117615571725,458.9303300338431,446.5808680890673,416.2665974370318,359.9820562720339,388.8823629749935,408.12480760742784,384.9184238873258,405.72615515865215,407.33597748894545,353.99129573636685,381.09641290284287,381.6777053105674,443.3157725420141,437.28846577175767,419.8149006311429,610.2672710985158,593.8947199366678,560.1884776082584,595.9320635498725,607.8199794978811,751.8090430558962,899.7780147044108,716.1509630894772,665.8204297701603,536.1789832653635,512.2434813744263,566.7109961321091,477.64492937817204,498.14849871625404,360.7145839096004,335.9338198872737,295.496171909922,397.21000322982894,394.47394079704765,327.65067951438067,320.3992301532327,321.7470622374592,360.10277797294276,350.3221857028731,419.0735360796453,449.8748582152159,555.6454569304088,401.2274730675304,336.00929421772736,380.9281932441831,327.4797670345388,360.33869926760144,399.354735134714,313.27542364042847,425.51599201283454,656.1844476139938,645.9613494600083,363.4716732748027,432.7489619831265,448.19283239885226,624.0360194705282,640.623580259248,613.6173001276501,571.1904879984985,710.6366677145106,811.7709797560476,756.0543288409572,677.3107698472376,781.8432262860562,880.1606442097218,798.8282900968834,598.512226255007,461.54337652791196,398.48685607172445,367.86319731208255,356.56242929794706,446.13218718301835,405.53629524236203,440.0794755929506,343.65459372767515,426.1673692975412,432.00986887080086,446.0602711693601,482.87708543326784,635.4664663383608,757.7289702444365,1030.8671789251998,836.6258084658311,944.068054427337,816.5875726434645,946.2974989992094,1174.3209821832688,1040.8102509697771,1020.5901261036132,937.307944773725,629.142553635213,667.4854075429733,701.8994798418549,705.1242060775355,764.0944539682246,833.3020885351601,1072.4919047102924,1104.9279105898388,970.1543057723984,1026.290899887277,805.2148303380537,782.6510489522939,734.6704400106179,867.2517964477845,762.3248734521827,716.7046832587606,654.792704667187,755.4450030461246,617.7986832035391,612.581650196536,678.3507600565425,712.2924607267166,608.4854982079524,566.4224792593839,495.8334501091766,556.8669216733,647.915936533467,677.9622043417916,486.66188073511466,485.88903783307495,487.7763091745935,498.9988267931414,370.46534621855176,389.2891975843217,386.92354683377306,369.832335142063,385.35525143511444,482.6495367590525,667.0513905985828,628.5708931093271,732.9187671493986,740.1821930232925,720.0846907233159,705.2907216476284,758.8297225988123,686.7953909432729,544.7450205343783,484.4778369634893,649.5959746355327,428.61293681162897,299.16734166773875,299.9441550759776,334.510333321881,338.20122836743553,355.1675622567946,366.27001799589203,302.40891934513786,358.6506334248107,347.20381437567937,361.3161044359178,339.3189697607706,403.44224278443704,359.237703981411,378.40650530718966,344.9570047288976,545.2356269990413,729.8089910779381,562.9286317164396,582.5809968568298,754.5733305424337,711.4449342525463,589.4541059969912,804.1828426164242,720.5894207758333,640.6035463136411,736.976103706448,879.5821123334306,957.3815903943168,1074.1633725782776,978.2204405480212,958.9905225681797,563.4375698198905,565.8596720220129,577.6023615383076,477.16271982386314,441.83406474630823,530.6271694424807,453.80502533047076,486.9048109858012,601.46275202804,775.6155094539588,846.8559509410543,966.3222177882705,812.5252305085069,1084.3510073915181,960.1644858421563,917.0538856135826,919.316737735915,910.1664847626976,863.0805095799641,646.0436870230133,589.7286140347744,515.5608658975021,373.66301160183065,366.6149697182818,383.6878265835909,402.0972473618863,339.3942822076393,296.8884097367021,322.9009866265239,350.9703552096431,302.851264741552,292.98270239812484,355.6550141537698,282.9157619339812,274.4886570831607,308.46568451321116,306.95029077308726,306.6834975117264,344.145874577939,318.2433891771929,324.2709813871471,310.4285090298881,295.5973262660483,254.17670648288194,264.67517994246896,279.02891508321403,298.1403740720185,296.42842833207527,330.17071673676975,416.8133062211071,389.6235451852252,370.8545494821753,315.74960835747953,317.3530140649417,374.2274073237541,375.13927177215413,376.4508929820724,375.29016687881915,315.9707156873818,403.1744638403873,332.74022677853435,247.2425875624799,240.91369781620992,283.5853854701954,312.1881020070375,339.4540262667824,388.11567608859764,510.08160318080104,456.6814205005318,424.00428275773123,482.8463047651409,807.5557560297142,756.0592521269363,846.9178575357408,861.2013210828658,795.122637795933,750.2398914251047,753.7825044773881,799.8710068362847,715.7183365890878,810.3711839111427,999.749266294889,1037.877172847346,985.5687776154433,1123.2273331187157,972.7256636521798,771.589371695161,636.7587702835302,517.5561867032425,423.1166246563235,465.4980399265103,441.99137362087214,365.4807677169432,427.2157855814555,363.3696960377607,346.1929295768479,441.8882632264861,374.5696241964731,341.16465310793916,410.82377068228885,406.06476417972544,406.23288295842417,397.2595832615154,338.27872458753933,325.8125388313157,322.33120946633625,399.22877728235903,471.73988675100867,469.33107290678953,538.6458532783105,495.84778277235904,438.7594425250605,479.3625339442753,413.9779725385853,433.25752027474164,502.3590393889645,528.2366792498001,569.052188050277,1021.5718095439736,910.4666005687551,890.4758596930315,921.3722303132378,963.9532961596834,1136.4446720614485,891.9259805866786,627.7210774471226,540.9156819153278,449.32091232329293,478.9021764220692,466.5693040519606,487.38603648807043,452.50156766362306,356.6423424697786,376.4801541117103,424.3697135683806,498.4327232749422,494.609996510865,586.8714952923754,608.3376654301659,495.7444172035581,407.9434336747099,395.76684816494935,333.12693009779775,339.3838087362066,317.8693564803821,324.49109800784566,278.63218856601094,328.69928237989285,275.87562602387203,289.65796582721913,314.5958335439142,338.26140652726025,323.69808416694264,396.4771904170876,362.32229121309325,353.72731632450126,299.64496053039716,322.17117541266026,341.0345645831519,398.0998190448241,361.8497898347172,370.3043358566918,440.94789088633416,559.6411885908902,324.7004786187857,367.4684085981375,476.63668144650717,533.6453595370886,455.6121282685036,424.8410845375007,400.80996864249846,382.55609339640273,375.6514174543778,402.75294999188714,392.9943591149243,283.5405378872586,295.57696037188225,274.9152664717283,464.21993730066936,408.3756309315952]},{\"name\":\"\\ucd1d \\ubb3c\\ub7c9\",\"type\":\"scatter\",\"x\":[\"2014-01-05T00:00:00\",\"2014-01-12T00:00:00\",\"2014-01-19T00:00:00\",\"2014-01-26T00:00:00\",\"2014-02-02T00:00:00\",\"2014-02-09T00:00:00\",\"2014-02-16T00:00:00\",\"2014-02-23T00:00:00\",\"2014-03-02T00:00:00\",\"2014-03-09T00:00:00\",\"2014-03-16T00:00:00\",\"2014-03-23T00:00:00\",\"2014-03-30T00:00:00\",\"2014-04-06T00:00:00\",\"2014-04-13T00:00:00\",\"2014-04-20T00:00:00\",\"2014-04-27T00:00:00\",\"2014-05-04T00:00:00\",\"2014-05-11T00:00:00\",\"2014-05-18T00:00:00\",\"2014-05-25T00:00:00\",\"2014-06-01T00:00:00\",\"2014-06-08T00:00:00\",\"2014-06-15T00:00:00\",\"2014-06-22T00:00:00\",\"2014-06-29T00:00:00\",\"2014-07-06T00:00:00\",\"2014-07-13T00:00:00\",\"2014-07-20T00:00:00\",\"2014-07-27T00:00:00\",\"2014-08-03T00:00:00\",\"2014-08-10T00:00:00\",\"2014-08-17T00:00:00\",\"2014-08-24T00:00:00\",\"2014-08-31T00:00:00\",\"2014-09-07T00:00:00\",\"2014-09-14T00:00:00\",\"2014-09-21T00:00:00\",\"2014-09-28T00:00:00\",\"2014-10-05T00:00:00\",\"2014-10-12T00:00:00\",\"2014-10-19T00:00:00\",\"2014-10-26T00:00:00\",\"2014-11-02T00:00:00\",\"2014-11-09T00:00:00\",\"2014-11-16T00:00:00\",\"2014-11-23T00:00:00\",\"2014-11-30T00:00:00\",\"2014-12-07T00:00:00\",\"2014-12-14T00:00:00\",\"2014-12-21T00:00:00\",\"2014-12-28T00:00:00\",\"2015-01-04T00:00:00\",\"2015-01-11T00:00:00\",\"2015-01-18T00:00:00\",\"2015-01-25T00:00:00\",\"2015-02-01T00:00:00\",\"2015-02-08T00:00:00\",\"2015-02-15T00:00:00\",\"2015-02-22T00:00:00\",\"2015-03-01T00:00:00\",\"2015-03-08T00:00:00\",\"2015-03-15T00:00:00\",\"2015-03-22T00:00:00\",\"2015-03-29T00:00:00\",\"2015-04-05T00:00:00\",\"2015-04-12T00:00:00\",\"2015-04-19T00:00:00\",\"2015-04-26T00:00:00\",\"2015-05-03T00:00:00\",\"2015-05-10T00:00:00\",\"2015-05-17T00:00:00\",\"2015-05-24T00:00:00\",\"2015-05-31T00:00:00\",\"2015-06-07T00:00:00\",\"2015-06-14T00:00:00\",\"2015-06-21T00:00:00\",\"2015-06-28T00:00:00\",\"2015-07-05T00:00:00\",\"2015-07-12T00:00:00\",\"2015-07-19T00:00:00\",\"2015-07-26T00:00:00\",\"2015-08-02T00:00:00\",\"2015-08-09T00:00:00\",\"2015-08-16T00:00:00\",\"2015-08-23T00:00:00\",\"2015-08-30T00:00:00\",\"2015-09-06T00:00:00\",\"2015-09-13T00:00:00\",\"2015-09-20T00:00:00\",\"2015-09-27T00:00:00\",\"2015-10-04T00:00:00\",\"2015-10-11T00:00:00\",\"2015-10-18T00:00:00\",\"2015-10-25T00:00:00\",\"2015-11-01T00:00:00\",\"2015-11-08T00:00:00\",\"2015-11-15T00:00:00\",\"2015-11-22T00:00:00\",\"2015-11-29T00:00:00\",\"2015-12-06T00:00:00\",\"2015-12-13T00:00:00\",\"2015-12-20T00:00:00\",\"2015-12-27T00:00:00\",\"2016-01-03T00:00:00\",\"2016-01-10T00:00:00\",\"2016-01-17T00:00:00\",\"2016-01-24T00:00:00\",\"2016-01-31T00:00:00\",\"2016-02-07T00:00:00\",\"2016-02-14T00:00:00\",\"2016-02-21T00:00:00\",\"2016-02-28T00:00:00\",\"2016-03-06T00:00:00\",\"2016-03-13T00:00:00\",\"2016-03-20T00:00:00\",\"2016-03-27T00:00:00\",\"2016-04-03T00:00:00\",\"2016-04-10T00:00:00\",\"2016-04-17T00:00:00\",\"2016-04-24T00:00:00\",\"2016-05-01T00:00:00\",\"2016-05-08T00:00:00\",\"2016-05-15T00:00:00\",\"2016-05-22T00:00:00\",\"2016-05-29T00:00:00\",\"2016-06-05T00:00:00\",\"2016-06-12T00:00:00\",\"2016-06-19T00:00:00\",\"2016-06-26T00:00:00\",\"2016-07-03T00:00:00\",\"2016-07-10T00:00:00\",\"2016-07-17T00:00:00\",\"2016-07-24T00:00:00\",\"2016-07-31T00:00:00\",\"2016-08-07T00:00:00\",\"2016-08-14T00:00:00\",\"2016-08-21T00:00:00\",\"2016-08-28T00:00:00\",\"2016-09-04T00:00:00\",\"2016-09-11T00:00:00\",\"2016-09-18T00:00:00\",\"2016-09-25T00:00:00\",\"2016-10-02T00:00:00\",\"2016-10-09T00:00:00\",\"2016-10-16T00:00:00\",\"2016-10-23T00:00:00\",\"2016-10-30T00:00:00\",\"2016-11-06T00:00:00\",\"2016-11-13T00:00:00\",\"2016-11-20T00:00:00\",\"2016-11-27T00:00:00\",\"2016-12-04T00:00:00\",\"2016-12-11T00:00:00\",\"2016-12-18T00:00:00\",\"2016-12-25T00:00:00\",\"2017-01-01T00:00:00\",\"2017-01-08T00:00:00\",\"2017-01-15T00:00:00\",\"2017-01-22T00:00:00\",\"2017-01-29T00:00:00\",\"2017-02-05T00:00:00\",\"2017-02-12T00:00:00\",\"2017-02-19T00:00:00\",\"2017-02-26T00:00:00\",\"2017-03-05T00:00:00\",\"2017-03-12T00:00:00\",\"2017-03-19T00:00:00\",\"2017-03-26T00:00:00\",\"2017-04-02T00:00:00\",\"2017-04-09T00:00:00\",\"2017-04-16T00:00:00\",\"2017-04-23T00:00:00\",\"2017-04-30T00:00:00\",\"2017-05-07T00:00:00\",\"2017-05-14T00:00:00\",\"2017-05-21T00:00:00\",\"2017-05-28T00:00:00\",\"2017-06-04T00:00:00\",\"2017-06-11T00:00:00\",\"2017-06-18T00:00:00\",\"2017-06-25T00:00:00\",\"2017-07-02T00:00:00\",\"2017-07-09T00:00:00\",\"2017-07-16T00:00:00\",\"2017-07-23T00:00:00\",\"2017-07-30T00:00:00\",\"2017-08-06T00:00:00\",\"2017-08-13T00:00:00\",\"2017-08-20T00:00:00\",\"2017-08-27T00:00:00\",\"2017-09-03T00:00:00\",\"2017-09-10T00:00:00\",\"2017-09-17T00:00:00\",\"2017-09-24T00:00:00\",\"2017-10-01T00:00:00\",\"2017-10-08T00:00:00\",\"2017-10-15T00:00:00\",\"2017-10-22T00:00:00\",\"2017-10-29T00:00:00\",\"2017-11-05T00:00:00\",\"2017-11-12T00:00:00\",\"2017-11-19T00:00:00\",\"2017-11-26T00:00:00\",\"2017-12-03T00:00:00\",\"2017-12-10T00:00:00\",\"2017-12-17T00:00:00\",\"2017-12-24T00:00:00\",\"2017-12-31T00:00:00\",\"2018-01-07T00:00:00\",\"2018-01-14T00:00:00\",\"2018-01-21T00:00:00\",\"2018-01-28T00:00:00\",\"2018-02-04T00:00:00\",\"2018-02-11T00:00:00\",\"2018-02-18T00:00:00\",\"2018-02-25T00:00:00\",\"2018-03-04T00:00:00\",\"2018-03-11T00:00:00\",\"2018-03-18T00:00:00\",\"2018-03-25T00:00:00\",\"2018-04-01T00:00:00\",\"2018-04-08T00:00:00\",\"2018-04-15T00:00:00\",\"2018-04-22T00:00:00\",\"2018-04-29T00:00:00\",\"2018-05-06T00:00:00\",\"2018-05-13T00:00:00\",\"2018-05-20T00:00:00\",\"2018-05-27T00:00:00\",\"2018-06-03T00:00:00\",\"2018-06-10T00:00:00\",\"2018-06-17T00:00:00\",\"2018-06-24T00:00:00\",\"2018-07-01T00:00:00\",\"2018-07-08T00:00:00\",\"2018-07-15T00:00:00\",\"2018-07-22T00:00:00\",\"2018-07-29T00:00:00\",\"2018-08-05T00:00:00\",\"2018-08-12T00:00:00\",\"2018-08-19T00:00:00\",\"2018-08-26T00:00:00\",\"2018-09-02T00:00:00\",\"2018-09-09T00:00:00\",\"2018-09-16T00:00:00\",\"2018-09-23T00:00:00\",\"2018-09-30T00:00:00\",\"2018-10-07T00:00:00\",\"2018-10-14T00:00:00\",\"2018-10-21T00:00:00\",\"2018-10-28T00:00:00\",\"2018-11-04T00:00:00\",\"2018-11-11T00:00:00\",\"2018-11-18T00:00:00\",\"2018-11-25T00:00:00\",\"2018-12-02T00:00:00\",\"2018-12-09T00:00:00\",\"2018-12-16T00:00:00\",\"2018-12-23T00:00:00\",\"2018-12-30T00:00:00\",\"2019-01-06T00:00:00\",\"2019-01-13T00:00:00\",\"2019-01-20T00:00:00\",\"2019-01-27T00:00:00\",\"2019-02-03T00:00:00\",\"2019-02-10T00:00:00\",\"2019-02-17T00:00:00\",\"2019-02-24T00:00:00\",\"2019-03-03T00:00:00\",\"2019-03-10T00:00:00\",\"2019-03-17T00:00:00\",\"2019-03-24T00:00:00\",\"2019-03-31T00:00:00\",\"2019-04-07T00:00:00\",\"2019-04-14T00:00:00\",\"2019-04-21T00:00:00\",\"2019-04-28T00:00:00\",\"2019-05-05T00:00:00\",\"2019-05-12T00:00:00\",\"2019-05-19T00:00:00\",\"2019-05-26T00:00:00\",\"2019-06-02T00:00:00\",\"2019-06-09T00:00:00\",\"2019-06-16T00:00:00\",\"2019-06-23T00:00:00\",\"2019-06-30T00:00:00\",\"2019-07-07T00:00:00\",\"2019-07-14T00:00:00\",\"2019-07-21T00:00:00\",\"2019-07-28T00:00:00\",\"2019-08-04T00:00:00\",\"2019-08-11T00:00:00\",\"2019-08-18T00:00:00\",\"2019-08-25T00:00:00\",\"2019-09-01T00:00:00\",\"2019-09-08T00:00:00\",\"2019-09-15T00:00:00\",\"2019-09-22T00:00:00\",\"2019-09-29T00:00:00\",\"2019-10-06T00:00:00\",\"2019-10-13T00:00:00\",\"2019-10-20T00:00:00\",\"2019-10-27T00:00:00\",\"2019-11-03T00:00:00\",\"2019-11-10T00:00:00\",\"2019-11-17T00:00:00\",\"2019-11-24T00:00:00\",\"2019-12-01T00:00:00\",\"2019-12-08T00:00:00\",\"2019-12-15T00:00:00\",\"2019-12-22T00:00:00\",\"2019-12-29T00:00:00\",\"2020-01-05T00:00:00\",\"2020-01-12T00:00:00\",\"2020-01-19T00:00:00\",\"2020-01-26T00:00:00\",\"2020-02-02T00:00:00\",\"2020-02-09T00:00:00\",\"2020-02-16T00:00:00\",\"2020-02-23T00:00:00\",\"2020-03-01T00:00:00\",\"2020-03-08T00:00:00\",\"2020-03-15T00:00:00\",\"2020-03-22T00:00:00\",\"2020-03-29T00:00:00\",\"2020-04-05T00:00:00\",\"2020-04-12T00:00:00\",\"2020-04-19T00:00:00\",\"2020-04-26T00:00:00\",\"2020-05-03T00:00:00\",\"2020-05-10T00:00:00\",\"2020-05-17T00:00:00\",\"2020-05-24T00:00:00\",\"2020-05-31T00:00:00\",\"2020-06-07T00:00:00\",\"2020-06-14T00:00:00\",\"2020-06-21T00:00:00\",\"2020-06-28T00:00:00\",\"2020-07-05T00:00:00\",\"2020-07-12T00:00:00\",\"2020-07-19T00:00:00\",\"2020-07-26T00:00:00\",\"2020-08-02T00:00:00\",\"2020-08-09T00:00:00\",\"2020-08-16T00:00:00\",\"2020-08-23T00:00:00\",\"2020-08-30T00:00:00\",\"2020-09-06T00:00:00\",\"2020-09-13T00:00:00\",\"2020-09-20T00:00:00\",\"2020-09-27T00:00:00\",\"2020-10-04T00:00:00\",\"2020-10-11T00:00:00\",\"2020-10-18T00:00:00\",\"2020-10-25T00:00:00\",\"2020-11-01T00:00:00\",\"2020-11-08T00:00:00\",\"2020-11-15T00:00:00\",\"2020-11-22T00:00:00\",\"2020-11-29T00:00:00\",\"2020-12-06T00:00:00\",\"2020-12-13T00:00:00\",\"2020-12-20T00:00:00\",\"2020-12-27T00:00:00\",\"2021-01-03T00:00:00\",\"2021-01-10T00:00:00\",\"2021-01-17T00:00:00\",\"2021-01-24T00:00:00\",\"2021-01-31T00:00:00\",\"2021-02-07T00:00:00\",\"2021-02-14T00:00:00\",\"2021-02-21T00:00:00\",\"2021-02-28T00:00:00\",\"2021-03-07T00:00:00\",\"2021-03-14T00:00:00\",\"2021-03-21T00:00:00\",\"2021-03-28T00:00:00\",\"2021-04-04T00:00:00\",\"2021-04-11T00:00:00\",\"2021-04-18T00:00:00\",\"2021-04-25T00:00:00\",\"2021-05-02T00:00:00\",\"2021-05-09T00:00:00\",\"2021-05-16T00:00:00\",\"2021-05-23T00:00:00\",\"2021-05-30T00:00:00\",\"2021-06-06T00:00:00\",\"2021-06-13T00:00:00\",\"2021-06-20T00:00:00\",\"2021-06-27T00:00:00\",\"2021-07-04T00:00:00\",\"2021-07-11T00:00:00\",\"2021-07-18T00:00:00\",\"2021-07-25T00:00:00\",\"2021-08-01T00:00:00\",\"2021-08-08T00:00:00\",\"2021-08-15T00:00:00\",\"2021-08-22T00:00:00\",\"2021-08-29T00:00:00\",\"2021-09-05T00:00:00\",\"2021-09-12T00:00:00\",\"2021-09-19T00:00:00\",\"2021-09-26T00:00:00\",\"2021-10-03T00:00:00\",\"2021-10-10T00:00:00\",\"2021-10-17T00:00:00\",\"2021-10-24T00:00:00\",\"2021-10-31T00:00:00\"],\"xaxis\":\"x\",\"y\":[1449540.0,3884332.0,3484982.0,3904496.0,2881752.0,2312086.0,4060152.0,3077244.0,3355870.0,3849250.0,3671378.0,3685126.0,3049552.0,3485930.0,3318246.0,3042972.0,3066198.0,3220010.0,3645934.0,3890410.0,3546258.0,3444682.0,3488640.0,3298278.0,2990064.0,3058778.0,2932180.0,3088998.0,2853460.0,2985112.0,2414568.0,3253470.0,3283646.0,3452118.0,4225324.0,4689624.0,2077894.0,3148526.0,3315486.0,3392931.0,3461076.0,3694536.0,3808602.0,4231691.0,4644444.0,4634799.0,5606936.0,4389156.0,3596868.0,4283416.0,3180932.0,3396020.0,2527262.0,4235010.0,4016650.0,3417642.0,3823592.0,3803612.0,4912375.0,2913572.0,3352129.0,4008030.0,3822368.0,3702066.0,3708745.0,3530554.0,3731500.0,3873504.0,3504282.0,3045362.0,3532775.5,3652364.0,3789316.0,3379041.0,3698592.0,3210514.0,3207056.0,2622168.0,3172202.0,2748155.0,3161700.0,2769713.0,2958176.0,3228518.0,2845737.0,3304644.0,3333214.0,3904440.0,4284006.0,4899310.0,4848554.0,2213268.0,3697052.0,3773738.0,3563256.0,3814436.0,4538842.0,4413167.0,5011116.0,4642742.0,4747151.0,3586531.0,3420667.0,3300060.0,2351998.0,17779798.059999995,8988961.499999996,6546352.299999998,8156154.3,14513924.0,3820164.5,8877529.100000001,8544724.9,9557686.299999999,8899115.9,9220052.2,8991062.5,8700723.899999999,8132774.5,7940482.3,8642780.899999999,6438504.1,7157892.6,8395875.1,8550005.700000001,8881778.2,9025851.899999999,8043640.200000002,7878572.5,7100174.0,7617454.3,7571431.4,7534475.8,7174321.799999999,7101927.0,6923097.8,8194700.0,6826194.6,7634679.8,9333763.5,13106181.6,5553863.5,9959395.6,8059377.699999999,7297668.6,9181129.4,7860623.3,8529708.0,13028525.7,13465467.100000001,16163084.4,16439561.899999999,12774631.1,10784472.5,9105449.3,8372131.2,8775102.700000001,8481236.700000001,10356467.9,10729529.899999999,7947168.45,5146822.29,9951495.199999996,9076282.6,8149281.4,9680660.700000001,10943012.4,9469769.0,8446740.0,10351337.2,8915639.5,9876695.5,9047961.499999998,8230897.0,7736316.699999999,8457278.3,9074513.4,7820752.1,7562893.100000001,8131728.800000001,8002813.5,7777029.0,7580000.0,7462714.699999999,6517337.5,6988965.5,7052107.000000001,6950205.1,7887849.5,7836573.4,7699107.7,9552087.099999998,9565957.6,10857796.5,12211204.899999999,13852104.6,3575080.0,11816910.1,10717637.299999997,10114670.399999999,10906013.7,15046898.399999999,17016508.1,17825679.3,14692930.7,10606002.300000003,10157929.7,10155352.899999999,7244701.8,7436131.5,8535207.899999999,8228592.200000001,8963822.999999998,8720117.000000002,10910839.020000001,8232881.200000001,7211699.6,6900045.1,9655373.16,8382400.2,6950246.2,8648953.7,7789660.7,7867977.5,7202327.8999999985,6735304.500000001,7560285.9,7659537.299999999,7680825.5,8679027.5,8240077.399999999,8374202.500000002,8153567.699999999,8090413.4,7286895.2,7086702.1,7471608.0,6789745.5,7082377.0,6587520.300000001,7660835.899999999,7764062.7,6882929.7,8059490.0,9621492.0,11593223.3,12989362.9,5726190.6,9379636.6,9519070.0,10831171.099999998,12129378.999999998,14217241.5,13819107.5,19382551.5,18408797.2,13637003.4,10665454.19999999,9739296.400000004,9811526.3,8114731.800000001,5696256.299999999,11139247.9,9414703.600000005,11239200.900000004,11846024.100000001,2856699.5,8703931.130000003,8308182.900000002,9742375.4,8893044.8,9999125.0,9736200.799999999,8449422.8,9993089.0,7762318.1,9921377.0,6989496.3,8063963.4,8251686.200000001,7919839.799999996,8451648.699999997,7964625.999999999,7191934.599999999,7638460.999999999,7075416.4,7829274.0,7421058.600000001,6805151.699999999,7596177.5,6885494.8,6591920.099999999,8165460.1,6812628.0,8333331.3,9349322.0,12147430.899999999,8034883.299999999,9673953.7,8567612.399999999,7292045.4,9331955.3,8666681.800000003,9175715.1,9879809.000000002,12377078.500000004,13906099.599999994,14762301.700000005,12916257.700000003,8977264.100000001,7805145.299999999,7462656.1,6952925.699999999,5182552.4,10213998.699999997,11282243.199999996,8260710.7,5898179.3,8787042.4,8198162.000000002,9017410.299999999,9337014.2,8499257.400000002,8944558.400000002,8634925.9,8674397.600000001,8905006.9,9396688.1,7517458.6,7729689.5,8498898.56,7683782.800000001,8793594.499999998,7923212.099999999,8878129.699999997,7546882.200000001,6382308.5,6553836.8,6570158.8,6489277.299999999,7684901.499999997,7540225.799999999,6484523.9,6447394.100000001,7725745.100000001,8126725.100000001,7118913.200000001,6997842.1,7514407.900000002,8428482.3,10491678.3,12287036.700000001,6218242.700000003,11127626.699999992,9709194.799999999,11399197.5,12936892.099999998,14923167.919999992,18714989.720000006,17726482.940000005,19330358.600000005,12485304.3,9693955.1,6950423.300000004,8976698.100000001,4503981.499999999,8147559.100000001,6898122.2,9959865.200000001,8728210.6,11420567.199999997,6806844.199999999,6442574.299999999,10133450.200000001,8918099.3,10797967.199999996,7722330.999999999,9443929.0,8489897.3,7700923.599999999,7454498.25,7647717.499999999,5852583.999999999,7415924.799999999,7736521.8,7298413.899999994,7581690.5,7220665.7,6325544.399999999,5418283.1,6702601.600000001,6339942.8,6326186.799999999,5873672.500000001,5660100.2,5770326.149999999,5814779.800000001,6632465.300000002,6721781.4,7497185.299999999,8792398.599999998,10361381.1,12324932.200000001,4395072.7,9458963.6,7344774.800000002,8675149.2,8475146.3,11262948.399999999],\"yaxis\":\"y2\"}],                        {\"template\":{\"data\":{\"bar\":[{\"error_x\":{\"color\":\"#2a3f5f\"},\"error_y\":{\"color\":\"#2a3f5f\"},\"marker\":{\"line\":{\"color\":\"#E5ECF6\",\"width\":0.5},\"pattern\":{\"fillmode\":\"overlay\",\"size\":10,\"solidity\":0.2}},\"type\":\"bar\"}],\"barpolar\":[{\"marker\":{\"line\":{\"color\":\"#E5ECF6\",\"width\":0.5},\"pattern\":{\"fillmode\":\"overlay\",\"size\":10,\"solidity\":0.2}},\"type\":\"barpolar\"}],\"carpet\":[{\"aaxis\":{\"endlinecolor\":\"#2a3f5f\",\"gridcolor\":\"white\",\"linecolor\":\"white\",\"minorgridcolor\":\"white\",\"startlinecolor\":\"#2a3f5f\"},\"baxis\":{\"endlinecolor\":\"#2a3f5f\",\"gridcolor\":\"white\",\"linecolor\":\"white\",\"minorgridcolor\":\"white\",\"startlinecolor\":\"#2a3f5f\"},\"type\":\"carpet\"}],\"choropleth\":[{\"colorbar\":{\"outlinewidth\":0,\"ticks\":\"\"},\"type\":\"choropleth\"}],\"contour\":[{\"colorbar\":{\"outlinewidth\":0,\"ticks\":\"\"},\"colorscale\":[[0.0,\"#0d0887\"],[0.1111111111111111,\"#46039f\"],[0.2222222222222222,\"#7201a8\"],[0.3333333333333333,\"#9c179e\"],[0.4444444444444444,\"#bd3786\"],[0.5555555555555556,\"#d8576b\"],[0.6666666666666666,\"#ed7953\"],[0.7777777777777778,\"#fb9f3a\"],[0.8888888888888888,\"#fdca26\"],[1.0,\"#f0f921\"]],\"type\":\"contour\"}],\"contourcarpet\":[{\"colorbar\":{\"outlinewidth\":0,\"ticks\":\"\"},\"type\":\"contourcarpet\"}],\"heatmap\":[{\"colorbar\":{\"outlinewidth\":0,\"ticks\":\"\"},\"colorscale\":[[0.0,\"#0d0887\"],[0.1111111111111111,\"#46039f\"],[0.2222222222222222,\"#7201a8\"],[0.3333333333333333,\"#9c179e\"],[0.4444444444444444,\"#bd3786\"],[0.5555555555555556,\"#d8576b\"],[0.6666666666666666,\"#ed7953\"],[0.7777777777777778,\"#fb9f3a\"],[0.8888888888888888,\"#fdca26\"],[1.0,\"#f0f921\"]],\"type\":\"heatmap\"}],\"heatmapgl\":[{\"colorbar\":{\"outlinewidth\":0,\"ticks\":\"\"},\"colorscale\":[[0.0,\"#0d0887\"],[0.1111111111111111,\"#46039f\"],[0.2222222222222222,\"#7201a8\"],[0.3333333333333333,\"#9c179e\"],[0.4444444444444444,\"#bd3786\"],[0.5555555555555556,\"#d8576b\"],[0.6666666666666666,\"#ed7953\"],[0.7777777777777778,\"#fb9f3a\"],[0.8888888888888888,\"#fdca26\"],[1.0,\"#f0f921\"]],\"type\":\"heatmapgl\"}],\"histogram\":[{\"marker\":{\"pattern\":{\"fillmode\":\"overlay\",\"size\":10,\"solidity\":0.2}},\"type\":\"histogram\"}],\"histogram2d\":[{\"colorbar\":{\"outlinewidth\":0,\"ticks\":\"\"},\"colorscale\":[[0.0,\"#0d0887\"],[0.1111111111111111,\"#46039f\"],[0.2222222222222222,\"#7201a8\"],[0.3333333333333333,\"#9c179e\"],[0.4444444444444444,\"#bd3786\"],[0.5555555555555556,\"#d8576b\"],[0.6666666666666666,\"#ed7953\"],[0.7777777777777778,\"#fb9f3a\"],[0.8888888888888888,\"#fdca26\"],[1.0,\"#f0f921\"]],\"type\":\"histogram2d\"}],\"histogram2dcontour\":[{\"colorbar\":{\"outlinewidth\":0,\"ticks\":\"\"},\"colorscale\":[[0.0,\"#0d0887\"],[0.1111111111111111,\"#46039f\"],[0.2222222222222222,\"#7201a8\"],[0.3333333333333333,\"#9c179e\"],[0.4444444444444444,\"#bd3786\"],[0.5555555555555556,\"#d8576b\"],[0.6666666666666666,\"#ed7953\"],[0.7777777777777778,\"#fb9f3a\"],[0.8888888888888888,\"#fdca26\"],[1.0,\"#f0f921\"]],\"type\":\"histogram2dcontour\"}],\"mesh3d\":[{\"colorbar\":{\"outlinewidth\":0,\"ticks\":\"\"},\"type\":\"mesh3d\"}],\"parcoords\":[{\"line\":{\"colorbar\":{\"outlinewidth\":0,\"ticks\":\"\"}},\"type\":\"parcoords\"}],\"pie\":[{\"automargin\":true,\"type\":\"pie\"}],\"scatter\":[{\"marker\":{\"colorbar\":{\"outlinewidth\":0,\"ticks\":\"\"}},\"type\":\"scatter\"}],\"scatter3d\":[{\"line\":{\"colorbar\":{\"outlinewidth\":0,\"ticks\":\"\"}},\"marker\":{\"colorbar\":{\"outlinewidth\":0,\"ticks\":\"\"}},\"type\":\"scatter3d\"}],\"scattercarpet\":[{\"marker\":{\"colorbar\":{\"outlinewidth\":0,\"ticks\":\"\"}},\"type\":\"scattercarpet\"}],\"scattergeo\":[{\"marker\":{\"colorbar\":{\"outlinewidth\":0,\"ticks\":\"\"}},\"type\":\"scattergeo\"}],\"scattergl\":[{\"marker\":{\"colorbar\":{\"outlinewidth\":0,\"ticks\":\"\"}},\"type\":\"scattergl\"}],\"scattermapbox\":[{\"marker\":{\"colorbar\":{\"outlinewidth\":0,\"ticks\":\"\"}},\"type\":\"scattermapbox\"}],\"scatterpolar\":[{\"marker\":{\"colorbar\":{\"outlinewidth\":0,\"ticks\":\"\"}},\"type\":\"scatterpolar\"}],\"scatterpolargl\":[{\"marker\":{\"colorbar\":{\"outlinewidth\":0,\"ticks\":\"\"}},\"type\":\"scatterpolargl\"}],\"scatterternary\":[{\"marker\":{\"colorbar\":{\"outlinewidth\":0,\"ticks\":\"\"}},\"type\":\"scatterternary\"}],\"surface\":[{\"colorbar\":{\"outlinewidth\":0,\"ticks\":\"\"},\"colorscale\":[[0.0,\"#0d0887\"],[0.1111111111111111,\"#46039f\"],[0.2222222222222222,\"#7201a8\"],[0.3333333333333333,\"#9c179e\"],[0.4444444444444444,\"#bd3786\"],[0.5555555555555556,\"#d8576b\"],[0.6666666666666666,\"#ed7953\"],[0.7777777777777778,\"#fb9f3a\"],[0.8888888888888888,\"#fdca26\"],[1.0,\"#f0f921\"]],\"type\":\"surface\"}],\"table\":[{\"cells\":{\"fill\":{\"color\":\"#EBF0F8\"},\"line\":{\"color\":\"white\"}},\"header\":{\"fill\":{\"color\":\"#C8D4E3\"},\"line\":{\"color\":\"white\"}},\"type\":\"table\"}]},\"layout\":{\"annotationdefaults\":{\"arrowcolor\":\"#2a3f5f\",\"arrowhead\":0,\"arrowwidth\":1},\"autotypenumbers\":\"strict\",\"coloraxis\":{\"colorbar\":{\"outlinewidth\":0,\"ticks\":\"\"}},\"colorscale\":{\"diverging\":[[0,\"#8e0152\"],[0.1,\"#c51b7d\"],[0.2,\"#de77ae\"],[0.3,\"#f1b6da\"],[0.4,\"#fde0ef\"],[0.5,\"#f7f7f7\"],[0.6,\"#e6f5d0\"],[0.7,\"#b8e186\"],[0.8,\"#7fbc41\"],[0.9,\"#4d9221\"],[1,\"#276419\"]],\"sequential\":[[0.0,\"#0d0887\"],[0.1111111111111111,\"#46039f\"],[0.2222222222222222,\"#7201a8\"],[0.3333333333333333,\"#9c179e\"],[0.4444444444444444,\"#bd3786\"],[0.5555555555555556,\"#d8576b\"],[0.6666666666666666,\"#ed7953\"],[0.7777777777777778,\"#fb9f3a\"],[0.8888888888888888,\"#fdca26\"],[1.0,\"#f0f921\"]],\"sequentialminus\":[[0.0,\"#0d0887\"],[0.1111111111111111,\"#46039f\"],[0.2222222222222222,\"#7201a8\"],[0.3333333333333333,\"#9c179e\"],[0.4444444444444444,\"#bd3786\"],[0.5555555555555556,\"#d8576b\"],[0.6666666666666666,\"#ed7953\"],[0.7777777777777778,\"#fb9f3a\"],[0.8888888888888888,\"#fdca26\"],[1.0,\"#f0f921\"]]},\"colorway\":[\"#636efa\",\"#EF553B\",\"#00cc96\",\"#ab63fa\",\"#FFA15A\",\"#19d3f3\",\"#FF6692\",\"#B6E880\",\"#FF97FF\",\"#FECB52\"],\"font\":{\"color\":\"#2a3f5f\"},\"geo\":{\"bgcolor\":\"white\",\"lakecolor\":\"white\",\"landcolor\":\"#E5ECF6\",\"showlakes\":true,\"showland\":true,\"subunitcolor\":\"white\"},\"hoverlabel\":{\"align\":\"left\"},\"hovermode\":\"closest\",\"mapbox\":{\"style\":\"light\"},\"paper_bgcolor\":\"white\",\"plot_bgcolor\":\"#E5ECF6\",\"polar\":{\"angularaxis\":{\"gridcolor\":\"white\",\"linecolor\":\"white\",\"ticks\":\"\"},\"bgcolor\":\"#E5ECF6\",\"radialaxis\":{\"gridcolor\":\"white\",\"linecolor\":\"white\",\"ticks\":\"\"}},\"scene\":{\"xaxis\":{\"backgroundcolor\":\"#E5ECF6\",\"gridcolor\":\"white\",\"gridwidth\":2,\"linecolor\":\"white\",\"showbackground\":true,\"ticks\":\"\",\"zerolinecolor\":\"white\"},\"yaxis\":{\"backgroundcolor\":\"#E5ECF6\",\"gridcolor\":\"white\",\"gridwidth\":2,\"linecolor\":\"white\",\"showbackground\":true,\"ticks\":\"\",\"zerolinecolor\":\"white\"},\"zaxis\":{\"backgroundcolor\":\"#E5ECF6\",\"gridcolor\":\"white\",\"gridwidth\":2,\"linecolor\":\"white\",\"showbackground\":true,\"ticks\":\"\",\"zerolinecolor\":\"white\"}},\"shapedefaults\":{\"line\":{\"color\":\"#2a3f5f\"}},\"ternary\":{\"aaxis\":{\"gridcolor\":\"white\",\"linecolor\":\"white\",\"ticks\":\"\"},\"baxis\":{\"gridcolor\":\"white\",\"linecolor\":\"white\",\"ticks\":\"\"},\"bgcolor\":\"#E5ECF6\",\"caxis\":{\"gridcolor\":\"white\",\"linecolor\":\"white\",\"ticks\":\"\"}},\"title\":{\"x\":0.05},\"xaxis\":{\"automargin\":true,\"gridcolor\":\"white\",\"linecolor\":\"white\",\"ticks\":\"\",\"title\":{\"standoff\":15},\"zerolinecolor\":\"white\",\"zerolinewidth\":2},\"yaxis\":{\"automargin\":true,\"gridcolor\":\"white\",\"linecolor\":\"white\",\"ticks\":\"\",\"title\":{\"standoff\":15},\"zerolinecolor\":\"white\",\"zerolinewidth\":2}}},\"title\":{\"text\":\"\\ucd1d \\ubb3c\\ub7c9 & \\ub2e8\\uc704 \\uac00\\uaca9\"},\"xaxis\":{\"anchor\":\"y\",\"domain\":[0.0,0.94]},\"yaxis\":{\"anchor\":\"x\",\"domain\":[0.0,1.0],\"title\":{\"text\":\"\\ub2e8\\uc704 \\ub2f9 \\uac00\\uaca9(kg)\"}},\"yaxis2\":{\"anchor\":\"x\",\"overlaying\":\"y\",\"side\":\"right\",\"title\":{\"text\":\"\\ucd1d \\ubb3c\\ub7c9\"}}},                        {\"responsive\": true}                    ).then(function(){\n",
       "                            \n",
       "var gd = document.getElementById('8a7b3c6f-51ab-4e0f-8dca-fdfd84c52498');\n",
       "var x = new MutationObserver(function (mutations, observer) {{\n",
       "        var display = window.getComputedStyle(gd).display;\n",
       "        if (!display || display === 'none') {{\n",
       "            console.log([gd, 'removed!']);\n",
       "            Plotly.purge(gd);\n",
       "            observer.disconnect();\n",
       "        }}\n",
       "}});\n",
       "\n",
       "// Listen for the removal of the full notebook cells\n",
       "var notebookContainer = gd.closest('#notebook-container');\n",
       "if (notebookContainer) {{\n",
       "    x.observe(notebookContainer, {childList: true});\n",
       "}}\n",
       "\n",
       "// Listen for the clearing of the current output cell\n",
       "var outputEl = gd.closest('.output');\n",
       "if (outputEl) {{\n",
       "    x.observe(outputEl, {childList: true});\n",
       "}}\n",
       "\n",
       "                        })                };                });            </script>        </div>"
      ]
     },
     "metadata": {},
     "output_type": "display_data"
    }
   ],
   "source": [
    "fig = make_subplots(specs=[[{\"secondary_y\": True}]])\n",
    "\n",
    "fig.add_trace(go.Scatter(x=rad_week['SALEDATE'], y=rad_week['PER_PRICE'], name='단위 당 가격(kg)'))\n",
    "fig.add_trace(go.Scatter(x=rad_week['SALEDATE'], y=rad_week['TOT_QTY'], name='총 물량'), secondary_y=True)\n",
    "\n",
    "# Set y-axes titles\n",
    "fig.update_yaxes(title_text=\"단위 당 가격(kg)\", secondary_y=False)\n",
    "fig.update_yaxes(title_text=\"총 물량\", secondary_y=True)\n",
    "\n",
    "fig.update_layout(title_text='총 물량 & 단위 가격')\n",
    "\n",
    "fig.show()"
   ]
  },
  {
   "cell_type": "markdown",
   "metadata": {},
   "source": [
    "## 상관관계"
   ]
  },
  {
   "cell_type": "code",
   "execution_count": 70,
   "metadata": {},
   "outputs": [],
   "source": [
    "corr = rad_week.corr(method = 'pearson')"
   ]
  },
  {
   "cell_type": "code",
   "execution_count": 71,
   "metadata": {},
   "outputs": [
    {
     "data": {
      "text/html": [
       "<div>\n",
       "<style scoped>\n",
       "    .dataframe tbody tr th:only-of-type {\n",
       "        vertical-align: middle;\n",
       "    }\n",
       "\n",
       "    .dataframe tbody tr th {\n",
       "        vertical-align: top;\n",
       "    }\n",
       "\n",
       "    .dataframe thead th {\n",
       "        text-align: right;\n",
       "    }\n",
       "</style>\n",
       "<table border=\"1\" class=\"dataframe\">\n",
       "  <thead>\n",
       "    <tr style=\"text-align: right;\">\n",
       "      <th></th>\n",
       "      <th>TOT_QTY</th>\n",
       "      <th>PER_PRICE</th>\n",
       "    </tr>\n",
       "  </thead>\n",
       "  <tbody>\n",
       "    <tr>\n",
       "      <th>TOT_QTY</th>\n",
       "      <td>1.000000</td>\n",
       "      <td>0.193485</td>\n",
       "    </tr>\n",
       "    <tr>\n",
       "      <th>PER_PRICE</th>\n",
       "      <td>0.193485</td>\n",
       "      <td>1.000000</td>\n",
       "    </tr>\n",
       "  </tbody>\n",
       "</table>\n",
       "</div>"
      ],
      "text/plain": [
       "            TOT_QTY  PER_PRICE\n",
       "TOT_QTY    1.000000   0.193485\n",
       "PER_PRICE  0.193485   1.000000"
      ]
     },
     "execution_count": 71,
     "metadata": {},
     "output_type": "execute_result"
    }
   ],
   "source": [
    "corr"
   ]
  },
  {
   "cell_type": "markdown",
   "metadata": {},
   "source": [
    "## 정상성 확인(ADF-test)"
   ]
  },
  {
   "cell_type": "code",
   "execution_count": 72,
   "metadata": {},
   "outputs": [],
   "source": [
    "from statsmodels.tsa.stattools import adfuller \n",
    "\n",
    "def adf_test(timeseries):\n",
    "    result = adfuller(timeseries)\n",
    "    print('ADF Statistic: %f' % result[0])\n",
    "    print('p-value: %f' % result[1])\n",
    "    print('Critical Values:')\n",
    "    for key, value in result[4].items():\n",
    "        print('\\t%s: %.3f' % (key,value))"
   ]
  },
  {
   "cell_type": "code",
   "execution_count": 73,
   "metadata": {},
   "outputs": [
    {
     "name": "stdout",
     "output_type": "stream",
     "text": [
      "ADF Statistic: -4.516139\n",
      "p-value: 0.000184\n",
      "Critical Values:\n",
      "\t1%: -3.446\n",
      "\t5%: -2.869\n",
      "\t10%: -2.571\n"
     ]
    }
   ],
   "source": [
    "adf_test(rad_week['PER_PRICE'])"
   ]
  },
  {
   "cell_type": "code",
   "execution_count": 74,
   "metadata": {},
   "outputs": [
    {
     "name": "stdout",
     "output_type": "stream",
     "text": [
      "ADF Statistic: -2.787239\n",
      "p-value: 0.060120\n",
      "Critical Values:\n",
      "\t1%: -3.447\n",
      "\t5%: -2.869\n",
      "\t10%: -2.571\n"
     ]
    }
   ],
   "source": [
    "adf_test(rad_week['TOT_QTY'])"
   ]
  },
  {
   "cell_type": "code",
   "execution_count": 75,
   "metadata": {},
   "outputs": [],
   "source": [
    "from statsmodels.tsa.stattools import adfuller \n",
    "\n",
    "def adfuller_test(series, signif=0.05, name='', verbose=False):\n",
    "    \"\"\"Perform ADFuller to test for Stationarity of given series and print report\"\"\"\n",
    "    r = adfuller(series, autolag='AIC')\n",
    "    output = {'test_statistic':round(r[0], 4), 'pvalue':round(r[1], 4), 'n_lags':round(r[2], 4), 'n_obs':r[3]}\n",
    "    p_value = output['pvalue'] \n",
    "    def adjust(val, length= 6): return str(val).ljust(length)\n",
    "\n",
    "    # Print Summary\n",
    "    print(f'    Augmented Dickey-Fuller Test on \"{name}\"', \"\\n   \", '-'*47)\n",
    "    print(f' Null Hypothesis: Data has unit root. Non-Stationary.')\n",
    "    print(f' Significance Level    = {signif}')\n",
    "    print(f' Test Statistic        = {output[\"test_statistic\"]}')\n",
    "    print(f' No. Lags Chosen       = {output[\"n_lags\"]}')\n",
    "\n",
    "    for key,val in r[4].items():\n",
    "        print(f' Critical value {adjust(key)} = {round(val, 3)}')\n",
    "\n",
    "    if p_value <= signif:\n",
    "        print(f\" => P-Value = {p_value}. Rejecting Null Hypothesis.\")\n",
    "        print(f\" => Series is Stationary.\")\n",
    "    else:\n",
    "        print(f\" => P-Value = {p_value}. Weak evidence to reject the Null Hypothesis.\")\n",
    "        print(f\" => Series is Non-Stationary.\")"
   ]
  },
  {
   "cell_type": "code",
   "execution_count": 76,
   "metadata": {},
   "outputs": [
    {
     "name": "stdout",
     "output_type": "stream",
     "text": [
      "    Augmented Dickey-Fuller Test on \"SALEDATE\" \n",
      "    -----------------------------------------------\n",
      " Null Hypothesis: Data has unit root. Non-Stationary.\n",
      " Significance Level    = 0.05\n",
      " Test Statistic        = -1.252\n",
      " No. Lags Chosen       = 6\n",
      " Critical value 1%     = -3.447\n",
      " Critical value 5%     = -2.869\n",
      " Critical value 10%    = -2.571\n",
      " => P-Value = 0.6509. Weak evidence to reject the Null Hypothesis.\n",
      " => Series is Non-Stationary.\n",
      "\n",
      "\n",
      "    Augmented Dickey-Fuller Test on \"TOT_QTY\" \n",
      "    -----------------------------------------------\n",
      " Null Hypothesis: Data has unit root. Non-Stationary.\n",
      " Significance Level    = 0.05\n",
      " Test Statistic        = -2.7872\n",
      " No. Lags Chosen       = 9\n",
      " Critical value 1%     = -3.447\n",
      " Critical value 5%     = -2.869\n",
      " Critical value 10%    = -2.571\n",
      " => P-Value = 0.0601. Weak evidence to reject the Null Hypothesis.\n",
      " => Series is Non-Stationary.\n",
      "\n",
      "\n",
      "    Augmented Dickey-Fuller Test on \"PER_PRICE\" \n",
      "    -----------------------------------------------\n",
      " Null Hypothesis: Data has unit root. Non-Stationary.\n",
      " Significance Level    = 0.05\n",
      " Test Statistic        = -4.5161\n",
      " No. Lags Chosen       = 0\n",
      " Critical value 1%     = -3.446\n",
      " Critical value 5%     = -2.869\n",
      " Critical value 10%    = -2.571\n",
      " => P-Value = 0.0002. Rejecting Null Hypothesis.\n",
      " => Series is Stationary.\n",
      "\n",
      "\n"
     ]
    }
   ],
   "source": [
    "# ADF Test on each column\n",
    "for name, column in rad_week.iteritems():\n",
    "    adfuller_test(column, name=column.name)\n",
    "    print('\\n')"
   ]
  }
 ],
 "metadata": {
  "hide_input": false,
  "kernelspec": {
   "display_name": "Python 3",
   "language": "python",
   "name": "python3"
  },
  "language_info": {
   "codemirror_mode": {
    "name": "ipython",
    "version": 3
   },
   "file_extension": ".py",
   "mimetype": "text/x-python",
   "name": "python",
   "nbconvert_exporter": "python",
   "pygments_lexer": "ipython3",
   "version": "3.7.6"
  },
  "toc": {
   "base_numbering": 1,
   "nav_menu": {},
   "number_sections": true,
   "sideBar": true,
   "skip_h1_title": false,
   "title_cell": "Table of Contents",
   "title_sidebar": "Contents",
   "toc_cell": false,
   "toc_position": {},
   "toc_section_display": true,
   "toc_window_display": false
  },
  "varInspector": {
   "cols": {
    "lenName": 16,
    "lenType": 16,
    "lenVar": 40
   },
   "kernels_config": {
    "python": {
     "delete_cmd_postfix": "",
     "delete_cmd_prefix": "del ",
     "library": "var_list.py",
     "varRefreshCmd": "print(var_dic_list())"
    },
    "r": {
     "delete_cmd_postfix": ") ",
     "delete_cmd_prefix": "rm(",
     "library": "var_list.r",
     "varRefreshCmd": "cat(var_dic_list()) "
    }
   },
   "types_to_exclude": [
    "module",
    "function",
    "builtin_function_or_method",
    "instance",
    "_Feature"
   ],
   "window_display": false
  }
 },
 "nbformat": 4,
 "nbformat_minor": 4
}
