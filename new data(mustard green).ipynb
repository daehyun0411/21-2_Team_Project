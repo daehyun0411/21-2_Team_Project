{
 "cells": [
  {
   "cell_type": "code",
   "execution_count": 49,
   "metadata": {},
   "outputs": [],
   "source": [
    "import pandas as pd\n",
    "import numpy as np\n",
    "import seaborn as sns\n",
    "import matplotlib.pyplot as plt\n",
    "import warnings\n",
    "\n",
    "%matplotlib inline\n",
    "%config InlineBackend.figure_format = 'retina'\n",
    "\n",
    "warnings.filterwarnings('ignore')\n",
    "plt.rcParams[\"figure.figsize\"] = (16,8)\n",
    "plt.rcParams['axes.unicode_minus'] = False\n",
    "plt.rc('font', family='Malgun Gothic')"
   ]
  },
  {
   "cell_type": "code",
   "execution_count": 50,
   "metadata": {},
   "outputs": [],
   "source": [
    "import plotly.express as px\n",
    "import plotly.graph_objects as go\n",
    "from plotly.subplots import make_subplots"
   ]
  },
  {
   "cell_type": "markdown",
   "metadata": {},
   "source": [
    "# 갓"
   ]
  },
  {
   "cell_type": "code",
   "execution_count": 51,
   "metadata": {},
   "outputs": [],
   "source": [
    "mus = pd.read_csv(\"C:/Users/keogu/Desktop/빅데이터 자료분석/new data/갓.csv\",parse_dates=['SALEDATE'])"
   ]
  },
  {
   "cell_type": "code",
   "execution_count": 53,
   "metadata": {},
   "outputs": [
    {
     "data": {
      "text/html": [
       "<div>\n",
       "<style scoped>\n",
       "    .dataframe tbody tr th:only-of-type {\n",
       "        vertical-align: middle;\n",
       "    }\n",
       "\n",
       "    .dataframe tbody tr th {\n",
       "        vertical-align: top;\n",
       "    }\n",
       "\n",
       "    .dataframe thead th {\n",
       "        text-align: right;\n",
       "    }\n",
       "</style>\n",
       "<table border=\"1\" class=\"dataframe\">\n",
       "  <thead>\n",
       "    <tr style=\"text-align: right;\">\n",
       "      <th></th>\n",
       "      <th>PUM_NM</th>\n",
       "      <th>LV_NM</th>\n",
       "      <th>TOT_AMT</th>\n",
       "      <th>SAN_NM</th>\n",
       "      <th>SALEDATE</th>\n",
       "      <th>CMP_NM</th>\n",
       "      <th>DAN_NM</th>\n",
       "      <th>WHSAL_NM</th>\n",
       "      <th>SIZE_NM</th>\n",
       "      <th>COST</th>\n",
       "      <th>POJ_NM</th>\n",
       "      <th>TOT_QTY</th>\n",
       "      <th>QTY</th>\n",
       "      <th>KIND_NM</th>\n",
       "      <th>DANQ</th>\n",
       "    </tr>\n",
       "  </thead>\n",
       "  <tbody>\n",
       "    <tr>\n",
       "      <th>0</th>\n",
       "      <td>갓</td>\n",
       "      <td>특</td>\n",
       "      <td>39000.0</td>\n",
       "      <td>전라남도 무안군</td>\n",
       "      <td>2014-01-03</td>\n",
       "      <td>한국청과</td>\n",
       "      <td>kg</td>\n",
       "      <td>서울가락도매</td>\n",
       "      <td>.</td>\n",
       "      <td>13000.0</td>\n",
       "      <td>상자</td>\n",
       "      <td>30.0</td>\n",
       "      <td>3.0</td>\n",
       "      <td>갓(일반)</td>\n",
       "      <td>10.0</td>\n",
       "    </tr>\n",
       "    <tr>\n",
       "      <th>1</th>\n",
       "      <td>갓</td>\n",
       "      <td>특</td>\n",
       "      <td>119000.0</td>\n",
       "      <td>전라남도 무안군</td>\n",
       "      <td>2014-01-03</td>\n",
       "      <td>한국청과</td>\n",
       "      <td>kg</td>\n",
       "      <td>서울가락도매</td>\n",
       "      <td>.</td>\n",
       "      <td>17000.0</td>\n",
       "      <td>상자</td>\n",
       "      <td>70.0</td>\n",
       "      <td>7.0</td>\n",
       "      <td>갓(일반)</td>\n",
       "      <td>10.0</td>\n",
       "    </tr>\n",
       "    <tr>\n",
       "      <th>2</th>\n",
       "      <td>갓</td>\n",
       "      <td>특</td>\n",
       "      <td>65000.0</td>\n",
       "      <td>전라남도 무안군</td>\n",
       "      <td>2014-01-03</td>\n",
       "      <td>한국청과</td>\n",
       "      <td>kg</td>\n",
       "      <td>서울가락도매</td>\n",
       "      <td>.</td>\n",
       "      <td>13000.0</td>\n",
       "      <td>상자</td>\n",
       "      <td>50.0</td>\n",
       "      <td>5.0</td>\n",
       "      <td>갓(일반)</td>\n",
       "      <td>10.0</td>\n",
       "    </tr>\n",
       "    <tr>\n",
       "      <th>3</th>\n",
       "      <td>갓</td>\n",
       "      <td>특</td>\n",
       "      <td>105000.0</td>\n",
       "      <td>전라남도 무안군</td>\n",
       "      <td>2014-01-03</td>\n",
       "      <td>한국청과</td>\n",
       "      <td>kg</td>\n",
       "      <td>서울가락도매</td>\n",
       "      <td>.</td>\n",
       "      <td>15000.0</td>\n",
       "      <td>상자</td>\n",
       "      <td>70.0</td>\n",
       "      <td>7.0</td>\n",
       "      <td>갓(일반)</td>\n",
       "      <td>10.0</td>\n",
       "    </tr>\n",
       "    <tr>\n",
       "      <th>4</th>\n",
       "      <td>갓</td>\n",
       "      <td>특</td>\n",
       "      <td>170000.0</td>\n",
       "      <td>전라남도 무안군</td>\n",
       "      <td>2014-01-03</td>\n",
       "      <td>한국청과</td>\n",
       "      <td>kg</td>\n",
       "      <td>서울가락도매</td>\n",
       "      <td>.</td>\n",
       "      <td>10000.0</td>\n",
       "      <td>상자</td>\n",
       "      <td>170.0</td>\n",
       "      <td>17.0</td>\n",
       "      <td>갓(일반)</td>\n",
       "      <td>10.0</td>\n",
       "    </tr>\n",
       "  </tbody>\n",
       "</table>\n",
       "</div>"
      ],
      "text/plain": [
       "  PUM_NM LV_NM   TOT_AMT    SAN_NM   SALEDATE CMP_NM DAN_NM WHSAL_NM SIZE_NM  \\\n",
       "0      갓     특   39000.0  전라남도 무안군 2014-01-03   한국청과     kg   서울가락도매       .   \n",
       "1      갓     특  119000.0  전라남도 무안군 2014-01-03   한국청과     kg   서울가락도매       .   \n",
       "2      갓     특   65000.0  전라남도 무안군 2014-01-03   한국청과     kg   서울가락도매       .   \n",
       "3      갓     특  105000.0  전라남도 무안군 2014-01-03   한국청과     kg   서울가락도매       .   \n",
       "4      갓     특  170000.0  전라남도 무안군 2014-01-03   한국청과     kg   서울가락도매       .   \n",
       "\n",
       "      COST POJ_NM  TOT_QTY   QTY KIND_NM  DANQ  \n",
       "0  13000.0     상자     30.0   3.0   갓(일반)  10.0  \n",
       "1  17000.0     상자     70.0   7.0   갓(일반)  10.0  \n",
       "2  13000.0     상자     50.0   5.0   갓(일반)  10.0  \n",
       "3  15000.0     상자     70.0   7.0   갓(일반)  10.0  \n",
       "4  10000.0     상자    170.0  17.0   갓(일반)  10.0  "
      ]
     },
     "execution_count": 53,
     "metadata": {},
     "output_type": "execute_result"
    }
   ],
   "source": [
    "mus.head()"
   ]
  },
  {
   "cell_type": "code",
   "execution_count": 5,
   "metadata": {},
   "outputs": [
    {
     "name": "stdout",
     "output_type": "stream",
     "text": [
      "<class 'pandas.core.frame.DataFrame'>\n",
      "RangeIndex: 473578 entries, 0 to 473577\n",
      "Data columns (total 15 columns):\n",
      " #   Column    Non-Null Count   Dtype         \n",
      "---  ------    --------------   -----         \n",
      " 0   PUM_NM    473578 non-null  object        \n",
      " 1   LV_NM     473573 non-null  object        \n",
      " 2   TOT_AMT   473578 non-null  float64       \n",
      " 3   SAN_NM    452550 non-null  object        \n",
      " 4   SALEDATE  473578 non-null  datetime64[ns]\n",
      " 5   CMP_NM    473578 non-null  object        \n",
      " 6   DAN_NM    473578 non-null  object        \n",
      " 7   WHSAL_NM  473578 non-null  object        \n",
      " 8   SIZE_NM   466187 non-null  object        \n",
      " 9   COST      473578 non-null  float64       \n",
      " 10  POJ_NM    473578 non-null  object        \n",
      " 11  TOT_QTY   473578 non-null  float64       \n",
      " 12  QTY       473578 non-null  float64       \n",
      " 13  KIND_NM   473578 non-null  object        \n",
      " 14  DANQ      473578 non-null  float64       \n",
      "dtypes: datetime64[ns](1), float64(5), object(9)\n",
      "memory usage: 54.2+ MB\n"
     ]
    }
   ],
   "source": [
    "mus.info()"
   ]
  },
  {
   "cell_type": "markdown",
   "metadata": {},
   "source": [
    "## 필요없는 컬럼 삭제  \n",
    "**필요없는 칼럼**\n",
    "- PUM_NM: 품목\n",
    "- LV_NM: 등급  \n",
    "- CMP_NM: 법인\n",
    "- DAN_NM: 단위\n",
    "- WHSAL_NM: 도매시장 \n",
    "- SIZE_NM: 크기\n",
    "- COST: 단가\n",
    "- POJ_NM: 포장 \n",
    "- QTY: 물량\n",
    "- KIND_NM: 품종 \n",
    "- DANQ: 단위물량"
   ]
  },
  {
   "cell_type": "code",
   "execution_count": 54,
   "metadata": {},
   "outputs": [],
   "source": [
    "mus.drop(columns=['CMP_NM','WHSAL_NM','POJ_NM','KIND_NM','PUM_NM','LV_NM','SIZE_NM','QTY','DANQ','COST','DAN_NM'], axis=1, inplace=True)"
   ]
  },
  {
   "cell_type": "code",
   "execution_count": 56,
   "metadata": {},
   "outputs": [
    {
     "data": {
      "text/html": [
       "<div>\n",
       "<style scoped>\n",
       "    .dataframe tbody tr th:only-of-type {\n",
       "        vertical-align: middle;\n",
       "    }\n",
       "\n",
       "    .dataframe tbody tr th {\n",
       "        vertical-align: top;\n",
       "    }\n",
       "\n",
       "    .dataframe thead th {\n",
       "        text-align: right;\n",
       "    }\n",
       "</style>\n",
       "<table border=\"1\" class=\"dataframe\">\n",
       "  <thead>\n",
       "    <tr style=\"text-align: right;\">\n",
       "      <th></th>\n",
       "      <th>TOT_AMT</th>\n",
       "      <th>SAN_NM</th>\n",
       "      <th>SALEDATE</th>\n",
       "      <th>TOT_QTY</th>\n",
       "    </tr>\n",
       "  </thead>\n",
       "  <tbody>\n",
       "    <tr>\n",
       "      <th>0</th>\n",
       "      <td>39000.0</td>\n",
       "      <td>전라남도 무안군</td>\n",
       "      <td>2014-01-03</td>\n",
       "      <td>30.0</td>\n",
       "    </tr>\n",
       "    <tr>\n",
       "      <th>1</th>\n",
       "      <td>119000.0</td>\n",
       "      <td>전라남도 무안군</td>\n",
       "      <td>2014-01-03</td>\n",
       "      <td>70.0</td>\n",
       "    </tr>\n",
       "    <tr>\n",
       "      <th>2</th>\n",
       "      <td>65000.0</td>\n",
       "      <td>전라남도 무안군</td>\n",
       "      <td>2014-01-03</td>\n",
       "      <td>50.0</td>\n",
       "    </tr>\n",
       "    <tr>\n",
       "      <th>3</th>\n",
       "      <td>105000.0</td>\n",
       "      <td>전라남도 무안군</td>\n",
       "      <td>2014-01-03</td>\n",
       "      <td>70.0</td>\n",
       "    </tr>\n",
       "    <tr>\n",
       "      <th>4</th>\n",
       "      <td>170000.0</td>\n",
       "      <td>전라남도 무안군</td>\n",
       "      <td>2014-01-03</td>\n",
       "      <td>170.0</td>\n",
       "    </tr>\n",
       "  </tbody>\n",
       "</table>\n",
       "</div>"
      ],
      "text/plain": [
       "    TOT_AMT    SAN_NM   SALEDATE  TOT_QTY\n",
       "0   39000.0  전라남도 무안군 2014-01-03     30.0\n",
       "1  119000.0  전라남도 무안군 2014-01-03     70.0\n",
       "2   65000.0  전라남도 무안군 2014-01-03     50.0\n",
       "3  105000.0  전라남도 무안군 2014-01-03     70.0\n",
       "4  170000.0  전라남도 무안군 2014-01-03    170.0"
      ]
     },
     "execution_count": 56,
     "metadata": {},
     "output_type": "execute_result"
    }
   ],
   "source": [
    "mus.head()"
   ]
  },
  {
   "cell_type": "markdown",
   "metadata": {},
   "source": [
    "**남은 컬럼**\n",
    "- TOT_AMT: 총 금액\n",
    "- SAN_NM: 산지\n",
    "- SALEDATE: 경락 일자   \n",
    "- TOT_QTY:총 물량"
   ]
  },
  {
   "cell_type": "markdown",
   "metadata": {},
   "source": [
    "## 총 금액 / 총 물량 \n",
    "- 음수거나 0인 값 제거(거래 취소) > 1889건\n",
    "- 이상치 제거(?) > 1360건"
   ]
  },
  {
   "cell_type": "code",
   "execution_count": 57,
   "metadata": {},
   "outputs": [
    {
     "data": {
      "text/html": [
       "<div>\n",
       "<style scoped>\n",
       "    .dataframe tbody tr th:only-of-type {\n",
       "        vertical-align: middle;\n",
       "    }\n",
       "\n",
       "    .dataframe tbody tr th {\n",
       "        vertical-align: top;\n",
       "    }\n",
       "\n",
       "    .dataframe thead th {\n",
       "        text-align: right;\n",
       "    }\n",
       "</style>\n",
       "<table border=\"1\" class=\"dataframe\">\n",
       "  <thead>\n",
       "    <tr style=\"text-align: right;\">\n",
       "      <th></th>\n",
       "      <th>TOT_AMT</th>\n",
       "      <th>SAN_NM</th>\n",
       "      <th>SALEDATE</th>\n",
       "      <th>TOT_QTY</th>\n",
       "    </tr>\n",
       "  </thead>\n",
       "  <tbody>\n",
       "    <tr>\n",
       "      <th>838</th>\n",
       "      <td>-195200.0</td>\n",
       "      <td>경기도 고양시</td>\n",
       "      <td>2014-03-12</td>\n",
       "      <td>-200.0</td>\n",
       "    </tr>\n",
       "    <tr>\n",
       "      <th>839</th>\n",
       "      <td>-192000.0</td>\n",
       "      <td>경기도 고양시</td>\n",
       "      <td>2014-03-12</td>\n",
       "      <td>-200.0</td>\n",
       "    </tr>\n",
       "    <tr>\n",
       "      <th>947</th>\n",
       "      <td>-48000.0</td>\n",
       "      <td>경기도 포천시</td>\n",
       "      <td>2014-03-18</td>\n",
       "      <td>-100.0</td>\n",
       "    </tr>\n",
       "    <tr>\n",
       "      <th>1115</th>\n",
       "      <td>0.0</td>\n",
       "      <td>전라남도 무안군</td>\n",
       "      <td>2014-03-29</td>\n",
       "      <td>90.0</td>\n",
       "    </tr>\n",
       "    <tr>\n",
       "      <th>1670</th>\n",
       "      <td>0.0</td>\n",
       "      <td>경기도 용인시</td>\n",
       "      <td>2014-05-30</td>\n",
       "      <td>150.0</td>\n",
       "    </tr>\n",
       "    <tr>\n",
       "      <th>...</th>\n",
       "      <td>...</td>\n",
       "      <td>...</td>\n",
       "      <td>...</td>\n",
       "      <td>...</td>\n",
       "    </tr>\n",
       "    <tr>\n",
       "      <th>472296</th>\n",
       "      <td>-238000.0</td>\n",
       "      <td>전라남도 무안군</td>\n",
       "      <td>2021-10-29</td>\n",
       "      <td>-140.0</td>\n",
       "    </tr>\n",
       "    <tr>\n",
       "      <th>472332</th>\n",
       "      <td>0.0</td>\n",
       "      <td>경기도 포천시</td>\n",
       "      <td>2021-10-29</td>\n",
       "      <td>0.0</td>\n",
       "    </tr>\n",
       "    <tr>\n",
       "      <th>472333</th>\n",
       "      <td>0.0</td>\n",
       "      <td>경기도 포천시</td>\n",
       "      <td>2021-10-29</td>\n",
       "      <td>0.0</td>\n",
       "    </tr>\n",
       "    <tr>\n",
       "      <th>472334</th>\n",
       "      <td>0.0</td>\n",
       "      <td>경기도 포천시</td>\n",
       "      <td>2021-10-29</td>\n",
       "      <td>0.0</td>\n",
       "    </tr>\n",
       "    <tr>\n",
       "      <th>472515</th>\n",
       "      <td>0.0</td>\n",
       "      <td>전라남도 여수시</td>\n",
       "      <td>2021-10-29</td>\n",
       "      <td>24.0</td>\n",
       "    </tr>\n",
       "  </tbody>\n",
       "</table>\n",
       "<p>1889 rows × 4 columns</p>\n",
       "</div>"
      ],
      "text/plain": [
       "         TOT_AMT    SAN_NM   SALEDATE  TOT_QTY\n",
       "838    -195200.0   경기도 고양시 2014-03-12   -200.0\n",
       "839    -192000.0   경기도 고양시 2014-03-12   -200.0\n",
       "947     -48000.0   경기도 포천시 2014-03-18   -100.0\n",
       "1115         0.0  전라남도 무안군 2014-03-29     90.0\n",
       "1670         0.0   경기도 용인시 2014-05-30    150.0\n",
       "...          ...       ...        ...      ...\n",
       "472296 -238000.0  전라남도 무안군 2021-10-29   -140.0\n",
       "472332       0.0   경기도 포천시 2021-10-29      0.0\n",
       "472333       0.0   경기도 포천시 2021-10-29      0.0\n",
       "472334       0.0   경기도 포천시 2021-10-29      0.0\n",
       "472515       0.0  전라남도 여수시 2021-10-29     24.0\n",
       "\n",
       "[1889 rows x 4 columns]"
      ]
     },
     "execution_count": 57,
     "metadata": {},
     "output_type": "execute_result"
    }
   ],
   "source": [
    "mus[(mus['TOT_AMT'] <= 0)|(mus['TOT_QTY'] <= 0)]"
   ]
  },
  {
   "cell_type": "code",
   "execution_count": 58,
   "metadata": {},
   "outputs": [],
   "source": [
    "drop_index = mus[(mus['TOT_AMT'] <= 0)|(mus['TOT_QTY'] <= 0)].index\n",
    "mus.drop(index = drop_index, axis=0, inplace=True)"
   ]
  },
  {
   "cell_type": "code",
   "execution_count": 59,
   "metadata": {},
   "outputs": [],
   "source": [
    "mus['PER_WEEK'] = mus['TOT_AMT']/mus['TOT_QTY']"
   ]
  },
  {
   "cell_type": "code",
   "execution_count": 60,
   "metadata": {},
   "outputs": [
    {
     "data": {
      "text/html": [
       "<div>\n",
       "<style scoped>\n",
       "    .dataframe tbody tr th:only-of-type {\n",
       "        vertical-align: middle;\n",
       "    }\n",
       "\n",
       "    .dataframe tbody tr th {\n",
       "        vertical-align: top;\n",
       "    }\n",
       "\n",
       "    .dataframe thead th {\n",
       "        text-align: right;\n",
       "    }\n",
       "</style>\n",
       "<table border=\"1\" class=\"dataframe\">\n",
       "  <thead>\n",
       "    <tr style=\"text-align: right;\">\n",
       "      <th></th>\n",
       "      <th>TOT_AMT</th>\n",
       "      <th>SAN_NM</th>\n",
       "      <th>SALEDATE</th>\n",
       "      <th>TOT_QTY</th>\n",
       "      <th>PER_WEEK</th>\n",
       "    </tr>\n",
       "  </thead>\n",
       "  <tbody>\n",
       "    <tr>\n",
       "      <th>0</th>\n",
       "      <td>39000.0</td>\n",
       "      <td>전라남도 무안군</td>\n",
       "      <td>2014-01-03</td>\n",
       "      <td>30.0</td>\n",
       "      <td>1300.0</td>\n",
       "    </tr>\n",
       "    <tr>\n",
       "      <th>1</th>\n",
       "      <td>119000.0</td>\n",
       "      <td>전라남도 무안군</td>\n",
       "      <td>2014-01-03</td>\n",
       "      <td>70.0</td>\n",
       "      <td>1700.0</td>\n",
       "    </tr>\n",
       "    <tr>\n",
       "      <th>2</th>\n",
       "      <td>65000.0</td>\n",
       "      <td>전라남도 무안군</td>\n",
       "      <td>2014-01-03</td>\n",
       "      <td>50.0</td>\n",
       "      <td>1300.0</td>\n",
       "    </tr>\n",
       "    <tr>\n",
       "      <th>3</th>\n",
       "      <td>105000.0</td>\n",
       "      <td>전라남도 무안군</td>\n",
       "      <td>2014-01-03</td>\n",
       "      <td>70.0</td>\n",
       "      <td>1500.0</td>\n",
       "    </tr>\n",
       "    <tr>\n",
       "      <th>4</th>\n",
       "      <td>170000.0</td>\n",
       "      <td>전라남도 무안군</td>\n",
       "      <td>2014-01-03</td>\n",
       "      <td>170.0</td>\n",
       "      <td>1000.0</td>\n",
       "    </tr>\n",
       "    <tr>\n",
       "      <th>...</th>\n",
       "      <td>...</td>\n",
       "      <td>...</td>\n",
       "      <td>...</td>\n",
       "      <td>...</td>\n",
       "      <td>...</td>\n",
       "    </tr>\n",
       "    <tr>\n",
       "      <th>473573</th>\n",
       "      <td>250000.0</td>\n",
       "      <td>경기 고양시 덕양구</td>\n",
       "      <td>2021-10-30</td>\n",
       "      <td>200.0</td>\n",
       "      <td>1250.0</td>\n",
       "    </tr>\n",
       "    <tr>\n",
       "      <th>473574</th>\n",
       "      <td>9000.0</td>\n",
       "      <td>충남 당진군</td>\n",
       "      <td>2021-10-30</td>\n",
       "      <td>12.0</td>\n",
       "      <td>750.0</td>\n",
       "    </tr>\n",
       "    <tr>\n",
       "      <th>473575</th>\n",
       "      <td>54200.0</td>\n",
       "      <td>대전광역시</td>\n",
       "      <td>2021-10-30</td>\n",
       "      <td>40.0</td>\n",
       "      <td>1355.0</td>\n",
       "    </tr>\n",
       "    <tr>\n",
       "      <th>473576</th>\n",
       "      <td>155000.0</td>\n",
       "      <td>대전광역시</td>\n",
       "      <td>2021-10-30</td>\n",
       "      <td>124.0</td>\n",
       "      <td>1250.0</td>\n",
       "    </tr>\n",
       "    <tr>\n",
       "      <th>473577</th>\n",
       "      <td>1400.0</td>\n",
       "      <td>경북 구미시</td>\n",
       "      <td>2021-10-30</td>\n",
       "      <td>7.0</td>\n",
       "      <td>200.0</td>\n",
       "    </tr>\n",
       "  </tbody>\n",
       "</table>\n",
       "<p>471689 rows × 5 columns</p>\n",
       "</div>"
      ],
      "text/plain": [
       "         TOT_AMT      SAN_NM   SALEDATE  TOT_QTY  PER_WEEK\n",
       "0        39000.0    전라남도 무안군 2014-01-03     30.0    1300.0\n",
       "1       119000.0    전라남도 무안군 2014-01-03     70.0    1700.0\n",
       "2        65000.0    전라남도 무안군 2014-01-03     50.0    1300.0\n",
       "3       105000.0    전라남도 무안군 2014-01-03     70.0    1500.0\n",
       "4       170000.0    전라남도 무안군 2014-01-03    170.0    1000.0\n",
       "...          ...         ...        ...      ...       ...\n",
       "473573  250000.0  경기 고양시 덕양구 2021-10-30    200.0    1250.0\n",
       "473574    9000.0      충남 당진군 2021-10-30     12.0     750.0\n",
       "473575   54200.0       대전광역시 2021-10-30     40.0    1355.0\n",
       "473576  155000.0       대전광역시 2021-10-30    124.0    1250.0\n",
       "473577    1400.0      경북 구미시 2021-10-30      7.0     200.0\n",
       "\n",
       "[471689 rows x 5 columns]"
      ]
     },
     "execution_count": 60,
     "metadata": {},
     "output_type": "execute_result"
    }
   ],
   "source": [
    "mus"
   ]
  },
  {
   "cell_type": "code",
   "execution_count": 66,
   "metadata": {},
   "outputs": [],
   "source": [
    "drop_index_price = mus[mus['PER_WEEK'] > 10000].index\n",
    "mus.drop(index = drop_index_price, axis=0, inplace=True)"
   ]
  },
  {
   "cell_type": "code",
   "execution_count": 67,
   "metadata": {},
   "outputs": [
    {
     "data": {
      "text/html": [
       "<div>\n",
       "<style scoped>\n",
       "    .dataframe tbody tr th:only-of-type {\n",
       "        vertical-align: middle;\n",
       "    }\n",
       "\n",
       "    .dataframe tbody tr th {\n",
       "        vertical-align: top;\n",
       "    }\n",
       "\n",
       "    .dataframe thead th {\n",
       "        text-align: right;\n",
       "    }\n",
       "</style>\n",
       "<table border=\"1\" class=\"dataframe\">\n",
       "  <thead>\n",
       "    <tr style=\"text-align: right;\">\n",
       "      <th></th>\n",
       "      <th>TOT_AMT</th>\n",
       "      <th>SAN_NM</th>\n",
       "      <th>SALEDATE</th>\n",
       "      <th>TOT_QTY</th>\n",
       "      <th>PER_WEEK</th>\n",
       "    </tr>\n",
       "  </thead>\n",
       "  <tbody>\n",
       "    <tr>\n",
       "      <th>0</th>\n",
       "      <td>39000.0</td>\n",
       "      <td>전라남도 무안군</td>\n",
       "      <td>2014-01-03</td>\n",
       "      <td>30.0</td>\n",
       "      <td>1300.0</td>\n",
       "    </tr>\n",
       "    <tr>\n",
       "      <th>1</th>\n",
       "      <td>119000.0</td>\n",
       "      <td>전라남도 무안군</td>\n",
       "      <td>2014-01-03</td>\n",
       "      <td>70.0</td>\n",
       "      <td>1700.0</td>\n",
       "    </tr>\n",
       "    <tr>\n",
       "      <th>2</th>\n",
       "      <td>65000.0</td>\n",
       "      <td>전라남도 무안군</td>\n",
       "      <td>2014-01-03</td>\n",
       "      <td>50.0</td>\n",
       "      <td>1300.0</td>\n",
       "    </tr>\n",
       "    <tr>\n",
       "      <th>3</th>\n",
       "      <td>105000.0</td>\n",
       "      <td>전라남도 무안군</td>\n",
       "      <td>2014-01-03</td>\n",
       "      <td>70.0</td>\n",
       "      <td>1500.0</td>\n",
       "    </tr>\n",
       "    <tr>\n",
       "      <th>4</th>\n",
       "      <td>170000.0</td>\n",
       "      <td>전라남도 무안군</td>\n",
       "      <td>2014-01-03</td>\n",
       "      <td>170.0</td>\n",
       "      <td>1000.0</td>\n",
       "    </tr>\n",
       "    <tr>\n",
       "      <th>...</th>\n",
       "      <td>...</td>\n",
       "      <td>...</td>\n",
       "      <td>...</td>\n",
       "      <td>...</td>\n",
       "      <td>...</td>\n",
       "    </tr>\n",
       "    <tr>\n",
       "      <th>473573</th>\n",
       "      <td>250000.0</td>\n",
       "      <td>경기 고양시 덕양구</td>\n",
       "      <td>2021-10-30</td>\n",
       "      <td>200.0</td>\n",
       "      <td>1250.0</td>\n",
       "    </tr>\n",
       "    <tr>\n",
       "      <th>473574</th>\n",
       "      <td>9000.0</td>\n",
       "      <td>충남 당진군</td>\n",
       "      <td>2021-10-30</td>\n",
       "      <td>12.0</td>\n",
       "      <td>750.0</td>\n",
       "    </tr>\n",
       "    <tr>\n",
       "      <th>473575</th>\n",
       "      <td>54200.0</td>\n",
       "      <td>대전광역시</td>\n",
       "      <td>2021-10-30</td>\n",
       "      <td>40.0</td>\n",
       "      <td>1355.0</td>\n",
       "    </tr>\n",
       "    <tr>\n",
       "      <th>473576</th>\n",
       "      <td>155000.0</td>\n",
       "      <td>대전광역시</td>\n",
       "      <td>2021-10-30</td>\n",
       "      <td>124.0</td>\n",
       "      <td>1250.0</td>\n",
       "    </tr>\n",
       "    <tr>\n",
       "      <th>473577</th>\n",
       "      <td>1400.0</td>\n",
       "      <td>경북 구미시</td>\n",
       "      <td>2021-10-30</td>\n",
       "      <td>7.0</td>\n",
       "      <td>200.0</td>\n",
       "    </tr>\n",
       "  </tbody>\n",
       "</table>\n",
       "<p>470329 rows × 5 columns</p>\n",
       "</div>"
      ],
      "text/plain": [
       "         TOT_AMT      SAN_NM   SALEDATE  TOT_QTY  PER_WEEK\n",
       "0        39000.0    전라남도 무안군 2014-01-03     30.0    1300.0\n",
       "1       119000.0    전라남도 무안군 2014-01-03     70.0    1700.0\n",
       "2        65000.0    전라남도 무안군 2014-01-03     50.0    1300.0\n",
       "3       105000.0    전라남도 무안군 2014-01-03     70.0    1500.0\n",
       "4       170000.0    전라남도 무안군 2014-01-03    170.0    1000.0\n",
       "...          ...         ...        ...      ...       ...\n",
       "473573  250000.0  경기 고양시 덕양구 2021-10-30    200.0    1250.0\n",
       "473574    9000.0      충남 당진군 2021-10-30     12.0     750.0\n",
       "473575   54200.0       대전광역시 2021-10-30     40.0    1355.0\n",
       "473576  155000.0       대전광역시 2021-10-30    124.0    1250.0\n",
       "473577    1400.0      경북 구미시 2021-10-30      7.0     200.0\n",
       "\n",
       "[470329 rows x 5 columns]"
      ]
     },
     "execution_count": 67,
     "metadata": {},
     "output_type": "execute_result"
    }
   ],
   "source": [
    "mus"
   ]
  },
  {
   "cell_type": "markdown",
   "metadata": {},
   "source": [
    "## 산지  \n",
    "- null 값 제거x  \n",
    "- 수입산 삭제  \n",
    "- 시/도 단위로 변환  \n",
    "- 주산지 선정"
   ]
  },
  {
   "cell_type": "code",
   "execution_count": 70,
   "metadata": {},
   "outputs": [
    {
     "data": {
      "text/html": [
       "<div>\n",
       "<style scoped>\n",
       "    .dataframe tbody tr th:only-of-type {\n",
       "        vertical-align: middle;\n",
       "    }\n",
       "\n",
       "    .dataframe tbody tr th {\n",
       "        vertical-align: top;\n",
       "    }\n",
       "\n",
       "    .dataframe thead th {\n",
       "        text-align: right;\n",
       "    }\n",
       "</style>\n",
       "<table border=\"1\" class=\"dataframe\">\n",
       "  <thead>\n",
       "    <tr style=\"text-align: right;\">\n",
       "      <th></th>\n",
       "      <th>TOT_AMT</th>\n",
       "      <th>SAN_NM</th>\n",
       "      <th>SALEDATE</th>\n",
       "      <th>TOT_QTY</th>\n",
       "      <th>PER_WEEK</th>\n",
       "    </tr>\n",
       "  </thead>\n",
       "  <tbody>\n",
       "    <tr>\n",
       "      <th>11</th>\n",
       "      <td>150000.0</td>\n",
       "      <td>NaN</td>\n",
       "      <td>2014-01-03</td>\n",
       "      <td>250.0</td>\n",
       "      <td>600.000000</td>\n",
       "    </tr>\n",
       "    <tr>\n",
       "      <th>12</th>\n",
       "      <td>120000.0</td>\n",
       "      <td>NaN</td>\n",
       "      <td>2014-01-03</td>\n",
       "      <td>250.0</td>\n",
       "      <td>480.000000</td>\n",
       "    </tr>\n",
       "    <tr>\n",
       "      <th>39</th>\n",
       "      <td>175500.0</td>\n",
       "      <td>NaN</td>\n",
       "      <td>2014-01-04</td>\n",
       "      <td>325.0</td>\n",
       "      <td>540.000000</td>\n",
       "    </tr>\n",
       "    <tr>\n",
       "      <th>40</th>\n",
       "      <td>156000.0</td>\n",
       "      <td>NaN</td>\n",
       "      <td>2014-01-04</td>\n",
       "      <td>325.0</td>\n",
       "      <td>480.000000</td>\n",
       "    </tr>\n",
       "    <tr>\n",
       "      <th>67</th>\n",
       "      <td>181500.0</td>\n",
       "      <td>NaN</td>\n",
       "      <td>2014-01-06</td>\n",
       "      <td>275.0</td>\n",
       "      <td>660.000000</td>\n",
       "    </tr>\n",
       "    <tr>\n",
       "      <th>...</th>\n",
       "      <td>...</td>\n",
       "      <td>...</td>\n",
       "      <td>...</td>\n",
       "      <td>...</td>\n",
       "      <td>...</td>\n",
       "    </tr>\n",
       "    <tr>\n",
       "      <th>473070</th>\n",
       "      <td>204000.0</td>\n",
       "      <td>NaN</td>\n",
       "      <td>2021-10-30</td>\n",
       "      <td>180.0</td>\n",
       "      <td>1133.333333</td>\n",
       "    </tr>\n",
       "    <tr>\n",
       "      <th>473071</th>\n",
       "      <td>192000.0</td>\n",
       "      <td>NaN</td>\n",
       "      <td>2021-10-30</td>\n",
       "      <td>180.0</td>\n",
       "      <td>1066.666667</td>\n",
       "    </tr>\n",
       "    <tr>\n",
       "      <th>473084</th>\n",
       "      <td>250000.0</td>\n",
       "      <td>NaN</td>\n",
       "      <td>2021-10-30</td>\n",
       "      <td>160.0</td>\n",
       "      <td>1562.500000</td>\n",
       "    </tr>\n",
       "    <tr>\n",
       "      <th>473092</th>\n",
       "      <td>610500.0</td>\n",
       "      <td>NaN</td>\n",
       "      <td>2021-10-30</td>\n",
       "      <td>481.0</td>\n",
       "      <td>1269.230769</td>\n",
       "    </tr>\n",
       "    <tr>\n",
       "      <th>473093</th>\n",
       "      <td>355680.0</td>\n",
       "      <td>NaN</td>\n",
       "      <td>2021-10-30</td>\n",
       "      <td>418.0</td>\n",
       "      <td>850.909091</td>\n",
       "    </tr>\n",
       "  </tbody>\n",
       "</table>\n",
       "<p>20806 rows × 5 columns</p>\n",
       "</div>"
      ],
      "text/plain": [
       "         TOT_AMT SAN_NM   SALEDATE  TOT_QTY     PER_WEEK\n",
       "11      150000.0    NaN 2014-01-03    250.0   600.000000\n",
       "12      120000.0    NaN 2014-01-03    250.0   480.000000\n",
       "39      175500.0    NaN 2014-01-04    325.0   540.000000\n",
       "40      156000.0    NaN 2014-01-04    325.0   480.000000\n",
       "67      181500.0    NaN 2014-01-06    275.0   660.000000\n",
       "...          ...    ...        ...      ...          ...\n",
       "473070  204000.0    NaN 2021-10-30    180.0  1133.333333\n",
       "473071  192000.0    NaN 2021-10-30    180.0  1066.666667\n",
       "473084  250000.0    NaN 2021-10-30    160.0  1562.500000\n",
       "473092  610500.0    NaN 2021-10-30    481.0  1269.230769\n",
       "473093  355680.0    NaN 2021-10-30    418.0   850.909091\n",
       "\n",
       "[20806 rows x 5 columns]"
      ]
     },
     "execution_count": 70,
     "metadata": {},
     "output_type": "execute_result"
    }
   ],
   "source": [
    "mus[mus['SAN_NM'].isnull()]"
   ]
  },
  {
   "cell_type": "code",
   "execution_count": 71,
   "metadata": {},
   "outputs": [
    {
     "data": {
      "text/plain": [
       "array(['전라남도 무안군', '경기도 고양시', nan, '경기도 파주시', '경기도 포천시', '경기도 용인시',\n",
       "       '충청북도 청원군', '충청남도 예산군', '전라남도 완도군', '경기도 안성시', '경기도 광주시',\n",
       "       '경기도 김포시', '경기도 남양주시', '경기도 광명시', '서울특별시 강북구', '경기도 부천시',\n",
       "       '충청남도 서천군', '광주광역시 광산구', '서울특별시 은평구', '서울 은평구', '전라남도 여수시',\n",
       "       '서울특별시', '서울 강서구', '경기도 연천군', '서울특별시 송파구', '충청북도 진천군', '인천광역시 계양구',\n",
       "       '경기도 하남시', '경기도 이천시', '강원도 홍천군', '서울특별시 강동구', '경기도 의정부시', '광주 남구',\n",
       "       '광주광역시', '경기도 안산시', '경기도 여주군', '경기도 화성시', '경기도 성남시', '경기도 가평군',\n",
       "       '경기도 양주시', '강원도 평창군', '서울특별시 양천구', '경기도 구리시', '전라남도 고흥군',\n",
       "       '충청남도 당진군', '경기도 평택시', '경기도 양평군', '경상북도 포항시', '전라남도 영암군',\n",
       "       '경기 고양시 덕양구', '경기 고양시 일산동구', '경기 고양시 일산서구', '전남 여수시', '전라남도 해남군',\n",
       "       '경기 김포시', '강원도 철원군', '경기 파주시', '인천 서구', '경기도 동두천시', '서울특별시 도봉구',\n",
       "       '경기 고양시 일산구', '경기 남양주시', '충청남도 천안시', '경기 광명시', '충남 예산군',\n",
       "       '전라남도 신안군', '경상남도 남해군', '인천 남구', '서울 송파구', '전라북도 익산시', '인천 강화군',\n",
       "       '충청북도 충주시', '서울 구로구', '경기 평택시', '서울특별시 중랑구', '전북 진안군', '광주 북구',\n",
       "       '전남 곡성군', '전남 무안군', '전남 나주시', '전북 정읍시', '경상남도 김해시', '서울 강남구',\n",
       "       '경기도', '충북 청주시 상당구', '전남 장성군', '대전 대덕구', '대전 동구', '충북 청원군',\n",
       "       '울산 남구', '부산 중구', '경남 창원시', '서울 중구', '충북 충주시', '충남 공주시',\n",
       "       '경기 안산시 상록구', '경상남도 고성군', '충북 옥천군', '대전 서구', '인천 계양구', '강원 동해시',\n",
       "       '전북 고창군', '전남 담양군', '부산광역시', '전남 해남군', '전남 순천시', '인천광역시', '충남 논산시',\n",
       "       '전북 전주시 덕진구', '전북 익산시', '경남 진주시', '경기 수원시 권선구', '광주 서구', '전라남도',\n",
       "       '경남 거창군', '제주도', '충북 진천군', '경기 구리시', '전남 보성군', '경남 마산시', '경남 하동군',\n",
       "       '인천 남동구', '전남 진도군', '경기 이천시', '경남 고성군', '경기도 안양시', '경기 포천시',\n",
       "       '경남 남해군', '경남 함안군', '대전 중구', '전남 완도군', '충북 청주시 흥덕구', '울산광역시',\n",
       "       '경기 양주시', '대전 유성구', '충북 괴산군', '전남 신안군', '경기 안산시', '대구 달서구',\n",
       "       '경기 용인시 처인구', '전북 완주군', '광주 광산구', '서울 용산구', '충남 연기군', '부산광역시 기장군',\n",
       "       '전남 화순군', '경기 화성시', '경남 거제시', '경상남도 진해시', '대구광역시', '부산 해운대구',\n",
       "       '전라남도 진도군', '전남 강진군', '대전광역시', '경기 동두천시', '경상남도 거제시', '충남 서천군',\n",
       "       '광주 동구', '부산 사상구', '경북 구미시', '경상남도', '전라북도 완주군', '충남 아산시',\n",
       "       '전북 김제시', '전라북도 부안군', '전라남도 함평군', '전라북도 전주시', '전북 순창군', '충남 당진군',\n",
       "       '전남 영광군', '경기 하남시', '인천 동구', '전남 영암군', '서울 동대문구', '강원 원주시', '충청남도',\n",
       "       '경상남도 창녕군', '경남 김해시', '서울 종로구', '전남 구례군', '경남 창녕군', '경상남도 합천군',\n",
       "       '강원 강릉시', '경북 포항시 북구', '경기 안양시 동안구', '인천광역시 강화군', '강원도 횡성군',\n",
       "       '대구 북구', '강원 횡성군', '인천 부평구', '충청남도 논산시', '강원 홍천군', '충북 제천시',\n",
       "       '충청북도 제천시', '경기 여주군', '충남 천안시', '경기 안성시', '경상북도 군위군', '강원 영월군',\n",
       "       '경북 봉화군', '충북 음성군', '전라북도 장수군', '강원도', '강원 평창군', '전남 함평군',\n",
       "       '대전광역시 유성구', '울산 울주군', '경남 통영시', '경상북도 경주시', '강원도 화천군', '서울 도봉구',\n",
       "       '충청북도 옥천군', '전라북도 고창군', '서울 중랑구', '제주 제주시', '충남 천안시 동남구',\n",
       "       '충청남도 부여군', '강원 춘천시', '충청남도 홍성군', '경북 상주시', '충청북도', '충남 청양군',\n",
       "       '경기도 시흥시', '경북 영덕군', '인천 연수구', '서울특별시 서대문구', '경기 양평군', '경기도 수원시',\n",
       "       '강원도 원주시', '전남 고흥군', '전북 전주시 완산구', '경기 부천시 원미구', '충청북도 괴산군',\n",
       "       '충청남도 공주시', '경상북도 상주시', '세종시 세종시', '경기 시흥시', '부산 기장군', '충북 증평군',\n",
       "       '경상남도 진주시', '경기 군포시', '충청북도 청주시', '경북 의성군', '경북 칠곡군', '경기 용인시',\n",
       "       '경기 가평군', '충남 서산시', '대구광역시 달성군', '전북 장수군', '충청북도 영동군', '경남 밀양시',\n",
       "       '경상북도 칠곡군', '충남 부여군', '경남 사천시', '부산 사하구', '경상북도 예천군', '경기 오산시',\n",
       "       '경상남도 밀양시', '충청남도 계룡시', '전라북도 무주군', '충남 홍성군', '충청남도 서산시', '경기 연천군',\n",
       "       '부산 북구', '경북 성주군', '경상남도 사천시', '강원 정선군', '서울 영등포구', '경북 경주시',\n",
       "       '경상북도 안동시', '경북 김천시', '경남 합천군', '충청남도 아산시', '전라남도 영광군', '충남 태안군',\n",
       "       '경북 군위군', '전북 부안군', '충남 금산군', '경상북도 김천시', '전라남도 화순군', '충남 보령시',\n",
       "       '전남 광양시', '경상남도 창원시 마산회원구', '경북 울진군', '전라북도 정읍시', '제주 남제주군',\n",
       "       '경북 포항시 남구', '경상북도 경산시', '경상북도 의성군', '강원도 고성군', '전남 목포시',\n",
       "       '경상남도 통영시', '대구 달성군', '전남 장흥군', '경상남도 산청군', '전북 남원시', '경북 청도군',\n",
       "       '전북 군산시', '전라남도 보성군', '충청남도 청양군', '경상북도 청도군', '서울 서대문구', '부산 강서구',\n",
       "       '경상남도 하동군', '경상북도 성주군', '경상남도 함안군', '전라남도 담양군', '전라남도 강진군',\n",
       "       '경상남도 의령군', '전북 임실군', '제주도 제주시', '경기도 의왕시', '전라남도 장성군', '경상북도 영덕군',\n",
       "       '강원 철원군', '울산 북구', '경북 영천시', '강원도 춘천시', '경기 안양시 만안구', '인천광역시 남동구',\n",
       "       '서울 노원구', '중국', '경상북도 영양군', '대구 중구', '경북 경산시', '충청남도 태안군',\n",
       "       '경기 부천시 오정구', '경남 양산시', '충북 영동군', '전라남도 곡성군', '경상남도 양산시', '서울 양천구',\n",
       "       '강원도 양구군', '충북 보은군', '경북 영양군', '서울 마포구', '충청남도 금산군', '충청북도 보은군',\n",
       "       '경상북도', '경기 광주시', '충청남도 보령시', '전라남도 목포시', '경북 울릉군', '경기 부천시 소사구',\n",
       "       '강원도 영월군', '충청북도 음성군', '인천 중구', '울산 중구', '전라북도 진안군', '경북 영주시',\n",
       "       '경남 산청군', '경북 안동시', '강원 속초시', '전라남도 장흥군', '부산 남구', '제주 북제주군',\n",
       "       '경기 의정부시', '전라남도 순천시', '경남 의령군', '강원도 태백시', '전북 무주군', '경상남도 거창군',\n",
       "       '경상북도 봉화군', '경북 고령군', '경상북도 영천시', '경상북도 청송군', '충청북도 증평군', '전라북도',\n",
       "       '경기 수원시 팔달구'], dtype=object)"
      ]
     },
     "execution_count": 71,
     "metadata": {},
     "output_type": "execute_result"
    }
   ],
   "source": [
    "mus['SAN_NM'].unique()"
   ]
  },
  {
   "cell_type": "code",
   "execution_count": 72,
   "metadata": {},
   "outputs": [],
   "source": [
    "name_split = mus['SAN_NM'].str.split(\" \")\n",
    "mus['SAN_NM'] = name_split.str.get(0)"
   ]
  },
  {
   "cell_type": "code",
   "execution_count": 73,
   "metadata": {},
   "outputs": [
    {
     "data": {
      "text/plain": [
       "array(['전라남도', '경기도', nan, '충청북도', '충청남도', '서울특별시', '광주광역시', '서울',\n",
       "       '인천광역시', '강원도', '광주', '경상북도', '경기', '전남', '인천', '충남', '경상남도',\n",
       "       '전라북도', '전북', '충북', '대전', '울산', '부산', '경남', '강원', '부산광역시', '제주도',\n",
       "       '울산광역시', '대구', '대구광역시', '대전광역시', '경북', '제주', '세종시', '중국'],\n",
       "      dtype=object)"
      ]
     },
     "execution_count": 73,
     "metadata": {},
     "output_type": "execute_result"
    }
   ],
   "source": [
    "mus['SAN_NM'].unique()"
   ]
  },
  {
   "cell_type": "code",
   "execution_count": 74,
   "metadata": {},
   "outputs": [],
   "source": [
    "# 수입산 삭제\n",
    "drop_index = mus[mus['SAN_NM'] == '중국'].index\n",
    "mus.drop(index = drop_index, axis=0, inplace=True)"
   ]
  },
  {
   "cell_type": "code",
   "execution_count": 75,
   "metadata": {},
   "outputs": [],
   "source": [
    "mus['SAN_NM'].replace(['경기','서울','전남','충남','강원','경북','전북','경남','충북','광주','제주','대전','부산','대구','세종시','울산','인천'],\n",
    "                      ['경기도','서울특별시','전라남도','충청남도','강원도','경상북도','전라북도','경상남도','충청북도','광주광역시','제주도','대전광역시','부산광역시','대구광역시','세종특별자치시','울산광역시','인천광역시'],inplace=True)"
   ]
  },
  {
   "cell_type": "code",
   "execution_count": 76,
   "metadata": {},
   "outputs": [],
   "source": [
    "mus['SAN_NM'].fillna('산지없음',inplace=True)"
   ]
  },
  {
   "cell_type": "code",
   "execution_count": 77,
   "metadata": {},
   "outputs": [
    {
     "data": {
      "text/plain": [
       "array(['전라남도', '경기도', '산지없음', '충청북도', '충청남도', '서울특별시', '광주광역시', '인천광역시',\n",
       "       '강원도', '경상북도', '경상남도', '전라북도', '대전광역시', '울산광역시', '부산광역시', '제주도',\n",
       "       '대구광역시', '세종특별자치시'], dtype=object)"
      ]
     },
     "execution_count": 77,
     "metadata": {},
     "output_type": "execute_result"
    }
   ],
   "source": [
    "mus['SAN_NM'].unique()"
   ]
  },
  {
   "cell_type": "code",
   "execution_count": 78,
   "metadata": {},
   "outputs": [
    {
     "name": "stdout",
     "output_type": "stream",
     "text": [
      "18\n"
     ]
    }
   ],
   "source": [
    "print(len(mus['SAN_NM'].unique()))"
   ]
  },
  {
   "cell_type": "code",
   "execution_count": 79,
   "metadata": {},
   "outputs": [
    {
     "data": {
      "text/plain": [
       "SAN_NM\n",
       "경기도        51.678706\n",
       "전라남도       16.453851\n",
       "서울특별시       6.983694\n",
       "광주광역시       6.383724\n",
       "산지없음        6.269577\n",
       "충청북도        2.724455\n",
       "대전광역시       1.881212\n",
       "전라북도        1.774524\n",
       "충청남도        1.570004\n",
       "경상남도        1.203091\n",
       "인천광역시       1.022312\n",
       "부산광역시       0.926852\n",
       "강원도         0.420800\n",
       "경상북도        0.276778\n",
       "울산광역시       0.245445\n",
       "대구광역시       0.172079\n",
       "제주도         0.008356\n",
       "세종특별자치시     0.004537\n",
       "Name: TOT_QTY, dtype: float64"
      ]
     },
     "execution_count": 79,
     "metadata": {},
     "output_type": "execute_result"
    }
   ],
   "source": [
    "mus.groupby(['SAN_NM'])['TOT_QTY'].sum().sort_values(ascending=False)/sum(mus.groupby(['SAN_NM'])['TOT_QTY'].sum().sort_values(ascending=False)) * 100"
   ]
  },
  {
   "cell_type": "code",
   "execution_count": 80,
   "metadata": {},
   "outputs": [
    {
     "name": "stdout",
     "output_type": "stream",
     "text": [
      "2014 년도 \n",
      "주산지: 경기도 \n",
      "총 물량: 2895095.0999999996 \n",
      "비율: 59.06\n",
      "2015 년도 \n",
      "주산지: 경기도 \n",
      "총 물량: 3497643.5 \n",
      "비율: 70.58\n",
      "2016 년도 \n",
      "주산지: 경기도 \n",
      "총 물량: 5371179.4 \n",
      "비율: 46.59\n",
      "2017 년도 \n",
      "주산지: 경기도 \n",
      "총 물량: 7025561.5 \n",
      "비율: 48.63\n",
      "2018 년도 \n",
      "주산지: 경기도 \n",
      "총 물량: 7148742.7 \n",
      "비율: 50.92\n",
      "2019 년도 \n",
      "주산지: 경기도 \n",
      "총 물량: 6623378.2 \n",
      "비율: 50.15\n",
      "2020 년도 \n",
      "주산지: 경기도 \n",
      "총 물량: 6357265.3 \n",
      "비율: 50.52\n",
      "2021 년도 \n",
      "주산지: 경기도 \n",
      "총 물량: 2540728.9 \n",
      "비율: 55.7\n"
     ]
    }
   ],
   "source": [
    "for i in (2014,2015,2016,2017,2018,2019,2020,2021):\n",
    "    mus_year = mus[mus['SALEDATE'].dt.year == i]\n",
    "    joosan = mus_year.groupby(['SAN_NM'])['TOT_QTY'].sum().sort_values(ascending=True).index[-1]\n",
    "    joosan_amt = mus_year.groupby(['SAN_NM'])['TOT_QTY'].sum().sort_values(ascending=True)[-1]\n",
    "    ratio = joosan_amt / sum(mus_year.groupby(['SAN_NM'])['TOT_QTY'].sum().sort_values(ascending=True)) * 100\n",
    "    print(i,'년도', '\\n주산지:', joosan, '\\n총 물량:', joosan_amt, '\\n비율:', round(ratio,2))"
   ]
  },
  {
   "cell_type": "code",
   "execution_count": 81,
   "metadata": {},
   "outputs": [
    {
     "data": {
      "application/vnd.plotly.v1+json": {
       "config": {
        "plotlyServerURL": "https://plot.ly"
       },
       "data": [
        {
         "domain": {
          "x": [
           0,
           0.45
          ],
          "y": [
           0.84375,
           1
          ]
         },
         "hole": 0.4,
         "hoverinfo": "label+percent+name",
         "labels": [
          "강원도",
          "경기도",
          "경상북도",
          "광주광역시",
          "산지없음",
          "서울특별시",
          "인천광역시",
          "전라남도",
          "충청남도",
          "충청북도"
         ],
         "name": "2014",
         "textinfo": "none",
         "type": "pie",
         "values": [
          4848,
          2895095.0999999996,
          6,
          280,
          594573,
          388915,
          2480,
          988777,
          2790,
          24388
         ]
        },
        {
         "domain": {
          "x": [
           0.55,
           1
          ],
          "y": [
           0.84375,
           1
          ]
         },
         "hole": 0.4,
         "hoverinfo": "label+percent+name",
         "labels": [
          "강원도",
          "경기도",
          "경상남도",
          "광주광역시",
          "산지없음",
          "서울특별시",
          "인천광역시",
          "전라남도",
          "전라북도",
          "충청남도",
          "충청북도"
         ],
         "name": "2015",
         "textinfo": "none",
         "type": "pie",
         "values": [
          22938,
          3497643.5,
          171,
          200,
          552682,
          436756,
          1842,
          434683,
          525,
          6511.4,
          1629
         ]
        },
        {
         "domain": {
          "x": [
           0,
           0.45
          ],
          "y": [
           0.5625,
           0.71875
          ]
         },
         "hole": 0.4,
         "hoverinfo": "label+percent+name",
         "labels": [
          "강원도",
          "경기도",
          "경상남도",
          "경상북도",
          "광주광역시",
          "대구광역시",
          "대전광역시",
          "부산광역시",
          "산지없음",
          "서울특별시",
          "세종특별자치시",
          "울산광역시",
          "인천광역시",
          "전라남도",
          "전라북도",
          "제주도",
          "충청남도",
          "충청북도"
         ],
         "name": "2016",
         "textinfo": "none",
         "type": "pie",
         "values": [
          81207.49999999999,
          5371179.4,
          186910.40000000008,
          35074,
          1024711.5,
          10700,
          318804,
          81174.1,
          754121.5,
          877133.5,
          2940,
          37525.4,
          156725,
          1670167.7000000002,
          246242,
          3824,
          249949.5,
          420994.4
         ]
        },
        {
         "domain": {
          "x": [
           0.55,
           1
          ],
          "y": [
           0.5625,
           0.71875
          ]
         },
         "hole": 0.4,
         "hoverinfo": "label+percent+name",
         "labels": [
          "강원도",
          "경기도",
          "경상남도",
          "경상북도",
          "광주광역시",
          "대구광역시",
          "대전광역시",
          "부산광역시",
          "산지없음",
          "서울특별시",
          "세종특별자치시",
          "울산광역시",
          "인천광역시",
          "전라남도",
          "전라북도",
          "제주도",
          "충청남도",
          "충청북도"
         ],
         "name": "2017",
         "textinfo": "none",
         "type": "pie",
         "values": [
          62546.6,
          7025561.5,
          217557.6000000001,
          47011.100000000006,
          1048650,
          32037,
          375860,
          139812.09999999998,
          901141.5,
          1085475.2,
          100,
          51218,
          162032,
          2323461.9,
          273929,
          2379,
          241482.2,
          457391.5
         ]
        },
        {
         "domain": {
          "x": [
           0,
           0.45
          ],
          "y": [
           0.28125,
           0.4375
          ]
         },
         "hole": 0.4,
         "hoverinfo": "label+percent+name",
         "labels": [
          "강원도",
          "경기도",
          "경상남도",
          "경상북도",
          "광주광역시",
          "대구광역시",
          "대전광역시",
          "부산광역시",
          "산지없음",
          "서울특별시",
          "울산광역시",
          "인천광역시",
          "전라남도",
          "전라북도",
          "충청남도",
          "충청북도"
         ],
         "name": "2018",
         "textinfo": "none",
         "type": "pie",
         "values": [
          94051.70000000001,
          7148742.7,
          192485.29999999996,
          45003.30000000001,
          955659,
          33994,
          358488,
          108024.7,
          949600.5,
          954101,
          39988.7,
          196559,
          2073953.12,
          276007,
          225919.2,
          385282.7
         ]
        },
        {
         "domain": {
          "x": [
           0.55,
           1
          ],
          "y": [
           0.28125,
           0.4375
          ]
         },
         "hole": 0.4,
         "hoverinfo": "label+percent+name",
         "labels": [
          "강원도",
          "경기도",
          "경상남도",
          "경상북도",
          "광주광역시",
          "대구광역시",
          "대전광역시",
          "부산광역시",
          "산지없음",
          "서울특별시",
          "울산광역시",
          "인천광역시",
          "전라남도",
          "전라북도",
          "충청남도",
          "충청북도"
         ],
         "name": "2019",
         "textinfo": "none",
         "type": "pie",
         "values": [
          30792.8,
          6623378.2,
          192454.50000000015,
          50021.00000000001,
          874347.3,
          18158.86,
          243160,
          161066.39999999994,
          748828.8,
          887532.4,
          31513.100000000002,
          154591.9,
          2212928.8800000004,
          338095.70000000007,
          220997.7,
          419203.1
         ]
        },
        {
         "domain": {
          "x": [
           0,
           0.45
          ],
          "y": [
           0,
           0.15625
          ]
         },
         "hole": 0.4,
         "hoverinfo": "label+percent+name",
         "labels": [
          "강원도",
          "경기도",
          "경상남도",
          "경상북도",
          "광주광역시",
          "대구광역시",
          "대전광역시",
          "부산광역시",
          "산지없음",
          "서울특별시",
          "세종특별자치시",
          "울산광역시",
          "인천광역시",
          "전라남도",
          "전라북도",
          "제주도",
          "충청남도",
          "충청북도"
         ],
         "name": "2020",
         "textinfo": "none",
         "type": "pie",
         "values": [
          33014,
          6357265.3,
          150452.39999999988,
          43867.1,
          783214.8,
          40446.399999999994,
          193385,
          214099.80000000008,
          355001.3,
          752912.2,
          600,
          35404.6,
          135484.49999999997,
          2510978.0300000007,
          277432.19999999984,
          216,
          270152.4,
          430389.2
         ]
        },
        {
         "domain": {
          "x": [
           0.55,
           1
          ],
          "y": [
           0,
           0.15625
          ]
         },
         "hole": 0.4,
         "hoverinfo": "label+percent+name",
         "labels": [
          "강원도",
          "경기도",
          "경상남도",
          "경상북도",
          "광주광역시",
          "대구광역시",
          "대전광역시",
          "부산광역시",
          "산지없음",
          "서울특별시",
          "울산광역시",
          "인천광역시",
          "전라남도",
          "전라북도",
          "제주도",
          "충청남도",
          "충청북도"
         ],
         "name": "2021",
         "textinfo": "none",
         "type": "pie",
         "values": [
          8191.400000000001,
          2540728.9,
          25156.999999999996,
          1064.7,
          434323.8,
          2715.6,
          19518.5,
          39396.399999999994,
          173862.6,
          219890.5000000001,
          1260.5,
          10442,
          985264.2,
          11393.199999999999,
          285,
          41744,
          46435
         ]
        }
       ],
       "layout": {
        "annotations": [
         {
          "font": {
           "size": 16
          },
          "showarrow": false,
          "text": "2014",
          "x": 0.225,
          "xanchor": "center",
          "xref": "paper",
          "y": 1,
          "yanchor": "bottom",
          "yref": "paper"
         },
         {
          "font": {
           "size": 16
          },
          "showarrow": false,
          "text": "2015",
          "x": 0.775,
          "xanchor": "center",
          "xref": "paper",
          "y": 1,
          "yanchor": "bottom",
          "yref": "paper"
         },
         {
          "font": {
           "size": 16
          },
          "showarrow": false,
          "text": "2016",
          "x": 0.225,
          "xanchor": "center",
          "xref": "paper",
          "y": 0.71875,
          "yanchor": "bottom",
          "yref": "paper"
         },
         {
          "font": {
           "size": 16
          },
          "showarrow": false,
          "text": "2017",
          "x": 0.775,
          "xanchor": "center",
          "xref": "paper",
          "y": 0.71875,
          "yanchor": "bottom",
          "yref": "paper"
         },
         {
          "font": {
           "size": 16
          },
          "showarrow": false,
          "text": "2018",
          "x": 0.225,
          "xanchor": "center",
          "xref": "paper",
          "y": 0.4375,
          "yanchor": "bottom",
          "yref": "paper"
         },
         {
          "font": {
           "size": 16
          },
          "showarrow": false,
          "text": "2019",
          "x": 0.775,
          "xanchor": "center",
          "xref": "paper",
          "y": 0.4375,
          "yanchor": "bottom",
          "yref": "paper"
         },
         {
          "font": {
           "size": 16
          },
          "showarrow": false,
          "text": "2020",
          "x": 0.225,
          "xanchor": "center",
          "xref": "paper",
          "y": 0.15625,
          "yanchor": "bottom",
          "yref": "paper"
         },
         {
          "font": {
           "size": 16
          },
          "showarrow": false,
          "text": "2021",
          "x": 0.775,
          "xanchor": "center",
          "xref": "paper",
          "y": 0.15625,
          "yanchor": "bottom",
          "yref": "paper"
         }
        ],
        "showlegend": true,
        "template": {
         "data": {
          "bar": [
           {
            "error_x": {
             "color": "#2a3f5f"
            },
            "error_y": {
             "color": "#2a3f5f"
            },
            "marker": {
             "line": {
              "color": "#E5ECF6",
              "width": 0.5
             },
             "pattern": {
              "fillmode": "overlay",
              "size": 10,
              "solidity": 0.2
             }
            },
            "type": "bar"
           }
          ],
          "barpolar": [
           {
            "marker": {
             "line": {
              "color": "#E5ECF6",
              "width": 0.5
             },
             "pattern": {
              "fillmode": "overlay",
              "size": 10,
              "solidity": 0.2
             }
            },
            "type": "barpolar"
           }
          ],
          "carpet": [
           {
            "aaxis": {
             "endlinecolor": "#2a3f5f",
             "gridcolor": "white",
             "linecolor": "white",
             "minorgridcolor": "white",
             "startlinecolor": "#2a3f5f"
            },
            "baxis": {
             "endlinecolor": "#2a3f5f",
             "gridcolor": "white",
             "linecolor": "white",
             "minorgridcolor": "white",
             "startlinecolor": "#2a3f5f"
            },
            "type": "carpet"
           }
          ],
          "choropleth": [
           {
            "colorbar": {
             "outlinewidth": 0,
             "ticks": ""
            },
            "type": "choropleth"
           }
          ],
          "contour": [
           {
            "colorbar": {
             "outlinewidth": 0,
             "ticks": ""
            },
            "colorscale": [
             [
              0,
              "#0d0887"
             ],
             [
              0.1111111111111111,
              "#46039f"
             ],
             [
              0.2222222222222222,
              "#7201a8"
             ],
             [
              0.3333333333333333,
              "#9c179e"
             ],
             [
              0.4444444444444444,
              "#bd3786"
             ],
             [
              0.5555555555555556,
              "#d8576b"
             ],
             [
              0.6666666666666666,
              "#ed7953"
             ],
             [
              0.7777777777777778,
              "#fb9f3a"
             ],
             [
              0.8888888888888888,
              "#fdca26"
             ],
             [
              1,
              "#f0f921"
             ]
            ],
            "type": "contour"
           }
          ],
          "contourcarpet": [
           {
            "colorbar": {
             "outlinewidth": 0,
             "ticks": ""
            },
            "type": "contourcarpet"
           }
          ],
          "heatmap": [
           {
            "colorbar": {
             "outlinewidth": 0,
             "ticks": ""
            },
            "colorscale": [
             [
              0,
              "#0d0887"
             ],
             [
              0.1111111111111111,
              "#46039f"
             ],
             [
              0.2222222222222222,
              "#7201a8"
             ],
             [
              0.3333333333333333,
              "#9c179e"
             ],
             [
              0.4444444444444444,
              "#bd3786"
             ],
             [
              0.5555555555555556,
              "#d8576b"
             ],
             [
              0.6666666666666666,
              "#ed7953"
             ],
             [
              0.7777777777777778,
              "#fb9f3a"
             ],
             [
              0.8888888888888888,
              "#fdca26"
             ],
             [
              1,
              "#f0f921"
             ]
            ],
            "type": "heatmap"
           }
          ],
          "heatmapgl": [
           {
            "colorbar": {
             "outlinewidth": 0,
             "ticks": ""
            },
            "colorscale": [
             [
              0,
              "#0d0887"
             ],
             [
              0.1111111111111111,
              "#46039f"
             ],
             [
              0.2222222222222222,
              "#7201a8"
             ],
             [
              0.3333333333333333,
              "#9c179e"
             ],
             [
              0.4444444444444444,
              "#bd3786"
             ],
             [
              0.5555555555555556,
              "#d8576b"
             ],
             [
              0.6666666666666666,
              "#ed7953"
             ],
             [
              0.7777777777777778,
              "#fb9f3a"
             ],
             [
              0.8888888888888888,
              "#fdca26"
             ],
             [
              1,
              "#f0f921"
             ]
            ],
            "type": "heatmapgl"
           }
          ],
          "histogram": [
           {
            "marker": {
             "pattern": {
              "fillmode": "overlay",
              "size": 10,
              "solidity": 0.2
             }
            },
            "type": "histogram"
           }
          ],
          "histogram2d": [
           {
            "colorbar": {
             "outlinewidth": 0,
             "ticks": ""
            },
            "colorscale": [
             [
              0,
              "#0d0887"
             ],
             [
              0.1111111111111111,
              "#46039f"
             ],
             [
              0.2222222222222222,
              "#7201a8"
             ],
             [
              0.3333333333333333,
              "#9c179e"
             ],
             [
              0.4444444444444444,
              "#bd3786"
             ],
             [
              0.5555555555555556,
              "#d8576b"
             ],
             [
              0.6666666666666666,
              "#ed7953"
             ],
             [
              0.7777777777777778,
              "#fb9f3a"
             ],
             [
              0.8888888888888888,
              "#fdca26"
             ],
             [
              1,
              "#f0f921"
             ]
            ],
            "type": "histogram2d"
           }
          ],
          "histogram2dcontour": [
           {
            "colorbar": {
             "outlinewidth": 0,
             "ticks": ""
            },
            "colorscale": [
             [
              0,
              "#0d0887"
             ],
             [
              0.1111111111111111,
              "#46039f"
             ],
             [
              0.2222222222222222,
              "#7201a8"
             ],
             [
              0.3333333333333333,
              "#9c179e"
             ],
             [
              0.4444444444444444,
              "#bd3786"
             ],
             [
              0.5555555555555556,
              "#d8576b"
             ],
             [
              0.6666666666666666,
              "#ed7953"
             ],
             [
              0.7777777777777778,
              "#fb9f3a"
             ],
             [
              0.8888888888888888,
              "#fdca26"
             ],
             [
              1,
              "#f0f921"
             ]
            ],
            "type": "histogram2dcontour"
           }
          ],
          "mesh3d": [
           {
            "colorbar": {
             "outlinewidth": 0,
             "ticks": ""
            },
            "type": "mesh3d"
           }
          ],
          "parcoords": [
           {
            "line": {
             "colorbar": {
              "outlinewidth": 0,
              "ticks": ""
             }
            },
            "type": "parcoords"
           }
          ],
          "pie": [
           {
            "automargin": true,
            "type": "pie"
           }
          ],
          "scatter": [
           {
            "marker": {
             "colorbar": {
              "outlinewidth": 0,
              "ticks": ""
             }
            },
            "type": "scatter"
           }
          ],
          "scatter3d": [
           {
            "line": {
             "colorbar": {
              "outlinewidth": 0,
              "ticks": ""
             }
            },
            "marker": {
             "colorbar": {
              "outlinewidth": 0,
              "ticks": ""
             }
            },
            "type": "scatter3d"
           }
          ],
          "scattercarpet": [
           {
            "marker": {
             "colorbar": {
              "outlinewidth": 0,
              "ticks": ""
             }
            },
            "type": "scattercarpet"
           }
          ],
          "scattergeo": [
           {
            "marker": {
             "colorbar": {
              "outlinewidth": 0,
              "ticks": ""
             }
            },
            "type": "scattergeo"
           }
          ],
          "scattergl": [
           {
            "marker": {
             "colorbar": {
              "outlinewidth": 0,
              "ticks": ""
             }
            },
            "type": "scattergl"
           }
          ],
          "scattermapbox": [
           {
            "marker": {
             "colorbar": {
              "outlinewidth": 0,
              "ticks": ""
             }
            },
            "type": "scattermapbox"
           }
          ],
          "scatterpolar": [
           {
            "marker": {
             "colorbar": {
              "outlinewidth": 0,
              "ticks": ""
             }
            },
            "type": "scatterpolar"
           }
          ],
          "scatterpolargl": [
           {
            "marker": {
             "colorbar": {
              "outlinewidth": 0,
              "ticks": ""
             }
            },
            "type": "scatterpolargl"
           }
          ],
          "scatterternary": [
           {
            "marker": {
             "colorbar": {
              "outlinewidth": 0,
              "ticks": ""
             }
            },
            "type": "scatterternary"
           }
          ],
          "surface": [
           {
            "colorbar": {
             "outlinewidth": 0,
             "ticks": ""
            },
            "colorscale": [
             [
              0,
              "#0d0887"
             ],
             [
              0.1111111111111111,
              "#46039f"
             ],
             [
              0.2222222222222222,
              "#7201a8"
             ],
             [
              0.3333333333333333,
              "#9c179e"
             ],
             [
              0.4444444444444444,
              "#bd3786"
             ],
             [
              0.5555555555555556,
              "#d8576b"
             ],
             [
              0.6666666666666666,
              "#ed7953"
             ],
             [
              0.7777777777777778,
              "#fb9f3a"
             ],
             [
              0.8888888888888888,
              "#fdca26"
             ],
             [
              1,
              "#f0f921"
             ]
            ],
            "type": "surface"
           }
          ],
          "table": [
           {
            "cells": {
             "fill": {
              "color": "#EBF0F8"
             },
             "line": {
              "color": "white"
             }
            },
            "header": {
             "fill": {
              "color": "#C8D4E3"
             },
             "line": {
              "color": "white"
             }
            },
            "type": "table"
           }
          ]
         },
         "layout": {
          "annotationdefaults": {
           "arrowcolor": "#2a3f5f",
           "arrowhead": 0,
           "arrowwidth": 1
          },
          "autotypenumbers": "strict",
          "coloraxis": {
           "colorbar": {
            "outlinewidth": 0,
            "ticks": ""
           }
          },
          "colorscale": {
           "diverging": [
            [
             0,
             "#8e0152"
            ],
            [
             0.1,
             "#c51b7d"
            ],
            [
             0.2,
             "#de77ae"
            ],
            [
             0.3,
             "#f1b6da"
            ],
            [
             0.4,
             "#fde0ef"
            ],
            [
             0.5,
             "#f7f7f7"
            ],
            [
             0.6,
             "#e6f5d0"
            ],
            [
             0.7,
             "#b8e186"
            ],
            [
             0.8,
             "#7fbc41"
            ],
            [
             0.9,
             "#4d9221"
            ],
            [
             1,
             "#276419"
            ]
           ],
           "sequential": [
            [
             0,
             "#0d0887"
            ],
            [
             0.1111111111111111,
             "#46039f"
            ],
            [
             0.2222222222222222,
             "#7201a8"
            ],
            [
             0.3333333333333333,
             "#9c179e"
            ],
            [
             0.4444444444444444,
             "#bd3786"
            ],
            [
             0.5555555555555556,
             "#d8576b"
            ],
            [
             0.6666666666666666,
             "#ed7953"
            ],
            [
             0.7777777777777778,
             "#fb9f3a"
            ],
            [
             0.8888888888888888,
             "#fdca26"
            ],
            [
             1,
             "#f0f921"
            ]
           ],
           "sequentialminus": [
            [
             0,
             "#0d0887"
            ],
            [
             0.1111111111111111,
             "#46039f"
            ],
            [
             0.2222222222222222,
             "#7201a8"
            ],
            [
             0.3333333333333333,
             "#9c179e"
            ],
            [
             0.4444444444444444,
             "#bd3786"
            ],
            [
             0.5555555555555556,
             "#d8576b"
            ],
            [
             0.6666666666666666,
             "#ed7953"
            ],
            [
             0.7777777777777778,
             "#fb9f3a"
            ],
            [
             0.8888888888888888,
             "#fdca26"
            ],
            [
             1,
             "#f0f921"
            ]
           ]
          },
          "colorway": [
           "#636efa",
           "#EF553B",
           "#00cc96",
           "#ab63fa",
           "#FFA15A",
           "#19d3f3",
           "#FF6692",
           "#B6E880",
           "#FF97FF",
           "#FECB52"
          ],
          "font": {
           "color": "#2a3f5f"
          },
          "geo": {
           "bgcolor": "white",
           "lakecolor": "white",
           "landcolor": "#E5ECF6",
           "showlakes": true,
           "showland": true,
           "subunitcolor": "white"
          },
          "hoverlabel": {
           "align": "left"
          },
          "hovermode": "closest",
          "mapbox": {
           "style": "light"
          },
          "paper_bgcolor": "white",
          "plot_bgcolor": "#E5ECF6",
          "polar": {
           "angularaxis": {
            "gridcolor": "white",
            "linecolor": "white",
            "ticks": ""
           },
           "bgcolor": "#E5ECF6",
           "radialaxis": {
            "gridcolor": "white",
            "linecolor": "white",
            "ticks": ""
           }
          },
          "scene": {
           "xaxis": {
            "backgroundcolor": "#E5ECF6",
            "gridcolor": "white",
            "gridwidth": 2,
            "linecolor": "white",
            "showbackground": true,
            "ticks": "",
            "zerolinecolor": "white"
           },
           "yaxis": {
            "backgroundcolor": "#E5ECF6",
            "gridcolor": "white",
            "gridwidth": 2,
            "linecolor": "white",
            "showbackground": true,
            "ticks": "",
            "zerolinecolor": "white"
           },
           "zaxis": {
            "backgroundcolor": "#E5ECF6",
            "gridcolor": "white",
            "gridwidth": 2,
            "linecolor": "white",
            "showbackground": true,
            "ticks": "",
            "zerolinecolor": "white"
           }
          },
          "shapedefaults": {
           "line": {
            "color": "#2a3f5f"
           }
          },
          "ternary": {
           "aaxis": {
            "gridcolor": "white",
            "linecolor": "white",
            "ticks": ""
           },
           "baxis": {
            "gridcolor": "white",
            "linecolor": "white",
            "ticks": ""
           },
           "bgcolor": "#E5ECF6",
           "caxis": {
            "gridcolor": "white",
            "linecolor": "white",
            "ticks": ""
           }
          },
          "title": {
           "x": 0.05
          },
          "xaxis": {
           "automargin": true,
           "gridcolor": "white",
           "linecolor": "white",
           "ticks": "",
           "title": {
            "standoff": 15
           },
           "zerolinecolor": "white",
           "zerolinewidth": 2
          },
          "yaxis": {
           "automargin": true,
           "gridcolor": "white",
           "linecolor": "white",
           "ticks": "",
           "title": {
            "standoff": 15
           },
           "zerolinecolor": "white",
           "zerolinewidth": 2
          }
         }
        },
        "title": {
         "text": "년도별 주산지 비율"
        }
       }
      },
      "text/html": [
       "<div>                            <div id=\"2c0760e8-d6cb-492b-8370-f2d818cb2029\" class=\"plotly-graph-div\" style=\"height:525px; width:100%;\"></div>            <script type=\"text/javascript\">                require([\"plotly\"], function(Plotly) {                    window.PLOTLYENV=window.PLOTLYENV || {};                                    if (document.getElementById(\"2c0760e8-d6cb-492b-8370-f2d818cb2029\")) {                    Plotly.newPlot(                        \"2c0760e8-d6cb-492b-8370-f2d818cb2029\",                        [{\"domain\":{\"x\":[0.0,0.45],\"y\":[0.84375,1.0]},\"hole\":0.4,\"hoverinfo\":\"label+percent+name\",\"labels\":[\"\\uac15\\uc6d0\\ub3c4\",\"\\uacbd\\uae30\\ub3c4\",\"\\uacbd\\uc0c1\\ubd81\\ub3c4\",\"\\uad11\\uc8fc\\uad11\\uc5ed\\uc2dc\",\"\\uc0b0\\uc9c0\\uc5c6\\uc74c\",\"\\uc11c\\uc6b8\\ud2b9\\ubcc4\\uc2dc\",\"\\uc778\\ucc9c\\uad11\\uc5ed\\uc2dc\",\"\\uc804\\ub77c\\ub0a8\\ub3c4\",\"\\ucda9\\uccad\\ub0a8\\ub3c4\",\"\\ucda9\\uccad\\ubd81\\ub3c4\"],\"name\":\"2014\",\"textinfo\":\"none\",\"type\":\"pie\",\"values\":[4848.0,2895095.0999999996,6.0,280.0,594573.0,388915.0,2480.0,988777.0,2790.0,24388.0]},{\"domain\":{\"x\":[0.55,1.0],\"y\":[0.84375,1.0]},\"hole\":0.4,\"hoverinfo\":\"label+percent+name\",\"labels\":[\"\\uac15\\uc6d0\\ub3c4\",\"\\uacbd\\uae30\\ub3c4\",\"\\uacbd\\uc0c1\\ub0a8\\ub3c4\",\"\\uad11\\uc8fc\\uad11\\uc5ed\\uc2dc\",\"\\uc0b0\\uc9c0\\uc5c6\\uc74c\",\"\\uc11c\\uc6b8\\ud2b9\\ubcc4\\uc2dc\",\"\\uc778\\ucc9c\\uad11\\uc5ed\\uc2dc\",\"\\uc804\\ub77c\\ub0a8\\ub3c4\",\"\\uc804\\ub77c\\ubd81\\ub3c4\",\"\\ucda9\\uccad\\ub0a8\\ub3c4\",\"\\ucda9\\uccad\\ubd81\\ub3c4\"],\"name\":\"2015\",\"textinfo\":\"none\",\"type\":\"pie\",\"values\":[22938.0,3497643.5,171.0,200.0,552682.0,436756.0,1842.0,434683.0,525.0,6511.4,1629.0]},{\"domain\":{\"x\":[0.0,0.45],\"y\":[0.5625,0.71875]},\"hole\":0.4,\"hoverinfo\":\"label+percent+name\",\"labels\":[\"\\uac15\\uc6d0\\ub3c4\",\"\\uacbd\\uae30\\ub3c4\",\"\\uacbd\\uc0c1\\ub0a8\\ub3c4\",\"\\uacbd\\uc0c1\\ubd81\\ub3c4\",\"\\uad11\\uc8fc\\uad11\\uc5ed\\uc2dc\",\"\\ub300\\uad6c\\uad11\\uc5ed\\uc2dc\",\"\\ub300\\uc804\\uad11\\uc5ed\\uc2dc\",\"\\ubd80\\uc0b0\\uad11\\uc5ed\\uc2dc\",\"\\uc0b0\\uc9c0\\uc5c6\\uc74c\",\"\\uc11c\\uc6b8\\ud2b9\\ubcc4\\uc2dc\",\"\\uc138\\uc885\\ud2b9\\ubcc4\\uc790\\uce58\\uc2dc\",\"\\uc6b8\\uc0b0\\uad11\\uc5ed\\uc2dc\",\"\\uc778\\ucc9c\\uad11\\uc5ed\\uc2dc\",\"\\uc804\\ub77c\\ub0a8\\ub3c4\",\"\\uc804\\ub77c\\ubd81\\ub3c4\",\"\\uc81c\\uc8fc\\ub3c4\",\"\\ucda9\\uccad\\ub0a8\\ub3c4\",\"\\ucda9\\uccad\\ubd81\\ub3c4\"],\"name\":\"2016\",\"textinfo\":\"none\",\"type\":\"pie\",\"values\":[81207.49999999999,5371179.4,186910.40000000008,35074.0,1024711.5,10700.0,318804.0,81174.1,754121.5,877133.5,2940.0,37525.4,156725.0,1670167.7000000002,246242.0,3824.0,249949.5,420994.4]},{\"domain\":{\"x\":[0.55,1.0],\"y\":[0.5625,0.71875]},\"hole\":0.4,\"hoverinfo\":\"label+percent+name\",\"labels\":[\"\\uac15\\uc6d0\\ub3c4\",\"\\uacbd\\uae30\\ub3c4\",\"\\uacbd\\uc0c1\\ub0a8\\ub3c4\",\"\\uacbd\\uc0c1\\ubd81\\ub3c4\",\"\\uad11\\uc8fc\\uad11\\uc5ed\\uc2dc\",\"\\ub300\\uad6c\\uad11\\uc5ed\\uc2dc\",\"\\ub300\\uc804\\uad11\\uc5ed\\uc2dc\",\"\\ubd80\\uc0b0\\uad11\\uc5ed\\uc2dc\",\"\\uc0b0\\uc9c0\\uc5c6\\uc74c\",\"\\uc11c\\uc6b8\\ud2b9\\ubcc4\\uc2dc\",\"\\uc138\\uc885\\ud2b9\\ubcc4\\uc790\\uce58\\uc2dc\",\"\\uc6b8\\uc0b0\\uad11\\uc5ed\\uc2dc\",\"\\uc778\\ucc9c\\uad11\\uc5ed\\uc2dc\",\"\\uc804\\ub77c\\ub0a8\\ub3c4\",\"\\uc804\\ub77c\\ubd81\\ub3c4\",\"\\uc81c\\uc8fc\\ub3c4\",\"\\ucda9\\uccad\\ub0a8\\ub3c4\",\"\\ucda9\\uccad\\ubd81\\ub3c4\"],\"name\":\"2017\",\"textinfo\":\"none\",\"type\":\"pie\",\"values\":[62546.6,7025561.5,217557.6000000001,47011.100000000006,1048650.0,32037.0,375860.0,139812.09999999998,901141.5,1085475.2,100.0,51218.0,162032.0,2323461.9,273929.0,2379.0,241482.2,457391.5]},{\"domain\":{\"x\":[0.0,0.45],\"y\":[0.28125,0.4375]},\"hole\":0.4,\"hoverinfo\":\"label+percent+name\",\"labels\":[\"\\uac15\\uc6d0\\ub3c4\",\"\\uacbd\\uae30\\ub3c4\",\"\\uacbd\\uc0c1\\ub0a8\\ub3c4\",\"\\uacbd\\uc0c1\\ubd81\\ub3c4\",\"\\uad11\\uc8fc\\uad11\\uc5ed\\uc2dc\",\"\\ub300\\uad6c\\uad11\\uc5ed\\uc2dc\",\"\\ub300\\uc804\\uad11\\uc5ed\\uc2dc\",\"\\ubd80\\uc0b0\\uad11\\uc5ed\\uc2dc\",\"\\uc0b0\\uc9c0\\uc5c6\\uc74c\",\"\\uc11c\\uc6b8\\ud2b9\\ubcc4\\uc2dc\",\"\\uc6b8\\uc0b0\\uad11\\uc5ed\\uc2dc\",\"\\uc778\\ucc9c\\uad11\\uc5ed\\uc2dc\",\"\\uc804\\ub77c\\ub0a8\\ub3c4\",\"\\uc804\\ub77c\\ubd81\\ub3c4\",\"\\ucda9\\uccad\\ub0a8\\ub3c4\",\"\\ucda9\\uccad\\ubd81\\ub3c4\"],\"name\":\"2018\",\"textinfo\":\"none\",\"type\":\"pie\",\"values\":[94051.70000000001,7148742.7,192485.29999999996,45003.30000000001,955659.0,33994.0,358488.0,108024.7,949600.5,954101.0,39988.7,196559.0,2073953.12,276007.0,225919.2,385282.7]},{\"domain\":{\"x\":[0.55,1.0],\"y\":[0.28125,0.4375]},\"hole\":0.4,\"hoverinfo\":\"label+percent+name\",\"labels\":[\"\\uac15\\uc6d0\\ub3c4\",\"\\uacbd\\uae30\\ub3c4\",\"\\uacbd\\uc0c1\\ub0a8\\ub3c4\",\"\\uacbd\\uc0c1\\ubd81\\ub3c4\",\"\\uad11\\uc8fc\\uad11\\uc5ed\\uc2dc\",\"\\ub300\\uad6c\\uad11\\uc5ed\\uc2dc\",\"\\ub300\\uc804\\uad11\\uc5ed\\uc2dc\",\"\\ubd80\\uc0b0\\uad11\\uc5ed\\uc2dc\",\"\\uc0b0\\uc9c0\\uc5c6\\uc74c\",\"\\uc11c\\uc6b8\\ud2b9\\ubcc4\\uc2dc\",\"\\uc6b8\\uc0b0\\uad11\\uc5ed\\uc2dc\",\"\\uc778\\ucc9c\\uad11\\uc5ed\\uc2dc\",\"\\uc804\\ub77c\\ub0a8\\ub3c4\",\"\\uc804\\ub77c\\ubd81\\ub3c4\",\"\\ucda9\\uccad\\ub0a8\\ub3c4\",\"\\ucda9\\uccad\\ubd81\\ub3c4\"],\"name\":\"2019\",\"textinfo\":\"none\",\"type\":\"pie\",\"values\":[30792.8,6623378.2,192454.50000000015,50021.00000000001,874347.3,18158.86,243160.0,161066.39999999994,748828.8,887532.4,31513.100000000002,154591.9,2212928.8800000004,338095.70000000007,220997.7,419203.1]},{\"domain\":{\"x\":[0.0,0.45],\"y\":[0.0,0.15625]},\"hole\":0.4,\"hoverinfo\":\"label+percent+name\",\"labels\":[\"\\uac15\\uc6d0\\ub3c4\",\"\\uacbd\\uae30\\ub3c4\",\"\\uacbd\\uc0c1\\ub0a8\\ub3c4\",\"\\uacbd\\uc0c1\\ubd81\\ub3c4\",\"\\uad11\\uc8fc\\uad11\\uc5ed\\uc2dc\",\"\\ub300\\uad6c\\uad11\\uc5ed\\uc2dc\",\"\\ub300\\uc804\\uad11\\uc5ed\\uc2dc\",\"\\ubd80\\uc0b0\\uad11\\uc5ed\\uc2dc\",\"\\uc0b0\\uc9c0\\uc5c6\\uc74c\",\"\\uc11c\\uc6b8\\ud2b9\\ubcc4\\uc2dc\",\"\\uc138\\uc885\\ud2b9\\ubcc4\\uc790\\uce58\\uc2dc\",\"\\uc6b8\\uc0b0\\uad11\\uc5ed\\uc2dc\",\"\\uc778\\ucc9c\\uad11\\uc5ed\\uc2dc\",\"\\uc804\\ub77c\\ub0a8\\ub3c4\",\"\\uc804\\ub77c\\ubd81\\ub3c4\",\"\\uc81c\\uc8fc\\ub3c4\",\"\\ucda9\\uccad\\ub0a8\\ub3c4\",\"\\ucda9\\uccad\\ubd81\\ub3c4\"],\"name\":\"2020\",\"textinfo\":\"none\",\"type\":\"pie\",\"values\":[33014.0,6357265.3,150452.39999999988,43867.1,783214.8,40446.399999999994,193385.0,214099.80000000008,355001.3,752912.2,600.0,35404.6,135484.49999999997,2510978.0300000007,277432.19999999984,216.0,270152.4,430389.2]},{\"domain\":{\"x\":[0.55,1.0],\"y\":[0.0,0.15625]},\"hole\":0.4,\"hoverinfo\":\"label+percent+name\",\"labels\":[\"\\uac15\\uc6d0\\ub3c4\",\"\\uacbd\\uae30\\ub3c4\",\"\\uacbd\\uc0c1\\ub0a8\\ub3c4\",\"\\uacbd\\uc0c1\\ubd81\\ub3c4\",\"\\uad11\\uc8fc\\uad11\\uc5ed\\uc2dc\",\"\\ub300\\uad6c\\uad11\\uc5ed\\uc2dc\",\"\\ub300\\uc804\\uad11\\uc5ed\\uc2dc\",\"\\ubd80\\uc0b0\\uad11\\uc5ed\\uc2dc\",\"\\uc0b0\\uc9c0\\uc5c6\\uc74c\",\"\\uc11c\\uc6b8\\ud2b9\\ubcc4\\uc2dc\",\"\\uc6b8\\uc0b0\\uad11\\uc5ed\\uc2dc\",\"\\uc778\\ucc9c\\uad11\\uc5ed\\uc2dc\",\"\\uc804\\ub77c\\ub0a8\\ub3c4\",\"\\uc804\\ub77c\\ubd81\\ub3c4\",\"\\uc81c\\uc8fc\\ub3c4\",\"\\ucda9\\uccad\\ub0a8\\ub3c4\",\"\\ucda9\\uccad\\ubd81\\ub3c4\"],\"name\":\"2021\",\"textinfo\":\"none\",\"type\":\"pie\",\"values\":[8191.400000000001,2540728.9,25156.999999999996,1064.7,434323.8,2715.6,19518.5,39396.399999999994,173862.6,219890.5000000001,1260.5,10442.0,985264.2,11393.199999999999,285.0,41744.0,46435.0]}],                        {\"annotations\":[{\"font\":{\"size\":16},\"showarrow\":false,\"text\":\"2014\",\"x\":0.225,\"xanchor\":\"center\",\"xref\":\"paper\",\"y\":1.0,\"yanchor\":\"bottom\",\"yref\":\"paper\"},{\"font\":{\"size\":16},\"showarrow\":false,\"text\":\"2015\",\"x\":0.775,\"xanchor\":\"center\",\"xref\":\"paper\",\"y\":1.0,\"yanchor\":\"bottom\",\"yref\":\"paper\"},{\"font\":{\"size\":16},\"showarrow\":false,\"text\":\"2016\",\"x\":0.225,\"xanchor\":\"center\",\"xref\":\"paper\",\"y\":0.71875,\"yanchor\":\"bottom\",\"yref\":\"paper\"},{\"font\":{\"size\":16},\"showarrow\":false,\"text\":\"2017\",\"x\":0.775,\"xanchor\":\"center\",\"xref\":\"paper\",\"y\":0.71875,\"yanchor\":\"bottom\",\"yref\":\"paper\"},{\"font\":{\"size\":16},\"showarrow\":false,\"text\":\"2018\",\"x\":0.225,\"xanchor\":\"center\",\"xref\":\"paper\",\"y\":0.4375,\"yanchor\":\"bottom\",\"yref\":\"paper\"},{\"font\":{\"size\":16},\"showarrow\":false,\"text\":\"2019\",\"x\":0.775,\"xanchor\":\"center\",\"xref\":\"paper\",\"y\":0.4375,\"yanchor\":\"bottom\",\"yref\":\"paper\"},{\"font\":{\"size\":16},\"showarrow\":false,\"text\":\"2020\",\"x\":0.225,\"xanchor\":\"center\",\"xref\":\"paper\",\"y\":0.15625,\"yanchor\":\"bottom\",\"yref\":\"paper\"},{\"font\":{\"size\":16},\"showarrow\":false,\"text\":\"2021\",\"x\":0.775,\"xanchor\":\"center\",\"xref\":\"paper\",\"y\":0.15625,\"yanchor\":\"bottom\",\"yref\":\"paper\"}],\"showlegend\":true,\"template\":{\"data\":{\"bar\":[{\"error_x\":{\"color\":\"#2a3f5f\"},\"error_y\":{\"color\":\"#2a3f5f\"},\"marker\":{\"line\":{\"color\":\"#E5ECF6\",\"width\":0.5},\"pattern\":{\"fillmode\":\"overlay\",\"size\":10,\"solidity\":0.2}},\"type\":\"bar\"}],\"barpolar\":[{\"marker\":{\"line\":{\"color\":\"#E5ECF6\",\"width\":0.5},\"pattern\":{\"fillmode\":\"overlay\",\"size\":10,\"solidity\":0.2}},\"type\":\"barpolar\"}],\"carpet\":[{\"aaxis\":{\"endlinecolor\":\"#2a3f5f\",\"gridcolor\":\"white\",\"linecolor\":\"white\",\"minorgridcolor\":\"white\",\"startlinecolor\":\"#2a3f5f\"},\"baxis\":{\"endlinecolor\":\"#2a3f5f\",\"gridcolor\":\"white\",\"linecolor\":\"white\",\"minorgridcolor\":\"white\",\"startlinecolor\":\"#2a3f5f\"},\"type\":\"carpet\"}],\"choropleth\":[{\"colorbar\":{\"outlinewidth\":0,\"ticks\":\"\"},\"type\":\"choropleth\"}],\"contour\":[{\"colorbar\":{\"outlinewidth\":0,\"ticks\":\"\"},\"colorscale\":[[0.0,\"#0d0887\"],[0.1111111111111111,\"#46039f\"],[0.2222222222222222,\"#7201a8\"],[0.3333333333333333,\"#9c179e\"],[0.4444444444444444,\"#bd3786\"],[0.5555555555555556,\"#d8576b\"],[0.6666666666666666,\"#ed7953\"],[0.7777777777777778,\"#fb9f3a\"],[0.8888888888888888,\"#fdca26\"],[1.0,\"#f0f921\"]],\"type\":\"contour\"}],\"contourcarpet\":[{\"colorbar\":{\"outlinewidth\":0,\"ticks\":\"\"},\"type\":\"contourcarpet\"}],\"heatmap\":[{\"colorbar\":{\"outlinewidth\":0,\"ticks\":\"\"},\"colorscale\":[[0.0,\"#0d0887\"],[0.1111111111111111,\"#46039f\"],[0.2222222222222222,\"#7201a8\"],[0.3333333333333333,\"#9c179e\"],[0.4444444444444444,\"#bd3786\"],[0.5555555555555556,\"#d8576b\"],[0.6666666666666666,\"#ed7953\"],[0.7777777777777778,\"#fb9f3a\"],[0.8888888888888888,\"#fdca26\"],[1.0,\"#f0f921\"]],\"type\":\"heatmap\"}],\"heatmapgl\":[{\"colorbar\":{\"outlinewidth\":0,\"ticks\":\"\"},\"colorscale\":[[0.0,\"#0d0887\"],[0.1111111111111111,\"#46039f\"],[0.2222222222222222,\"#7201a8\"],[0.3333333333333333,\"#9c179e\"],[0.4444444444444444,\"#bd3786\"],[0.5555555555555556,\"#d8576b\"],[0.6666666666666666,\"#ed7953\"],[0.7777777777777778,\"#fb9f3a\"],[0.8888888888888888,\"#fdca26\"],[1.0,\"#f0f921\"]],\"type\":\"heatmapgl\"}],\"histogram\":[{\"marker\":{\"pattern\":{\"fillmode\":\"overlay\",\"size\":10,\"solidity\":0.2}},\"type\":\"histogram\"}],\"histogram2d\":[{\"colorbar\":{\"outlinewidth\":0,\"ticks\":\"\"},\"colorscale\":[[0.0,\"#0d0887\"],[0.1111111111111111,\"#46039f\"],[0.2222222222222222,\"#7201a8\"],[0.3333333333333333,\"#9c179e\"],[0.4444444444444444,\"#bd3786\"],[0.5555555555555556,\"#d8576b\"],[0.6666666666666666,\"#ed7953\"],[0.7777777777777778,\"#fb9f3a\"],[0.8888888888888888,\"#fdca26\"],[1.0,\"#f0f921\"]],\"type\":\"histogram2d\"}],\"histogram2dcontour\":[{\"colorbar\":{\"outlinewidth\":0,\"ticks\":\"\"},\"colorscale\":[[0.0,\"#0d0887\"],[0.1111111111111111,\"#46039f\"],[0.2222222222222222,\"#7201a8\"],[0.3333333333333333,\"#9c179e\"],[0.4444444444444444,\"#bd3786\"],[0.5555555555555556,\"#d8576b\"],[0.6666666666666666,\"#ed7953\"],[0.7777777777777778,\"#fb9f3a\"],[0.8888888888888888,\"#fdca26\"],[1.0,\"#f0f921\"]],\"type\":\"histogram2dcontour\"}],\"mesh3d\":[{\"colorbar\":{\"outlinewidth\":0,\"ticks\":\"\"},\"type\":\"mesh3d\"}],\"parcoords\":[{\"line\":{\"colorbar\":{\"outlinewidth\":0,\"ticks\":\"\"}},\"type\":\"parcoords\"}],\"pie\":[{\"automargin\":true,\"type\":\"pie\"}],\"scatter\":[{\"marker\":{\"colorbar\":{\"outlinewidth\":0,\"ticks\":\"\"}},\"type\":\"scatter\"}],\"scatter3d\":[{\"line\":{\"colorbar\":{\"outlinewidth\":0,\"ticks\":\"\"}},\"marker\":{\"colorbar\":{\"outlinewidth\":0,\"ticks\":\"\"}},\"type\":\"scatter3d\"}],\"scattercarpet\":[{\"marker\":{\"colorbar\":{\"outlinewidth\":0,\"ticks\":\"\"}},\"type\":\"scattercarpet\"}],\"scattergeo\":[{\"marker\":{\"colorbar\":{\"outlinewidth\":0,\"ticks\":\"\"}},\"type\":\"scattergeo\"}],\"scattergl\":[{\"marker\":{\"colorbar\":{\"outlinewidth\":0,\"ticks\":\"\"}},\"type\":\"scattergl\"}],\"scattermapbox\":[{\"marker\":{\"colorbar\":{\"outlinewidth\":0,\"ticks\":\"\"}},\"type\":\"scattermapbox\"}],\"scatterpolar\":[{\"marker\":{\"colorbar\":{\"outlinewidth\":0,\"ticks\":\"\"}},\"type\":\"scatterpolar\"}],\"scatterpolargl\":[{\"marker\":{\"colorbar\":{\"outlinewidth\":0,\"ticks\":\"\"}},\"type\":\"scatterpolargl\"}],\"scatterternary\":[{\"marker\":{\"colorbar\":{\"outlinewidth\":0,\"ticks\":\"\"}},\"type\":\"scatterternary\"}],\"surface\":[{\"colorbar\":{\"outlinewidth\":0,\"ticks\":\"\"},\"colorscale\":[[0.0,\"#0d0887\"],[0.1111111111111111,\"#46039f\"],[0.2222222222222222,\"#7201a8\"],[0.3333333333333333,\"#9c179e\"],[0.4444444444444444,\"#bd3786\"],[0.5555555555555556,\"#d8576b\"],[0.6666666666666666,\"#ed7953\"],[0.7777777777777778,\"#fb9f3a\"],[0.8888888888888888,\"#fdca26\"],[1.0,\"#f0f921\"]],\"type\":\"surface\"}],\"table\":[{\"cells\":{\"fill\":{\"color\":\"#EBF0F8\"},\"line\":{\"color\":\"white\"}},\"header\":{\"fill\":{\"color\":\"#C8D4E3\"},\"line\":{\"color\":\"white\"}},\"type\":\"table\"}]},\"layout\":{\"annotationdefaults\":{\"arrowcolor\":\"#2a3f5f\",\"arrowhead\":0,\"arrowwidth\":1},\"autotypenumbers\":\"strict\",\"coloraxis\":{\"colorbar\":{\"outlinewidth\":0,\"ticks\":\"\"}},\"colorscale\":{\"diverging\":[[0,\"#8e0152\"],[0.1,\"#c51b7d\"],[0.2,\"#de77ae\"],[0.3,\"#f1b6da\"],[0.4,\"#fde0ef\"],[0.5,\"#f7f7f7\"],[0.6,\"#e6f5d0\"],[0.7,\"#b8e186\"],[0.8,\"#7fbc41\"],[0.9,\"#4d9221\"],[1,\"#276419\"]],\"sequential\":[[0.0,\"#0d0887\"],[0.1111111111111111,\"#46039f\"],[0.2222222222222222,\"#7201a8\"],[0.3333333333333333,\"#9c179e\"],[0.4444444444444444,\"#bd3786\"],[0.5555555555555556,\"#d8576b\"],[0.6666666666666666,\"#ed7953\"],[0.7777777777777778,\"#fb9f3a\"],[0.8888888888888888,\"#fdca26\"],[1.0,\"#f0f921\"]],\"sequentialminus\":[[0.0,\"#0d0887\"],[0.1111111111111111,\"#46039f\"],[0.2222222222222222,\"#7201a8\"],[0.3333333333333333,\"#9c179e\"],[0.4444444444444444,\"#bd3786\"],[0.5555555555555556,\"#d8576b\"],[0.6666666666666666,\"#ed7953\"],[0.7777777777777778,\"#fb9f3a\"],[0.8888888888888888,\"#fdca26\"],[1.0,\"#f0f921\"]]},\"colorway\":[\"#636efa\",\"#EF553B\",\"#00cc96\",\"#ab63fa\",\"#FFA15A\",\"#19d3f3\",\"#FF6692\",\"#B6E880\",\"#FF97FF\",\"#FECB52\"],\"font\":{\"color\":\"#2a3f5f\"},\"geo\":{\"bgcolor\":\"white\",\"lakecolor\":\"white\",\"landcolor\":\"#E5ECF6\",\"showlakes\":true,\"showland\":true,\"subunitcolor\":\"white\"},\"hoverlabel\":{\"align\":\"left\"},\"hovermode\":\"closest\",\"mapbox\":{\"style\":\"light\"},\"paper_bgcolor\":\"white\",\"plot_bgcolor\":\"#E5ECF6\",\"polar\":{\"angularaxis\":{\"gridcolor\":\"white\",\"linecolor\":\"white\",\"ticks\":\"\"},\"bgcolor\":\"#E5ECF6\",\"radialaxis\":{\"gridcolor\":\"white\",\"linecolor\":\"white\",\"ticks\":\"\"}},\"scene\":{\"xaxis\":{\"backgroundcolor\":\"#E5ECF6\",\"gridcolor\":\"white\",\"gridwidth\":2,\"linecolor\":\"white\",\"showbackground\":true,\"ticks\":\"\",\"zerolinecolor\":\"white\"},\"yaxis\":{\"backgroundcolor\":\"#E5ECF6\",\"gridcolor\":\"white\",\"gridwidth\":2,\"linecolor\":\"white\",\"showbackground\":true,\"ticks\":\"\",\"zerolinecolor\":\"white\"},\"zaxis\":{\"backgroundcolor\":\"#E5ECF6\",\"gridcolor\":\"white\",\"gridwidth\":2,\"linecolor\":\"white\",\"showbackground\":true,\"ticks\":\"\",\"zerolinecolor\":\"white\"}},\"shapedefaults\":{\"line\":{\"color\":\"#2a3f5f\"}},\"ternary\":{\"aaxis\":{\"gridcolor\":\"white\",\"linecolor\":\"white\",\"ticks\":\"\"},\"baxis\":{\"gridcolor\":\"white\",\"linecolor\":\"white\",\"ticks\":\"\"},\"bgcolor\":\"#E5ECF6\",\"caxis\":{\"gridcolor\":\"white\",\"linecolor\":\"white\",\"ticks\":\"\"}},\"title\":{\"x\":0.05},\"xaxis\":{\"automargin\":true,\"gridcolor\":\"white\",\"linecolor\":\"white\",\"ticks\":\"\",\"title\":{\"standoff\":15},\"zerolinecolor\":\"white\",\"zerolinewidth\":2},\"yaxis\":{\"automargin\":true,\"gridcolor\":\"white\",\"linecolor\":\"white\",\"ticks\":\"\",\"title\":{\"standoff\":15},\"zerolinecolor\":\"white\",\"zerolinewidth\":2}}},\"title\":{\"text\":\"\\ub144\\ub3c4\\ubcc4 \\uc8fc\\uc0b0\\uc9c0 \\ube44\\uc728\"}},                        {\"responsive\": true}                    ).then(function(){\n",
       "                            \n",
       "var gd = document.getElementById('2c0760e8-d6cb-492b-8370-f2d818cb2029');\n",
       "var x = new MutationObserver(function (mutations, observer) {{\n",
       "        var display = window.getComputedStyle(gd).display;\n",
       "        if (!display || display === 'none') {{\n",
       "            console.log([gd, 'removed!']);\n",
       "            Plotly.purge(gd);\n",
       "            observer.disconnect();\n",
       "        }}\n",
       "}});\n",
       "\n",
       "// Listen for the removal of the full notebook cells\n",
       "var notebookContainer = gd.closest('#notebook-container');\n",
       "if (notebookContainer) {{\n",
       "    x.observe(notebookContainer, {childList: true});\n",
       "}}\n",
       "\n",
       "// Listen for the clearing of the current output cell\n",
       "var outputEl = gd.closest('.output');\n",
       "if (outputEl) {{\n",
       "    x.observe(outputEl, {childList: true});\n",
       "}}\n",
       "\n",
       "                        })                };                });            </script>        </div>"
      ]
     },
     "metadata": {},
     "output_type": "display_data"
    }
   ],
   "source": [
    "specs = [[{'type':'domain'}, {'type':'domain'}], [{'type':'domain'}, {'type':'domain'}],[{'type':'domain'}, {'type':'domain'}],[{'type':'domain'}, {'type':'domain'}]]\n",
    "fig = make_subplots(rows=4, cols=2, specs=specs,\n",
    "                    subplot_titles=['2014', '2015', '2016', '2017', '2018', '2019', '2020', '2021'])\n",
    "\n",
    "fig.add_trace(go.Pie(labels=mus[mus['SALEDATE'].dt.year == 2014].groupby(['SAN_NM'])['TOT_QTY'].sum().reset_index()['SAN_NM'], \n",
    "                     values=mus[mus['SALEDATE'].dt.year == 2014].groupby(['SAN_NM'])['TOT_QTY'].sum().reset_index()['TOT_QTY'],\n",
    "                     name='2014',), 1, 1)\n",
    "fig.add_trace(go.Pie(labels=mus[mus['SALEDATE'].dt.year == 2015].groupby(['SAN_NM'])['TOT_QTY'].sum().reset_index()['SAN_NM'], \n",
    "                     values=mus[mus['SALEDATE'].dt.year == 2015].groupby(['SAN_NM'])['TOT_QTY'].sum().reset_index()['TOT_QTY'],\n",
    "                     name='2015',), 1, 2)\n",
    "fig.add_trace(go.Pie(labels=mus[mus['SALEDATE'].dt.year == 2016].groupby(['SAN_NM'])['TOT_QTY'].sum().reset_index()['SAN_NM'], \n",
    "                     values=mus[mus['SALEDATE'].dt.year == 2016].groupby(['SAN_NM'])['TOT_QTY'].sum().reset_index()['TOT_QTY'],\n",
    "                     name='2016',), 2, 1)\n",
    "fig.add_trace(go.Pie(labels=mus[mus['SALEDATE'].dt.year == 2017].groupby(['SAN_NM'])['TOT_QTY'].sum().reset_index()['SAN_NM'], \n",
    "                     values=mus[mus['SALEDATE'].dt.year == 2017].groupby(['SAN_NM'])['TOT_QTY'].sum().reset_index()['TOT_QTY'],\n",
    "                     name='2017',), 2, 2)\n",
    "fig.add_trace(go.Pie(labels=mus[mus['SALEDATE'].dt.year == 2018].groupby(['SAN_NM'])['TOT_QTY'].sum().reset_index()['SAN_NM'], \n",
    "                     values=mus[mus['SALEDATE'].dt.year == 2018].groupby(['SAN_NM'])['TOT_QTY'].sum().reset_index()['TOT_QTY'],\n",
    "                     name='2018',), 3, 1)\n",
    "fig.add_trace(go.Pie(labels=mus[mus['SALEDATE'].dt.year == 2019].groupby(['SAN_NM'])['TOT_QTY'].sum().reset_index()['SAN_NM'], \n",
    "                     values=mus[mus['SALEDATE'].dt.year == 2019].groupby(['SAN_NM'])['TOT_QTY'].sum().reset_index()['TOT_QTY'],\n",
    "                     name='2019',), 3, 2)\n",
    "fig.add_trace(go.Pie(labels=mus[mus['SALEDATE'].dt.year == 2020].groupby(['SAN_NM'])['TOT_QTY'].sum().reset_index()['SAN_NM'], \n",
    "                     values=mus[mus['SALEDATE'].dt.year == 2020].groupby(['SAN_NM'])['TOT_QTY'].sum().reset_index()['TOT_QTY'],\n",
    "                     name='2020',), 4, 1)\n",
    "fig.add_trace(go.Pie(labels=mus[mus['SALEDATE'].dt.year == 2021].groupby(['SAN_NM'])['TOT_QTY'].sum().reset_index()['SAN_NM'], \n",
    "                     values=mus[mus['SALEDATE'].dt.year == 2021].groupby(['SAN_NM'])['TOT_QTY'].sum().reset_index()['TOT_QTY'],\n",
    "                     name='2021',), 4, 2)\n",
    "\n",
    "fig.update_traces(hole=.4, hoverinfo='label+percent+name', textinfo='none')\n",
    "fig.update(layout_title_text='년도별 주산지 비율',\n",
    "           layout_showlegend=True)\n",
    "\n",
    "fig = go.Figure(fig)\n",
    "fig.show()"
   ]
  },
  {
   "cell_type": "code",
   "execution_count": 82,
   "metadata": {},
   "outputs": [],
   "source": [
    "mus.drop(['SAN_NM','PER_WEEK'],axis=1,inplace=True)"
   ]
  },
  {
   "cell_type": "markdown",
   "metadata": {},
   "source": [
    "## 주별로 묶기"
   ]
  },
  {
   "cell_type": "code",
   "execution_count": 83,
   "metadata": {},
   "outputs": [
    {
     "data": {
      "text/html": [
       "<div>\n",
       "<style scoped>\n",
       "    .dataframe tbody tr th:only-of-type {\n",
       "        vertical-align: middle;\n",
       "    }\n",
       "\n",
       "    .dataframe tbody tr th {\n",
       "        vertical-align: top;\n",
       "    }\n",
       "\n",
       "    .dataframe thead th {\n",
       "        text-align: right;\n",
       "    }\n",
       "</style>\n",
       "<table border=\"1\" class=\"dataframe\">\n",
       "  <thead>\n",
       "    <tr style=\"text-align: right;\">\n",
       "      <th></th>\n",
       "      <th>TOT_AMT</th>\n",
       "      <th>SALEDATE</th>\n",
       "      <th>TOT_QTY</th>\n",
       "    </tr>\n",
       "  </thead>\n",
       "  <tbody>\n",
       "    <tr>\n",
       "      <th>0</th>\n",
       "      <td>39000.0</td>\n",
       "      <td>2014-01-03</td>\n",
       "      <td>30.0</td>\n",
       "    </tr>\n",
       "    <tr>\n",
       "      <th>1</th>\n",
       "      <td>119000.0</td>\n",
       "      <td>2014-01-03</td>\n",
       "      <td>70.0</td>\n",
       "    </tr>\n",
       "    <tr>\n",
       "      <th>2</th>\n",
       "      <td>65000.0</td>\n",
       "      <td>2014-01-03</td>\n",
       "      <td>50.0</td>\n",
       "    </tr>\n",
       "    <tr>\n",
       "      <th>3</th>\n",
       "      <td>105000.0</td>\n",
       "      <td>2014-01-03</td>\n",
       "      <td>70.0</td>\n",
       "    </tr>\n",
       "    <tr>\n",
       "      <th>4</th>\n",
       "      <td>170000.0</td>\n",
       "      <td>2014-01-03</td>\n",
       "      <td>170.0</td>\n",
       "    </tr>\n",
       "    <tr>\n",
       "      <th>...</th>\n",
       "      <td>...</td>\n",
       "      <td>...</td>\n",
       "      <td>...</td>\n",
       "    </tr>\n",
       "    <tr>\n",
       "      <th>473573</th>\n",
       "      <td>250000.0</td>\n",
       "      <td>2021-10-30</td>\n",
       "      <td>200.0</td>\n",
       "    </tr>\n",
       "    <tr>\n",
       "      <th>473574</th>\n",
       "      <td>9000.0</td>\n",
       "      <td>2021-10-30</td>\n",
       "      <td>12.0</td>\n",
       "    </tr>\n",
       "    <tr>\n",
       "      <th>473575</th>\n",
       "      <td>54200.0</td>\n",
       "      <td>2021-10-30</td>\n",
       "      <td>40.0</td>\n",
       "    </tr>\n",
       "    <tr>\n",
       "      <th>473576</th>\n",
       "      <td>155000.0</td>\n",
       "      <td>2021-10-30</td>\n",
       "      <td>124.0</td>\n",
       "    </tr>\n",
       "    <tr>\n",
       "      <th>473577</th>\n",
       "      <td>1400.0</td>\n",
       "      <td>2021-10-30</td>\n",
       "      <td>7.0</td>\n",
       "    </tr>\n",
       "  </tbody>\n",
       "</table>\n",
       "<p>470328 rows × 3 columns</p>\n",
       "</div>"
      ],
      "text/plain": [
       "         TOT_AMT   SALEDATE  TOT_QTY\n",
       "0        39000.0 2014-01-03     30.0\n",
       "1       119000.0 2014-01-03     70.0\n",
       "2        65000.0 2014-01-03     50.0\n",
       "3       105000.0 2014-01-03     70.0\n",
       "4       170000.0 2014-01-03    170.0\n",
       "...          ...        ...      ...\n",
       "473573  250000.0 2021-10-30    200.0\n",
       "473574    9000.0 2021-10-30     12.0\n",
       "473575   54200.0 2021-10-30     40.0\n",
       "473576  155000.0 2021-10-30    124.0\n",
       "473577    1400.0 2021-10-30      7.0\n",
       "\n",
       "[470328 rows x 3 columns]"
      ]
     },
     "execution_count": 83,
     "metadata": {},
     "output_type": "execute_result"
    }
   ],
   "source": [
    "mus"
   ]
  },
  {
   "cell_type": "code",
   "execution_count": 84,
   "metadata": {},
   "outputs": [],
   "source": [
    "mus.set_index(['SALEDATE'], inplace=True)"
   ]
  },
  {
   "cell_type": "code",
   "execution_count": 85,
   "metadata": {},
   "outputs": [],
   "source": [
    "mus_week= mus.resample(rule='W-Mon').sum().reset_index()"
   ]
  },
  {
   "cell_type": "code",
   "execution_count": 86,
   "metadata": {},
   "outputs": [
    {
     "data": {
      "text/html": [
       "<div>\n",
       "<style scoped>\n",
       "    .dataframe tbody tr th:only-of-type {\n",
       "        vertical-align: middle;\n",
       "    }\n",
       "\n",
       "    .dataframe tbody tr th {\n",
       "        vertical-align: top;\n",
       "    }\n",
       "\n",
       "    .dataframe thead th {\n",
       "        text-align: right;\n",
       "    }\n",
       "</style>\n",
       "<table border=\"1\" class=\"dataframe\">\n",
       "  <thead>\n",
       "    <tr style=\"text-align: right;\">\n",
       "      <th></th>\n",
       "      <th>SALEDATE</th>\n",
       "      <th>TOT_AMT</th>\n",
       "      <th>TOT_QTY</th>\n",
       "    </tr>\n",
       "  </thead>\n",
       "  <tbody>\n",
       "    <tr>\n",
       "      <th>0</th>\n",
       "      <td>2014-01-06</td>\n",
       "      <td>12728300.0</td>\n",
       "      <td>13178.0</td>\n",
       "    </tr>\n",
       "    <tr>\n",
       "      <th>1</th>\n",
       "      <td>2014-01-13</td>\n",
       "      <td>15606300.0</td>\n",
       "      <td>15210.0</td>\n",
       "    </tr>\n",
       "    <tr>\n",
       "      <th>2</th>\n",
       "      <td>2014-01-20</td>\n",
       "      <td>17550900.0</td>\n",
       "      <td>16470.0</td>\n",
       "    </tr>\n",
       "    <tr>\n",
       "      <th>3</th>\n",
       "      <td>2014-01-27</td>\n",
       "      <td>11256200.0</td>\n",
       "      <td>12284.0</td>\n",
       "    </tr>\n",
       "    <tr>\n",
       "      <th>4</th>\n",
       "      <td>2014-02-03</td>\n",
       "      <td>582600.0</td>\n",
       "      <td>1210.0</td>\n",
       "    </tr>\n",
       "    <tr>\n",
       "      <th>...</th>\n",
       "      <td>...</td>\n",
       "      <td>...</td>\n",
       "      <td>...</td>\n",
       "    </tr>\n",
       "    <tr>\n",
       "      <th>404</th>\n",
       "      <td>2021-10-04</td>\n",
       "      <td>213944531.0</td>\n",
       "      <td>209538.5</td>\n",
       "    </tr>\n",
       "    <tr>\n",
       "      <th>405</th>\n",
       "      <td>2021-10-11</td>\n",
       "      <td>170558877.0</td>\n",
       "      <td>171695.2</td>\n",
       "    </tr>\n",
       "    <tr>\n",
       "      <th>406</th>\n",
       "      <td>2021-10-18</td>\n",
       "      <td>265569120.0</td>\n",
       "      <td>212839.3</td>\n",
       "    </tr>\n",
       "    <tr>\n",
       "      <th>407</th>\n",
       "      <td>2021-10-25</td>\n",
       "      <td>547491984.0</td>\n",
       "      <td>293622.0</td>\n",
       "    </tr>\n",
       "    <tr>\n",
       "      <th>408</th>\n",
       "      <td>2021-11-01</td>\n",
       "      <td>673639501.0</td>\n",
       "      <td>430029.0</td>\n",
       "    </tr>\n",
       "  </tbody>\n",
       "</table>\n",
       "<p>409 rows × 3 columns</p>\n",
       "</div>"
      ],
      "text/plain": [
       "      SALEDATE      TOT_AMT   TOT_QTY\n",
       "0   2014-01-06   12728300.0   13178.0\n",
       "1   2014-01-13   15606300.0   15210.0\n",
       "2   2014-01-20   17550900.0   16470.0\n",
       "3   2014-01-27   11256200.0   12284.0\n",
       "4   2014-02-03     582600.0    1210.0\n",
       "..         ...          ...       ...\n",
       "404 2021-10-04  213944531.0  209538.5\n",
       "405 2021-10-11  170558877.0  171695.2\n",
       "406 2021-10-18  265569120.0  212839.3\n",
       "407 2021-10-25  547491984.0  293622.0\n",
       "408 2021-11-01  673639501.0  430029.0\n",
       "\n",
       "[409 rows x 3 columns]"
      ]
     },
     "execution_count": 86,
     "metadata": {},
     "output_type": "execute_result"
    }
   ],
   "source": [
    "mus_week"
   ]
  },
  {
   "cell_type": "code",
   "execution_count": 87,
   "metadata": {},
   "outputs": [],
   "source": [
    "mus_week['PER_PRICE'] = mus_week['TOT_AMT']/mus_week['TOT_QTY']"
   ]
  },
  {
   "cell_type": "code",
   "execution_count": 88,
   "metadata": {},
   "outputs": [
    {
     "data": {
      "text/html": [
       "<div>\n",
       "<style scoped>\n",
       "    .dataframe tbody tr th:only-of-type {\n",
       "        vertical-align: middle;\n",
       "    }\n",
       "\n",
       "    .dataframe tbody tr th {\n",
       "        vertical-align: top;\n",
       "    }\n",
       "\n",
       "    .dataframe thead th {\n",
       "        text-align: right;\n",
       "    }\n",
       "</style>\n",
       "<table border=\"1\" class=\"dataframe\">\n",
       "  <thead>\n",
       "    <tr style=\"text-align: right;\">\n",
       "      <th></th>\n",
       "      <th>SALEDATE</th>\n",
       "      <th>TOT_AMT</th>\n",
       "      <th>TOT_QTY</th>\n",
       "      <th>PER_PRICE</th>\n",
       "    </tr>\n",
       "  </thead>\n",
       "  <tbody>\n",
       "    <tr>\n",
       "      <th>0</th>\n",
       "      <td>2014-01-06</td>\n",
       "      <td>12728300.0</td>\n",
       "      <td>13178.0</td>\n",
       "      <td>965.874943</td>\n",
       "    </tr>\n",
       "    <tr>\n",
       "      <th>1</th>\n",
       "      <td>2014-01-13</td>\n",
       "      <td>15606300.0</td>\n",
       "      <td>15210.0</td>\n",
       "      <td>1026.055227</td>\n",
       "    </tr>\n",
       "    <tr>\n",
       "      <th>2</th>\n",
       "      <td>2014-01-20</td>\n",
       "      <td>17550900.0</td>\n",
       "      <td>16470.0</td>\n",
       "      <td>1065.628415</td>\n",
       "    </tr>\n",
       "    <tr>\n",
       "      <th>3</th>\n",
       "      <td>2014-01-27</td>\n",
       "      <td>11256200.0</td>\n",
       "      <td>12284.0</td>\n",
       "      <td>916.330186</td>\n",
       "    </tr>\n",
       "    <tr>\n",
       "      <th>4</th>\n",
       "      <td>2014-02-03</td>\n",
       "      <td>582600.0</td>\n",
       "      <td>1210.0</td>\n",
       "      <td>481.487603</td>\n",
       "    </tr>\n",
       "    <tr>\n",
       "      <th>...</th>\n",
       "      <td>...</td>\n",
       "      <td>...</td>\n",
       "      <td>...</td>\n",
       "      <td>...</td>\n",
       "    </tr>\n",
       "    <tr>\n",
       "      <th>404</th>\n",
       "      <td>2021-10-04</td>\n",
       "      <td>213944531.0</td>\n",
       "      <td>209538.5</td>\n",
       "      <td>1021.027310</td>\n",
       "    </tr>\n",
       "    <tr>\n",
       "      <th>405</th>\n",
       "      <td>2021-10-11</td>\n",
       "      <td>170558877.0</td>\n",
       "      <td>171695.2</td>\n",
       "      <td>993.381743</td>\n",
       "    </tr>\n",
       "    <tr>\n",
       "      <th>406</th>\n",
       "      <td>2021-10-18</td>\n",
       "      <td>265569120.0</td>\n",
       "      <td>212839.3</td>\n",
       "      <td>1247.744754</td>\n",
       "    </tr>\n",
       "    <tr>\n",
       "      <th>407</th>\n",
       "      <td>2021-10-25</td>\n",
       "      <td>547491984.0</td>\n",
       "      <td>293622.0</td>\n",
       "      <td>1864.614995</td>\n",
       "    </tr>\n",
       "    <tr>\n",
       "      <th>408</th>\n",
       "      <td>2021-11-01</td>\n",
       "      <td>673639501.0</td>\n",
       "      <td>430029.0</td>\n",
       "      <td>1566.497843</td>\n",
       "    </tr>\n",
       "  </tbody>\n",
       "</table>\n",
       "<p>409 rows × 4 columns</p>\n",
       "</div>"
      ],
      "text/plain": [
       "      SALEDATE      TOT_AMT   TOT_QTY    PER_PRICE\n",
       "0   2014-01-06   12728300.0   13178.0   965.874943\n",
       "1   2014-01-13   15606300.0   15210.0  1026.055227\n",
       "2   2014-01-20   17550900.0   16470.0  1065.628415\n",
       "3   2014-01-27   11256200.0   12284.0   916.330186\n",
       "4   2014-02-03     582600.0    1210.0   481.487603\n",
       "..         ...          ...       ...          ...\n",
       "404 2021-10-04  213944531.0  209538.5  1021.027310\n",
       "405 2021-10-11  170558877.0  171695.2   993.381743\n",
       "406 2021-10-18  265569120.0  212839.3  1247.744754\n",
       "407 2021-10-25  547491984.0  293622.0  1864.614995\n",
       "408 2021-11-01  673639501.0  430029.0  1566.497843\n",
       "\n",
       "[409 rows x 4 columns]"
      ]
     },
     "execution_count": 88,
     "metadata": {},
     "output_type": "execute_result"
    }
   ],
   "source": [
    "mus_week"
   ]
  },
  {
   "cell_type": "code",
   "execution_count": 89,
   "metadata": {},
   "outputs": [],
   "source": [
    "mus_week.drop(['TOT_AMT'],axis=1,inplace=True)"
   ]
  },
  {
   "cell_type": "code",
   "execution_count": 90,
   "metadata": {},
   "outputs": [
    {
     "data": {
      "application/vnd.plotly.v1+json": {
       "config": {
        "plotlyServerURL": "https://plot.ly"
       },
       "data": [
        {
         "hovertemplate": "SALEDATE=%{x}<br>PER_PRICE=%{y}<extra></extra>",
         "legendgroup": "",
         "line": {
          "color": "#636efa",
          "dash": "solid"
         },
         "marker": {
          "symbol": "circle"
         },
         "mode": "lines",
         "name": "",
         "orientation": "v",
         "showlegend": false,
         "type": "scatter",
         "x": [
          "2014-01-06T00:00:00",
          "2014-01-13T00:00:00",
          "2014-01-20T00:00:00",
          "2014-01-27T00:00:00",
          "2014-02-03T00:00:00",
          "2014-02-10T00:00:00",
          "2014-02-17T00:00:00",
          "2014-02-24T00:00:00",
          "2014-03-03T00:00:00",
          "2014-03-10T00:00:00",
          "2014-03-17T00:00:00",
          "2014-03-24T00:00:00",
          "2014-03-31T00:00:00",
          "2014-04-07T00:00:00",
          "2014-04-14T00:00:00",
          "2014-04-21T00:00:00",
          "2014-04-28T00:00:00",
          "2014-05-05T00:00:00",
          "2014-05-12T00:00:00",
          "2014-05-19T00:00:00",
          "2014-05-26T00:00:00",
          "2014-06-02T00:00:00",
          "2014-06-09T00:00:00",
          "2014-06-16T00:00:00",
          "2014-06-23T00:00:00",
          "2014-06-30T00:00:00",
          "2014-07-07T00:00:00",
          "2014-07-14T00:00:00",
          "2014-07-21T00:00:00",
          "2014-07-28T00:00:00",
          "2014-08-04T00:00:00",
          "2014-08-11T00:00:00",
          "2014-08-18T00:00:00",
          "2014-08-25T00:00:00",
          "2014-09-01T00:00:00",
          "2014-09-08T00:00:00",
          "2014-09-15T00:00:00",
          "2014-09-22T00:00:00",
          "2014-09-29T00:00:00",
          "2014-10-06T00:00:00",
          "2014-10-13T00:00:00",
          "2014-10-20T00:00:00",
          "2014-10-27T00:00:00",
          "2014-11-03T00:00:00",
          "2014-11-10T00:00:00",
          "2014-11-17T00:00:00",
          "2014-11-24T00:00:00",
          "2014-12-01T00:00:00",
          "2014-12-08T00:00:00",
          "2014-12-15T00:00:00",
          "2014-12-22T00:00:00",
          "2014-12-29T00:00:00",
          "2015-01-05T00:00:00",
          "2015-01-12T00:00:00",
          "2015-01-19T00:00:00",
          "2015-01-26T00:00:00",
          "2015-02-02T00:00:00",
          "2015-02-09T00:00:00",
          "2015-02-16T00:00:00",
          "2015-02-23T00:00:00",
          "2015-03-02T00:00:00",
          "2015-03-09T00:00:00",
          "2015-03-16T00:00:00",
          "2015-03-23T00:00:00",
          "2015-03-30T00:00:00",
          "2015-04-06T00:00:00",
          "2015-04-13T00:00:00",
          "2015-04-20T00:00:00",
          "2015-04-27T00:00:00",
          "2015-05-04T00:00:00",
          "2015-05-11T00:00:00",
          "2015-05-18T00:00:00",
          "2015-05-25T00:00:00",
          "2015-06-01T00:00:00",
          "2015-06-08T00:00:00",
          "2015-06-15T00:00:00",
          "2015-06-22T00:00:00",
          "2015-06-29T00:00:00",
          "2015-07-06T00:00:00",
          "2015-07-13T00:00:00",
          "2015-07-20T00:00:00",
          "2015-07-27T00:00:00",
          "2015-08-03T00:00:00",
          "2015-08-10T00:00:00",
          "2015-08-17T00:00:00",
          "2015-08-24T00:00:00",
          "2015-08-31T00:00:00",
          "2015-09-07T00:00:00",
          "2015-09-14T00:00:00",
          "2015-09-21T00:00:00",
          "2015-09-28T00:00:00",
          "2015-10-05T00:00:00",
          "2015-10-12T00:00:00",
          "2015-10-19T00:00:00",
          "2015-10-26T00:00:00",
          "2015-11-02T00:00:00",
          "2015-11-09T00:00:00",
          "2015-11-16T00:00:00",
          "2015-11-23T00:00:00",
          "2015-11-30T00:00:00",
          "2015-12-07T00:00:00",
          "2015-12-14T00:00:00",
          "2015-12-21T00:00:00",
          "2015-12-28T00:00:00",
          "2016-01-04T00:00:00",
          "2016-01-11T00:00:00",
          "2016-01-18T00:00:00",
          "2016-01-25T00:00:00",
          "2016-02-01T00:00:00",
          "2016-02-08T00:00:00",
          "2016-02-15T00:00:00",
          "2016-02-22T00:00:00",
          "2016-02-29T00:00:00",
          "2016-03-07T00:00:00",
          "2016-03-14T00:00:00",
          "2016-03-21T00:00:00",
          "2016-03-28T00:00:00",
          "2016-04-04T00:00:00",
          "2016-04-11T00:00:00",
          "2016-04-18T00:00:00",
          "2016-04-25T00:00:00",
          "2016-05-02T00:00:00",
          "2016-05-09T00:00:00",
          "2016-05-16T00:00:00",
          "2016-05-23T00:00:00",
          "2016-05-30T00:00:00",
          "2016-06-06T00:00:00",
          "2016-06-13T00:00:00",
          "2016-06-20T00:00:00",
          "2016-06-27T00:00:00",
          "2016-07-04T00:00:00",
          "2016-07-11T00:00:00",
          "2016-07-18T00:00:00",
          "2016-07-25T00:00:00",
          "2016-08-01T00:00:00",
          "2016-08-08T00:00:00",
          "2016-08-15T00:00:00",
          "2016-08-22T00:00:00",
          "2016-08-29T00:00:00",
          "2016-09-05T00:00:00",
          "2016-09-12T00:00:00",
          "2016-09-19T00:00:00",
          "2016-09-26T00:00:00",
          "2016-10-03T00:00:00",
          "2016-10-10T00:00:00",
          "2016-10-17T00:00:00",
          "2016-10-24T00:00:00",
          "2016-10-31T00:00:00",
          "2016-11-07T00:00:00",
          "2016-11-14T00:00:00",
          "2016-11-21T00:00:00",
          "2016-11-28T00:00:00",
          "2016-12-05T00:00:00",
          "2016-12-12T00:00:00",
          "2016-12-19T00:00:00",
          "2016-12-26T00:00:00",
          "2017-01-02T00:00:00",
          "2017-01-09T00:00:00",
          "2017-01-16T00:00:00",
          "2017-01-23T00:00:00",
          "2017-01-30T00:00:00",
          "2017-02-06T00:00:00",
          "2017-02-13T00:00:00",
          "2017-02-20T00:00:00",
          "2017-02-27T00:00:00",
          "2017-03-06T00:00:00",
          "2017-03-13T00:00:00",
          "2017-03-20T00:00:00",
          "2017-03-27T00:00:00",
          "2017-04-03T00:00:00",
          "2017-04-10T00:00:00",
          "2017-04-17T00:00:00",
          "2017-04-24T00:00:00",
          "2017-05-01T00:00:00",
          "2017-05-08T00:00:00",
          "2017-05-15T00:00:00",
          "2017-05-22T00:00:00",
          "2017-05-29T00:00:00",
          "2017-06-05T00:00:00",
          "2017-06-12T00:00:00",
          "2017-06-19T00:00:00",
          "2017-06-26T00:00:00",
          "2017-07-03T00:00:00",
          "2017-07-10T00:00:00",
          "2017-07-17T00:00:00",
          "2017-07-24T00:00:00",
          "2017-07-31T00:00:00",
          "2017-08-07T00:00:00",
          "2017-08-14T00:00:00",
          "2017-08-21T00:00:00",
          "2017-08-28T00:00:00",
          "2017-09-04T00:00:00",
          "2017-09-11T00:00:00",
          "2017-09-18T00:00:00",
          "2017-09-25T00:00:00",
          "2017-10-02T00:00:00",
          "2017-10-09T00:00:00",
          "2017-10-16T00:00:00",
          "2017-10-23T00:00:00",
          "2017-10-30T00:00:00",
          "2017-11-06T00:00:00",
          "2017-11-13T00:00:00",
          "2017-11-20T00:00:00",
          "2017-11-27T00:00:00",
          "2017-12-04T00:00:00",
          "2017-12-11T00:00:00",
          "2017-12-18T00:00:00",
          "2017-12-25T00:00:00",
          "2018-01-01T00:00:00",
          "2018-01-08T00:00:00",
          "2018-01-15T00:00:00",
          "2018-01-22T00:00:00",
          "2018-01-29T00:00:00",
          "2018-02-05T00:00:00",
          "2018-02-12T00:00:00",
          "2018-02-19T00:00:00",
          "2018-02-26T00:00:00",
          "2018-03-05T00:00:00",
          "2018-03-12T00:00:00",
          "2018-03-19T00:00:00",
          "2018-03-26T00:00:00",
          "2018-04-02T00:00:00",
          "2018-04-09T00:00:00",
          "2018-04-16T00:00:00",
          "2018-04-23T00:00:00",
          "2018-04-30T00:00:00",
          "2018-05-07T00:00:00",
          "2018-05-14T00:00:00",
          "2018-05-21T00:00:00",
          "2018-05-28T00:00:00",
          "2018-06-04T00:00:00",
          "2018-06-11T00:00:00",
          "2018-06-18T00:00:00",
          "2018-06-25T00:00:00",
          "2018-07-02T00:00:00",
          "2018-07-09T00:00:00",
          "2018-07-16T00:00:00",
          "2018-07-23T00:00:00",
          "2018-07-30T00:00:00",
          "2018-08-06T00:00:00",
          "2018-08-13T00:00:00",
          "2018-08-20T00:00:00",
          "2018-08-27T00:00:00",
          "2018-09-03T00:00:00",
          "2018-09-10T00:00:00",
          "2018-09-17T00:00:00",
          "2018-09-24T00:00:00",
          "2018-10-01T00:00:00",
          "2018-10-08T00:00:00",
          "2018-10-15T00:00:00",
          "2018-10-22T00:00:00",
          "2018-10-29T00:00:00",
          "2018-11-05T00:00:00",
          "2018-11-12T00:00:00",
          "2018-11-19T00:00:00",
          "2018-11-26T00:00:00",
          "2018-12-03T00:00:00",
          "2018-12-10T00:00:00",
          "2018-12-17T00:00:00",
          "2018-12-24T00:00:00",
          "2018-12-31T00:00:00",
          "2019-01-07T00:00:00",
          "2019-01-14T00:00:00",
          "2019-01-21T00:00:00",
          "2019-01-28T00:00:00",
          "2019-02-04T00:00:00",
          "2019-02-11T00:00:00",
          "2019-02-18T00:00:00",
          "2019-02-25T00:00:00",
          "2019-03-04T00:00:00",
          "2019-03-11T00:00:00",
          "2019-03-18T00:00:00",
          "2019-03-25T00:00:00",
          "2019-04-01T00:00:00",
          "2019-04-08T00:00:00",
          "2019-04-15T00:00:00",
          "2019-04-22T00:00:00",
          "2019-04-29T00:00:00",
          "2019-05-06T00:00:00",
          "2019-05-13T00:00:00",
          "2019-05-20T00:00:00",
          "2019-05-27T00:00:00",
          "2019-06-03T00:00:00",
          "2019-06-10T00:00:00",
          "2019-06-17T00:00:00",
          "2019-06-24T00:00:00",
          "2019-07-01T00:00:00",
          "2019-07-08T00:00:00",
          "2019-07-15T00:00:00",
          "2019-07-22T00:00:00",
          "2019-07-29T00:00:00",
          "2019-08-05T00:00:00",
          "2019-08-12T00:00:00",
          "2019-08-19T00:00:00",
          "2019-08-26T00:00:00",
          "2019-09-02T00:00:00",
          "2019-09-09T00:00:00",
          "2019-09-16T00:00:00",
          "2019-09-23T00:00:00",
          "2019-09-30T00:00:00",
          "2019-10-07T00:00:00",
          "2019-10-14T00:00:00",
          "2019-10-21T00:00:00",
          "2019-10-28T00:00:00",
          "2019-11-04T00:00:00",
          "2019-11-11T00:00:00",
          "2019-11-18T00:00:00",
          "2019-11-25T00:00:00",
          "2019-12-02T00:00:00",
          "2019-12-09T00:00:00",
          "2019-12-16T00:00:00",
          "2019-12-23T00:00:00",
          "2019-12-30T00:00:00",
          "2020-01-06T00:00:00",
          "2020-01-13T00:00:00",
          "2020-01-20T00:00:00",
          "2020-01-27T00:00:00",
          "2020-02-03T00:00:00",
          "2020-02-10T00:00:00",
          "2020-02-17T00:00:00",
          "2020-02-24T00:00:00",
          "2020-03-02T00:00:00",
          "2020-03-09T00:00:00",
          "2020-03-16T00:00:00",
          "2020-03-23T00:00:00",
          "2020-03-30T00:00:00",
          "2020-04-06T00:00:00",
          "2020-04-13T00:00:00",
          "2020-04-20T00:00:00",
          "2020-04-27T00:00:00",
          "2020-05-04T00:00:00",
          "2020-05-11T00:00:00",
          "2020-05-18T00:00:00",
          "2020-05-25T00:00:00",
          "2020-06-01T00:00:00",
          "2020-06-08T00:00:00",
          "2020-06-15T00:00:00",
          "2020-06-22T00:00:00",
          "2020-06-29T00:00:00",
          "2020-07-06T00:00:00",
          "2020-07-13T00:00:00",
          "2020-07-20T00:00:00",
          "2020-07-27T00:00:00",
          "2020-08-03T00:00:00",
          "2020-08-10T00:00:00",
          "2020-08-17T00:00:00",
          "2020-08-24T00:00:00",
          "2020-08-31T00:00:00",
          "2020-09-07T00:00:00",
          "2020-09-14T00:00:00",
          "2020-09-21T00:00:00",
          "2020-09-28T00:00:00",
          "2020-10-05T00:00:00",
          "2020-10-12T00:00:00",
          "2020-10-19T00:00:00",
          "2020-10-26T00:00:00",
          "2020-11-02T00:00:00",
          "2020-11-09T00:00:00",
          "2020-11-16T00:00:00",
          "2020-11-23T00:00:00",
          "2020-11-30T00:00:00",
          "2020-12-07T00:00:00",
          "2020-12-14T00:00:00",
          "2020-12-21T00:00:00",
          "2020-12-28T00:00:00",
          "2021-01-04T00:00:00",
          "2021-01-11T00:00:00",
          "2021-01-18T00:00:00",
          "2021-01-25T00:00:00",
          "2021-02-01T00:00:00",
          "2021-02-08T00:00:00",
          "2021-02-15T00:00:00",
          "2021-02-22T00:00:00",
          "2021-03-01T00:00:00",
          "2021-03-08T00:00:00",
          "2021-03-15T00:00:00",
          "2021-03-22T00:00:00",
          "2021-03-29T00:00:00",
          "2021-04-05T00:00:00",
          "2021-04-12T00:00:00",
          "2021-04-19T00:00:00",
          "2021-04-26T00:00:00",
          "2021-05-03T00:00:00",
          "2021-05-10T00:00:00",
          "2021-05-17T00:00:00",
          "2021-05-24T00:00:00",
          "2021-05-31T00:00:00",
          "2021-06-07T00:00:00",
          "2021-06-14T00:00:00",
          "2021-06-21T00:00:00",
          "2021-06-28T00:00:00",
          "2021-07-05T00:00:00",
          "2021-07-12T00:00:00",
          "2021-07-19T00:00:00",
          "2021-07-26T00:00:00",
          "2021-08-02T00:00:00",
          "2021-08-09T00:00:00",
          "2021-08-16T00:00:00",
          "2021-08-23T00:00:00",
          "2021-08-30T00:00:00",
          "2021-09-06T00:00:00",
          "2021-09-13T00:00:00",
          "2021-09-20T00:00:00",
          "2021-09-27T00:00:00",
          "2021-10-04T00:00:00",
          "2021-10-11T00:00:00",
          "2021-10-18T00:00:00",
          "2021-10-25T00:00:00",
          "2021-11-01T00:00:00"
         ],
         "xaxis": "x",
         "y": [
          965.8749430869631,
          1026.0552268244576,
          1065.6284153005465,
          916.3301856072941,
          481.4876033057851,
          1255.9764859568909,
          747.4266083697689,
          531.7742805314507,
          983.1521739130435,
          735.8099173553719,
          814.6527969137503,
          590.3303394732836,
          618.5478238650882,
          639.3048070704893,
          846.3635095550286,
          994.1709511568123,
          672.4645786726323,
          828.6965339233038,
          632.9088971763452,
          605.578926181251,
          501.2127603480095,
          387.5566750629723,
          404.4235588972431,
          946.4291687573173,
          993.4342276236338,
          1598.6591989137814,
          1276.8790023592856,
          991.3551401869158,
          768.3988998166361,
          844.6798312883435,
          1196.3484068761634,
          1101.9630401955849,
          1378.4039162112933,
          1058.1399883018132,
          1856.2348859215645,
          1278.9226338525984,
          760.3135965605538,
          632.6145504226795,
          624.6702535012851,
          569.4225334445076,
          691.3013333162928,
          697.1889640504535,
          775.9589371438826,
          845.7422915787228,
          954.6004044439568,
          1653.8255116492182,
          1234.5232619827334,
          1616.3040920266112,
          1378.9219783046128,
          1796.732748885749,
          1945.820221953271,
          2149.869771792915,
          1786.805293005671,
          1986.4127430782373,
          2170.663576482069,
          2097.831571359923,
          2298.5906351414,
          2213.0523315007126,
          2172.0068906115416,
          1835.9960059910136,
          1636.9151149762579,
          893.06893152347,
          1367.163488242918,
          837.600191525018,
          934.4422207397524,
          1048.9305230288837,
          1380.5977011494253,
          1689.1664229306814,
          2040.0773663214732,
          1672.6048592815623,
          1040.6630628558285,
          1063.3282933282933,
          776.5691035277944,
          906.1880530256377,
          793.4795095272582,
          888.7812100410525,
          1040.0411790203727,
          1118.2954545454545,
          1113.5777533845592,
          1130.6519739043158,
          1189.802523570524,
          991.885311279963,
          867.2070336516784,
          727.4150831673575,
          706.6195912200445,
          590.2448791891012,
          741.8865010938104,
          932.7741218878364,
          1076.8718120057913,
          1023.2355300375733,
          992.2532866800285,
          751.6776940042058,
          631.0251306932723,
          914.2326814992184,
          797.8685430854134,
          767.4567670150262,
          1078.0018760803687,
          1200.020437526711,
          1260.753648357915,
          1718.0882049028303,
          772.8564355182486,
          751.8289188139271,
          1117.6491691677677,
          1014.953818551303,
          1189.2209780898197,
          1080.5038348211601,
          1042.6796220450171,
          1345.7292601784866,
          1335.229129787894,
          1330.3616944533505,
          1612.0508076153237,
          1449.989645036298,
          1283.3955936108189,
          1260.5469372241453,
          1190.9127759414473,
          1146.123881778782,
          1022.8225631122266,
          1017.3803617212944,
          1268.0879848003108,
          1323.337599142176,
          1025.956533409606,
          1205.4705611493123,
          1325.1223532414115,
          1288.5716611241598,
          1067.7640788259612,
          756.4624987345123,
          739.8526237866355,
          736.7803496081978,
          1026.8842793613655,
          1104.662620715271,
          906.5525695035313,
          1284.3587304003654,
          1949.5262584064683,
          1330.6152654010073,
          1248.6865817030603,
          1296.9855750573781,
          1477.9775738320072,
          1052.7692857099623,
          1265.0787908407137,
          1310.3200531454806,
          1230.9991935588766,
          1137.5001259001863,
          1059.7228994857126,
          1066.4142040830613,
          1264.4566211381164,
          1782.860973235583,
          1605.0042458107143,
          1657.502680543972,
          2120.338258003706,
          2442.7931650818746,
          2308.4016646026885,
          2163.870641772586,
          2530.475352075178,
          2456.4340410076143,
          2020.661128679153,
          2051.117161227702,
          1704.281485937134,
          1256.2350524079814,
          1244.3509497251225,
          1131.2062209852659,
          1277.2698368428391,
          1591.320186467846,
          1579.9980791394544,
          1432.2591631700884,
          1562.4188765657482,
          1310.691130172072,
          1101.551666380438,
          1015.5159876246362,
          851.9874812051011,
          717.9138851223648,
          637.764217328284,
          582.4499638623137,
          643.4561076951862,
          650.7833763238779,
          597.9490152519692,
          552.4259488124396,
          405.2456181249087,
          632.9191347235273,
          743.5037454551585,
          871.4058388765706,
          1191.8391548655575,
          1476.7365305780975,
          1384.3950966525224,
          964.4093956160885,
          1134.6195177025736,
          1153.2968920488543,
          988.2188498402556,
          903.5730272431748,
          1009.5619129251015,
          1392.1480874185174,
          1883.0480071888246,
          2364.579263197873,
          2275.7750440986756,
          1424.2294074873564,
          1128.4801104050714,
          1097.2421359385853,
          703.6939691231272,
          517.518151745914,
          646.9589933934278,
          699.8385169425044,
          849.2810807351435,
          914.6663608400953,
          1457.5463611201644,
          1240.1792932499995,
          878.5893795156734,
          880.1995230730793,
          859.675967164853,
          955.8030349863349,
          1088.8125658845777,
          1129.3476101855663,
          919.0645777947701,
          918.8143559954952,
          1186.1791674175527,
          1612.37906271458,
          1610.8530386140228,
          1770.8331233839422,
          2062.196136243478,
          1817.0076899139617,
          1451.7767560606403,
          1102.524172991287,
          859.6951785173475,
          822.6336864566516,
          1034.7376485735872,
          1246.6482413281801,
          1391.8101622720508,
          862.1104467477971,
          642.50202063213,
          588.0505487630458,
          530.2486901826492,
          646.1020176470437,
          648.0619412884249,
          687.5306580703902,
          914.7990316981821,
          752.9105864863038,
          1451.9116112486736,
          1948.0771978932637,
          1769.9965155549203,
          1672.374204323707,
          1059.2053882227049,
          912.6054434699179,
          1152.4296620728715,
          1185.5714993406502,
          1633.9407986006393,
          1463.1868876275423,
          1982.0403872445775,
          1564.7124665161891,
          1439.3989718864893,
          885.5840044021568,
          907.738205414157,
          964.683095912415,
          932.6304202085985,
          929.5968726073594,
          1034.0926489490334,
          1190.1863367574433,
          1556.035036425316,
          1232.8320368332966,
          1047.69989757901,
          985.76723797865,
          957.76866395404,
          1001.3264537963771,
          1075.6152732685089,
          1383.254620562532,
          1233.8164628034397,
          1303.3717738612954,
          1339.0394011605697,
          1264.0354944010578,
          1539.3527927436405,
          1244.303995713014,
          1137.5309705011437,
          1056.0809316036423,
          838.2400833997724,
          733.9265621573762,
          741.310931447286,
          683.9524899182488,
          826.4913695334369,
          910.7047159570203,
          832.9376879957947,
          791.6761751626113,
          734.4093832390157,
          779.2919155932508,
          811.5216487167214,
          651.584246424238,
          541.0007527748973,
          491.3166639401251,
          705.1373928027571,
          664.4598876305284,
          1057.3444937129148,
          825.703889771342,
          1723.3445577991429,
          1256.379422672146,
          1175.7709911150455,
          1349.2432765881724,
          2104.322095857027,
          1977.5262889672,
          1092.3048945783132,
          1104.2540259844855,
          1883.5847963593094,
          1848.2748121274942,
          1619.7974258863953,
          1141.515229413236,
          1084.187427121742,
          1202.489757724606,
          1619.4740445260638,
          1292.6918605738842,
          1002.3912870483537,
          987.5628721444306,
          909.3610062596283,
          1209.6217479804761,
          1029.5220007492655,
          1195.996201291294,
          1124.4204093360947,
          1140.5610542413715,
          1157.728806454017,
          1373.4728375566344,
          1102.4473134707914,
          1012.0512858838638,
          1100.1243731618035,
          1140.6578751145103,
          1015.4934802140949,
          1151.1692694002234,
          1213.6367496889136,
          1135.1476649530068,
          1073.9187549203975,
          939.0077954389079,
          928.9232050439298,
          1101.4036165451628,
          1036.9993225307526,
          1343.451226533592,
          1056.4410885201385,
          859.5444207700945,
          814.4950873482212,
          731.1628048482694,
          767.0581340211402,
          837.7658563176976,
          831.260263820488,
          1074.0875261042768,
          1481.452610418774,
          1643.4868357755176,
          1827.1781469398106,
          1633.8927475010437,
          2145.714504539483,
          1011.0064458931324,
          1025.6072663507668,
          1099.242507293785,
          1653.112805266796,
          2349.2304617264554,
          2570.3922408963585,
          1396.5295161912186,
          1327.8038978759782,
          1949.2708152656533,
          2520.6292289821404,
          1635.6426692701693,
          1013.6821388703453,
          751.7422815205589,
          721.5727734229476,
          990.8668319373897,
          1312.5516343450738,
          1775.6281648553534,
          2473.8152415181244,
          2787.486399332684,
          3284.1214570263273,
          2924.9725077508083,
          2121.4705835627756,
          1959.7817590485897,
          1663.8303645269507,
          1740.721063467908,
          1518.8222853799214,
          2094.957981479908,
          2187.2303704934375,
          2560.298829372118,
          2463.3340523924444,
          2283.169213642344,
          1723.2958314972832,
          1152.9879010082493,
          1029.369129253461,
          708.3342422417207,
          683.4435486937674,
          715.90129127342,
          797.337143622405,
          669.2397500166317,
          751.167810107954,
          731.9848955510153,
          823.8188901917766,
          848.7410906940609,
          747.773919399413,
          661.4657522799316,
          908.0133339555068,
          1035.8423205258105,
          1064.831324324125,
          1501.5982125783758,
          1368.4816926167755,
          1396.61633895402,
          1287.0847840599804,
          1353.537279589153,
          1276.429226845354,
          1126.1453667494134,
          1530.1598619635383,
          1868.9536864335691,
          1451.4360038753775,
          1216.070795895853,
          2161.630725039274,
          4256.348515255621,
          2497.5141197728926,
          933.8961462587118,
          1021.0273100170136,
          993.3817427627563,
          1247.7447539058812,
          1864.6149947892188,
          1566.4978431687166
         ],
         "yaxis": "y"
        }
       ],
       "layout": {
        "legend": {
         "tracegroupgap": 0
        },
        "margin": {
         "t": 60
        },
        "template": {
         "data": {
          "bar": [
           {
            "error_x": {
             "color": "#2a3f5f"
            },
            "error_y": {
             "color": "#2a3f5f"
            },
            "marker": {
             "line": {
              "color": "#E5ECF6",
              "width": 0.5
             },
             "pattern": {
              "fillmode": "overlay",
              "size": 10,
              "solidity": 0.2
             }
            },
            "type": "bar"
           }
          ],
          "barpolar": [
           {
            "marker": {
             "line": {
              "color": "#E5ECF6",
              "width": 0.5
             },
             "pattern": {
              "fillmode": "overlay",
              "size": 10,
              "solidity": 0.2
             }
            },
            "type": "barpolar"
           }
          ],
          "carpet": [
           {
            "aaxis": {
             "endlinecolor": "#2a3f5f",
             "gridcolor": "white",
             "linecolor": "white",
             "minorgridcolor": "white",
             "startlinecolor": "#2a3f5f"
            },
            "baxis": {
             "endlinecolor": "#2a3f5f",
             "gridcolor": "white",
             "linecolor": "white",
             "minorgridcolor": "white",
             "startlinecolor": "#2a3f5f"
            },
            "type": "carpet"
           }
          ],
          "choropleth": [
           {
            "colorbar": {
             "outlinewidth": 0,
             "ticks": ""
            },
            "type": "choropleth"
           }
          ],
          "contour": [
           {
            "colorbar": {
             "outlinewidth": 0,
             "ticks": ""
            },
            "colorscale": [
             [
              0,
              "#0d0887"
             ],
             [
              0.1111111111111111,
              "#46039f"
             ],
             [
              0.2222222222222222,
              "#7201a8"
             ],
             [
              0.3333333333333333,
              "#9c179e"
             ],
             [
              0.4444444444444444,
              "#bd3786"
             ],
             [
              0.5555555555555556,
              "#d8576b"
             ],
             [
              0.6666666666666666,
              "#ed7953"
             ],
             [
              0.7777777777777778,
              "#fb9f3a"
             ],
             [
              0.8888888888888888,
              "#fdca26"
             ],
             [
              1,
              "#f0f921"
             ]
            ],
            "type": "contour"
           }
          ],
          "contourcarpet": [
           {
            "colorbar": {
             "outlinewidth": 0,
             "ticks": ""
            },
            "type": "contourcarpet"
           }
          ],
          "heatmap": [
           {
            "colorbar": {
             "outlinewidth": 0,
             "ticks": ""
            },
            "colorscale": [
             [
              0,
              "#0d0887"
             ],
             [
              0.1111111111111111,
              "#46039f"
             ],
             [
              0.2222222222222222,
              "#7201a8"
             ],
             [
              0.3333333333333333,
              "#9c179e"
             ],
             [
              0.4444444444444444,
              "#bd3786"
             ],
             [
              0.5555555555555556,
              "#d8576b"
             ],
             [
              0.6666666666666666,
              "#ed7953"
             ],
             [
              0.7777777777777778,
              "#fb9f3a"
             ],
             [
              0.8888888888888888,
              "#fdca26"
             ],
             [
              1,
              "#f0f921"
             ]
            ],
            "type": "heatmap"
           }
          ],
          "heatmapgl": [
           {
            "colorbar": {
             "outlinewidth": 0,
             "ticks": ""
            },
            "colorscale": [
             [
              0,
              "#0d0887"
             ],
             [
              0.1111111111111111,
              "#46039f"
             ],
             [
              0.2222222222222222,
              "#7201a8"
             ],
             [
              0.3333333333333333,
              "#9c179e"
             ],
             [
              0.4444444444444444,
              "#bd3786"
             ],
             [
              0.5555555555555556,
              "#d8576b"
             ],
             [
              0.6666666666666666,
              "#ed7953"
             ],
             [
              0.7777777777777778,
              "#fb9f3a"
             ],
             [
              0.8888888888888888,
              "#fdca26"
             ],
             [
              1,
              "#f0f921"
             ]
            ],
            "type": "heatmapgl"
           }
          ],
          "histogram": [
           {
            "marker": {
             "pattern": {
              "fillmode": "overlay",
              "size": 10,
              "solidity": 0.2
             }
            },
            "type": "histogram"
           }
          ],
          "histogram2d": [
           {
            "colorbar": {
             "outlinewidth": 0,
             "ticks": ""
            },
            "colorscale": [
             [
              0,
              "#0d0887"
             ],
             [
              0.1111111111111111,
              "#46039f"
             ],
             [
              0.2222222222222222,
              "#7201a8"
             ],
             [
              0.3333333333333333,
              "#9c179e"
             ],
             [
              0.4444444444444444,
              "#bd3786"
             ],
             [
              0.5555555555555556,
              "#d8576b"
             ],
             [
              0.6666666666666666,
              "#ed7953"
             ],
             [
              0.7777777777777778,
              "#fb9f3a"
             ],
             [
              0.8888888888888888,
              "#fdca26"
             ],
             [
              1,
              "#f0f921"
             ]
            ],
            "type": "histogram2d"
           }
          ],
          "histogram2dcontour": [
           {
            "colorbar": {
             "outlinewidth": 0,
             "ticks": ""
            },
            "colorscale": [
             [
              0,
              "#0d0887"
             ],
             [
              0.1111111111111111,
              "#46039f"
             ],
             [
              0.2222222222222222,
              "#7201a8"
             ],
             [
              0.3333333333333333,
              "#9c179e"
             ],
             [
              0.4444444444444444,
              "#bd3786"
             ],
             [
              0.5555555555555556,
              "#d8576b"
             ],
             [
              0.6666666666666666,
              "#ed7953"
             ],
             [
              0.7777777777777778,
              "#fb9f3a"
             ],
             [
              0.8888888888888888,
              "#fdca26"
             ],
             [
              1,
              "#f0f921"
             ]
            ],
            "type": "histogram2dcontour"
           }
          ],
          "mesh3d": [
           {
            "colorbar": {
             "outlinewidth": 0,
             "ticks": ""
            },
            "type": "mesh3d"
           }
          ],
          "parcoords": [
           {
            "line": {
             "colorbar": {
              "outlinewidth": 0,
              "ticks": ""
             }
            },
            "type": "parcoords"
           }
          ],
          "pie": [
           {
            "automargin": true,
            "type": "pie"
           }
          ],
          "scatter": [
           {
            "marker": {
             "colorbar": {
              "outlinewidth": 0,
              "ticks": ""
             }
            },
            "type": "scatter"
           }
          ],
          "scatter3d": [
           {
            "line": {
             "colorbar": {
              "outlinewidth": 0,
              "ticks": ""
             }
            },
            "marker": {
             "colorbar": {
              "outlinewidth": 0,
              "ticks": ""
             }
            },
            "type": "scatter3d"
           }
          ],
          "scattercarpet": [
           {
            "marker": {
             "colorbar": {
              "outlinewidth": 0,
              "ticks": ""
             }
            },
            "type": "scattercarpet"
           }
          ],
          "scattergeo": [
           {
            "marker": {
             "colorbar": {
              "outlinewidth": 0,
              "ticks": ""
             }
            },
            "type": "scattergeo"
           }
          ],
          "scattergl": [
           {
            "marker": {
             "colorbar": {
              "outlinewidth": 0,
              "ticks": ""
             }
            },
            "type": "scattergl"
           }
          ],
          "scattermapbox": [
           {
            "marker": {
             "colorbar": {
              "outlinewidth": 0,
              "ticks": ""
             }
            },
            "type": "scattermapbox"
           }
          ],
          "scatterpolar": [
           {
            "marker": {
             "colorbar": {
              "outlinewidth": 0,
              "ticks": ""
             }
            },
            "type": "scatterpolar"
           }
          ],
          "scatterpolargl": [
           {
            "marker": {
             "colorbar": {
              "outlinewidth": 0,
              "ticks": ""
             }
            },
            "type": "scatterpolargl"
           }
          ],
          "scatterternary": [
           {
            "marker": {
             "colorbar": {
              "outlinewidth": 0,
              "ticks": ""
             }
            },
            "type": "scatterternary"
           }
          ],
          "surface": [
           {
            "colorbar": {
             "outlinewidth": 0,
             "ticks": ""
            },
            "colorscale": [
             [
              0,
              "#0d0887"
             ],
             [
              0.1111111111111111,
              "#46039f"
             ],
             [
              0.2222222222222222,
              "#7201a8"
             ],
             [
              0.3333333333333333,
              "#9c179e"
             ],
             [
              0.4444444444444444,
              "#bd3786"
             ],
             [
              0.5555555555555556,
              "#d8576b"
             ],
             [
              0.6666666666666666,
              "#ed7953"
             ],
             [
              0.7777777777777778,
              "#fb9f3a"
             ],
             [
              0.8888888888888888,
              "#fdca26"
             ],
             [
              1,
              "#f0f921"
             ]
            ],
            "type": "surface"
           }
          ],
          "table": [
           {
            "cells": {
             "fill": {
              "color": "#EBF0F8"
             },
             "line": {
              "color": "white"
             }
            },
            "header": {
             "fill": {
              "color": "#C8D4E3"
             },
             "line": {
              "color": "white"
             }
            },
            "type": "table"
           }
          ]
         },
         "layout": {
          "annotationdefaults": {
           "arrowcolor": "#2a3f5f",
           "arrowhead": 0,
           "arrowwidth": 1
          },
          "autotypenumbers": "strict",
          "coloraxis": {
           "colorbar": {
            "outlinewidth": 0,
            "ticks": ""
           }
          },
          "colorscale": {
           "diverging": [
            [
             0,
             "#8e0152"
            ],
            [
             0.1,
             "#c51b7d"
            ],
            [
             0.2,
             "#de77ae"
            ],
            [
             0.3,
             "#f1b6da"
            ],
            [
             0.4,
             "#fde0ef"
            ],
            [
             0.5,
             "#f7f7f7"
            ],
            [
             0.6,
             "#e6f5d0"
            ],
            [
             0.7,
             "#b8e186"
            ],
            [
             0.8,
             "#7fbc41"
            ],
            [
             0.9,
             "#4d9221"
            ],
            [
             1,
             "#276419"
            ]
           ],
           "sequential": [
            [
             0,
             "#0d0887"
            ],
            [
             0.1111111111111111,
             "#46039f"
            ],
            [
             0.2222222222222222,
             "#7201a8"
            ],
            [
             0.3333333333333333,
             "#9c179e"
            ],
            [
             0.4444444444444444,
             "#bd3786"
            ],
            [
             0.5555555555555556,
             "#d8576b"
            ],
            [
             0.6666666666666666,
             "#ed7953"
            ],
            [
             0.7777777777777778,
             "#fb9f3a"
            ],
            [
             0.8888888888888888,
             "#fdca26"
            ],
            [
             1,
             "#f0f921"
            ]
           ],
           "sequentialminus": [
            [
             0,
             "#0d0887"
            ],
            [
             0.1111111111111111,
             "#46039f"
            ],
            [
             0.2222222222222222,
             "#7201a8"
            ],
            [
             0.3333333333333333,
             "#9c179e"
            ],
            [
             0.4444444444444444,
             "#bd3786"
            ],
            [
             0.5555555555555556,
             "#d8576b"
            ],
            [
             0.6666666666666666,
             "#ed7953"
            ],
            [
             0.7777777777777778,
             "#fb9f3a"
            ],
            [
             0.8888888888888888,
             "#fdca26"
            ],
            [
             1,
             "#f0f921"
            ]
           ]
          },
          "colorway": [
           "#636efa",
           "#EF553B",
           "#00cc96",
           "#ab63fa",
           "#FFA15A",
           "#19d3f3",
           "#FF6692",
           "#B6E880",
           "#FF97FF",
           "#FECB52"
          ],
          "font": {
           "color": "#2a3f5f"
          },
          "geo": {
           "bgcolor": "white",
           "lakecolor": "white",
           "landcolor": "#E5ECF6",
           "showlakes": true,
           "showland": true,
           "subunitcolor": "white"
          },
          "hoverlabel": {
           "align": "left"
          },
          "hovermode": "closest",
          "mapbox": {
           "style": "light"
          },
          "paper_bgcolor": "white",
          "plot_bgcolor": "#E5ECF6",
          "polar": {
           "angularaxis": {
            "gridcolor": "white",
            "linecolor": "white",
            "ticks": ""
           },
           "bgcolor": "#E5ECF6",
           "radialaxis": {
            "gridcolor": "white",
            "linecolor": "white",
            "ticks": ""
           }
          },
          "scene": {
           "xaxis": {
            "backgroundcolor": "#E5ECF6",
            "gridcolor": "white",
            "gridwidth": 2,
            "linecolor": "white",
            "showbackground": true,
            "ticks": "",
            "zerolinecolor": "white"
           },
           "yaxis": {
            "backgroundcolor": "#E5ECF6",
            "gridcolor": "white",
            "gridwidth": 2,
            "linecolor": "white",
            "showbackground": true,
            "ticks": "",
            "zerolinecolor": "white"
           },
           "zaxis": {
            "backgroundcolor": "#E5ECF6",
            "gridcolor": "white",
            "gridwidth": 2,
            "linecolor": "white",
            "showbackground": true,
            "ticks": "",
            "zerolinecolor": "white"
           }
          },
          "shapedefaults": {
           "line": {
            "color": "#2a3f5f"
           }
          },
          "ternary": {
           "aaxis": {
            "gridcolor": "white",
            "linecolor": "white",
            "ticks": ""
           },
           "baxis": {
            "gridcolor": "white",
            "linecolor": "white",
            "ticks": ""
           },
           "bgcolor": "#E5ECF6",
           "caxis": {
            "gridcolor": "white",
            "linecolor": "white",
            "ticks": ""
           }
          },
          "title": {
           "x": 0.05
          },
          "xaxis": {
           "automargin": true,
           "gridcolor": "white",
           "linecolor": "white",
           "ticks": "",
           "title": {
            "standoff": 15
           },
           "zerolinecolor": "white",
           "zerolinewidth": 2
          },
          "yaxis": {
           "automargin": true,
           "gridcolor": "white",
           "linecolor": "white",
           "ticks": "",
           "title": {
            "standoff": 15
           },
           "zerolinecolor": "white",
           "zerolinewidth": 2
          }
         }
        },
        "xaxis": {
         "anchor": "y",
         "domain": [
          0,
          1
         ],
         "title": {
          "text": "SALEDATE"
         }
        },
        "yaxis": {
         "anchor": "x",
         "domain": [
          0,
          1
         ],
         "title": {
          "text": "PER_PRICE"
         }
        }
       }
      },
      "text/html": [
       "<div>                            <div id=\"4b8c4781-bcfe-4cb0-a4fd-2be50eeefd21\" class=\"plotly-graph-div\" style=\"height:525px; width:100%;\"></div>            <script type=\"text/javascript\">                require([\"plotly\"], function(Plotly) {                    window.PLOTLYENV=window.PLOTLYENV || {};                                    if (document.getElementById(\"4b8c4781-bcfe-4cb0-a4fd-2be50eeefd21\")) {                    Plotly.newPlot(                        \"4b8c4781-bcfe-4cb0-a4fd-2be50eeefd21\",                        [{\"hovertemplate\":\"SALEDATE=%{x}<br>PER_PRICE=%{y}<extra></extra>\",\"legendgroup\":\"\",\"line\":{\"color\":\"#636efa\",\"dash\":\"solid\"},\"marker\":{\"symbol\":\"circle\"},\"mode\":\"lines\",\"name\":\"\",\"orientation\":\"v\",\"showlegend\":false,\"type\":\"scatter\",\"x\":[\"2014-01-06T00:00:00\",\"2014-01-13T00:00:00\",\"2014-01-20T00:00:00\",\"2014-01-27T00:00:00\",\"2014-02-03T00:00:00\",\"2014-02-10T00:00:00\",\"2014-02-17T00:00:00\",\"2014-02-24T00:00:00\",\"2014-03-03T00:00:00\",\"2014-03-10T00:00:00\",\"2014-03-17T00:00:00\",\"2014-03-24T00:00:00\",\"2014-03-31T00:00:00\",\"2014-04-07T00:00:00\",\"2014-04-14T00:00:00\",\"2014-04-21T00:00:00\",\"2014-04-28T00:00:00\",\"2014-05-05T00:00:00\",\"2014-05-12T00:00:00\",\"2014-05-19T00:00:00\",\"2014-05-26T00:00:00\",\"2014-06-02T00:00:00\",\"2014-06-09T00:00:00\",\"2014-06-16T00:00:00\",\"2014-06-23T00:00:00\",\"2014-06-30T00:00:00\",\"2014-07-07T00:00:00\",\"2014-07-14T00:00:00\",\"2014-07-21T00:00:00\",\"2014-07-28T00:00:00\",\"2014-08-04T00:00:00\",\"2014-08-11T00:00:00\",\"2014-08-18T00:00:00\",\"2014-08-25T00:00:00\",\"2014-09-01T00:00:00\",\"2014-09-08T00:00:00\",\"2014-09-15T00:00:00\",\"2014-09-22T00:00:00\",\"2014-09-29T00:00:00\",\"2014-10-06T00:00:00\",\"2014-10-13T00:00:00\",\"2014-10-20T00:00:00\",\"2014-10-27T00:00:00\",\"2014-11-03T00:00:00\",\"2014-11-10T00:00:00\",\"2014-11-17T00:00:00\",\"2014-11-24T00:00:00\",\"2014-12-01T00:00:00\",\"2014-12-08T00:00:00\",\"2014-12-15T00:00:00\",\"2014-12-22T00:00:00\",\"2014-12-29T00:00:00\",\"2015-01-05T00:00:00\",\"2015-01-12T00:00:00\",\"2015-01-19T00:00:00\",\"2015-01-26T00:00:00\",\"2015-02-02T00:00:00\",\"2015-02-09T00:00:00\",\"2015-02-16T00:00:00\",\"2015-02-23T00:00:00\",\"2015-03-02T00:00:00\",\"2015-03-09T00:00:00\",\"2015-03-16T00:00:00\",\"2015-03-23T00:00:00\",\"2015-03-30T00:00:00\",\"2015-04-06T00:00:00\",\"2015-04-13T00:00:00\",\"2015-04-20T00:00:00\",\"2015-04-27T00:00:00\",\"2015-05-04T00:00:00\",\"2015-05-11T00:00:00\",\"2015-05-18T00:00:00\",\"2015-05-25T00:00:00\",\"2015-06-01T00:00:00\",\"2015-06-08T00:00:00\",\"2015-06-15T00:00:00\",\"2015-06-22T00:00:00\",\"2015-06-29T00:00:00\",\"2015-07-06T00:00:00\",\"2015-07-13T00:00:00\",\"2015-07-20T00:00:00\",\"2015-07-27T00:00:00\",\"2015-08-03T00:00:00\",\"2015-08-10T00:00:00\",\"2015-08-17T00:00:00\",\"2015-08-24T00:00:00\",\"2015-08-31T00:00:00\",\"2015-09-07T00:00:00\",\"2015-09-14T00:00:00\",\"2015-09-21T00:00:00\",\"2015-09-28T00:00:00\",\"2015-10-05T00:00:00\",\"2015-10-12T00:00:00\",\"2015-10-19T00:00:00\",\"2015-10-26T00:00:00\",\"2015-11-02T00:00:00\",\"2015-11-09T00:00:00\",\"2015-11-16T00:00:00\",\"2015-11-23T00:00:00\",\"2015-11-30T00:00:00\",\"2015-12-07T00:00:00\",\"2015-12-14T00:00:00\",\"2015-12-21T00:00:00\",\"2015-12-28T00:00:00\",\"2016-01-04T00:00:00\",\"2016-01-11T00:00:00\",\"2016-01-18T00:00:00\",\"2016-01-25T00:00:00\",\"2016-02-01T00:00:00\",\"2016-02-08T00:00:00\",\"2016-02-15T00:00:00\",\"2016-02-22T00:00:00\",\"2016-02-29T00:00:00\",\"2016-03-07T00:00:00\",\"2016-03-14T00:00:00\",\"2016-03-21T00:00:00\",\"2016-03-28T00:00:00\",\"2016-04-04T00:00:00\",\"2016-04-11T00:00:00\",\"2016-04-18T00:00:00\",\"2016-04-25T00:00:00\",\"2016-05-02T00:00:00\",\"2016-05-09T00:00:00\",\"2016-05-16T00:00:00\",\"2016-05-23T00:00:00\",\"2016-05-30T00:00:00\",\"2016-06-06T00:00:00\",\"2016-06-13T00:00:00\",\"2016-06-20T00:00:00\",\"2016-06-27T00:00:00\",\"2016-07-04T00:00:00\",\"2016-07-11T00:00:00\",\"2016-07-18T00:00:00\",\"2016-07-25T00:00:00\",\"2016-08-01T00:00:00\",\"2016-08-08T00:00:00\",\"2016-08-15T00:00:00\",\"2016-08-22T00:00:00\",\"2016-08-29T00:00:00\",\"2016-09-05T00:00:00\",\"2016-09-12T00:00:00\",\"2016-09-19T00:00:00\",\"2016-09-26T00:00:00\",\"2016-10-03T00:00:00\",\"2016-10-10T00:00:00\",\"2016-10-17T00:00:00\",\"2016-10-24T00:00:00\",\"2016-10-31T00:00:00\",\"2016-11-07T00:00:00\",\"2016-11-14T00:00:00\",\"2016-11-21T00:00:00\",\"2016-11-28T00:00:00\",\"2016-12-05T00:00:00\",\"2016-12-12T00:00:00\",\"2016-12-19T00:00:00\",\"2016-12-26T00:00:00\",\"2017-01-02T00:00:00\",\"2017-01-09T00:00:00\",\"2017-01-16T00:00:00\",\"2017-01-23T00:00:00\",\"2017-01-30T00:00:00\",\"2017-02-06T00:00:00\",\"2017-02-13T00:00:00\",\"2017-02-20T00:00:00\",\"2017-02-27T00:00:00\",\"2017-03-06T00:00:00\",\"2017-03-13T00:00:00\",\"2017-03-20T00:00:00\",\"2017-03-27T00:00:00\",\"2017-04-03T00:00:00\",\"2017-04-10T00:00:00\",\"2017-04-17T00:00:00\",\"2017-04-24T00:00:00\",\"2017-05-01T00:00:00\",\"2017-05-08T00:00:00\",\"2017-05-15T00:00:00\",\"2017-05-22T00:00:00\",\"2017-05-29T00:00:00\",\"2017-06-05T00:00:00\",\"2017-06-12T00:00:00\",\"2017-06-19T00:00:00\",\"2017-06-26T00:00:00\",\"2017-07-03T00:00:00\",\"2017-07-10T00:00:00\",\"2017-07-17T00:00:00\",\"2017-07-24T00:00:00\",\"2017-07-31T00:00:00\",\"2017-08-07T00:00:00\",\"2017-08-14T00:00:00\",\"2017-08-21T00:00:00\",\"2017-08-28T00:00:00\",\"2017-09-04T00:00:00\",\"2017-09-11T00:00:00\",\"2017-09-18T00:00:00\",\"2017-09-25T00:00:00\",\"2017-10-02T00:00:00\",\"2017-10-09T00:00:00\",\"2017-10-16T00:00:00\",\"2017-10-23T00:00:00\",\"2017-10-30T00:00:00\",\"2017-11-06T00:00:00\",\"2017-11-13T00:00:00\",\"2017-11-20T00:00:00\",\"2017-11-27T00:00:00\",\"2017-12-04T00:00:00\",\"2017-12-11T00:00:00\",\"2017-12-18T00:00:00\",\"2017-12-25T00:00:00\",\"2018-01-01T00:00:00\",\"2018-01-08T00:00:00\",\"2018-01-15T00:00:00\",\"2018-01-22T00:00:00\",\"2018-01-29T00:00:00\",\"2018-02-05T00:00:00\",\"2018-02-12T00:00:00\",\"2018-02-19T00:00:00\",\"2018-02-26T00:00:00\",\"2018-03-05T00:00:00\",\"2018-03-12T00:00:00\",\"2018-03-19T00:00:00\",\"2018-03-26T00:00:00\",\"2018-04-02T00:00:00\",\"2018-04-09T00:00:00\",\"2018-04-16T00:00:00\",\"2018-04-23T00:00:00\",\"2018-04-30T00:00:00\",\"2018-05-07T00:00:00\",\"2018-05-14T00:00:00\",\"2018-05-21T00:00:00\",\"2018-05-28T00:00:00\",\"2018-06-04T00:00:00\",\"2018-06-11T00:00:00\",\"2018-06-18T00:00:00\",\"2018-06-25T00:00:00\",\"2018-07-02T00:00:00\",\"2018-07-09T00:00:00\",\"2018-07-16T00:00:00\",\"2018-07-23T00:00:00\",\"2018-07-30T00:00:00\",\"2018-08-06T00:00:00\",\"2018-08-13T00:00:00\",\"2018-08-20T00:00:00\",\"2018-08-27T00:00:00\",\"2018-09-03T00:00:00\",\"2018-09-10T00:00:00\",\"2018-09-17T00:00:00\",\"2018-09-24T00:00:00\",\"2018-10-01T00:00:00\",\"2018-10-08T00:00:00\",\"2018-10-15T00:00:00\",\"2018-10-22T00:00:00\",\"2018-10-29T00:00:00\",\"2018-11-05T00:00:00\",\"2018-11-12T00:00:00\",\"2018-11-19T00:00:00\",\"2018-11-26T00:00:00\",\"2018-12-03T00:00:00\",\"2018-12-10T00:00:00\",\"2018-12-17T00:00:00\",\"2018-12-24T00:00:00\",\"2018-12-31T00:00:00\",\"2019-01-07T00:00:00\",\"2019-01-14T00:00:00\",\"2019-01-21T00:00:00\",\"2019-01-28T00:00:00\",\"2019-02-04T00:00:00\",\"2019-02-11T00:00:00\",\"2019-02-18T00:00:00\",\"2019-02-25T00:00:00\",\"2019-03-04T00:00:00\",\"2019-03-11T00:00:00\",\"2019-03-18T00:00:00\",\"2019-03-25T00:00:00\",\"2019-04-01T00:00:00\",\"2019-04-08T00:00:00\",\"2019-04-15T00:00:00\",\"2019-04-22T00:00:00\",\"2019-04-29T00:00:00\",\"2019-05-06T00:00:00\",\"2019-05-13T00:00:00\",\"2019-05-20T00:00:00\",\"2019-05-27T00:00:00\",\"2019-06-03T00:00:00\",\"2019-06-10T00:00:00\",\"2019-06-17T00:00:00\",\"2019-06-24T00:00:00\",\"2019-07-01T00:00:00\",\"2019-07-08T00:00:00\",\"2019-07-15T00:00:00\",\"2019-07-22T00:00:00\",\"2019-07-29T00:00:00\",\"2019-08-05T00:00:00\",\"2019-08-12T00:00:00\",\"2019-08-19T00:00:00\",\"2019-08-26T00:00:00\",\"2019-09-02T00:00:00\",\"2019-09-09T00:00:00\",\"2019-09-16T00:00:00\",\"2019-09-23T00:00:00\",\"2019-09-30T00:00:00\",\"2019-10-07T00:00:00\",\"2019-10-14T00:00:00\",\"2019-10-21T00:00:00\",\"2019-10-28T00:00:00\",\"2019-11-04T00:00:00\",\"2019-11-11T00:00:00\",\"2019-11-18T00:00:00\",\"2019-11-25T00:00:00\",\"2019-12-02T00:00:00\",\"2019-12-09T00:00:00\",\"2019-12-16T00:00:00\",\"2019-12-23T00:00:00\",\"2019-12-30T00:00:00\",\"2020-01-06T00:00:00\",\"2020-01-13T00:00:00\",\"2020-01-20T00:00:00\",\"2020-01-27T00:00:00\",\"2020-02-03T00:00:00\",\"2020-02-10T00:00:00\",\"2020-02-17T00:00:00\",\"2020-02-24T00:00:00\",\"2020-03-02T00:00:00\",\"2020-03-09T00:00:00\",\"2020-03-16T00:00:00\",\"2020-03-23T00:00:00\",\"2020-03-30T00:00:00\",\"2020-04-06T00:00:00\",\"2020-04-13T00:00:00\",\"2020-04-20T00:00:00\",\"2020-04-27T00:00:00\",\"2020-05-04T00:00:00\",\"2020-05-11T00:00:00\",\"2020-05-18T00:00:00\",\"2020-05-25T00:00:00\",\"2020-06-01T00:00:00\",\"2020-06-08T00:00:00\",\"2020-06-15T00:00:00\",\"2020-06-22T00:00:00\",\"2020-06-29T00:00:00\",\"2020-07-06T00:00:00\",\"2020-07-13T00:00:00\",\"2020-07-20T00:00:00\",\"2020-07-27T00:00:00\",\"2020-08-03T00:00:00\",\"2020-08-10T00:00:00\",\"2020-08-17T00:00:00\",\"2020-08-24T00:00:00\",\"2020-08-31T00:00:00\",\"2020-09-07T00:00:00\",\"2020-09-14T00:00:00\",\"2020-09-21T00:00:00\",\"2020-09-28T00:00:00\",\"2020-10-05T00:00:00\",\"2020-10-12T00:00:00\",\"2020-10-19T00:00:00\",\"2020-10-26T00:00:00\",\"2020-11-02T00:00:00\",\"2020-11-09T00:00:00\",\"2020-11-16T00:00:00\",\"2020-11-23T00:00:00\",\"2020-11-30T00:00:00\",\"2020-12-07T00:00:00\",\"2020-12-14T00:00:00\",\"2020-12-21T00:00:00\",\"2020-12-28T00:00:00\",\"2021-01-04T00:00:00\",\"2021-01-11T00:00:00\",\"2021-01-18T00:00:00\",\"2021-01-25T00:00:00\",\"2021-02-01T00:00:00\",\"2021-02-08T00:00:00\",\"2021-02-15T00:00:00\",\"2021-02-22T00:00:00\",\"2021-03-01T00:00:00\",\"2021-03-08T00:00:00\",\"2021-03-15T00:00:00\",\"2021-03-22T00:00:00\",\"2021-03-29T00:00:00\",\"2021-04-05T00:00:00\",\"2021-04-12T00:00:00\",\"2021-04-19T00:00:00\",\"2021-04-26T00:00:00\",\"2021-05-03T00:00:00\",\"2021-05-10T00:00:00\",\"2021-05-17T00:00:00\",\"2021-05-24T00:00:00\",\"2021-05-31T00:00:00\",\"2021-06-07T00:00:00\",\"2021-06-14T00:00:00\",\"2021-06-21T00:00:00\",\"2021-06-28T00:00:00\",\"2021-07-05T00:00:00\",\"2021-07-12T00:00:00\",\"2021-07-19T00:00:00\",\"2021-07-26T00:00:00\",\"2021-08-02T00:00:00\",\"2021-08-09T00:00:00\",\"2021-08-16T00:00:00\",\"2021-08-23T00:00:00\",\"2021-08-30T00:00:00\",\"2021-09-06T00:00:00\",\"2021-09-13T00:00:00\",\"2021-09-20T00:00:00\",\"2021-09-27T00:00:00\",\"2021-10-04T00:00:00\",\"2021-10-11T00:00:00\",\"2021-10-18T00:00:00\",\"2021-10-25T00:00:00\",\"2021-11-01T00:00:00\"],\"xaxis\":\"x\",\"y\":[965.8749430869631,1026.0552268244576,1065.6284153005465,916.3301856072941,481.4876033057851,1255.9764859568909,747.4266083697689,531.7742805314507,983.1521739130435,735.8099173553719,814.6527969137503,590.3303394732836,618.5478238650882,639.3048070704893,846.3635095550286,994.1709511568123,672.4645786726323,828.6965339233038,632.9088971763452,605.578926181251,501.2127603480095,387.5566750629723,404.4235588972431,946.4291687573173,993.4342276236338,1598.6591989137814,1276.8790023592856,991.3551401869158,768.3988998166361,844.6798312883435,1196.3484068761634,1101.9630401955849,1378.4039162112933,1058.1399883018132,1856.2348859215645,1278.9226338525984,760.3135965605538,632.6145504226795,624.6702535012851,569.4225334445076,691.3013333162928,697.1889640504535,775.9589371438826,845.7422915787228,954.6004044439568,1653.8255116492182,1234.5232619827334,1616.3040920266112,1378.9219783046128,1796.732748885749,1945.820221953271,2149.869771792915,1786.805293005671,1986.4127430782373,2170.663576482069,2097.831571359923,2298.5906351414,2213.0523315007126,2172.0068906115416,1835.9960059910136,1636.9151149762579,893.06893152347,1367.163488242918,837.600191525018,934.4422207397524,1048.9305230288837,1380.5977011494253,1689.1664229306814,2040.0773663214732,1672.6048592815623,1040.6630628558285,1063.3282933282933,776.5691035277944,906.1880530256377,793.4795095272582,888.7812100410525,1040.0411790203727,1118.2954545454545,1113.5777533845592,1130.6519739043158,1189.802523570524,991.885311279963,867.2070336516784,727.4150831673575,706.6195912200445,590.2448791891012,741.8865010938104,932.7741218878364,1076.8718120057913,1023.2355300375733,992.2532866800285,751.6776940042058,631.0251306932723,914.2326814992184,797.8685430854134,767.4567670150262,1078.0018760803687,1200.020437526711,1260.753648357915,1718.0882049028303,772.8564355182486,751.8289188139271,1117.6491691677677,1014.953818551303,1189.2209780898197,1080.5038348211601,1042.6796220450171,1345.7292601784866,1335.229129787894,1330.3616944533505,1612.0508076153237,1449.989645036298,1283.3955936108189,1260.5469372241453,1190.9127759414473,1146.123881778782,1022.8225631122266,1017.3803617212944,1268.0879848003108,1323.337599142176,1025.956533409606,1205.4705611493123,1325.1223532414115,1288.5716611241598,1067.7640788259612,756.4624987345123,739.8526237866355,736.7803496081978,1026.8842793613655,1104.662620715271,906.5525695035313,1284.3587304003654,1949.5262584064683,1330.6152654010073,1248.6865817030603,1296.9855750573781,1477.9775738320072,1052.7692857099623,1265.0787908407137,1310.3200531454806,1230.9991935588766,1137.5001259001863,1059.7228994857126,1066.4142040830613,1264.4566211381164,1782.860973235583,1605.0042458107143,1657.502680543972,2120.338258003706,2442.7931650818746,2308.4016646026885,2163.870641772586,2530.475352075178,2456.4340410076143,2020.661128679153,2051.117161227702,1704.281485937134,1256.2350524079814,1244.3509497251225,1131.2062209852659,1277.2698368428391,1591.320186467846,1579.9980791394544,1432.2591631700884,1562.4188765657482,1310.691130172072,1101.551666380438,1015.5159876246362,851.9874812051011,717.9138851223648,637.764217328284,582.4499638623137,643.4561076951862,650.7833763238779,597.9490152519692,552.4259488124396,405.2456181249087,632.9191347235273,743.5037454551585,871.4058388765706,1191.8391548655575,1476.7365305780975,1384.3950966525224,964.4093956160885,1134.6195177025736,1153.2968920488543,988.2188498402556,903.5730272431748,1009.5619129251015,1392.1480874185174,1883.0480071888246,2364.579263197873,2275.7750440986756,1424.2294074873564,1128.4801104050714,1097.2421359385853,703.6939691231272,517.518151745914,646.9589933934278,699.8385169425044,849.2810807351435,914.6663608400953,1457.5463611201644,1240.1792932499995,878.5893795156734,880.1995230730793,859.675967164853,955.8030349863349,1088.8125658845777,1129.3476101855663,919.0645777947701,918.8143559954952,1186.1791674175527,1612.37906271458,1610.8530386140228,1770.8331233839422,2062.196136243478,1817.0076899139617,1451.7767560606403,1102.524172991287,859.6951785173475,822.6336864566516,1034.7376485735872,1246.6482413281801,1391.8101622720508,862.1104467477971,642.50202063213,588.0505487630458,530.2486901826492,646.1020176470437,648.0619412884249,687.5306580703902,914.7990316981821,752.9105864863038,1451.9116112486736,1948.0771978932637,1769.9965155549203,1672.374204323707,1059.2053882227049,912.6054434699179,1152.4296620728715,1185.5714993406502,1633.9407986006393,1463.1868876275423,1982.0403872445775,1564.7124665161891,1439.3989718864893,885.5840044021568,907.738205414157,964.683095912415,932.6304202085985,929.5968726073594,1034.0926489490334,1190.1863367574433,1556.035036425316,1232.8320368332966,1047.69989757901,985.76723797865,957.76866395404,1001.3264537963771,1075.6152732685089,1383.254620562532,1233.8164628034397,1303.3717738612954,1339.0394011605697,1264.0354944010578,1539.3527927436405,1244.303995713014,1137.5309705011437,1056.0809316036423,838.2400833997724,733.9265621573762,741.310931447286,683.9524899182488,826.4913695334369,910.7047159570203,832.9376879957947,791.6761751626113,734.4093832390157,779.2919155932508,811.5216487167214,651.584246424238,541.0007527748973,491.3166639401251,705.1373928027571,664.4598876305284,1057.3444937129148,825.703889771342,1723.3445577991429,1256.379422672146,1175.7709911150455,1349.2432765881724,2104.322095857027,1977.5262889672,1092.3048945783132,1104.2540259844855,1883.5847963593094,1848.2748121274942,1619.7974258863953,1141.515229413236,1084.187427121742,1202.489757724606,1619.4740445260638,1292.6918605738842,1002.3912870483537,987.5628721444306,909.3610062596283,1209.6217479804761,1029.5220007492655,1195.996201291294,1124.4204093360947,1140.5610542413715,1157.728806454017,1373.4728375566344,1102.4473134707914,1012.0512858838638,1100.1243731618035,1140.6578751145103,1015.4934802140949,1151.1692694002234,1213.6367496889136,1135.1476649530068,1073.9187549203975,939.0077954389079,928.9232050439298,1101.4036165451628,1036.9993225307526,1343.451226533592,1056.4410885201385,859.5444207700945,814.4950873482212,731.1628048482694,767.0581340211402,837.7658563176976,831.260263820488,1074.0875261042768,1481.452610418774,1643.4868357755176,1827.1781469398106,1633.8927475010437,2145.714504539483,1011.0064458931324,1025.6072663507668,1099.242507293785,1653.112805266796,2349.2304617264554,2570.3922408963585,1396.5295161912186,1327.8038978759782,1949.2708152656533,2520.6292289821404,1635.6426692701693,1013.6821388703453,751.7422815205589,721.5727734229476,990.8668319373897,1312.5516343450738,1775.6281648553534,2473.8152415181244,2787.486399332684,3284.1214570263273,2924.9725077508083,2121.4705835627756,1959.7817590485897,1663.8303645269507,1740.721063467908,1518.8222853799214,2094.957981479908,2187.2303704934375,2560.298829372118,2463.3340523924444,2283.169213642344,1723.2958314972832,1152.9879010082493,1029.369129253461,708.3342422417207,683.4435486937674,715.90129127342,797.337143622405,669.2397500166317,751.167810107954,731.9848955510153,823.8188901917766,848.7410906940609,747.773919399413,661.4657522799316,908.0133339555068,1035.8423205258105,1064.831324324125,1501.5982125783758,1368.4816926167755,1396.61633895402,1287.0847840599804,1353.537279589153,1276.429226845354,1126.1453667494134,1530.1598619635383,1868.9536864335691,1451.4360038753775,1216.070795895853,2161.630725039274,4256.348515255621,2497.5141197728926,933.8961462587118,1021.0273100170136,993.3817427627563,1247.7447539058812,1864.6149947892188,1566.4978431687166],\"yaxis\":\"y\"}],                        {\"legend\":{\"tracegroupgap\":0},\"margin\":{\"t\":60},\"template\":{\"data\":{\"bar\":[{\"error_x\":{\"color\":\"#2a3f5f\"},\"error_y\":{\"color\":\"#2a3f5f\"},\"marker\":{\"line\":{\"color\":\"#E5ECF6\",\"width\":0.5},\"pattern\":{\"fillmode\":\"overlay\",\"size\":10,\"solidity\":0.2}},\"type\":\"bar\"}],\"barpolar\":[{\"marker\":{\"line\":{\"color\":\"#E5ECF6\",\"width\":0.5},\"pattern\":{\"fillmode\":\"overlay\",\"size\":10,\"solidity\":0.2}},\"type\":\"barpolar\"}],\"carpet\":[{\"aaxis\":{\"endlinecolor\":\"#2a3f5f\",\"gridcolor\":\"white\",\"linecolor\":\"white\",\"minorgridcolor\":\"white\",\"startlinecolor\":\"#2a3f5f\"},\"baxis\":{\"endlinecolor\":\"#2a3f5f\",\"gridcolor\":\"white\",\"linecolor\":\"white\",\"minorgridcolor\":\"white\",\"startlinecolor\":\"#2a3f5f\"},\"type\":\"carpet\"}],\"choropleth\":[{\"colorbar\":{\"outlinewidth\":0,\"ticks\":\"\"},\"type\":\"choropleth\"}],\"contour\":[{\"colorbar\":{\"outlinewidth\":0,\"ticks\":\"\"},\"colorscale\":[[0.0,\"#0d0887\"],[0.1111111111111111,\"#46039f\"],[0.2222222222222222,\"#7201a8\"],[0.3333333333333333,\"#9c179e\"],[0.4444444444444444,\"#bd3786\"],[0.5555555555555556,\"#d8576b\"],[0.6666666666666666,\"#ed7953\"],[0.7777777777777778,\"#fb9f3a\"],[0.8888888888888888,\"#fdca26\"],[1.0,\"#f0f921\"]],\"type\":\"contour\"}],\"contourcarpet\":[{\"colorbar\":{\"outlinewidth\":0,\"ticks\":\"\"},\"type\":\"contourcarpet\"}],\"heatmap\":[{\"colorbar\":{\"outlinewidth\":0,\"ticks\":\"\"},\"colorscale\":[[0.0,\"#0d0887\"],[0.1111111111111111,\"#46039f\"],[0.2222222222222222,\"#7201a8\"],[0.3333333333333333,\"#9c179e\"],[0.4444444444444444,\"#bd3786\"],[0.5555555555555556,\"#d8576b\"],[0.6666666666666666,\"#ed7953\"],[0.7777777777777778,\"#fb9f3a\"],[0.8888888888888888,\"#fdca26\"],[1.0,\"#f0f921\"]],\"type\":\"heatmap\"}],\"heatmapgl\":[{\"colorbar\":{\"outlinewidth\":0,\"ticks\":\"\"},\"colorscale\":[[0.0,\"#0d0887\"],[0.1111111111111111,\"#46039f\"],[0.2222222222222222,\"#7201a8\"],[0.3333333333333333,\"#9c179e\"],[0.4444444444444444,\"#bd3786\"],[0.5555555555555556,\"#d8576b\"],[0.6666666666666666,\"#ed7953\"],[0.7777777777777778,\"#fb9f3a\"],[0.8888888888888888,\"#fdca26\"],[1.0,\"#f0f921\"]],\"type\":\"heatmapgl\"}],\"histogram\":[{\"marker\":{\"pattern\":{\"fillmode\":\"overlay\",\"size\":10,\"solidity\":0.2}},\"type\":\"histogram\"}],\"histogram2d\":[{\"colorbar\":{\"outlinewidth\":0,\"ticks\":\"\"},\"colorscale\":[[0.0,\"#0d0887\"],[0.1111111111111111,\"#46039f\"],[0.2222222222222222,\"#7201a8\"],[0.3333333333333333,\"#9c179e\"],[0.4444444444444444,\"#bd3786\"],[0.5555555555555556,\"#d8576b\"],[0.6666666666666666,\"#ed7953\"],[0.7777777777777778,\"#fb9f3a\"],[0.8888888888888888,\"#fdca26\"],[1.0,\"#f0f921\"]],\"type\":\"histogram2d\"}],\"histogram2dcontour\":[{\"colorbar\":{\"outlinewidth\":0,\"ticks\":\"\"},\"colorscale\":[[0.0,\"#0d0887\"],[0.1111111111111111,\"#46039f\"],[0.2222222222222222,\"#7201a8\"],[0.3333333333333333,\"#9c179e\"],[0.4444444444444444,\"#bd3786\"],[0.5555555555555556,\"#d8576b\"],[0.6666666666666666,\"#ed7953\"],[0.7777777777777778,\"#fb9f3a\"],[0.8888888888888888,\"#fdca26\"],[1.0,\"#f0f921\"]],\"type\":\"histogram2dcontour\"}],\"mesh3d\":[{\"colorbar\":{\"outlinewidth\":0,\"ticks\":\"\"},\"type\":\"mesh3d\"}],\"parcoords\":[{\"line\":{\"colorbar\":{\"outlinewidth\":0,\"ticks\":\"\"}},\"type\":\"parcoords\"}],\"pie\":[{\"automargin\":true,\"type\":\"pie\"}],\"scatter\":[{\"marker\":{\"colorbar\":{\"outlinewidth\":0,\"ticks\":\"\"}},\"type\":\"scatter\"}],\"scatter3d\":[{\"line\":{\"colorbar\":{\"outlinewidth\":0,\"ticks\":\"\"}},\"marker\":{\"colorbar\":{\"outlinewidth\":0,\"ticks\":\"\"}},\"type\":\"scatter3d\"}],\"scattercarpet\":[{\"marker\":{\"colorbar\":{\"outlinewidth\":0,\"ticks\":\"\"}},\"type\":\"scattercarpet\"}],\"scattergeo\":[{\"marker\":{\"colorbar\":{\"outlinewidth\":0,\"ticks\":\"\"}},\"type\":\"scattergeo\"}],\"scattergl\":[{\"marker\":{\"colorbar\":{\"outlinewidth\":0,\"ticks\":\"\"}},\"type\":\"scattergl\"}],\"scattermapbox\":[{\"marker\":{\"colorbar\":{\"outlinewidth\":0,\"ticks\":\"\"}},\"type\":\"scattermapbox\"}],\"scatterpolar\":[{\"marker\":{\"colorbar\":{\"outlinewidth\":0,\"ticks\":\"\"}},\"type\":\"scatterpolar\"}],\"scatterpolargl\":[{\"marker\":{\"colorbar\":{\"outlinewidth\":0,\"ticks\":\"\"}},\"type\":\"scatterpolargl\"}],\"scatterternary\":[{\"marker\":{\"colorbar\":{\"outlinewidth\":0,\"ticks\":\"\"}},\"type\":\"scatterternary\"}],\"surface\":[{\"colorbar\":{\"outlinewidth\":0,\"ticks\":\"\"},\"colorscale\":[[0.0,\"#0d0887\"],[0.1111111111111111,\"#46039f\"],[0.2222222222222222,\"#7201a8\"],[0.3333333333333333,\"#9c179e\"],[0.4444444444444444,\"#bd3786\"],[0.5555555555555556,\"#d8576b\"],[0.6666666666666666,\"#ed7953\"],[0.7777777777777778,\"#fb9f3a\"],[0.8888888888888888,\"#fdca26\"],[1.0,\"#f0f921\"]],\"type\":\"surface\"}],\"table\":[{\"cells\":{\"fill\":{\"color\":\"#EBF0F8\"},\"line\":{\"color\":\"white\"}},\"header\":{\"fill\":{\"color\":\"#C8D4E3\"},\"line\":{\"color\":\"white\"}},\"type\":\"table\"}]},\"layout\":{\"annotationdefaults\":{\"arrowcolor\":\"#2a3f5f\",\"arrowhead\":0,\"arrowwidth\":1},\"autotypenumbers\":\"strict\",\"coloraxis\":{\"colorbar\":{\"outlinewidth\":0,\"ticks\":\"\"}},\"colorscale\":{\"diverging\":[[0,\"#8e0152\"],[0.1,\"#c51b7d\"],[0.2,\"#de77ae\"],[0.3,\"#f1b6da\"],[0.4,\"#fde0ef\"],[0.5,\"#f7f7f7\"],[0.6,\"#e6f5d0\"],[0.7,\"#b8e186\"],[0.8,\"#7fbc41\"],[0.9,\"#4d9221\"],[1,\"#276419\"]],\"sequential\":[[0.0,\"#0d0887\"],[0.1111111111111111,\"#46039f\"],[0.2222222222222222,\"#7201a8\"],[0.3333333333333333,\"#9c179e\"],[0.4444444444444444,\"#bd3786\"],[0.5555555555555556,\"#d8576b\"],[0.6666666666666666,\"#ed7953\"],[0.7777777777777778,\"#fb9f3a\"],[0.8888888888888888,\"#fdca26\"],[1.0,\"#f0f921\"]],\"sequentialminus\":[[0.0,\"#0d0887\"],[0.1111111111111111,\"#46039f\"],[0.2222222222222222,\"#7201a8\"],[0.3333333333333333,\"#9c179e\"],[0.4444444444444444,\"#bd3786\"],[0.5555555555555556,\"#d8576b\"],[0.6666666666666666,\"#ed7953\"],[0.7777777777777778,\"#fb9f3a\"],[0.8888888888888888,\"#fdca26\"],[1.0,\"#f0f921\"]]},\"colorway\":[\"#636efa\",\"#EF553B\",\"#00cc96\",\"#ab63fa\",\"#FFA15A\",\"#19d3f3\",\"#FF6692\",\"#B6E880\",\"#FF97FF\",\"#FECB52\"],\"font\":{\"color\":\"#2a3f5f\"},\"geo\":{\"bgcolor\":\"white\",\"lakecolor\":\"white\",\"landcolor\":\"#E5ECF6\",\"showlakes\":true,\"showland\":true,\"subunitcolor\":\"white\"},\"hoverlabel\":{\"align\":\"left\"},\"hovermode\":\"closest\",\"mapbox\":{\"style\":\"light\"},\"paper_bgcolor\":\"white\",\"plot_bgcolor\":\"#E5ECF6\",\"polar\":{\"angularaxis\":{\"gridcolor\":\"white\",\"linecolor\":\"white\",\"ticks\":\"\"},\"bgcolor\":\"#E5ECF6\",\"radialaxis\":{\"gridcolor\":\"white\",\"linecolor\":\"white\",\"ticks\":\"\"}},\"scene\":{\"xaxis\":{\"backgroundcolor\":\"#E5ECF6\",\"gridcolor\":\"white\",\"gridwidth\":2,\"linecolor\":\"white\",\"showbackground\":true,\"ticks\":\"\",\"zerolinecolor\":\"white\"},\"yaxis\":{\"backgroundcolor\":\"#E5ECF6\",\"gridcolor\":\"white\",\"gridwidth\":2,\"linecolor\":\"white\",\"showbackground\":true,\"ticks\":\"\",\"zerolinecolor\":\"white\"},\"zaxis\":{\"backgroundcolor\":\"#E5ECF6\",\"gridcolor\":\"white\",\"gridwidth\":2,\"linecolor\":\"white\",\"showbackground\":true,\"ticks\":\"\",\"zerolinecolor\":\"white\"}},\"shapedefaults\":{\"line\":{\"color\":\"#2a3f5f\"}},\"ternary\":{\"aaxis\":{\"gridcolor\":\"white\",\"linecolor\":\"white\",\"ticks\":\"\"},\"baxis\":{\"gridcolor\":\"white\",\"linecolor\":\"white\",\"ticks\":\"\"},\"bgcolor\":\"#E5ECF6\",\"caxis\":{\"gridcolor\":\"white\",\"linecolor\":\"white\",\"ticks\":\"\"}},\"title\":{\"x\":0.05},\"xaxis\":{\"automargin\":true,\"gridcolor\":\"white\",\"linecolor\":\"white\",\"ticks\":\"\",\"title\":{\"standoff\":15},\"zerolinecolor\":\"white\",\"zerolinewidth\":2},\"yaxis\":{\"automargin\":true,\"gridcolor\":\"white\",\"linecolor\":\"white\",\"ticks\":\"\",\"title\":{\"standoff\":15},\"zerolinecolor\":\"white\",\"zerolinewidth\":2}}},\"xaxis\":{\"anchor\":\"y\",\"domain\":[0.0,1.0],\"title\":{\"text\":\"SALEDATE\"}},\"yaxis\":{\"anchor\":\"x\",\"domain\":[0.0,1.0],\"title\":{\"text\":\"PER_PRICE\"}}},                        {\"responsive\": true}                    ).then(function(){\n",
       "                            \n",
       "var gd = document.getElementById('4b8c4781-bcfe-4cb0-a4fd-2be50eeefd21');\n",
       "var x = new MutationObserver(function (mutations, observer) {{\n",
       "        var display = window.getComputedStyle(gd).display;\n",
       "        if (!display || display === 'none') {{\n",
       "            console.log([gd, 'removed!']);\n",
       "            Plotly.purge(gd);\n",
       "            observer.disconnect();\n",
       "        }}\n",
       "}});\n",
       "\n",
       "// Listen for the removal of the full notebook cells\n",
       "var notebookContainer = gd.closest('#notebook-container');\n",
       "if (notebookContainer) {{\n",
       "    x.observe(notebookContainer, {childList: true});\n",
       "}}\n",
       "\n",
       "// Listen for the clearing of the current output cell\n",
       "var outputEl = gd.closest('.output');\n",
       "if (outputEl) {{\n",
       "    x.observe(outputEl, {childList: true});\n",
       "}}\n",
       "\n",
       "                        })                };                });            </script>        </div>"
      ]
     },
     "metadata": {},
     "output_type": "display_data"
    }
   ],
   "source": [
    "fig = px.line(mus_week, x='SALEDATE', y='PER_PRICE')\n",
    "fig.show()"
   ]
  },
  {
   "cell_type": "code",
   "execution_count": 91,
   "metadata": {},
   "outputs": [
    {
     "data": {
      "application/vnd.plotly.v1+json": {
       "config": {
        "plotlyServerURL": "https://plot.ly"
       },
       "data": [
        {
         "name": "단위 당 가격(kg)",
         "type": "scatter",
         "x": [
          "2014-01-06T00:00:00",
          "2014-01-13T00:00:00",
          "2014-01-20T00:00:00",
          "2014-01-27T00:00:00",
          "2014-02-03T00:00:00",
          "2014-02-10T00:00:00",
          "2014-02-17T00:00:00",
          "2014-02-24T00:00:00",
          "2014-03-03T00:00:00",
          "2014-03-10T00:00:00",
          "2014-03-17T00:00:00",
          "2014-03-24T00:00:00",
          "2014-03-31T00:00:00",
          "2014-04-07T00:00:00",
          "2014-04-14T00:00:00",
          "2014-04-21T00:00:00",
          "2014-04-28T00:00:00",
          "2014-05-05T00:00:00",
          "2014-05-12T00:00:00",
          "2014-05-19T00:00:00",
          "2014-05-26T00:00:00",
          "2014-06-02T00:00:00",
          "2014-06-09T00:00:00",
          "2014-06-16T00:00:00",
          "2014-06-23T00:00:00",
          "2014-06-30T00:00:00",
          "2014-07-07T00:00:00",
          "2014-07-14T00:00:00",
          "2014-07-21T00:00:00",
          "2014-07-28T00:00:00",
          "2014-08-04T00:00:00",
          "2014-08-11T00:00:00",
          "2014-08-18T00:00:00",
          "2014-08-25T00:00:00",
          "2014-09-01T00:00:00",
          "2014-09-08T00:00:00",
          "2014-09-15T00:00:00",
          "2014-09-22T00:00:00",
          "2014-09-29T00:00:00",
          "2014-10-06T00:00:00",
          "2014-10-13T00:00:00",
          "2014-10-20T00:00:00",
          "2014-10-27T00:00:00",
          "2014-11-03T00:00:00",
          "2014-11-10T00:00:00",
          "2014-11-17T00:00:00",
          "2014-11-24T00:00:00",
          "2014-12-01T00:00:00",
          "2014-12-08T00:00:00",
          "2014-12-15T00:00:00",
          "2014-12-22T00:00:00",
          "2014-12-29T00:00:00",
          "2015-01-05T00:00:00",
          "2015-01-12T00:00:00",
          "2015-01-19T00:00:00",
          "2015-01-26T00:00:00",
          "2015-02-02T00:00:00",
          "2015-02-09T00:00:00",
          "2015-02-16T00:00:00",
          "2015-02-23T00:00:00",
          "2015-03-02T00:00:00",
          "2015-03-09T00:00:00",
          "2015-03-16T00:00:00",
          "2015-03-23T00:00:00",
          "2015-03-30T00:00:00",
          "2015-04-06T00:00:00",
          "2015-04-13T00:00:00",
          "2015-04-20T00:00:00",
          "2015-04-27T00:00:00",
          "2015-05-04T00:00:00",
          "2015-05-11T00:00:00",
          "2015-05-18T00:00:00",
          "2015-05-25T00:00:00",
          "2015-06-01T00:00:00",
          "2015-06-08T00:00:00",
          "2015-06-15T00:00:00",
          "2015-06-22T00:00:00",
          "2015-06-29T00:00:00",
          "2015-07-06T00:00:00",
          "2015-07-13T00:00:00",
          "2015-07-20T00:00:00",
          "2015-07-27T00:00:00",
          "2015-08-03T00:00:00",
          "2015-08-10T00:00:00",
          "2015-08-17T00:00:00",
          "2015-08-24T00:00:00",
          "2015-08-31T00:00:00",
          "2015-09-07T00:00:00",
          "2015-09-14T00:00:00",
          "2015-09-21T00:00:00",
          "2015-09-28T00:00:00",
          "2015-10-05T00:00:00",
          "2015-10-12T00:00:00",
          "2015-10-19T00:00:00",
          "2015-10-26T00:00:00",
          "2015-11-02T00:00:00",
          "2015-11-09T00:00:00",
          "2015-11-16T00:00:00",
          "2015-11-23T00:00:00",
          "2015-11-30T00:00:00",
          "2015-12-07T00:00:00",
          "2015-12-14T00:00:00",
          "2015-12-21T00:00:00",
          "2015-12-28T00:00:00",
          "2016-01-04T00:00:00",
          "2016-01-11T00:00:00",
          "2016-01-18T00:00:00",
          "2016-01-25T00:00:00",
          "2016-02-01T00:00:00",
          "2016-02-08T00:00:00",
          "2016-02-15T00:00:00",
          "2016-02-22T00:00:00",
          "2016-02-29T00:00:00",
          "2016-03-07T00:00:00",
          "2016-03-14T00:00:00",
          "2016-03-21T00:00:00",
          "2016-03-28T00:00:00",
          "2016-04-04T00:00:00",
          "2016-04-11T00:00:00",
          "2016-04-18T00:00:00",
          "2016-04-25T00:00:00",
          "2016-05-02T00:00:00",
          "2016-05-09T00:00:00",
          "2016-05-16T00:00:00",
          "2016-05-23T00:00:00",
          "2016-05-30T00:00:00",
          "2016-06-06T00:00:00",
          "2016-06-13T00:00:00",
          "2016-06-20T00:00:00",
          "2016-06-27T00:00:00",
          "2016-07-04T00:00:00",
          "2016-07-11T00:00:00",
          "2016-07-18T00:00:00",
          "2016-07-25T00:00:00",
          "2016-08-01T00:00:00",
          "2016-08-08T00:00:00",
          "2016-08-15T00:00:00",
          "2016-08-22T00:00:00",
          "2016-08-29T00:00:00",
          "2016-09-05T00:00:00",
          "2016-09-12T00:00:00",
          "2016-09-19T00:00:00",
          "2016-09-26T00:00:00",
          "2016-10-03T00:00:00",
          "2016-10-10T00:00:00",
          "2016-10-17T00:00:00",
          "2016-10-24T00:00:00",
          "2016-10-31T00:00:00",
          "2016-11-07T00:00:00",
          "2016-11-14T00:00:00",
          "2016-11-21T00:00:00",
          "2016-11-28T00:00:00",
          "2016-12-05T00:00:00",
          "2016-12-12T00:00:00",
          "2016-12-19T00:00:00",
          "2016-12-26T00:00:00",
          "2017-01-02T00:00:00",
          "2017-01-09T00:00:00",
          "2017-01-16T00:00:00",
          "2017-01-23T00:00:00",
          "2017-01-30T00:00:00",
          "2017-02-06T00:00:00",
          "2017-02-13T00:00:00",
          "2017-02-20T00:00:00",
          "2017-02-27T00:00:00",
          "2017-03-06T00:00:00",
          "2017-03-13T00:00:00",
          "2017-03-20T00:00:00",
          "2017-03-27T00:00:00",
          "2017-04-03T00:00:00",
          "2017-04-10T00:00:00",
          "2017-04-17T00:00:00",
          "2017-04-24T00:00:00",
          "2017-05-01T00:00:00",
          "2017-05-08T00:00:00",
          "2017-05-15T00:00:00",
          "2017-05-22T00:00:00",
          "2017-05-29T00:00:00",
          "2017-06-05T00:00:00",
          "2017-06-12T00:00:00",
          "2017-06-19T00:00:00",
          "2017-06-26T00:00:00",
          "2017-07-03T00:00:00",
          "2017-07-10T00:00:00",
          "2017-07-17T00:00:00",
          "2017-07-24T00:00:00",
          "2017-07-31T00:00:00",
          "2017-08-07T00:00:00",
          "2017-08-14T00:00:00",
          "2017-08-21T00:00:00",
          "2017-08-28T00:00:00",
          "2017-09-04T00:00:00",
          "2017-09-11T00:00:00",
          "2017-09-18T00:00:00",
          "2017-09-25T00:00:00",
          "2017-10-02T00:00:00",
          "2017-10-09T00:00:00",
          "2017-10-16T00:00:00",
          "2017-10-23T00:00:00",
          "2017-10-30T00:00:00",
          "2017-11-06T00:00:00",
          "2017-11-13T00:00:00",
          "2017-11-20T00:00:00",
          "2017-11-27T00:00:00",
          "2017-12-04T00:00:00",
          "2017-12-11T00:00:00",
          "2017-12-18T00:00:00",
          "2017-12-25T00:00:00",
          "2018-01-01T00:00:00",
          "2018-01-08T00:00:00",
          "2018-01-15T00:00:00",
          "2018-01-22T00:00:00",
          "2018-01-29T00:00:00",
          "2018-02-05T00:00:00",
          "2018-02-12T00:00:00",
          "2018-02-19T00:00:00",
          "2018-02-26T00:00:00",
          "2018-03-05T00:00:00",
          "2018-03-12T00:00:00",
          "2018-03-19T00:00:00",
          "2018-03-26T00:00:00",
          "2018-04-02T00:00:00",
          "2018-04-09T00:00:00",
          "2018-04-16T00:00:00",
          "2018-04-23T00:00:00",
          "2018-04-30T00:00:00",
          "2018-05-07T00:00:00",
          "2018-05-14T00:00:00",
          "2018-05-21T00:00:00",
          "2018-05-28T00:00:00",
          "2018-06-04T00:00:00",
          "2018-06-11T00:00:00",
          "2018-06-18T00:00:00",
          "2018-06-25T00:00:00",
          "2018-07-02T00:00:00",
          "2018-07-09T00:00:00",
          "2018-07-16T00:00:00",
          "2018-07-23T00:00:00",
          "2018-07-30T00:00:00",
          "2018-08-06T00:00:00",
          "2018-08-13T00:00:00",
          "2018-08-20T00:00:00",
          "2018-08-27T00:00:00",
          "2018-09-03T00:00:00",
          "2018-09-10T00:00:00",
          "2018-09-17T00:00:00",
          "2018-09-24T00:00:00",
          "2018-10-01T00:00:00",
          "2018-10-08T00:00:00",
          "2018-10-15T00:00:00",
          "2018-10-22T00:00:00",
          "2018-10-29T00:00:00",
          "2018-11-05T00:00:00",
          "2018-11-12T00:00:00",
          "2018-11-19T00:00:00",
          "2018-11-26T00:00:00",
          "2018-12-03T00:00:00",
          "2018-12-10T00:00:00",
          "2018-12-17T00:00:00",
          "2018-12-24T00:00:00",
          "2018-12-31T00:00:00",
          "2019-01-07T00:00:00",
          "2019-01-14T00:00:00",
          "2019-01-21T00:00:00",
          "2019-01-28T00:00:00",
          "2019-02-04T00:00:00",
          "2019-02-11T00:00:00",
          "2019-02-18T00:00:00",
          "2019-02-25T00:00:00",
          "2019-03-04T00:00:00",
          "2019-03-11T00:00:00",
          "2019-03-18T00:00:00",
          "2019-03-25T00:00:00",
          "2019-04-01T00:00:00",
          "2019-04-08T00:00:00",
          "2019-04-15T00:00:00",
          "2019-04-22T00:00:00",
          "2019-04-29T00:00:00",
          "2019-05-06T00:00:00",
          "2019-05-13T00:00:00",
          "2019-05-20T00:00:00",
          "2019-05-27T00:00:00",
          "2019-06-03T00:00:00",
          "2019-06-10T00:00:00",
          "2019-06-17T00:00:00",
          "2019-06-24T00:00:00",
          "2019-07-01T00:00:00",
          "2019-07-08T00:00:00",
          "2019-07-15T00:00:00",
          "2019-07-22T00:00:00",
          "2019-07-29T00:00:00",
          "2019-08-05T00:00:00",
          "2019-08-12T00:00:00",
          "2019-08-19T00:00:00",
          "2019-08-26T00:00:00",
          "2019-09-02T00:00:00",
          "2019-09-09T00:00:00",
          "2019-09-16T00:00:00",
          "2019-09-23T00:00:00",
          "2019-09-30T00:00:00",
          "2019-10-07T00:00:00",
          "2019-10-14T00:00:00",
          "2019-10-21T00:00:00",
          "2019-10-28T00:00:00",
          "2019-11-04T00:00:00",
          "2019-11-11T00:00:00",
          "2019-11-18T00:00:00",
          "2019-11-25T00:00:00",
          "2019-12-02T00:00:00",
          "2019-12-09T00:00:00",
          "2019-12-16T00:00:00",
          "2019-12-23T00:00:00",
          "2019-12-30T00:00:00",
          "2020-01-06T00:00:00",
          "2020-01-13T00:00:00",
          "2020-01-20T00:00:00",
          "2020-01-27T00:00:00",
          "2020-02-03T00:00:00",
          "2020-02-10T00:00:00",
          "2020-02-17T00:00:00",
          "2020-02-24T00:00:00",
          "2020-03-02T00:00:00",
          "2020-03-09T00:00:00",
          "2020-03-16T00:00:00",
          "2020-03-23T00:00:00",
          "2020-03-30T00:00:00",
          "2020-04-06T00:00:00",
          "2020-04-13T00:00:00",
          "2020-04-20T00:00:00",
          "2020-04-27T00:00:00",
          "2020-05-04T00:00:00",
          "2020-05-11T00:00:00",
          "2020-05-18T00:00:00",
          "2020-05-25T00:00:00",
          "2020-06-01T00:00:00",
          "2020-06-08T00:00:00",
          "2020-06-15T00:00:00",
          "2020-06-22T00:00:00",
          "2020-06-29T00:00:00",
          "2020-07-06T00:00:00",
          "2020-07-13T00:00:00",
          "2020-07-20T00:00:00",
          "2020-07-27T00:00:00",
          "2020-08-03T00:00:00",
          "2020-08-10T00:00:00",
          "2020-08-17T00:00:00",
          "2020-08-24T00:00:00",
          "2020-08-31T00:00:00",
          "2020-09-07T00:00:00",
          "2020-09-14T00:00:00",
          "2020-09-21T00:00:00",
          "2020-09-28T00:00:00",
          "2020-10-05T00:00:00",
          "2020-10-12T00:00:00",
          "2020-10-19T00:00:00",
          "2020-10-26T00:00:00",
          "2020-11-02T00:00:00",
          "2020-11-09T00:00:00",
          "2020-11-16T00:00:00",
          "2020-11-23T00:00:00",
          "2020-11-30T00:00:00",
          "2020-12-07T00:00:00",
          "2020-12-14T00:00:00",
          "2020-12-21T00:00:00",
          "2020-12-28T00:00:00",
          "2021-01-04T00:00:00",
          "2021-01-11T00:00:00",
          "2021-01-18T00:00:00",
          "2021-01-25T00:00:00",
          "2021-02-01T00:00:00",
          "2021-02-08T00:00:00",
          "2021-02-15T00:00:00",
          "2021-02-22T00:00:00",
          "2021-03-01T00:00:00",
          "2021-03-08T00:00:00",
          "2021-03-15T00:00:00",
          "2021-03-22T00:00:00",
          "2021-03-29T00:00:00",
          "2021-04-05T00:00:00",
          "2021-04-12T00:00:00",
          "2021-04-19T00:00:00",
          "2021-04-26T00:00:00",
          "2021-05-03T00:00:00",
          "2021-05-10T00:00:00",
          "2021-05-17T00:00:00",
          "2021-05-24T00:00:00",
          "2021-05-31T00:00:00",
          "2021-06-07T00:00:00",
          "2021-06-14T00:00:00",
          "2021-06-21T00:00:00",
          "2021-06-28T00:00:00",
          "2021-07-05T00:00:00",
          "2021-07-12T00:00:00",
          "2021-07-19T00:00:00",
          "2021-07-26T00:00:00",
          "2021-08-02T00:00:00",
          "2021-08-09T00:00:00",
          "2021-08-16T00:00:00",
          "2021-08-23T00:00:00",
          "2021-08-30T00:00:00",
          "2021-09-06T00:00:00",
          "2021-09-13T00:00:00",
          "2021-09-20T00:00:00",
          "2021-09-27T00:00:00",
          "2021-10-04T00:00:00",
          "2021-10-11T00:00:00",
          "2021-10-18T00:00:00",
          "2021-10-25T00:00:00",
          "2021-11-01T00:00:00"
         ],
         "y": [
          965.8749430869631,
          1026.0552268244576,
          1065.6284153005465,
          916.3301856072941,
          481.4876033057851,
          1255.9764859568909,
          747.4266083697689,
          531.7742805314507,
          983.1521739130435,
          735.8099173553719,
          814.6527969137503,
          590.3303394732836,
          618.5478238650882,
          639.3048070704893,
          846.3635095550286,
          994.1709511568123,
          672.4645786726323,
          828.6965339233038,
          632.9088971763452,
          605.578926181251,
          501.2127603480095,
          387.5566750629723,
          404.4235588972431,
          946.4291687573173,
          993.4342276236338,
          1598.6591989137814,
          1276.8790023592856,
          991.3551401869158,
          768.3988998166361,
          844.6798312883435,
          1196.3484068761634,
          1101.9630401955849,
          1378.4039162112933,
          1058.1399883018132,
          1856.2348859215645,
          1278.9226338525984,
          760.3135965605538,
          632.6145504226795,
          624.6702535012851,
          569.4225334445076,
          691.3013333162928,
          697.1889640504535,
          775.9589371438826,
          845.7422915787228,
          954.6004044439568,
          1653.8255116492182,
          1234.5232619827334,
          1616.3040920266112,
          1378.9219783046128,
          1796.732748885749,
          1945.820221953271,
          2149.869771792915,
          1786.805293005671,
          1986.4127430782373,
          2170.663576482069,
          2097.831571359923,
          2298.5906351414,
          2213.0523315007126,
          2172.0068906115416,
          1835.9960059910136,
          1636.9151149762579,
          893.06893152347,
          1367.163488242918,
          837.600191525018,
          934.4422207397524,
          1048.9305230288837,
          1380.5977011494253,
          1689.1664229306814,
          2040.0773663214732,
          1672.6048592815623,
          1040.6630628558285,
          1063.3282933282933,
          776.5691035277944,
          906.1880530256377,
          793.4795095272582,
          888.7812100410525,
          1040.0411790203727,
          1118.2954545454545,
          1113.5777533845592,
          1130.6519739043158,
          1189.802523570524,
          991.885311279963,
          867.2070336516784,
          727.4150831673575,
          706.6195912200445,
          590.2448791891012,
          741.8865010938104,
          932.7741218878364,
          1076.8718120057913,
          1023.2355300375733,
          992.2532866800285,
          751.6776940042058,
          631.0251306932723,
          914.2326814992184,
          797.8685430854134,
          767.4567670150262,
          1078.0018760803687,
          1200.020437526711,
          1260.753648357915,
          1718.0882049028303,
          772.8564355182486,
          751.8289188139271,
          1117.6491691677677,
          1014.953818551303,
          1189.2209780898197,
          1080.5038348211601,
          1042.6796220450171,
          1345.7292601784866,
          1335.229129787894,
          1330.3616944533505,
          1612.0508076153237,
          1449.989645036298,
          1283.3955936108189,
          1260.5469372241453,
          1190.9127759414473,
          1146.123881778782,
          1022.8225631122266,
          1017.3803617212944,
          1268.0879848003108,
          1323.337599142176,
          1025.956533409606,
          1205.4705611493123,
          1325.1223532414115,
          1288.5716611241598,
          1067.7640788259612,
          756.4624987345123,
          739.8526237866355,
          736.7803496081978,
          1026.8842793613655,
          1104.662620715271,
          906.5525695035313,
          1284.3587304003654,
          1949.5262584064683,
          1330.6152654010073,
          1248.6865817030603,
          1296.9855750573781,
          1477.9775738320072,
          1052.7692857099623,
          1265.0787908407137,
          1310.3200531454806,
          1230.9991935588766,
          1137.5001259001863,
          1059.7228994857126,
          1066.4142040830613,
          1264.4566211381164,
          1782.860973235583,
          1605.0042458107143,
          1657.502680543972,
          2120.338258003706,
          2442.7931650818746,
          2308.4016646026885,
          2163.870641772586,
          2530.475352075178,
          2456.4340410076143,
          2020.661128679153,
          2051.117161227702,
          1704.281485937134,
          1256.2350524079814,
          1244.3509497251225,
          1131.2062209852659,
          1277.2698368428391,
          1591.320186467846,
          1579.9980791394544,
          1432.2591631700884,
          1562.4188765657482,
          1310.691130172072,
          1101.551666380438,
          1015.5159876246362,
          851.9874812051011,
          717.9138851223648,
          637.764217328284,
          582.4499638623137,
          643.4561076951862,
          650.7833763238779,
          597.9490152519692,
          552.4259488124396,
          405.2456181249087,
          632.9191347235273,
          743.5037454551585,
          871.4058388765706,
          1191.8391548655575,
          1476.7365305780975,
          1384.3950966525224,
          964.4093956160885,
          1134.6195177025736,
          1153.2968920488543,
          988.2188498402556,
          903.5730272431748,
          1009.5619129251015,
          1392.1480874185174,
          1883.0480071888246,
          2364.579263197873,
          2275.7750440986756,
          1424.2294074873564,
          1128.4801104050714,
          1097.2421359385853,
          703.6939691231272,
          517.518151745914,
          646.9589933934278,
          699.8385169425044,
          849.2810807351435,
          914.6663608400953,
          1457.5463611201644,
          1240.1792932499995,
          878.5893795156734,
          880.1995230730793,
          859.675967164853,
          955.8030349863349,
          1088.8125658845777,
          1129.3476101855663,
          919.0645777947701,
          918.8143559954952,
          1186.1791674175527,
          1612.37906271458,
          1610.8530386140228,
          1770.8331233839422,
          2062.196136243478,
          1817.0076899139617,
          1451.7767560606403,
          1102.524172991287,
          859.6951785173475,
          822.6336864566516,
          1034.7376485735872,
          1246.6482413281801,
          1391.8101622720508,
          862.1104467477971,
          642.50202063213,
          588.0505487630458,
          530.2486901826492,
          646.1020176470437,
          648.0619412884249,
          687.5306580703902,
          914.7990316981821,
          752.9105864863038,
          1451.9116112486736,
          1948.0771978932637,
          1769.9965155549203,
          1672.374204323707,
          1059.2053882227049,
          912.6054434699179,
          1152.4296620728715,
          1185.5714993406502,
          1633.9407986006393,
          1463.1868876275423,
          1982.0403872445775,
          1564.7124665161891,
          1439.3989718864893,
          885.5840044021568,
          907.738205414157,
          964.683095912415,
          932.6304202085985,
          929.5968726073594,
          1034.0926489490334,
          1190.1863367574433,
          1556.035036425316,
          1232.8320368332966,
          1047.69989757901,
          985.76723797865,
          957.76866395404,
          1001.3264537963771,
          1075.6152732685089,
          1383.254620562532,
          1233.8164628034397,
          1303.3717738612954,
          1339.0394011605697,
          1264.0354944010578,
          1539.3527927436405,
          1244.303995713014,
          1137.5309705011437,
          1056.0809316036423,
          838.2400833997724,
          733.9265621573762,
          741.310931447286,
          683.9524899182488,
          826.4913695334369,
          910.7047159570203,
          832.9376879957947,
          791.6761751626113,
          734.4093832390157,
          779.2919155932508,
          811.5216487167214,
          651.584246424238,
          541.0007527748973,
          491.3166639401251,
          705.1373928027571,
          664.4598876305284,
          1057.3444937129148,
          825.703889771342,
          1723.3445577991429,
          1256.379422672146,
          1175.7709911150455,
          1349.2432765881724,
          2104.322095857027,
          1977.5262889672,
          1092.3048945783132,
          1104.2540259844855,
          1883.5847963593094,
          1848.2748121274942,
          1619.7974258863953,
          1141.515229413236,
          1084.187427121742,
          1202.489757724606,
          1619.4740445260638,
          1292.6918605738842,
          1002.3912870483537,
          987.5628721444306,
          909.3610062596283,
          1209.6217479804761,
          1029.5220007492655,
          1195.996201291294,
          1124.4204093360947,
          1140.5610542413715,
          1157.728806454017,
          1373.4728375566344,
          1102.4473134707914,
          1012.0512858838638,
          1100.1243731618035,
          1140.6578751145103,
          1015.4934802140949,
          1151.1692694002234,
          1213.6367496889136,
          1135.1476649530068,
          1073.9187549203975,
          939.0077954389079,
          928.9232050439298,
          1101.4036165451628,
          1036.9993225307526,
          1343.451226533592,
          1056.4410885201385,
          859.5444207700945,
          814.4950873482212,
          731.1628048482694,
          767.0581340211402,
          837.7658563176976,
          831.260263820488,
          1074.0875261042768,
          1481.452610418774,
          1643.4868357755176,
          1827.1781469398106,
          1633.8927475010437,
          2145.714504539483,
          1011.0064458931324,
          1025.6072663507668,
          1099.242507293785,
          1653.112805266796,
          2349.2304617264554,
          2570.3922408963585,
          1396.5295161912186,
          1327.8038978759782,
          1949.2708152656533,
          2520.6292289821404,
          1635.6426692701693,
          1013.6821388703453,
          751.7422815205589,
          721.5727734229476,
          990.8668319373897,
          1312.5516343450738,
          1775.6281648553534,
          2473.8152415181244,
          2787.486399332684,
          3284.1214570263273,
          2924.9725077508083,
          2121.4705835627756,
          1959.7817590485897,
          1663.8303645269507,
          1740.721063467908,
          1518.8222853799214,
          2094.957981479908,
          2187.2303704934375,
          2560.298829372118,
          2463.3340523924444,
          2283.169213642344,
          1723.2958314972832,
          1152.9879010082493,
          1029.369129253461,
          708.3342422417207,
          683.4435486937674,
          715.90129127342,
          797.337143622405,
          669.2397500166317,
          751.167810107954,
          731.9848955510153,
          823.8188901917766,
          848.7410906940609,
          747.773919399413,
          661.4657522799316,
          908.0133339555068,
          1035.8423205258105,
          1064.831324324125,
          1501.5982125783758,
          1368.4816926167755,
          1396.61633895402,
          1287.0847840599804,
          1353.537279589153,
          1276.429226845354,
          1126.1453667494134,
          1530.1598619635383,
          1868.9536864335691,
          1451.4360038753775,
          1216.070795895853,
          2161.630725039274,
          4256.348515255621,
          2497.5141197728926,
          933.8961462587118,
          1021.0273100170136,
          993.3817427627563,
          1247.7447539058812,
          1864.6149947892188,
          1566.4978431687166
         ]
        },
        {
         "name": "총 물량",
         "type": "scatter",
         "x": [
          "2014-01-06T00:00:00",
          "2014-01-13T00:00:00",
          "2014-01-20T00:00:00",
          "2014-01-27T00:00:00",
          "2014-02-03T00:00:00",
          "2014-02-10T00:00:00",
          "2014-02-17T00:00:00",
          "2014-02-24T00:00:00",
          "2014-03-03T00:00:00",
          "2014-03-10T00:00:00",
          "2014-03-17T00:00:00",
          "2014-03-24T00:00:00",
          "2014-03-31T00:00:00",
          "2014-04-07T00:00:00",
          "2014-04-14T00:00:00",
          "2014-04-21T00:00:00",
          "2014-04-28T00:00:00",
          "2014-05-05T00:00:00",
          "2014-05-12T00:00:00",
          "2014-05-19T00:00:00",
          "2014-05-26T00:00:00",
          "2014-06-02T00:00:00",
          "2014-06-09T00:00:00",
          "2014-06-16T00:00:00",
          "2014-06-23T00:00:00",
          "2014-06-30T00:00:00",
          "2014-07-07T00:00:00",
          "2014-07-14T00:00:00",
          "2014-07-21T00:00:00",
          "2014-07-28T00:00:00",
          "2014-08-04T00:00:00",
          "2014-08-11T00:00:00",
          "2014-08-18T00:00:00",
          "2014-08-25T00:00:00",
          "2014-09-01T00:00:00",
          "2014-09-08T00:00:00",
          "2014-09-15T00:00:00",
          "2014-09-22T00:00:00",
          "2014-09-29T00:00:00",
          "2014-10-06T00:00:00",
          "2014-10-13T00:00:00",
          "2014-10-20T00:00:00",
          "2014-10-27T00:00:00",
          "2014-11-03T00:00:00",
          "2014-11-10T00:00:00",
          "2014-11-17T00:00:00",
          "2014-11-24T00:00:00",
          "2014-12-01T00:00:00",
          "2014-12-08T00:00:00",
          "2014-12-15T00:00:00",
          "2014-12-22T00:00:00",
          "2014-12-29T00:00:00",
          "2015-01-05T00:00:00",
          "2015-01-12T00:00:00",
          "2015-01-19T00:00:00",
          "2015-01-26T00:00:00",
          "2015-02-02T00:00:00",
          "2015-02-09T00:00:00",
          "2015-02-16T00:00:00",
          "2015-02-23T00:00:00",
          "2015-03-02T00:00:00",
          "2015-03-09T00:00:00",
          "2015-03-16T00:00:00",
          "2015-03-23T00:00:00",
          "2015-03-30T00:00:00",
          "2015-04-06T00:00:00",
          "2015-04-13T00:00:00",
          "2015-04-20T00:00:00",
          "2015-04-27T00:00:00",
          "2015-05-04T00:00:00",
          "2015-05-11T00:00:00",
          "2015-05-18T00:00:00",
          "2015-05-25T00:00:00",
          "2015-06-01T00:00:00",
          "2015-06-08T00:00:00",
          "2015-06-15T00:00:00",
          "2015-06-22T00:00:00",
          "2015-06-29T00:00:00",
          "2015-07-06T00:00:00",
          "2015-07-13T00:00:00",
          "2015-07-20T00:00:00",
          "2015-07-27T00:00:00",
          "2015-08-03T00:00:00",
          "2015-08-10T00:00:00",
          "2015-08-17T00:00:00",
          "2015-08-24T00:00:00",
          "2015-08-31T00:00:00",
          "2015-09-07T00:00:00",
          "2015-09-14T00:00:00",
          "2015-09-21T00:00:00",
          "2015-09-28T00:00:00",
          "2015-10-05T00:00:00",
          "2015-10-12T00:00:00",
          "2015-10-19T00:00:00",
          "2015-10-26T00:00:00",
          "2015-11-02T00:00:00",
          "2015-11-09T00:00:00",
          "2015-11-16T00:00:00",
          "2015-11-23T00:00:00",
          "2015-11-30T00:00:00",
          "2015-12-07T00:00:00",
          "2015-12-14T00:00:00",
          "2015-12-21T00:00:00",
          "2015-12-28T00:00:00",
          "2016-01-04T00:00:00",
          "2016-01-11T00:00:00",
          "2016-01-18T00:00:00",
          "2016-01-25T00:00:00",
          "2016-02-01T00:00:00",
          "2016-02-08T00:00:00",
          "2016-02-15T00:00:00",
          "2016-02-22T00:00:00",
          "2016-02-29T00:00:00",
          "2016-03-07T00:00:00",
          "2016-03-14T00:00:00",
          "2016-03-21T00:00:00",
          "2016-03-28T00:00:00",
          "2016-04-04T00:00:00",
          "2016-04-11T00:00:00",
          "2016-04-18T00:00:00",
          "2016-04-25T00:00:00",
          "2016-05-02T00:00:00",
          "2016-05-09T00:00:00",
          "2016-05-16T00:00:00",
          "2016-05-23T00:00:00",
          "2016-05-30T00:00:00",
          "2016-06-06T00:00:00",
          "2016-06-13T00:00:00",
          "2016-06-20T00:00:00",
          "2016-06-27T00:00:00",
          "2016-07-04T00:00:00",
          "2016-07-11T00:00:00",
          "2016-07-18T00:00:00",
          "2016-07-25T00:00:00",
          "2016-08-01T00:00:00",
          "2016-08-08T00:00:00",
          "2016-08-15T00:00:00",
          "2016-08-22T00:00:00",
          "2016-08-29T00:00:00",
          "2016-09-05T00:00:00",
          "2016-09-12T00:00:00",
          "2016-09-19T00:00:00",
          "2016-09-26T00:00:00",
          "2016-10-03T00:00:00",
          "2016-10-10T00:00:00",
          "2016-10-17T00:00:00",
          "2016-10-24T00:00:00",
          "2016-10-31T00:00:00",
          "2016-11-07T00:00:00",
          "2016-11-14T00:00:00",
          "2016-11-21T00:00:00",
          "2016-11-28T00:00:00",
          "2016-12-05T00:00:00",
          "2016-12-12T00:00:00",
          "2016-12-19T00:00:00",
          "2016-12-26T00:00:00",
          "2017-01-02T00:00:00",
          "2017-01-09T00:00:00",
          "2017-01-16T00:00:00",
          "2017-01-23T00:00:00",
          "2017-01-30T00:00:00",
          "2017-02-06T00:00:00",
          "2017-02-13T00:00:00",
          "2017-02-20T00:00:00",
          "2017-02-27T00:00:00",
          "2017-03-06T00:00:00",
          "2017-03-13T00:00:00",
          "2017-03-20T00:00:00",
          "2017-03-27T00:00:00",
          "2017-04-03T00:00:00",
          "2017-04-10T00:00:00",
          "2017-04-17T00:00:00",
          "2017-04-24T00:00:00",
          "2017-05-01T00:00:00",
          "2017-05-08T00:00:00",
          "2017-05-15T00:00:00",
          "2017-05-22T00:00:00",
          "2017-05-29T00:00:00",
          "2017-06-05T00:00:00",
          "2017-06-12T00:00:00",
          "2017-06-19T00:00:00",
          "2017-06-26T00:00:00",
          "2017-07-03T00:00:00",
          "2017-07-10T00:00:00",
          "2017-07-17T00:00:00",
          "2017-07-24T00:00:00",
          "2017-07-31T00:00:00",
          "2017-08-07T00:00:00",
          "2017-08-14T00:00:00",
          "2017-08-21T00:00:00",
          "2017-08-28T00:00:00",
          "2017-09-04T00:00:00",
          "2017-09-11T00:00:00",
          "2017-09-18T00:00:00",
          "2017-09-25T00:00:00",
          "2017-10-02T00:00:00",
          "2017-10-09T00:00:00",
          "2017-10-16T00:00:00",
          "2017-10-23T00:00:00",
          "2017-10-30T00:00:00",
          "2017-11-06T00:00:00",
          "2017-11-13T00:00:00",
          "2017-11-20T00:00:00",
          "2017-11-27T00:00:00",
          "2017-12-04T00:00:00",
          "2017-12-11T00:00:00",
          "2017-12-18T00:00:00",
          "2017-12-25T00:00:00",
          "2018-01-01T00:00:00",
          "2018-01-08T00:00:00",
          "2018-01-15T00:00:00",
          "2018-01-22T00:00:00",
          "2018-01-29T00:00:00",
          "2018-02-05T00:00:00",
          "2018-02-12T00:00:00",
          "2018-02-19T00:00:00",
          "2018-02-26T00:00:00",
          "2018-03-05T00:00:00",
          "2018-03-12T00:00:00",
          "2018-03-19T00:00:00",
          "2018-03-26T00:00:00",
          "2018-04-02T00:00:00",
          "2018-04-09T00:00:00",
          "2018-04-16T00:00:00",
          "2018-04-23T00:00:00",
          "2018-04-30T00:00:00",
          "2018-05-07T00:00:00",
          "2018-05-14T00:00:00",
          "2018-05-21T00:00:00",
          "2018-05-28T00:00:00",
          "2018-06-04T00:00:00",
          "2018-06-11T00:00:00",
          "2018-06-18T00:00:00",
          "2018-06-25T00:00:00",
          "2018-07-02T00:00:00",
          "2018-07-09T00:00:00",
          "2018-07-16T00:00:00",
          "2018-07-23T00:00:00",
          "2018-07-30T00:00:00",
          "2018-08-06T00:00:00",
          "2018-08-13T00:00:00",
          "2018-08-20T00:00:00",
          "2018-08-27T00:00:00",
          "2018-09-03T00:00:00",
          "2018-09-10T00:00:00",
          "2018-09-17T00:00:00",
          "2018-09-24T00:00:00",
          "2018-10-01T00:00:00",
          "2018-10-08T00:00:00",
          "2018-10-15T00:00:00",
          "2018-10-22T00:00:00",
          "2018-10-29T00:00:00",
          "2018-11-05T00:00:00",
          "2018-11-12T00:00:00",
          "2018-11-19T00:00:00",
          "2018-11-26T00:00:00",
          "2018-12-03T00:00:00",
          "2018-12-10T00:00:00",
          "2018-12-17T00:00:00",
          "2018-12-24T00:00:00",
          "2018-12-31T00:00:00",
          "2019-01-07T00:00:00",
          "2019-01-14T00:00:00",
          "2019-01-21T00:00:00",
          "2019-01-28T00:00:00",
          "2019-02-04T00:00:00",
          "2019-02-11T00:00:00",
          "2019-02-18T00:00:00",
          "2019-02-25T00:00:00",
          "2019-03-04T00:00:00",
          "2019-03-11T00:00:00",
          "2019-03-18T00:00:00",
          "2019-03-25T00:00:00",
          "2019-04-01T00:00:00",
          "2019-04-08T00:00:00",
          "2019-04-15T00:00:00",
          "2019-04-22T00:00:00",
          "2019-04-29T00:00:00",
          "2019-05-06T00:00:00",
          "2019-05-13T00:00:00",
          "2019-05-20T00:00:00",
          "2019-05-27T00:00:00",
          "2019-06-03T00:00:00",
          "2019-06-10T00:00:00",
          "2019-06-17T00:00:00",
          "2019-06-24T00:00:00",
          "2019-07-01T00:00:00",
          "2019-07-08T00:00:00",
          "2019-07-15T00:00:00",
          "2019-07-22T00:00:00",
          "2019-07-29T00:00:00",
          "2019-08-05T00:00:00",
          "2019-08-12T00:00:00",
          "2019-08-19T00:00:00",
          "2019-08-26T00:00:00",
          "2019-09-02T00:00:00",
          "2019-09-09T00:00:00",
          "2019-09-16T00:00:00",
          "2019-09-23T00:00:00",
          "2019-09-30T00:00:00",
          "2019-10-07T00:00:00",
          "2019-10-14T00:00:00",
          "2019-10-21T00:00:00",
          "2019-10-28T00:00:00",
          "2019-11-04T00:00:00",
          "2019-11-11T00:00:00",
          "2019-11-18T00:00:00",
          "2019-11-25T00:00:00",
          "2019-12-02T00:00:00",
          "2019-12-09T00:00:00",
          "2019-12-16T00:00:00",
          "2019-12-23T00:00:00",
          "2019-12-30T00:00:00",
          "2020-01-06T00:00:00",
          "2020-01-13T00:00:00",
          "2020-01-20T00:00:00",
          "2020-01-27T00:00:00",
          "2020-02-03T00:00:00",
          "2020-02-10T00:00:00",
          "2020-02-17T00:00:00",
          "2020-02-24T00:00:00",
          "2020-03-02T00:00:00",
          "2020-03-09T00:00:00",
          "2020-03-16T00:00:00",
          "2020-03-23T00:00:00",
          "2020-03-30T00:00:00",
          "2020-04-06T00:00:00",
          "2020-04-13T00:00:00",
          "2020-04-20T00:00:00",
          "2020-04-27T00:00:00",
          "2020-05-04T00:00:00",
          "2020-05-11T00:00:00",
          "2020-05-18T00:00:00",
          "2020-05-25T00:00:00",
          "2020-06-01T00:00:00",
          "2020-06-08T00:00:00",
          "2020-06-15T00:00:00",
          "2020-06-22T00:00:00",
          "2020-06-29T00:00:00",
          "2020-07-06T00:00:00",
          "2020-07-13T00:00:00",
          "2020-07-20T00:00:00",
          "2020-07-27T00:00:00",
          "2020-08-03T00:00:00",
          "2020-08-10T00:00:00",
          "2020-08-17T00:00:00",
          "2020-08-24T00:00:00",
          "2020-08-31T00:00:00",
          "2020-09-07T00:00:00",
          "2020-09-14T00:00:00",
          "2020-09-21T00:00:00",
          "2020-09-28T00:00:00",
          "2020-10-05T00:00:00",
          "2020-10-12T00:00:00",
          "2020-10-19T00:00:00",
          "2020-10-26T00:00:00",
          "2020-11-02T00:00:00",
          "2020-11-09T00:00:00",
          "2020-11-16T00:00:00",
          "2020-11-23T00:00:00",
          "2020-11-30T00:00:00",
          "2020-12-07T00:00:00",
          "2020-12-14T00:00:00",
          "2020-12-21T00:00:00",
          "2020-12-28T00:00:00",
          "2021-01-04T00:00:00",
          "2021-01-11T00:00:00",
          "2021-01-18T00:00:00",
          "2021-01-25T00:00:00",
          "2021-02-01T00:00:00",
          "2021-02-08T00:00:00",
          "2021-02-15T00:00:00",
          "2021-02-22T00:00:00",
          "2021-03-01T00:00:00",
          "2021-03-08T00:00:00",
          "2021-03-15T00:00:00",
          "2021-03-22T00:00:00",
          "2021-03-29T00:00:00",
          "2021-04-05T00:00:00",
          "2021-04-12T00:00:00",
          "2021-04-19T00:00:00",
          "2021-04-26T00:00:00",
          "2021-05-03T00:00:00",
          "2021-05-10T00:00:00",
          "2021-05-17T00:00:00",
          "2021-05-24T00:00:00",
          "2021-05-31T00:00:00",
          "2021-06-07T00:00:00",
          "2021-06-14T00:00:00",
          "2021-06-21T00:00:00",
          "2021-06-28T00:00:00",
          "2021-07-05T00:00:00",
          "2021-07-12T00:00:00",
          "2021-07-19T00:00:00",
          "2021-07-26T00:00:00",
          "2021-08-02T00:00:00",
          "2021-08-09T00:00:00",
          "2021-08-16T00:00:00",
          "2021-08-23T00:00:00",
          "2021-08-30T00:00:00",
          "2021-09-06T00:00:00",
          "2021-09-13T00:00:00",
          "2021-09-20T00:00:00",
          "2021-09-27T00:00:00",
          "2021-10-04T00:00:00",
          "2021-10-11T00:00:00",
          "2021-10-18T00:00:00",
          "2021-10-25T00:00:00",
          "2021-11-01T00:00:00"
         ],
         "xaxis": "x",
         "y": [
          13178,
          15210,
          16470,
          12284,
          1210,
          9186,
          16010,
          20397,
          11040,
          12100,
          14516,
          13138,
          11741,
          9278,
          14338,
          15560,
          16092,
          10848,
          18770,
          19873,
          15172,
          15880,
          15960,
          5979,
          13083,
          5892,
          14835,
          11984,
          11998,
          10432,
          9133,
          13907,
          13176,
          15387,
          19022,
          22917,
          31633,
          117110,
          133451,
          135523,
          156489.5,
          169265,
          178312,
          220311,
          446539,
          720220,
          861427,
          633138.6000000001,
          330485,
          183307,
          48749,
          40621,
          15870,
          19901,
          12297,
          16648,
          10785,
          14733,
          12771,
          2003,
          18743,
          13187,
          10802,
          20885,
          13491,
          6405,
          10875,
          13676,
          24817,
          23913,
          34778,
          31746,
          45099,
          30853,
          40043,
          29718,
          23070,
          24640,
          27330,
          23912,
          21319,
          23821,
          24397,
          37154,
          47654,
          52189,
          46626,
          47716,
          44895,
          47374,
          29437,
          58491,
          117068,
          120276,
          161087,
          192330,
          355954.89999999997,
          574433.5,
          694422,
          764538,
          493802.5,
          245836.5,
          114283,
          54621.5,
          66088,
          182929,
          59403.9,
          22724.4,
          53836.3,
          24952,
          17186.4,
          44906,
          48093.8,
          46831.7,
          67768,
          86387.2,
          97972.3,
          86586,
          62053.9,
          85798.5,
          113627.5,
          97728,
          66614.5,
          86002,
          96998.5,
          128409,
          95911,
          91245,
          66673.5,
          75384,
          72280.5,
          39414,
          46318.5,
          60653.5,
          55435.5,
          45095.5,
          56496.5,
          82606.5,
          83893,
          118617.8,
          153762,
          29785.5,
          164305,
          228554,
          205146,
          228064,
          271561.8,
          303949.5,
          559753.2,
          1090090.6,
          1662162.4000000001,
          1677774.9999999998,
          1079890.1000000003,
          653615.2,
          369990.00000000006,
          157425.8,
          90106.1,
          114868,
          82818.7,
          79550.1,
          17927.5,
          34000.5,
          46854,
          46831.5,
          47381.5,
          66861.5,
          94330.2,
          107924.1,
          134677.5,
          144179.5,
          148192.40000000002,
          145969.5,
          123994.4,
          133556.5,
          98492.2,
          133509,
          160861.5,
          102695.5,
          88974.5,
          67650,
          63800.5,
          47812,
          47722.5,
          56388,
          51814.5,
          56822,
          73242,
          69522,
          99167.5,
          62206.5,
          55085.5,
          59242.5,
          75966,
          153338.5,
          230786.5,
          220989.5,
          65745,
          428815.5,
          523342.5,
          539852.3,
          760956.1000000001,
          1402973.8000000003,
          1977152.4000000001,
          2129137.5999999996,
          1434337.5999999999,
          875312.2999999999,
          295926.8,
          212877.4,
          148175.8,
          67059.6,
          56234.5,
          118097,
          27745,
          34952,
          36826,
          7541.5,
          31284.58,
          35670.1,
          44261,
          77647.61,
          86807.53,
          96821.70000000001,
          46988.5,
          61708.5,
          82639,
          163481.5,
          191400.5,
          179339.7,
          141336.5,
          117062.1,
          112703.5,
          81275.5,
          76629,
          81391.5,
          45232,
          40726.5,
          55963,
          58676.5,
          79432.5,
          55240.5,
          66212.5,
          71661.5,
          66316,
          59196,
          54126,
          130473.5,
          90846,
          121758.5,
          237174.5,
          295712.5,
          433320.5,
          480771.1,
          748049.5,
          1176425.43,
          2054329.4400000004,
          2221225.03,
          1696165.9899999998,
          893335.6,
          416037.11000000004,
          234725.1,
          97823.2,
          30380.5,
          53074.8,
          54612.5,
          54973,
          24201,
          14663,
          57849.5,
          56093.7,
          71781.59999999999,
          89304.8,
          120850.5,
          118257.90000000001,
          128524.30000000002,
          91524.6,
          92975.19,
          100633.9,
          108587.1,
          90650.99999999999,
          87827.1,
          98821.1,
          108788,
          130185,
          117364.8,
          99816,
          107591.5,
          93366,
          81213,
          51049.2,
          59862,
          61002,
          42147.5,
          34468,
          46112.5,
          106240,
          109265.2,
          95806,
          23154,
          135619.5,
          201895.5,
          228463.2,
          298371.2,
          332165,
          422276.7,
          630831,
          1135614.2000000002,
          1856276.3999999997,
          1883464.6299999994,
          1500563.4399999995,
          809590.9,
          489623.57,
          249440.41000000003,
          107344,
          67759,
          98701.7,
          80283.3,
          23630.5,
          65714.6,
          64887.1,
          60692.6,
          70880.59999999999,
          78681.5,
          76467.4,
          80226.4,
          92340.7,
          72439.29999999999,
          93878.79999999999,
          79374.1,
          114603.3,
          161543.80000000002,
          136728.6,
          124902.3,
          116621.9,
          133913.5,
          157872.5,
          113966,
          78598.5,
          83149.6,
          86743,
          81434,
          94008.5,
          122946.5,
          101509,
          90488,
          74504.5,
          57285,
          71400,
          118011.5,
          121656,
          96281.5,
          110192,
          205876.5,
          72202.6,
          351818,
          366668.19999999995,
          474171.5,
          599310.4,
          922139.2999999999,
          1420694.8299999998,
          1626574.5999999996,
          1421874.1000000006,
          829397.3999999999,
          446918.4999999998,
          157610.19999999998,
          115837.79999999999,
          46918.200000000004,
          59815,
          29427.5,
          45142.5,
          56380,
          81588.1,
          9881,
          61045.9,
          81825,
          154580,
          147429.6,
          152522.59999999998,
          125186.5,
          180703.7,
          127768.5,
          109333.7,
          95932,
          105748,
          143066.7,
          81813.3,
          89750.5,
          85721,
          94254.5,
          67819.5,
          49680.5,
          79640,
          86407,
          68155.5,
          48290.5,
          66261,
          73517.5,
          66069.5,
          50665.5,
          54394.7,
          78408.5,
          120245.9,
          49978.299999999996,
          53736.7,
          96262.3,
          209538.5,
          171695.2,
          212839.3,
          293622,
          430029
         ],
         "yaxis": "y2"
        }
       ],
       "layout": {
        "template": {
         "data": {
          "bar": [
           {
            "error_x": {
             "color": "#2a3f5f"
            },
            "error_y": {
             "color": "#2a3f5f"
            },
            "marker": {
             "line": {
              "color": "#E5ECF6",
              "width": 0.5
             },
             "pattern": {
              "fillmode": "overlay",
              "size": 10,
              "solidity": 0.2
             }
            },
            "type": "bar"
           }
          ],
          "barpolar": [
           {
            "marker": {
             "line": {
              "color": "#E5ECF6",
              "width": 0.5
             },
             "pattern": {
              "fillmode": "overlay",
              "size": 10,
              "solidity": 0.2
             }
            },
            "type": "barpolar"
           }
          ],
          "carpet": [
           {
            "aaxis": {
             "endlinecolor": "#2a3f5f",
             "gridcolor": "white",
             "linecolor": "white",
             "minorgridcolor": "white",
             "startlinecolor": "#2a3f5f"
            },
            "baxis": {
             "endlinecolor": "#2a3f5f",
             "gridcolor": "white",
             "linecolor": "white",
             "minorgridcolor": "white",
             "startlinecolor": "#2a3f5f"
            },
            "type": "carpet"
           }
          ],
          "choropleth": [
           {
            "colorbar": {
             "outlinewidth": 0,
             "ticks": ""
            },
            "type": "choropleth"
           }
          ],
          "contour": [
           {
            "colorbar": {
             "outlinewidth": 0,
             "ticks": ""
            },
            "colorscale": [
             [
              0,
              "#0d0887"
             ],
             [
              0.1111111111111111,
              "#46039f"
             ],
             [
              0.2222222222222222,
              "#7201a8"
             ],
             [
              0.3333333333333333,
              "#9c179e"
             ],
             [
              0.4444444444444444,
              "#bd3786"
             ],
             [
              0.5555555555555556,
              "#d8576b"
             ],
             [
              0.6666666666666666,
              "#ed7953"
             ],
             [
              0.7777777777777778,
              "#fb9f3a"
             ],
             [
              0.8888888888888888,
              "#fdca26"
             ],
             [
              1,
              "#f0f921"
             ]
            ],
            "type": "contour"
           }
          ],
          "contourcarpet": [
           {
            "colorbar": {
             "outlinewidth": 0,
             "ticks": ""
            },
            "type": "contourcarpet"
           }
          ],
          "heatmap": [
           {
            "colorbar": {
             "outlinewidth": 0,
             "ticks": ""
            },
            "colorscale": [
             [
              0,
              "#0d0887"
             ],
             [
              0.1111111111111111,
              "#46039f"
             ],
             [
              0.2222222222222222,
              "#7201a8"
             ],
             [
              0.3333333333333333,
              "#9c179e"
             ],
             [
              0.4444444444444444,
              "#bd3786"
             ],
             [
              0.5555555555555556,
              "#d8576b"
             ],
             [
              0.6666666666666666,
              "#ed7953"
             ],
             [
              0.7777777777777778,
              "#fb9f3a"
             ],
             [
              0.8888888888888888,
              "#fdca26"
             ],
             [
              1,
              "#f0f921"
             ]
            ],
            "type": "heatmap"
           }
          ],
          "heatmapgl": [
           {
            "colorbar": {
             "outlinewidth": 0,
             "ticks": ""
            },
            "colorscale": [
             [
              0,
              "#0d0887"
             ],
             [
              0.1111111111111111,
              "#46039f"
             ],
             [
              0.2222222222222222,
              "#7201a8"
             ],
             [
              0.3333333333333333,
              "#9c179e"
             ],
             [
              0.4444444444444444,
              "#bd3786"
             ],
             [
              0.5555555555555556,
              "#d8576b"
             ],
             [
              0.6666666666666666,
              "#ed7953"
             ],
             [
              0.7777777777777778,
              "#fb9f3a"
             ],
             [
              0.8888888888888888,
              "#fdca26"
             ],
             [
              1,
              "#f0f921"
             ]
            ],
            "type": "heatmapgl"
           }
          ],
          "histogram": [
           {
            "marker": {
             "pattern": {
              "fillmode": "overlay",
              "size": 10,
              "solidity": 0.2
             }
            },
            "type": "histogram"
           }
          ],
          "histogram2d": [
           {
            "colorbar": {
             "outlinewidth": 0,
             "ticks": ""
            },
            "colorscale": [
             [
              0,
              "#0d0887"
             ],
             [
              0.1111111111111111,
              "#46039f"
             ],
             [
              0.2222222222222222,
              "#7201a8"
             ],
             [
              0.3333333333333333,
              "#9c179e"
             ],
             [
              0.4444444444444444,
              "#bd3786"
             ],
             [
              0.5555555555555556,
              "#d8576b"
             ],
             [
              0.6666666666666666,
              "#ed7953"
             ],
             [
              0.7777777777777778,
              "#fb9f3a"
             ],
             [
              0.8888888888888888,
              "#fdca26"
             ],
             [
              1,
              "#f0f921"
             ]
            ],
            "type": "histogram2d"
           }
          ],
          "histogram2dcontour": [
           {
            "colorbar": {
             "outlinewidth": 0,
             "ticks": ""
            },
            "colorscale": [
             [
              0,
              "#0d0887"
             ],
             [
              0.1111111111111111,
              "#46039f"
             ],
             [
              0.2222222222222222,
              "#7201a8"
             ],
             [
              0.3333333333333333,
              "#9c179e"
             ],
             [
              0.4444444444444444,
              "#bd3786"
             ],
             [
              0.5555555555555556,
              "#d8576b"
             ],
             [
              0.6666666666666666,
              "#ed7953"
             ],
             [
              0.7777777777777778,
              "#fb9f3a"
             ],
             [
              0.8888888888888888,
              "#fdca26"
             ],
             [
              1,
              "#f0f921"
             ]
            ],
            "type": "histogram2dcontour"
           }
          ],
          "mesh3d": [
           {
            "colorbar": {
             "outlinewidth": 0,
             "ticks": ""
            },
            "type": "mesh3d"
           }
          ],
          "parcoords": [
           {
            "line": {
             "colorbar": {
              "outlinewidth": 0,
              "ticks": ""
             }
            },
            "type": "parcoords"
           }
          ],
          "pie": [
           {
            "automargin": true,
            "type": "pie"
           }
          ],
          "scatter": [
           {
            "marker": {
             "colorbar": {
              "outlinewidth": 0,
              "ticks": ""
             }
            },
            "type": "scatter"
           }
          ],
          "scatter3d": [
           {
            "line": {
             "colorbar": {
              "outlinewidth": 0,
              "ticks": ""
             }
            },
            "marker": {
             "colorbar": {
              "outlinewidth": 0,
              "ticks": ""
             }
            },
            "type": "scatter3d"
           }
          ],
          "scattercarpet": [
           {
            "marker": {
             "colorbar": {
              "outlinewidth": 0,
              "ticks": ""
             }
            },
            "type": "scattercarpet"
           }
          ],
          "scattergeo": [
           {
            "marker": {
             "colorbar": {
              "outlinewidth": 0,
              "ticks": ""
             }
            },
            "type": "scattergeo"
           }
          ],
          "scattergl": [
           {
            "marker": {
             "colorbar": {
              "outlinewidth": 0,
              "ticks": ""
             }
            },
            "type": "scattergl"
           }
          ],
          "scattermapbox": [
           {
            "marker": {
             "colorbar": {
              "outlinewidth": 0,
              "ticks": ""
             }
            },
            "type": "scattermapbox"
           }
          ],
          "scatterpolar": [
           {
            "marker": {
             "colorbar": {
              "outlinewidth": 0,
              "ticks": ""
             }
            },
            "type": "scatterpolar"
           }
          ],
          "scatterpolargl": [
           {
            "marker": {
             "colorbar": {
              "outlinewidth": 0,
              "ticks": ""
             }
            },
            "type": "scatterpolargl"
           }
          ],
          "scatterternary": [
           {
            "marker": {
             "colorbar": {
              "outlinewidth": 0,
              "ticks": ""
             }
            },
            "type": "scatterternary"
           }
          ],
          "surface": [
           {
            "colorbar": {
             "outlinewidth": 0,
             "ticks": ""
            },
            "colorscale": [
             [
              0,
              "#0d0887"
             ],
             [
              0.1111111111111111,
              "#46039f"
             ],
             [
              0.2222222222222222,
              "#7201a8"
             ],
             [
              0.3333333333333333,
              "#9c179e"
             ],
             [
              0.4444444444444444,
              "#bd3786"
             ],
             [
              0.5555555555555556,
              "#d8576b"
             ],
             [
              0.6666666666666666,
              "#ed7953"
             ],
             [
              0.7777777777777778,
              "#fb9f3a"
             ],
             [
              0.8888888888888888,
              "#fdca26"
             ],
             [
              1,
              "#f0f921"
             ]
            ],
            "type": "surface"
           }
          ],
          "table": [
           {
            "cells": {
             "fill": {
              "color": "#EBF0F8"
             },
             "line": {
              "color": "white"
             }
            },
            "header": {
             "fill": {
              "color": "#C8D4E3"
             },
             "line": {
              "color": "white"
             }
            },
            "type": "table"
           }
          ]
         },
         "layout": {
          "annotationdefaults": {
           "arrowcolor": "#2a3f5f",
           "arrowhead": 0,
           "arrowwidth": 1
          },
          "autotypenumbers": "strict",
          "coloraxis": {
           "colorbar": {
            "outlinewidth": 0,
            "ticks": ""
           }
          },
          "colorscale": {
           "diverging": [
            [
             0,
             "#8e0152"
            ],
            [
             0.1,
             "#c51b7d"
            ],
            [
             0.2,
             "#de77ae"
            ],
            [
             0.3,
             "#f1b6da"
            ],
            [
             0.4,
             "#fde0ef"
            ],
            [
             0.5,
             "#f7f7f7"
            ],
            [
             0.6,
             "#e6f5d0"
            ],
            [
             0.7,
             "#b8e186"
            ],
            [
             0.8,
             "#7fbc41"
            ],
            [
             0.9,
             "#4d9221"
            ],
            [
             1,
             "#276419"
            ]
           ],
           "sequential": [
            [
             0,
             "#0d0887"
            ],
            [
             0.1111111111111111,
             "#46039f"
            ],
            [
             0.2222222222222222,
             "#7201a8"
            ],
            [
             0.3333333333333333,
             "#9c179e"
            ],
            [
             0.4444444444444444,
             "#bd3786"
            ],
            [
             0.5555555555555556,
             "#d8576b"
            ],
            [
             0.6666666666666666,
             "#ed7953"
            ],
            [
             0.7777777777777778,
             "#fb9f3a"
            ],
            [
             0.8888888888888888,
             "#fdca26"
            ],
            [
             1,
             "#f0f921"
            ]
           ],
           "sequentialminus": [
            [
             0,
             "#0d0887"
            ],
            [
             0.1111111111111111,
             "#46039f"
            ],
            [
             0.2222222222222222,
             "#7201a8"
            ],
            [
             0.3333333333333333,
             "#9c179e"
            ],
            [
             0.4444444444444444,
             "#bd3786"
            ],
            [
             0.5555555555555556,
             "#d8576b"
            ],
            [
             0.6666666666666666,
             "#ed7953"
            ],
            [
             0.7777777777777778,
             "#fb9f3a"
            ],
            [
             0.8888888888888888,
             "#fdca26"
            ],
            [
             1,
             "#f0f921"
            ]
           ]
          },
          "colorway": [
           "#636efa",
           "#EF553B",
           "#00cc96",
           "#ab63fa",
           "#FFA15A",
           "#19d3f3",
           "#FF6692",
           "#B6E880",
           "#FF97FF",
           "#FECB52"
          ],
          "font": {
           "color": "#2a3f5f"
          },
          "geo": {
           "bgcolor": "white",
           "lakecolor": "white",
           "landcolor": "#E5ECF6",
           "showlakes": true,
           "showland": true,
           "subunitcolor": "white"
          },
          "hoverlabel": {
           "align": "left"
          },
          "hovermode": "closest",
          "mapbox": {
           "style": "light"
          },
          "paper_bgcolor": "white",
          "plot_bgcolor": "#E5ECF6",
          "polar": {
           "angularaxis": {
            "gridcolor": "white",
            "linecolor": "white",
            "ticks": ""
           },
           "bgcolor": "#E5ECF6",
           "radialaxis": {
            "gridcolor": "white",
            "linecolor": "white",
            "ticks": ""
           }
          },
          "scene": {
           "xaxis": {
            "backgroundcolor": "#E5ECF6",
            "gridcolor": "white",
            "gridwidth": 2,
            "linecolor": "white",
            "showbackground": true,
            "ticks": "",
            "zerolinecolor": "white"
           },
           "yaxis": {
            "backgroundcolor": "#E5ECF6",
            "gridcolor": "white",
            "gridwidth": 2,
            "linecolor": "white",
            "showbackground": true,
            "ticks": "",
            "zerolinecolor": "white"
           },
           "zaxis": {
            "backgroundcolor": "#E5ECF6",
            "gridcolor": "white",
            "gridwidth": 2,
            "linecolor": "white",
            "showbackground": true,
            "ticks": "",
            "zerolinecolor": "white"
           }
          },
          "shapedefaults": {
           "line": {
            "color": "#2a3f5f"
           }
          },
          "ternary": {
           "aaxis": {
            "gridcolor": "white",
            "linecolor": "white",
            "ticks": ""
           },
           "baxis": {
            "gridcolor": "white",
            "linecolor": "white",
            "ticks": ""
           },
           "bgcolor": "#E5ECF6",
           "caxis": {
            "gridcolor": "white",
            "linecolor": "white",
            "ticks": ""
           }
          },
          "title": {
           "x": 0.05
          },
          "xaxis": {
           "automargin": true,
           "gridcolor": "white",
           "linecolor": "white",
           "ticks": "",
           "title": {
            "standoff": 15
           },
           "zerolinecolor": "white",
           "zerolinewidth": 2
          },
          "yaxis": {
           "automargin": true,
           "gridcolor": "white",
           "linecolor": "white",
           "ticks": "",
           "title": {
            "standoff": 15
           },
           "zerolinecolor": "white",
           "zerolinewidth": 2
          }
         }
        },
        "title": {
         "text": "총 물량 & 단위 가격"
        },
        "xaxis": {
         "anchor": "y",
         "domain": [
          0,
          0.94
         ]
        },
        "yaxis": {
         "anchor": "x",
         "domain": [
          0,
          1
         ],
         "title": {
          "text": "단위 당 가격(kg)"
         }
        },
        "yaxis2": {
         "anchor": "x",
         "overlaying": "y",
         "side": "right",
         "title": {
          "text": "총 물량"
         }
        }
       }
      },
      "text/html": [
       "<div>                            <div id=\"53981b76-236a-4f06-9d7d-6e0404ed305c\" class=\"plotly-graph-div\" style=\"height:525px; width:100%;\"></div>            <script type=\"text/javascript\">                require([\"plotly\"], function(Plotly) {                    window.PLOTLYENV=window.PLOTLYENV || {};                                    if (document.getElementById(\"53981b76-236a-4f06-9d7d-6e0404ed305c\")) {                    Plotly.newPlot(                        \"53981b76-236a-4f06-9d7d-6e0404ed305c\",                        [{\"name\":\"\\ub2e8\\uc704 \\ub2f9 \\uac00\\uaca9(kg)\",\"type\":\"scatter\",\"x\":[\"2014-01-06T00:00:00\",\"2014-01-13T00:00:00\",\"2014-01-20T00:00:00\",\"2014-01-27T00:00:00\",\"2014-02-03T00:00:00\",\"2014-02-10T00:00:00\",\"2014-02-17T00:00:00\",\"2014-02-24T00:00:00\",\"2014-03-03T00:00:00\",\"2014-03-10T00:00:00\",\"2014-03-17T00:00:00\",\"2014-03-24T00:00:00\",\"2014-03-31T00:00:00\",\"2014-04-07T00:00:00\",\"2014-04-14T00:00:00\",\"2014-04-21T00:00:00\",\"2014-04-28T00:00:00\",\"2014-05-05T00:00:00\",\"2014-05-12T00:00:00\",\"2014-05-19T00:00:00\",\"2014-05-26T00:00:00\",\"2014-06-02T00:00:00\",\"2014-06-09T00:00:00\",\"2014-06-16T00:00:00\",\"2014-06-23T00:00:00\",\"2014-06-30T00:00:00\",\"2014-07-07T00:00:00\",\"2014-07-14T00:00:00\",\"2014-07-21T00:00:00\",\"2014-07-28T00:00:00\",\"2014-08-04T00:00:00\",\"2014-08-11T00:00:00\",\"2014-08-18T00:00:00\",\"2014-08-25T00:00:00\",\"2014-09-01T00:00:00\",\"2014-09-08T00:00:00\",\"2014-09-15T00:00:00\",\"2014-09-22T00:00:00\",\"2014-09-29T00:00:00\",\"2014-10-06T00:00:00\",\"2014-10-13T00:00:00\",\"2014-10-20T00:00:00\",\"2014-10-27T00:00:00\",\"2014-11-03T00:00:00\",\"2014-11-10T00:00:00\",\"2014-11-17T00:00:00\",\"2014-11-24T00:00:00\",\"2014-12-01T00:00:00\",\"2014-12-08T00:00:00\",\"2014-12-15T00:00:00\",\"2014-12-22T00:00:00\",\"2014-12-29T00:00:00\",\"2015-01-05T00:00:00\",\"2015-01-12T00:00:00\",\"2015-01-19T00:00:00\",\"2015-01-26T00:00:00\",\"2015-02-02T00:00:00\",\"2015-02-09T00:00:00\",\"2015-02-16T00:00:00\",\"2015-02-23T00:00:00\",\"2015-03-02T00:00:00\",\"2015-03-09T00:00:00\",\"2015-03-16T00:00:00\",\"2015-03-23T00:00:00\",\"2015-03-30T00:00:00\",\"2015-04-06T00:00:00\",\"2015-04-13T00:00:00\",\"2015-04-20T00:00:00\",\"2015-04-27T00:00:00\",\"2015-05-04T00:00:00\",\"2015-05-11T00:00:00\",\"2015-05-18T00:00:00\",\"2015-05-25T00:00:00\",\"2015-06-01T00:00:00\",\"2015-06-08T00:00:00\",\"2015-06-15T00:00:00\",\"2015-06-22T00:00:00\",\"2015-06-29T00:00:00\",\"2015-07-06T00:00:00\",\"2015-07-13T00:00:00\",\"2015-07-20T00:00:00\",\"2015-07-27T00:00:00\",\"2015-08-03T00:00:00\",\"2015-08-10T00:00:00\",\"2015-08-17T00:00:00\",\"2015-08-24T00:00:00\",\"2015-08-31T00:00:00\",\"2015-09-07T00:00:00\",\"2015-09-14T00:00:00\",\"2015-09-21T00:00:00\",\"2015-09-28T00:00:00\",\"2015-10-05T00:00:00\",\"2015-10-12T00:00:00\",\"2015-10-19T00:00:00\",\"2015-10-26T00:00:00\",\"2015-11-02T00:00:00\",\"2015-11-09T00:00:00\",\"2015-11-16T00:00:00\",\"2015-11-23T00:00:00\",\"2015-11-30T00:00:00\",\"2015-12-07T00:00:00\",\"2015-12-14T00:00:00\",\"2015-12-21T00:00:00\",\"2015-12-28T00:00:00\",\"2016-01-04T00:00:00\",\"2016-01-11T00:00:00\",\"2016-01-18T00:00:00\",\"2016-01-25T00:00:00\",\"2016-02-01T00:00:00\",\"2016-02-08T00:00:00\",\"2016-02-15T00:00:00\",\"2016-02-22T00:00:00\",\"2016-02-29T00:00:00\",\"2016-03-07T00:00:00\",\"2016-03-14T00:00:00\",\"2016-03-21T00:00:00\",\"2016-03-28T00:00:00\",\"2016-04-04T00:00:00\",\"2016-04-11T00:00:00\",\"2016-04-18T00:00:00\",\"2016-04-25T00:00:00\",\"2016-05-02T00:00:00\",\"2016-05-09T00:00:00\",\"2016-05-16T00:00:00\",\"2016-05-23T00:00:00\",\"2016-05-30T00:00:00\",\"2016-06-06T00:00:00\",\"2016-06-13T00:00:00\",\"2016-06-20T00:00:00\",\"2016-06-27T00:00:00\",\"2016-07-04T00:00:00\",\"2016-07-11T00:00:00\",\"2016-07-18T00:00:00\",\"2016-07-25T00:00:00\",\"2016-08-01T00:00:00\",\"2016-08-08T00:00:00\",\"2016-08-15T00:00:00\",\"2016-08-22T00:00:00\",\"2016-08-29T00:00:00\",\"2016-09-05T00:00:00\",\"2016-09-12T00:00:00\",\"2016-09-19T00:00:00\",\"2016-09-26T00:00:00\",\"2016-10-03T00:00:00\",\"2016-10-10T00:00:00\",\"2016-10-17T00:00:00\",\"2016-10-24T00:00:00\",\"2016-10-31T00:00:00\",\"2016-11-07T00:00:00\",\"2016-11-14T00:00:00\",\"2016-11-21T00:00:00\",\"2016-11-28T00:00:00\",\"2016-12-05T00:00:00\",\"2016-12-12T00:00:00\",\"2016-12-19T00:00:00\",\"2016-12-26T00:00:00\",\"2017-01-02T00:00:00\",\"2017-01-09T00:00:00\",\"2017-01-16T00:00:00\",\"2017-01-23T00:00:00\",\"2017-01-30T00:00:00\",\"2017-02-06T00:00:00\",\"2017-02-13T00:00:00\",\"2017-02-20T00:00:00\",\"2017-02-27T00:00:00\",\"2017-03-06T00:00:00\",\"2017-03-13T00:00:00\",\"2017-03-20T00:00:00\",\"2017-03-27T00:00:00\",\"2017-04-03T00:00:00\",\"2017-04-10T00:00:00\",\"2017-04-17T00:00:00\",\"2017-04-24T00:00:00\",\"2017-05-01T00:00:00\",\"2017-05-08T00:00:00\",\"2017-05-15T00:00:00\",\"2017-05-22T00:00:00\",\"2017-05-29T00:00:00\",\"2017-06-05T00:00:00\",\"2017-06-12T00:00:00\",\"2017-06-19T00:00:00\",\"2017-06-26T00:00:00\",\"2017-07-03T00:00:00\",\"2017-07-10T00:00:00\",\"2017-07-17T00:00:00\",\"2017-07-24T00:00:00\",\"2017-07-31T00:00:00\",\"2017-08-07T00:00:00\",\"2017-08-14T00:00:00\",\"2017-08-21T00:00:00\",\"2017-08-28T00:00:00\",\"2017-09-04T00:00:00\",\"2017-09-11T00:00:00\",\"2017-09-18T00:00:00\",\"2017-09-25T00:00:00\",\"2017-10-02T00:00:00\",\"2017-10-09T00:00:00\",\"2017-10-16T00:00:00\",\"2017-10-23T00:00:00\",\"2017-10-30T00:00:00\",\"2017-11-06T00:00:00\",\"2017-11-13T00:00:00\",\"2017-11-20T00:00:00\",\"2017-11-27T00:00:00\",\"2017-12-04T00:00:00\",\"2017-12-11T00:00:00\",\"2017-12-18T00:00:00\",\"2017-12-25T00:00:00\",\"2018-01-01T00:00:00\",\"2018-01-08T00:00:00\",\"2018-01-15T00:00:00\",\"2018-01-22T00:00:00\",\"2018-01-29T00:00:00\",\"2018-02-05T00:00:00\",\"2018-02-12T00:00:00\",\"2018-02-19T00:00:00\",\"2018-02-26T00:00:00\",\"2018-03-05T00:00:00\",\"2018-03-12T00:00:00\",\"2018-03-19T00:00:00\",\"2018-03-26T00:00:00\",\"2018-04-02T00:00:00\",\"2018-04-09T00:00:00\",\"2018-04-16T00:00:00\",\"2018-04-23T00:00:00\",\"2018-04-30T00:00:00\",\"2018-05-07T00:00:00\",\"2018-05-14T00:00:00\",\"2018-05-21T00:00:00\",\"2018-05-28T00:00:00\",\"2018-06-04T00:00:00\",\"2018-06-11T00:00:00\",\"2018-06-18T00:00:00\",\"2018-06-25T00:00:00\",\"2018-07-02T00:00:00\",\"2018-07-09T00:00:00\",\"2018-07-16T00:00:00\",\"2018-07-23T00:00:00\",\"2018-07-30T00:00:00\",\"2018-08-06T00:00:00\",\"2018-08-13T00:00:00\",\"2018-08-20T00:00:00\",\"2018-08-27T00:00:00\",\"2018-09-03T00:00:00\",\"2018-09-10T00:00:00\",\"2018-09-17T00:00:00\",\"2018-09-24T00:00:00\",\"2018-10-01T00:00:00\",\"2018-10-08T00:00:00\",\"2018-10-15T00:00:00\",\"2018-10-22T00:00:00\",\"2018-10-29T00:00:00\",\"2018-11-05T00:00:00\",\"2018-11-12T00:00:00\",\"2018-11-19T00:00:00\",\"2018-11-26T00:00:00\",\"2018-12-03T00:00:00\",\"2018-12-10T00:00:00\",\"2018-12-17T00:00:00\",\"2018-12-24T00:00:00\",\"2018-12-31T00:00:00\",\"2019-01-07T00:00:00\",\"2019-01-14T00:00:00\",\"2019-01-21T00:00:00\",\"2019-01-28T00:00:00\",\"2019-02-04T00:00:00\",\"2019-02-11T00:00:00\",\"2019-02-18T00:00:00\",\"2019-02-25T00:00:00\",\"2019-03-04T00:00:00\",\"2019-03-11T00:00:00\",\"2019-03-18T00:00:00\",\"2019-03-25T00:00:00\",\"2019-04-01T00:00:00\",\"2019-04-08T00:00:00\",\"2019-04-15T00:00:00\",\"2019-04-22T00:00:00\",\"2019-04-29T00:00:00\",\"2019-05-06T00:00:00\",\"2019-05-13T00:00:00\",\"2019-05-20T00:00:00\",\"2019-05-27T00:00:00\",\"2019-06-03T00:00:00\",\"2019-06-10T00:00:00\",\"2019-06-17T00:00:00\",\"2019-06-24T00:00:00\",\"2019-07-01T00:00:00\",\"2019-07-08T00:00:00\",\"2019-07-15T00:00:00\",\"2019-07-22T00:00:00\",\"2019-07-29T00:00:00\",\"2019-08-05T00:00:00\",\"2019-08-12T00:00:00\",\"2019-08-19T00:00:00\",\"2019-08-26T00:00:00\",\"2019-09-02T00:00:00\",\"2019-09-09T00:00:00\",\"2019-09-16T00:00:00\",\"2019-09-23T00:00:00\",\"2019-09-30T00:00:00\",\"2019-10-07T00:00:00\",\"2019-10-14T00:00:00\",\"2019-10-21T00:00:00\",\"2019-10-28T00:00:00\",\"2019-11-04T00:00:00\",\"2019-11-11T00:00:00\",\"2019-11-18T00:00:00\",\"2019-11-25T00:00:00\",\"2019-12-02T00:00:00\",\"2019-12-09T00:00:00\",\"2019-12-16T00:00:00\",\"2019-12-23T00:00:00\",\"2019-12-30T00:00:00\",\"2020-01-06T00:00:00\",\"2020-01-13T00:00:00\",\"2020-01-20T00:00:00\",\"2020-01-27T00:00:00\",\"2020-02-03T00:00:00\",\"2020-02-10T00:00:00\",\"2020-02-17T00:00:00\",\"2020-02-24T00:00:00\",\"2020-03-02T00:00:00\",\"2020-03-09T00:00:00\",\"2020-03-16T00:00:00\",\"2020-03-23T00:00:00\",\"2020-03-30T00:00:00\",\"2020-04-06T00:00:00\",\"2020-04-13T00:00:00\",\"2020-04-20T00:00:00\",\"2020-04-27T00:00:00\",\"2020-05-04T00:00:00\",\"2020-05-11T00:00:00\",\"2020-05-18T00:00:00\",\"2020-05-25T00:00:00\",\"2020-06-01T00:00:00\",\"2020-06-08T00:00:00\",\"2020-06-15T00:00:00\",\"2020-06-22T00:00:00\",\"2020-06-29T00:00:00\",\"2020-07-06T00:00:00\",\"2020-07-13T00:00:00\",\"2020-07-20T00:00:00\",\"2020-07-27T00:00:00\",\"2020-08-03T00:00:00\",\"2020-08-10T00:00:00\",\"2020-08-17T00:00:00\",\"2020-08-24T00:00:00\",\"2020-08-31T00:00:00\",\"2020-09-07T00:00:00\",\"2020-09-14T00:00:00\",\"2020-09-21T00:00:00\",\"2020-09-28T00:00:00\",\"2020-10-05T00:00:00\",\"2020-10-12T00:00:00\",\"2020-10-19T00:00:00\",\"2020-10-26T00:00:00\",\"2020-11-02T00:00:00\",\"2020-11-09T00:00:00\",\"2020-11-16T00:00:00\",\"2020-11-23T00:00:00\",\"2020-11-30T00:00:00\",\"2020-12-07T00:00:00\",\"2020-12-14T00:00:00\",\"2020-12-21T00:00:00\",\"2020-12-28T00:00:00\",\"2021-01-04T00:00:00\",\"2021-01-11T00:00:00\",\"2021-01-18T00:00:00\",\"2021-01-25T00:00:00\",\"2021-02-01T00:00:00\",\"2021-02-08T00:00:00\",\"2021-02-15T00:00:00\",\"2021-02-22T00:00:00\",\"2021-03-01T00:00:00\",\"2021-03-08T00:00:00\",\"2021-03-15T00:00:00\",\"2021-03-22T00:00:00\",\"2021-03-29T00:00:00\",\"2021-04-05T00:00:00\",\"2021-04-12T00:00:00\",\"2021-04-19T00:00:00\",\"2021-04-26T00:00:00\",\"2021-05-03T00:00:00\",\"2021-05-10T00:00:00\",\"2021-05-17T00:00:00\",\"2021-05-24T00:00:00\",\"2021-05-31T00:00:00\",\"2021-06-07T00:00:00\",\"2021-06-14T00:00:00\",\"2021-06-21T00:00:00\",\"2021-06-28T00:00:00\",\"2021-07-05T00:00:00\",\"2021-07-12T00:00:00\",\"2021-07-19T00:00:00\",\"2021-07-26T00:00:00\",\"2021-08-02T00:00:00\",\"2021-08-09T00:00:00\",\"2021-08-16T00:00:00\",\"2021-08-23T00:00:00\",\"2021-08-30T00:00:00\",\"2021-09-06T00:00:00\",\"2021-09-13T00:00:00\",\"2021-09-20T00:00:00\",\"2021-09-27T00:00:00\",\"2021-10-04T00:00:00\",\"2021-10-11T00:00:00\",\"2021-10-18T00:00:00\",\"2021-10-25T00:00:00\",\"2021-11-01T00:00:00\"],\"y\":[965.8749430869631,1026.0552268244576,1065.6284153005465,916.3301856072941,481.4876033057851,1255.9764859568909,747.4266083697689,531.7742805314507,983.1521739130435,735.8099173553719,814.6527969137503,590.3303394732836,618.5478238650882,639.3048070704893,846.3635095550286,994.1709511568123,672.4645786726323,828.6965339233038,632.9088971763452,605.578926181251,501.2127603480095,387.5566750629723,404.4235588972431,946.4291687573173,993.4342276236338,1598.6591989137814,1276.8790023592856,991.3551401869158,768.3988998166361,844.6798312883435,1196.3484068761634,1101.9630401955849,1378.4039162112933,1058.1399883018132,1856.2348859215645,1278.9226338525984,760.3135965605538,632.6145504226795,624.6702535012851,569.4225334445076,691.3013333162928,697.1889640504535,775.9589371438826,845.7422915787228,954.6004044439568,1653.8255116492182,1234.5232619827334,1616.3040920266112,1378.9219783046128,1796.732748885749,1945.820221953271,2149.869771792915,1786.805293005671,1986.4127430782373,2170.663576482069,2097.831571359923,2298.5906351414,2213.0523315007126,2172.0068906115416,1835.9960059910136,1636.9151149762579,893.06893152347,1367.163488242918,837.600191525018,934.4422207397524,1048.9305230288837,1380.5977011494253,1689.1664229306814,2040.0773663214732,1672.6048592815623,1040.6630628558285,1063.3282933282933,776.5691035277944,906.1880530256377,793.4795095272582,888.7812100410525,1040.0411790203727,1118.2954545454545,1113.5777533845592,1130.6519739043158,1189.802523570524,991.885311279963,867.2070336516784,727.4150831673575,706.6195912200445,590.2448791891012,741.8865010938104,932.7741218878364,1076.8718120057913,1023.2355300375733,992.2532866800285,751.6776940042058,631.0251306932723,914.2326814992184,797.8685430854134,767.4567670150262,1078.0018760803687,1200.020437526711,1260.753648357915,1718.0882049028303,772.8564355182486,751.8289188139271,1117.6491691677677,1014.953818551303,1189.2209780898197,1080.5038348211601,1042.6796220450171,1345.7292601784866,1335.229129787894,1330.3616944533505,1612.0508076153237,1449.989645036298,1283.3955936108189,1260.5469372241453,1190.9127759414473,1146.123881778782,1022.8225631122266,1017.3803617212944,1268.0879848003108,1323.337599142176,1025.956533409606,1205.4705611493123,1325.1223532414115,1288.5716611241598,1067.7640788259612,756.4624987345123,739.8526237866355,736.7803496081978,1026.8842793613655,1104.662620715271,906.5525695035313,1284.3587304003654,1949.5262584064683,1330.6152654010073,1248.6865817030603,1296.9855750573781,1477.9775738320072,1052.7692857099623,1265.0787908407137,1310.3200531454806,1230.9991935588766,1137.5001259001863,1059.7228994857126,1066.4142040830613,1264.4566211381164,1782.860973235583,1605.0042458107143,1657.502680543972,2120.338258003706,2442.7931650818746,2308.4016646026885,2163.870641772586,2530.475352075178,2456.4340410076143,2020.661128679153,2051.117161227702,1704.281485937134,1256.2350524079814,1244.3509497251225,1131.2062209852659,1277.2698368428391,1591.320186467846,1579.9980791394544,1432.2591631700884,1562.4188765657482,1310.691130172072,1101.551666380438,1015.5159876246362,851.9874812051011,717.9138851223648,637.764217328284,582.4499638623137,643.4561076951862,650.7833763238779,597.9490152519692,552.4259488124396,405.2456181249087,632.9191347235273,743.5037454551585,871.4058388765706,1191.8391548655575,1476.7365305780975,1384.3950966525224,964.4093956160885,1134.6195177025736,1153.2968920488543,988.2188498402556,903.5730272431748,1009.5619129251015,1392.1480874185174,1883.0480071888246,2364.579263197873,2275.7750440986756,1424.2294074873564,1128.4801104050714,1097.2421359385853,703.6939691231272,517.518151745914,646.9589933934278,699.8385169425044,849.2810807351435,914.6663608400953,1457.5463611201644,1240.1792932499995,878.5893795156734,880.1995230730793,859.675967164853,955.8030349863349,1088.8125658845777,1129.3476101855663,919.0645777947701,918.8143559954952,1186.1791674175527,1612.37906271458,1610.8530386140228,1770.8331233839422,2062.196136243478,1817.0076899139617,1451.7767560606403,1102.524172991287,859.6951785173475,822.6336864566516,1034.7376485735872,1246.6482413281801,1391.8101622720508,862.1104467477971,642.50202063213,588.0505487630458,530.2486901826492,646.1020176470437,648.0619412884249,687.5306580703902,914.7990316981821,752.9105864863038,1451.9116112486736,1948.0771978932637,1769.9965155549203,1672.374204323707,1059.2053882227049,912.6054434699179,1152.4296620728715,1185.5714993406502,1633.9407986006393,1463.1868876275423,1982.0403872445775,1564.7124665161891,1439.3989718864893,885.5840044021568,907.738205414157,964.683095912415,932.6304202085985,929.5968726073594,1034.0926489490334,1190.1863367574433,1556.035036425316,1232.8320368332966,1047.69989757901,985.76723797865,957.76866395404,1001.3264537963771,1075.6152732685089,1383.254620562532,1233.8164628034397,1303.3717738612954,1339.0394011605697,1264.0354944010578,1539.3527927436405,1244.303995713014,1137.5309705011437,1056.0809316036423,838.2400833997724,733.9265621573762,741.310931447286,683.9524899182488,826.4913695334369,910.7047159570203,832.9376879957947,791.6761751626113,734.4093832390157,779.2919155932508,811.5216487167214,651.584246424238,541.0007527748973,491.3166639401251,705.1373928027571,664.4598876305284,1057.3444937129148,825.703889771342,1723.3445577991429,1256.379422672146,1175.7709911150455,1349.2432765881724,2104.322095857027,1977.5262889672,1092.3048945783132,1104.2540259844855,1883.5847963593094,1848.2748121274942,1619.7974258863953,1141.515229413236,1084.187427121742,1202.489757724606,1619.4740445260638,1292.6918605738842,1002.3912870483537,987.5628721444306,909.3610062596283,1209.6217479804761,1029.5220007492655,1195.996201291294,1124.4204093360947,1140.5610542413715,1157.728806454017,1373.4728375566344,1102.4473134707914,1012.0512858838638,1100.1243731618035,1140.6578751145103,1015.4934802140949,1151.1692694002234,1213.6367496889136,1135.1476649530068,1073.9187549203975,939.0077954389079,928.9232050439298,1101.4036165451628,1036.9993225307526,1343.451226533592,1056.4410885201385,859.5444207700945,814.4950873482212,731.1628048482694,767.0581340211402,837.7658563176976,831.260263820488,1074.0875261042768,1481.452610418774,1643.4868357755176,1827.1781469398106,1633.8927475010437,2145.714504539483,1011.0064458931324,1025.6072663507668,1099.242507293785,1653.112805266796,2349.2304617264554,2570.3922408963585,1396.5295161912186,1327.8038978759782,1949.2708152656533,2520.6292289821404,1635.6426692701693,1013.6821388703453,751.7422815205589,721.5727734229476,990.8668319373897,1312.5516343450738,1775.6281648553534,2473.8152415181244,2787.486399332684,3284.1214570263273,2924.9725077508083,2121.4705835627756,1959.7817590485897,1663.8303645269507,1740.721063467908,1518.8222853799214,2094.957981479908,2187.2303704934375,2560.298829372118,2463.3340523924444,2283.169213642344,1723.2958314972832,1152.9879010082493,1029.369129253461,708.3342422417207,683.4435486937674,715.90129127342,797.337143622405,669.2397500166317,751.167810107954,731.9848955510153,823.8188901917766,848.7410906940609,747.773919399413,661.4657522799316,908.0133339555068,1035.8423205258105,1064.831324324125,1501.5982125783758,1368.4816926167755,1396.61633895402,1287.0847840599804,1353.537279589153,1276.429226845354,1126.1453667494134,1530.1598619635383,1868.9536864335691,1451.4360038753775,1216.070795895853,2161.630725039274,4256.348515255621,2497.5141197728926,933.8961462587118,1021.0273100170136,993.3817427627563,1247.7447539058812,1864.6149947892188,1566.4978431687166]},{\"name\":\"\\ucd1d \\ubb3c\\ub7c9\",\"type\":\"scatter\",\"x\":[\"2014-01-06T00:00:00\",\"2014-01-13T00:00:00\",\"2014-01-20T00:00:00\",\"2014-01-27T00:00:00\",\"2014-02-03T00:00:00\",\"2014-02-10T00:00:00\",\"2014-02-17T00:00:00\",\"2014-02-24T00:00:00\",\"2014-03-03T00:00:00\",\"2014-03-10T00:00:00\",\"2014-03-17T00:00:00\",\"2014-03-24T00:00:00\",\"2014-03-31T00:00:00\",\"2014-04-07T00:00:00\",\"2014-04-14T00:00:00\",\"2014-04-21T00:00:00\",\"2014-04-28T00:00:00\",\"2014-05-05T00:00:00\",\"2014-05-12T00:00:00\",\"2014-05-19T00:00:00\",\"2014-05-26T00:00:00\",\"2014-06-02T00:00:00\",\"2014-06-09T00:00:00\",\"2014-06-16T00:00:00\",\"2014-06-23T00:00:00\",\"2014-06-30T00:00:00\",\"2014-07-07T00:00:00\",\"2014-07-14T00:00:00\",\"2014-07-21T00:00:00\",\"2014-07-28T00:00:00\",\"2014-08-04T00:00:00\",\"2014-08-11T00:00:00\",\"2014-08-18T00:00:00\",\"2014-08-25T00:00:00\",\"2014-09-01T00:00:00\",\"2014-09-08T00:00:00\",\"2014-09-15T00:00:00\",\"2014-09-22T00:00:00\",\"2014-09-29T00:00:00\",\"2014-10-06T00:00:00\",\"2014-10-13T00:00:00\",\"2014-10-20T00:00:00\",\"2014-10-27T00:00:00\",\"2014-11-03T00:00:00\",\"2014-11-10T00:00:00\",\"2014-11-17T00:00:00\",\"2014-11-24T00:00:00\",\"2014-12-01T00:00:00\",\"2014-12-08T00:00:00\",\"2014-12-15T00:00:00\",\"2014-12-22T00:00:00\",\"2014-12-29T00:00:00\",\"2015-01-05T00:00:00\",\"2015-01-12T00:00:00\",\"2015-01-19T00:00:00\",\"2015-01-26T00:00:00\",\"2015-02-02T00:00:00\",\"2015-02-09T00:00:00\",\"2015-02-16T00:00:00\",\"2015-02-23T00:00:00\",\"2015-03-02T00:00:00\",\"2015-03-09T00:00:00\",\"2015-03-16T00:00:00\",\"2015-03-23T00:00:00\",\"2015-03-30T00:00:00\",\"2015-04-06T00:00:00\",\"2015-04-13T00:00:00\",\"2015-04-20T00:00:00\",\"2015-04-27T00:00:00\",\"2015-05-04T00:00:00\",\"2015-05-11T00:00:00\",\"2015-05-18T00:00:00\",\"2015-05-25T00:00:00\",\"2015-06-01T00:00:00\",\"2015-06-08T00:00:00\",\"2015-06-15T00:00:00\",\"2015-06-22T00:00:00\",\"2015-06-29T00:00:00\",\"2015-07-06T00:00:00\",\"2015-07-13T00:00:00\",\"2015-07-20T00:00:00\",\"2015-07-27T00:00:00\",\"2015-08-03T00:00:00\",\"2015-08-10T00:00:00\",\"2015-08-17T00:00:00\",\"2015-08-24T00:00:00\",\"2015-08-31T00:00:00\",\"2015-09-07T00:00:00\",\"2015-09-14T00:00:00\",\"2015-09-21T00:00:00\",\"2015-09-28T00:00:00\",\"2015-10-05T00:00:00\",\"2015-10-12T00:00:00\",\"2015-10-19T00:00:00\",\"2015-10-26T00:00:00\",\"2015-11-02T00:00:00\",\"2015-11-09T00:00:00\",\"2015-11-16T00:00:00\",\"2015-11-23T00:00:00\",\"2015-11-30T00:00:00\",\"2015-12-07T00:00:00\",\"2015-12-14T00:00:00\",\"2015-12-21T00:00:00\",\"2015-12-28T00:00:00\",\"2016-01-04T00:00:00\",\"2016-01-11T00:00:00\",\"2016-01-18T00:00:00\",\"2016-01-25T00:00:00\",\"2016-02-01T00:00:00\",\"2016-02-08T00:00:00\",\"2016-02-15T00:00:00\",\"2016-02-22T00:00:00\",\"2016-02-29T00:00:00\",\"2016-03-07T00:00:00\",\"2016-03-14T00:00:00\",\"2016-03-21T00:00:00\",\"2016-03-28T00:00:00\",\"2016-04-04T00:00:00\",\"2016-04-11T00:00:00\",\"2016-04-18T00:00:00\",\"2016-04-25T00:00:00\",\"2016-05-02T00:00:00\",\"2016-05-09T00:00:00\",\"2016-05-16T00:00:00\",\"2016-05-23T00:00:00\",\"2016-05-30T00:00:00\",\"2016-06-06T00:00:00\",\"2016-06-13T00:00:00\",\"2016-06-20T00:00:00\",\"2016-06-27T00:00:00\",\"2016-07-04T00:00:00\",\"2016-07-11T00:00:00\",\"2016-07-18T00:00:00\",\"2016-07-25T00:00:00\",\"2016-08-01T00:00:00\",\"2016-08-08T00:00:00\",\"2016-08-15T00:00:00\",\"2016-08-22T00:00:00\",\"2016-08-29T00:00:00\",\"2016-09-05T00:00:00\",\"2016-09-12T00:00:00\",\"2016-09-19T00:00:00\",\"2016-09-26T00:00:00\",\"2016-10-03T00:00:00\",\"2016-10-10T00:00:00\",\"2016-10-17T00:00:00\",\"2016-10-24T00:00:00\",\"2016-10-31T00:00:00\",\"2016-11-07T00:00:00\",\"2016-11-14T00:00:00\",\"2016-11-21T00:00:00\",\"2016-11-28T00:00:00\",\"2016-12-05T00:00:00\",\"2016-12-12T00:00:00\",\"2016-12-19T00:00:00\",\"2016-12-26T00:00:00\",\"2017-01-02T00:00:00\",\"2017-01-09T00:00:00\",\"2017-01-16T00:00:00\",\"2017-01-23T00:00:00\",\"2017-01-30T00:00:00\",\"2017-02-06T00:00:00\",\"2017-02-13T00:00:00\",\"2017-02-20T00:00:00\",\"2017-02-27T00:00:00\",\"2017-03-06T00:00:00\",\"2017-03-13T00:00:00\",\"2017-03-20T00:00:00\",\"2017-03-27T00:00:00\",\"2017-04-03T00:00:00\",\"2017-04-10T00:00:00\",\"2017-04-17T00:00:00\",\"2017-04-24T00:00:00\",\"2017-05-01T00:00:00\",\"2017-05-08T00:00:00\",\"2017-05-15T00:00:00\",\"2017-05-22T00:00:00\",\"2017-05-29T00:00:00\",\"2017-06-05T00:00:00\",\"2017-06-12T00:00:00\",\"2017-06-19T00:00:00\",\"2017-06-26T00:00:00\",\"2017-07-03T00:00:00\",\"2017-07-10T00:00:00\",\"2017-07-17T00:00:00\",\"2017-07-24T00:00:00\",\"2017-07-31T00:00:00\",\"2017-08-07T00:00:00\",\"2017-08-14T00:00:00\",\"2017-08-21T00:00:00\",\"2017-08-28T00:00:00\",\"2017-09-04T00:00:00\",\"2017-09-11T00:00:00\",\"2017-09-18T00:00:00\",\"2017-09-25T00:00:00\",\"2017-10-02T00:00:00\",\"2017-10-09T00:00:00\",\"2017-10-16T00:00:00\",\"2017-10-23T00:00:00\",\"2017-10-30T00:00:00\",\"2017-11-06T00:00:00\",\"2017-11-13T00:00:00\",\"2017-11-20T00:00:00\",\"2017-11-27T00:00:00\",\"2017-12-04T00:00:00\",\"2017-12-11T00:00:00\",\"2017-12-18T00:00:00\",\"2017-12-25T00:00:00\",\"2018-01-01T00:00:00\",\"2018-01-08T00:00:00\",\"2018-01-15T00:00:00\",\"2018-01-22T00:00:00\",\"2018-01-29T00:00:00\",\"2018-02-05T00:00:00\",\"2018-02-12T00:00:00\",\"2018-02-19T00:00:00\",\"2018-02-26T00:00:00\",\"2018-03-05T00:00:00\",\"2018-03-12T00:00:00\",\"2018-03-19T00:00:00\",\"2018-03-26T00:00:00\",\"2018-04-02T00:00:00\",\"2018-04-09T00:00:00\",\"2018-04-16T00:00:00\",\"2018-04-23T00:00:00\",\"2018-04-30T00:00:00\",\"2018-05-07T00:00:00\",\"2018-05-14T00:00:00\",\"2018-05-21T00:00:00\",\"2018-05-28T00:00:00\",\"2018-06-04T00:00:00\",\"2018-06-11T00:00:00\",\"2018-06-18T00:00:00\",\"2018-06-25T00:00:00\",\"2018-07-02T00:00:00\",\"2018-07-09T00:00:00\",\"2018-07-16T00:00:00\",\"2018-07-23T00:00:00\",\"2018-07-30T00:00:00\",\"2018-08-06T00:00:00\",\"2018-08-13T00:00:00\",\"2018-08-20T00:00:00\",\"2018-08-27T00:00:00\",\"2018-09-03T00:00:00\",\"2018-09-10T00:00:00\",\"2018-09-17T00:00:00\",\"2018-09-24T00:00:00\",\"2018-10-01T00:00:00\",\"2018-10-08T00:00:00\",\"2018-10-15T00:00:00\",\"2018-10-22T00:00:00\",\"2018-10-29T00:00:00\",\"2018-11-05T00:00:00\",\"2018-11-12T00:00:00\",\"2018-11-19T00:00:00\",\"2018-11-26T00:00:00\",\"2018-12-03T00:00:00\",\"2018-12-10T00:00:00\",\"2018-12-17T00:00:00\",\"2018-12-24T00:00:00\",\"2018-12-31T00:00:00\",\"2019-01-07T00:00:00\",\"2019-01-14T00:00:00\",\"2019-01-21T00:00:00\",\"2019-01-28T00:00:00\",\"2019-02-04T00:00:00\",\"2019-02-11T00:00:00\",\"2019-02-18T00:00:00\",\"2019-02-25T00:00:00\",\"2019-03-04T00:00:00\",\"2019-03-11T00:00:00\",\"2019-03-18T00:00:00\",\"2019-03-25T00:00:00\",\"2019-04-01T00:00:00\",\"2019-04-08T00:00:00\",\"2019-04-15T00:00:00\",\"2019-04-22T00:00:00\",\"2019-04-29T00:00:00\",\"2019-05-06T00:00:00\",\"2019-05-13T00:00:00\",\"2019-05-20T00:00:00\",\"2019-05-27T00:00:00\",\"2019-06-03T00:00:00\",\"2019-06-10T00:00:00\",\"2019-06-17T00:00:00\",\"2019-06-24T00:00:00\",\"2019-07-01T00:00:00\",\"2019-07-08T00:00:00\",\"2019-07-15T00:00:00\",\"2019-07-22T00:00:00\",\"2019-07-29T00:00:00\",\"2019-08-05T00:00:00\",\"2019-08-12T00:00:00\",\"2019-08-19T00:00:00\",\"2019-08-26T00:00:00\",\"2019-09-02T00:00:00\",\"2019-09-09T00:00:00\",\"2019-09-16T00:00:00\",\"2019-09-23T00:00:00\",\"2019-09-30T00:00:00\",\"2019-10-07T00:00:00\",\"2019-10-14T00:00:00\",\"2019-10-21T00:00:00\",\"2019-10-28T00:00:00\",\"2019-11-04T00:00:00\",\"2019-11-11T00:00:00\",\"2019-11-18T00:00:00\",\"2019-11-25T00:00:00\",\"2019-12-02T00:00:00\",\"2019-12-09T00:00:00\",\"2019-12-16T00:00:00\",\"2019-12-23T00:00:00\",\"2019-12-30T00:00:00\",\"2020-01-06T00:00:00\",\"2020-01-13T00:00:00\",\"2020-01-20T00:00:00\",\"2020-01-27T00:00:00\",\"2020-02-03T00:00:00\",\"2020-02-10T00:00:00\",\"2020-02-17T00:00:00\",\"2020-02-24T00:00:00\",\"2020-03-02T00:00:00\",\"2020-03-09T00:00:00\",\"2020-03-16T00:00:00\",\"2020-03-23T00:00:00\",\"2020-03-30T00:00:00\",\"2020-04-06T00:00:00\",\"2020-04-13T00:00:00\",\"2020-04-20T00:00:00\",\"2020-04-27T00:00:00\",\"2020-05-04T00:00:00\",\"2020-05-11T00:00:00\",\"2020-05-18T00:00:00\",\"2020-05-25T00:00:00\",\"2020-06-01T00:00:00\",\"2020-06-08T00:00:00\",\"2020-06-15T00:00:00\",\"2020-06-22T00:00:00\",\"2020-06-29T00:00:00\",\"2020-07-06T00:00:00\",\"2020-07-13T00:00:00\",\"2020-07-20T00:00:00\",\"2020-07-27T00:00:00\",\"2020-08-03T00:00:00\",\"2020-08-10T00:00:00\",\"2020-08-17T00:00:00\",\"2020-08-24T00:00:00\",\"2020-08-31T00:00:00\",\"2020-09-07T00:00:00\",\"2020-09-14T00:00:00\",\"2020-09-21T00:00:00\",\"2020-09-28T00:00:00\",\"2020-10-05T00:00:00\",\"2020-10-12T00:00:00\",\"2020-10-19T00:00:00\",\"2020-10-26T00:00:00\",\"2020-11-02T00:00:00\",\"2020-11-09T00:00:00\",\"2020-11-16T00:00:00\",\"2020-11-23T00:00:00\",\"2020-11-30T00:00:00\",\"2020-12-07T00:00:00\",\"2020-12-14T00:00:00\",\"2020-12-21T00:00:00\",\"2020-12-28T00:00:00\",\"2021-01-04T00:00:00\",\"2021-01-11T00:00:00\",\"2021-01-18T00:00:00\",\"2021-01-25T00:00:00\",\"2021-02-01T00:00:00\",\"2021-02-08T00:00:00\",\"2021-02-15T00:00:00\",\"2021-02-22T00:00:00\",\"2021-03-01T00:00:00\",\"2021-03-08T00:00:00\",\"2021-03-15T00:00:00\",\"2021-03-22T00:00:00\",\"2021-03-29T00:00:00\",\"2021-04-05T00:00:00\",\"2021-04-12T00:00:00\",\"2021-04-19T00:00:00\",\"2021-04-26T00:00:00\",\"2021-05-03T00:00:00\",\"2021-05-10T00:00:00\",\"2021-05-17T00:00:00\",\"2021-05-24T00:00:00\",\"2021-05-31T00:00:00\",\"2021-06-07T00:00:00\",\"2021-06-14T00:00:00\",\"2021-06-21T00:00:00\",\"2021-06-28T00:00:00\",\"2021-07-05T00:00:00\",\"2021-07-12T00:00:00\",\"2021-07-19T00:00:00\",\"2021-07-26T00:00:00\",\"2021-08-02T00:00:00\",\"2021-08-09T00:00:00\",\"2021-08-16T00:00:00\",\"2021-08-23T00:00:00\",\"2021-08-30T00:00:00\",\"2021-09-06T00:00:00\",\"2021-09-13T00:00:00\",\"2021-09-20T00:00:00\",\"2021-09-27T00:00:00\",\"2021-10-04T00:00:00\",\"2021-10-11T00:00:00\",\"2021-10-18T00:00:00\",\"2021-10-25T00:00:00\",\"2021-11-01T00:00:00\"],\"xaxis\":\"x\",\"y\":[13178.0,15210.0,16470.0,12284.0,1210.0,9186.0,16010.0,20397.0,11040.0,12100.0,14516.0,13138.0,11741.0,9278.0,14338.0,15560.0,16092.0,10848.0,18770.0,19873.0,15172.0,15880.0,15960.0,5979.0,13083.0,5892.0,14835.0,11984.0,11998.0,10432.0,9133.0,13907.0,13176.0,15387.0,19022.0,22917.0,31633.0,117110.0,133451.0,135523.0,156489.5,169265.0,178312.0,220311.0,446539.0,720220.0,861427.0,633138.6000000001,330485.0,183307.0,48749.0,40621.0,15870.0,19901.0,12297.0,16648.0,10785.0,14733.0,12771.0,2003.0,18743.0,13187.0,10802.0,20885.0,13491.0,6405.0,10875.0,13676.0,24817.0,23913.0,34778.0,31746.0,45099.0,30853.0,40043.0,29718.0,23070.0,24640.0,27330.0,23912.0,21319.0,23821.0,24397.0,37154.0,47654.0,52189.0,46626.0,47716.0,44895.0,47374.0,29437.0,58491.0,117068.0,120276.0,161087.0,192330.0,355954.89999999997,574433.5,694422.0,764538.0,493802.5,245836.5,114283.0,54621.5,66088.0,182929.0,59403.9,22724.4,53836.3,24952.0,17186.4,44906.0,48093.8,46831.7,67768.0,86387.2,97972.3,86586.0,62053.9,85798.5,113627.5,97728.0,66614.5,86002.0,96998.5,128409.0,95911.0,91245.0,66673.5,75384.0,72280.5,39414.0,46318.5,60653.5,55435.5,45095.5,56496.5,82606.5,83893.0,118617.8,153762.0,29785.5,164305.0,228554.0,205146.0,228064.0,271561.8,303949.5,559753.2,1090090.6,1662162.4000000001,1677774.9999999998,1079890.1000000003,653615.2,369990.00000000006,157425.8,90106.1,114868.0,82818.7,79550.1,17927.5,34000.5,46854.0,46831.5,47381.5,66861.5,94330.2,107924.1,134677.5,144179.5,148192.40000000002,145969.5,123994.4,133556.5,98492.2,133509.0,160861.5,102695.5,88974.5,67650.0,63800.5,47812.0,47722.5,56388.0,51814.5,56822.0,73242.0,69522.0,99167.5,62206.5,55085.5,59242.5,75966.0,153338.5,230786.5,220989.5,65745.0,428815.5,523342.5,539852.3,760956.1000000001,1402973.8000000003,1977152.4000000001,2129137.5999999996,1434337.5999999999,875312.2999999999,295926.8,212877.4,148175.8,67059.6,56234.5,118097.0,27745.0,34952.0,36826.0,7541.5,31284.58,35670.1,44261.0,77647.61,86807.53,96821.70000000001,46988.5,61708.5,82639.0,163481.5,191400.5,179339.7,141336.5,117062.1,112703.5,81275.5,76629.0,81391.5,45232.0,40726.5,55963.0,58676.5,79432.5,55240.5,66212.5,71661.5,66316.0,59196.0,54126.0,130473.5,90846.0,121758.5,237174.5,295712.5,433320.5,480771.1,748049.5,1176425.43,2054329.4400000004,2221225.03,1696165.9899999998,893335.6,416037.11000000004,234725.1,97823.2,30380.5,53074.8,54612.5,54973.0,24201.0,14663.0,57849.5,56093.7,71781.59999999999,89304.8,120850.5,118257.90000000001,128524.30000000002,91524.6,92975.19,100633.9,108587.1,90650.99999999999,87827.1,98821.1,108788.0,130185.0,117364.8,99816.0,107591.5,93366.0,81213.0,51049.2,59862.0,61002.0,42147.5,34468.0,46112.5,106240.0,109265.2,95806.0,23154.0,135619.5,201895.5,228463.2,298371.2,332165.0,422276.7,630831.0,1135614.2000000002,1856276.3999999997,1883464.6299999994,1500563.4399999995,809590.9,489623.57,249440.41000000003,107344.0,67759.0,98701.7,80283.3,23630.5,65714.6,64887.1,60692.6,70880.59999999999,78681.5,76467.4,80226.4,92340.7,72439.29999999999,93878.79999999999,79374.1,114603.3,161543.80000000002,136728.6,124902.3,116621.9,133913.5,157872.5,113966.0,78598.5,83149.6,86743.0,81434.0,94008.5,122946.5,101509.0,90488.0,74504.5,57285.0,71400.0,118011.5,121656.0,96281.5,110192.0,205876.5,72202.6,351818.0,366668.19999999995,474171.5,599310.4,922139.2999999999,1420694.8299999998,1626574.5999999996,1421874.1000000006,829397.3999999999,446918.4999999998,157610.19999999998,115837.79999999999,46918.200000000004,59815.0,29427.5,45142.5,56380.0,81588.1,9881.0,61045.9,81825.0,154580.0,147429.6,152522.59999999998,125186.5,180703.7,127768.5,109333.7,95932.0,105748.0,143066.7,81813.3,89750.5,85721.0,94254.5,67819.5,49680.5,79640.0,86407.0,68155.5,48290.5,66261.0,73517.5,66069.5,50665.5,54394.7,78408.5,120245.9,49978.299999999996,53736.7,96262.3,209538.5,171695.2,212839.3,293622.0,430029.0],\"yaxis\":\"y2\"}],                        {\"template\":{\"data\":{\"bar\":[{\"error_x\":{\"color\":\"#2a3f5f\"},\"error_y\":{\"color\":\"#2a3f5f\"},\"marker\":{\"line\":{\"color\":\"#E5ECF6\",\"width\":0.5},\"pattern\":{\"fillmode\":\"overlay\",\"size\":10,\"solidity\":0.2}},\"type\":\"bar\"}],\"barpolar\":[{\"marker\":{\"line\":{\"color\":\"#E5ECF6\",\"width\":0.5},\"pattern\":{\"fillmode\":\"overlay\",\"size\":10,\"solidity\":0.2}},\"type\":\"barpolar\"}],\"carpet\":[{\"aaxis\":{\"endlinecolor\":\"#2a3f5f\",\"gridcolor\":\"white\",\"linecolor\":\"white\",\"minorgridcolor\":\"white\",\"startlinecolor\":\"#2a3f5f\"},\"baxis\":{\"endlinecolor\":\"#2a3f5f\",\"gridcolor\":\"white\",\"linecolor\":\"white\",\"minorgridcolor\":\"white\",\"startlinecolor\":\"#2a3f5f\"},\"type\":\"carpet\"}],\"choropleth\":[{\"colorbar\":{\"outlinewidth\":0,\"ticks\":\"\"},\"type\":\"choropleth\"}],\"contour\":[{\"colorbar\":{\"outlinewidth\":0,\"ticks\":\"\"},\"colorscale\":[[0.0,\"#0d0887\"],[0.1111111111111111,\"#46039f\"],[0.2222222222222222,\"#7201a8\"],[0.3333333333333333,\"#9c179e\"],[0.4444444444444444,\"#bd3786\"],[0.5555555555555556,\"#d8576b\"],[0.6666666666666666,\"#ed7953\"],[0.7777777777777778,\"#fb9f3a\"],[0.8888888888888888,\"#fdca26\"],[1.0,\"#f0f921\"]],\"type\":\"contour\"}],\"contourcarpet\":[{\"colorbar\":{\"outlinewidth\":0,\"ticks\":\"\"},\"type\":\"contourcarpet\"}],\"heatmap\":[{\"colorbar\":{\"outlinewidth\":0,\"ticks\":\"\"},\"colorscale\":[[0.0,\"#0d0887\"],[0.1111111111111111,\"#46039f\"],[0.2222222222222222,\"#7201a8\"],[0.3333333333333333,\"#9c179e\"],[0.4444444444444444,\"#bd3786\"],[0.5555555555555556,\"#d8576b\"],[0.6666666666666666,\"#ed7953\"],[0.7777777777777778,\"#fb9f3a\"],[0.8888888888888888,\"#fdca26\"],[1.0,\"#f0f921\"]],\"type\":\"heatmap\"}],\"heatmapgl\":[{\"colorbar\":{\"outlinewidth\":0,\"ticks\":\"\"},\"colorscale\":[[0.0,\"#0d0887\"],[0.1111111111111111,\"#46039f\"],[0.2222222222222222,\"#7201a8\"],[0.3333333333333333,\"#9c179e\"],[0.4444444444444444,\"#bd3786\"],[0.5555555555555556,\"#d8576b\"],[0.6666666666666666,\"#ed7953\"],[0.7777777777777778,\"#fb9f3a\"],[0.8888888888888888,\"#fdca26\"],[1.0,\"#f0f921\"]],\"type\":\"heatmapgl\"}],\"histogram\":[{\"marker\":{\"pattern\":{\"fillmode\":\"overlay\",\"size\":10,\"solidity\":0.2}},\"type\":\"histogram\"}],\"histogram2d\":[{\"colorbar\":{\"outlinewidth\":0,\"ticks\":\"\"},\"colorscale\":[[0.0,\"#0d0887\"],[0.1111111111111111,\"#46039f\"],[0.2222222222222222,\"#7201a8\"],[0.3333333333333333,\"#9c179e\"],[0.4444444444444444,\"#bd3786\"],[0.5555555555555556,\"#d8576b\"],[0.6666666666666666,\"#ed7953\"],[0.7777777777777778,\"#fb9f3a\"],[0.8888888888888888,\"#fdca26\"],[1.0,\"#f0f921\"]],\"type\":\"histogram2d\"}],\"histogram2dcontour\":[{\"colorbar\":{\"outlinewidth\":0,\"ticks\":\"\"},\"colorscale\":[[0.0,\"#0d0887\"],[0.1111111111111111,\"#46039f\"],[0.2222222222222222,\"#7201a8\"],[0.3333333333333333,\"#9c179e\"],[0.4444444444444444,\"#bd3786\"],[0.5555555555555556,\"#d8576b\"],[0.6666666666666666,\"#ed7953\"],[0.7777777777777778,\"#fb9f3a\"],[0.8888888888888888,\"#fdca26\"],[1.0,\"#f0f921\"]],\"type\":\"histogram2dcontour\"}],\"mesh3d\":[{\"colorbar\":{\"outlinewidth\":0,\"ticks\":\"\"},\"type\":\"mesh3d\"}],\"parcoords\":[{\"line\":{\"colorbar\":{\"outlinewidth\":0,\"ticks\":\"\"}},\"type\":\"parcoords\"}],\"pie\":[{\"automargin\":true,\"type\":\"pie\"}],\"scatter\":[{\"marker\":{\"colorbar\":{\"outlinewidth\":0,\"ticks\":\"\"}},\"type\":\"scatter\"}],\"scatter3d\":[{\"line\":{\"colorbar\":{\"outlinewidth\":0,\"ticks\":\"\"}},\"marker\":{\"colorbar\":{\"outlinewidth\":0,\"ticks\":\"\"}},\"type\":\"scatter3d\"}],\"scattercarpet\":[{\"marker\":{\"colorbar\":{\"outlinewidth\":0,\"ticks\":\"\"}},\"type\":\"scattercarpet\"}],\"scattergeo\":[{\"marker\":{\"colorbar\":{\"outlinewidth\":0,\"ticks\":\"\"}},\"type\":\"scattergeo\"}],\"scattergl\":[{\"marker\":{\"colorbar\":{\"outlinewidth\":0,\"ticks\":\"\"}},\"type\":\"scattergl\"}],\"scattermapbox\":[{\"marker\":{\"colorbar\":{\"outlinewidth\":0,\"ticks\":\"\"}},\"type\":\"scattermapbox\"}],\"scatterpolar\":[{\"marker\":{\"colorbar\":{\"outlinewidth\":0,\"ticks\":\"\"}},\"type\":\"scatterpolar\"}],\"scatterpolargl\":[{\"marker\":{\"colorbar\":{\"outlinewidth\":0,\"ticks\":\"\"}},\"type\":\"scatterpolargl\"}],\"scatterternary\":[{\"marker\":{\"colorbar\":{\"outlinewidth\":0,\"ticks\":\"\"}},\"type\":\"scatterternary\"}],\"surface\":[{\"colorbar\":{\"outlinewidth\":0,\"ticks\":\"\"},\"colorscale\":[[0.0,\"#0d0887\"],[0.1111111111111111,\"#46039f\"],[0.2222222222222222,\"#7201a8\"],[0.3333333333333333,\"#9c179e\"],[0.4444444444444444,\"#bd3786\"],[0.5555555555555556,\"#d8576b\"],[0.6666666666666666,\"#ed7953\"],[0.7777777777777778,\"#fb9f3a\"],[0.8888888888888888,\"#fdca26\"],[1.0,\"#f0f921\"]],\"type\":\"surface\"}],\"table\":[{\"cells\":{\"fill\":{\"color\":\"#EBF0F8\"},\"line\":{\"color\":\"white\"}},\"header\":{\"fill\":{\"color\":\"#C8D4E3\"},\"line\":{\"color\":\"white\"}},\"type\":\"table\"}]},\"layout\":{\"annotationdefaults\":{\"arrowcolor\":\"#2a3f5f\",\"arrowhead\":0,\"arrowwidth\":1},\"autotypenumbers\":\"strict\",\"coloraxis\":{\"colorbar\":{\"outlinewidth\":0,\"ticks\":\"\"}},\"colorscale\":{\"diverging\":[[0,\"#8e0152\"],[0.1,\"#c51b7d\"],[0.2,\"#de77ae\"],[0.3,\"#f1b6da\"],[0.4,\"#fde0ef\"],[0.5,\"#f7f7f7\"],[0.6,\"#e6f5d0\"],[0.7,\"#b8e186\"],[0.8,\"#7fbc41\"],[0.9,\"#4d9221\"],[1,\"#276419\"]],\"sequential\":[[0.0,\"#0d0887\"],[0.1111111111111111,\"#46039f\"],[0.2222222222222222,\"#7201a8\"],[0.3333333333333333,\"#9c179e\"],[0.4444444444444444,\"#bd3786\"],[0.5555555555555556,\"#d8576b\"],[0.6666666666666666,\"#ed7953\"],[0.7777777777777778,\"#fb9f3a\"],[0.8888888888888888,\"#fdca26\"],[1.0,\"#f0f921\"]],\"sequentialminus\":[[0.0,\"#0d0887\"],[0.1111111111111111,\"#46039f\"],[0.2222222222222222,\"#7201a8\"],[0.3333333333333333,\"#9c179e\"],[0.4444444444444444,\"#bd3786\"],[0.5555555555555556,\"#d8576b\"],[0.6666666666666666,\"#ed7953\"],[0.7777777777777778,\"#fb9f3a\"],[0.8888888888888888,\"#fdca26\"],[1.0,\"#f0f921\"]]},\"colorway\":[\"#636efa\",\"#EF553B\",\"#00cc96\",\"#ab63fa\",\"#FFA15A\",\"#19d3f3\",\"#FF6692\",\"#B6E880\",\"#FF97FF\",\"#FECB52\"],\"font\":{\"color\":\"#2a3f5f\"},\"geo\":{\"bgcolor\":\"white\",\"lakecolor\":\"white\",\"landcolor\":\"#E5ECF6\",\"showlakes\":true,\"showland\":true,\"subunitcolor\":\"white\"},\"hoverlabel\":{\"align\":\"left\"},\"hovermode\":\"closest\",\"mapbox\":{\"style\":\"light\"},\"paper_bgcolor\":\"white\",\"plot_bgcolor\":\"#E5ECF6\",\"polar\":{\"angularaxis\":{\"gridcolor\":\"white\",\"linecolor\":\"white\",\"ticks\":\"\"},\"bgcolor\":\"#E5ECF6\",\"radialaxis\":{\"gridcolor\":\"white\",\"linecolor\":\"white\",\"ticks\":\"\"}},\"scene\":{\"xaxis\":{\"backgroundcolor\":\"#E5ECF6\",\"gridcolor\":\"white\",\"gridwidth\":2,\"linecolor\":\"white\",\"showbackground\":true,\"ticks\":\"\",\"zerolinecolor\":\"white\"},\"yaxis\":{\"backgroundcolor\":\"#E5ECF6\",\"gridcolor\":\"white\",\"gridwidth\":2,\"linecolor\":\"white\",\"showbackground\":true,\"ticks\":\"\",\"zerolinecolor\":\"white\"},\"zaxis\":{\"backgroundcolor\":\"#E5ECF6\",\"gridcolor\":\"white\",\"gridwidth\":2,\"linecolor\":\"white\",\"showbackground\":true,\"ticks\":\"\",\"zerolinecolor\":\"white\"}},\"shapedefaults\":{\"line\":{\"color\":\"#2a3f5f\"}},\"ternary\":{\"aaxis\":{\"gridcolor\":\"white\",\"linecolor\":\"white\",\"ticks\":\"\"},\"baxis\":{\"gridcolor\":\"white\",\"linecolor\":\"white\",\"ticks\":\"\"},\"bgcolor\":\"#E5ECF6\",\"caxis\":{\"gridcolor\":\"white\",\"linecolor\":\"white\",\"ticks\":\"\"}},\"title\":{\"x\":0.05},\"xaxis\":{\"automargin\":true,\"gridcolor\":\"white\",\"linecolor\":\"white\",\"ticks\":\"\",\"title\":{\"standoff\":15},\"zerolinecolor\":\"white\",\"zerolinewidth\":2},\"yaxis\":{\"automargin\":true,\"gridcolor\":\"white\",\"linecolor\":\"white\",\"ticks\":\"\",\"title\":{\"standoff\":15},\"zerolinecolor\":\"white\",\"zerolinewidth\":2}}},\"title\":{\"text\":\"\\ucd1d \\ubb3c\\ub7c9 & \\ub2e8\\uc704 \\uac00\\uaca9\"},\"xaxis\":{\"anchor\":\"y\",\"domain\":[0.0,0.94]},\"yaxis\":{\"anchor\":\"x\",\"domain\":[0.0,1.0],\"title\":{\"text\":\"\\ub2e8\\uc704 \\ub2f9 \\uac00\\uaca9(kg)\"}},\"yaxis2\":{\"anchor\":\"x\",\"overlaying\":\"y\",\"side\":\"right\",\"title\":{\"text\":\"\\ucd1d \\ubb3c\\ub7c9\"}}},                        {\"responsive\": true}                    ).then(function(){\n",
       "                            \n",
       "var gd = document.getElementById('53981b76-236a-4f06-9d7d-6e0404ed305c');\n",
       "var x = new MutationObserver(function (mutations, observer) {{\n",
       "        var display = window.getComputedStyle(gd).display;\n",
       "        if (!display || display === 'none') {{\n",
       "            console.log([gd, 'removed!']);\n",
       "            Plotly.purge(gd);\n",
       "            observer.disconnect();\n",
       "        }}\n",
       "}});\n",
       "\n",
       "// Listen for the removal of the full notebook cells\n",
       "var notebookContainer = gd.closest('#notebook-container');\n",
       "if (notebookContainer) {{\n",
       "    x.observe(notebookContainer, {childList: true});\n",
       "}}\n",
       "\n",
       "// Listen for the clearing of the current output cell\n",
       "var outputEl = gd.closest('.output');\n",
       "if (outputEl) {{\n",
       "    x.observe(outputEl, {childList: true});\n",
       "}}\n",
       "\n",
       "                        })                };                });            </script>        </div>"
      ]
     },
     "metadata": {},
     "output_type": "display_data"
    }
   ],
   "source": [
    "fig = make_subplots(specs=[[{\"secondary_y\": True}]])\n",
    "\n",
    "fig.add_trace(go.Scatter(x=mus_week['SALEDATE'], y=mus_week['PER_PRICE'], name='단위 당 가격(kg)'))\n",
    "fig.add_trace(go.Scatter(x=mus_week['SALEDATE'], y=mus_week['TOT_QTY'], name='총 물량'), secondary_y=True)\n",
    "\n",
    "# Set y-axes titles\n",
    "fig.update_yaxes(title_text=\"단위 당 가격(kg)\", secondary_y=False)\n",
    "fig.update_yaxes(title_text=\"총 물량\", secondary_y=True)\n",
    "\n",
    "fig.update_layout(title_text='총 물량 & 단위 가격')\n",
    "\n",
    "fig.show()"
   ]
  },
  {
   "cell_type": "markdown",
   "metadata": {},
   "source": [
    "# 날씨 데이터 & 환율 데이터"
   ]
  },
  {
   "cell_type": "code",
   "execution_count": 92,
   "metadata": {},
   "outputs": [],
   "source": [
    "dollar =  pd.read_csv(\"C:/Users/keogu/Desktop/빅데이터 자료분석/new data/환율_주 단위.csv\",parse_dates=['일자'])"
   ]
  },
  {
   "cell_type": "code",
   "execution_count": 93,
   "metadata": {},
   "outputs": [
    {
     "data": {
      "text/html": [
       "<div>\n",
       "<style scoped>\n",
       "    .dataframe tbody tr th:only-of-type {\n",
       "        vertical-align: middle;\n",
       "    }\n",
       "\n",
       "    .dataframe tbody tr th {\n",
       "        vertical-align: top;\n",
       "    }\n",
       "\n",
       "    .dataframe thead th {\n",
       "        text-align: right;\n",
       "    }\n",
       "</style>\n",
       "<table border=\"1\" class=\"dataframe\">\n",
       "  <thead>\n",
       "    <tr style=\"text-align: right;\">\n",
       "      <th></th>\n",
       "      <th>일자</th>\n",
       "      <th>매매기준율</th>\n",
       "      <th>직전대비</th>\n",
       "    </tr>\n",
       "  </thead>\n",
       "  <tbody>\n",
       "    <tr>\n",
       "      <th>0</th>\n",
       "      <td>2014-01-02</td>\n",
       "      <td>1050.5</td>\n",
       "      <td>0.0</td>\n",
       "    </tr>\n",
       "    <tr>\n",
       "      <th>1</th>\n",
       "      <td>2014-01-03</td>\n",
       "      <td>1055.0</td>\n",
       "      <td>4.5</td>\n",
       "    </tr>\n",
       "    <tr>\n",
       "      <th>2</th>\n",
       "      <td>2014-01-06</td>\n",
       "      <td>1066.5</td>\n",
       "      <td>11.5</td>\n",
       "    </tr>\n",
       "    <tr>\n",
       "      <th>3</th>\n",
       "      <td>2014-01-07</td>\n",
       "      <td>1068.0</td>\n",
       "      <td>1.5</td>\n",
       "    </tr>\n",
       "    <tr>\n",
       "      <th>4</th>\n",
       "      <td>2014-01-08</td>\n",
       "      <td>1066.5</td>\n",
       "      <td>-1.5</td>\n",
       "    </tr>\n",
       "    <tr>\n",
       "      <th>...</th>\n",
       "      <td>...</td>\n",
       "      <td>...</td>\n",
       "      <td>...</td>\n",
       "    </tr>\n",
       "    <tr>\n",
       "      <th>1931</th>\n",
       "      <td>2021-11-01</td>\n",
       "      <td>1178.5</td>\n",
       "      <td>4.5</td>\n",
       "    </tr>\n",
       "    <tr>\n",
       "      <th>1932</th>\n",
       "      <td>2021-11-02</td>\n",
       "      <td>1176.5</td>\n",
       "      <td>-2.0</td>\n",
       "    </tr>\n",
       "    <tr>\n",
       "      <th>1933</th>\n",
       "      <td>2021-11-03</td>\n",
       "      <td>1182.0</td>\n",
       "      <td>5.5</td>\n",
       "    </tr>\n",
       "    <tr>\n",
       "      <th>1934</th>\n",
       "      <td>2021-11-04</td>\n",
       "      <td>1185.5</td>\n",
       "      <td>3.5</td>\n",
       "    </tr>\n",
       "    <tr>\n",
       "      <th>1935</th>\n",
       "      <td>2021-11-05</td>\n",
       "      <td>1186.5</td>\n",
       "      <td>1.0</td>\n",
       "    </tr>\n",
       "  </tbody>\n",
       "</table>\n",
       "<p>1936 rows × 3 columns</p>\n",
       "</div>"
      ],
      "text/plain": [
       "             일자   매매기준율  직전대비\n",
       "0    2014-01-02  1050.5   0.0\n",
       "1    2014-01-03  1055.0   4.5\n",
       "2    2014-01-06  1066.5  11.5\n",
       "3    2014-01-07  1068.0   1.5\n",
       "4    2014-01-08  1066.5  -1.5\n",
       "...         ...     ...   ...\n",
       "1931 2021-11-01  1178.5   4.5\n",
       "1932 2021-11-02  1176.5  -2.0\n",
       "1933 2021-11-03  1182.0   5.5\n",
       "1934 2021-11-04  1185.5   3.5\n",
       "1935 2021-11-05  1186.5   1.0\n",
       "\n",
       "[1936 rows x 3 columns]"
      ]
     },
     "execution_count": 93,
     "metadata": {},
     "output_type": "execute_result"
    }
   ],
   "source": [
    "dollar"
   ]
  },
  {
   "cell_type": "code",
   "execution_count": 94,
   "metadata": {},
   "outputs": [],
   "source": [
    "dollar.set_index(['일자'], inplace=True)"
   ]
  },
  {
   "cell_type": "code",
   "execution_count": 95,
   "metadata": {},
   "outputs": [],
   "source": [
    "dollar_week= dollar.resample(rule='W-Mon').mean().reset_index()"
   ]
  },
  {
   "cell_type": "code",
   "execution_count": 96,
   "metadata": {},
   "outputs": [
    {
     "data": {
      "text/html": [
       "<div>\n",
       "<style scoped>\n",
       "    .dataframe tbody tr th:only-of-type {\n",
       "        vertical-align: middle;\n",
       "    }\n",
       "\n",
       "    .dataframe tbody tr th {\n",
       "        vertical-align: top;\n",
       "    }\n",
       "\n",
       "    .dataframe thead th {\n",
       "        text-align: right;\n",
       "    }\n",
       "</style>\n",
       "<table border=\"1\" class=\"dataframe\">\n",
       "  <thead>\n",
       "    <tr style=\"text-align: right;\">\n",
       "      <th></th>\n",
       "      <th>일자</th>\n",
       "      <th>매매기준율</th>\n",
       "      <th>직전대비</th>\n",
       "    </tr>\n",
       "  </thead>\n",
       "  <tbody>\n",
       "    <tr>\n",
       "      <th>0</th>\n",
       "      <td>2014-01-06</td>\n",
       "      <td>1057.333333</td>\n",
       "      <td>5.333333</td>\n",
       "    </tr>\n",
       "    <tr>\n",
       "      <th>1</th>\n",
       "      <td>2014-01-13</td>\n",
       "      <td>1063.300000</td>\n",
       "      <td>-1.900000</td>\n",
       "    </tr>\n",
       "    <tr>\n",
       "      <th>2</th>\n",
       "      <td>2014-01-20</td>\n",
       "      <td>1062.300000</td>\n",
       "      <td>1.400000</td>\n",
       "    </tr>\n",
       "    <tr>\n",
       "      <th>3</th>\n",
       "      <td>2014-01-27</td>\n",
       "      <td>1074.300000</td>\n",
       "      <td>3.800000</td>\n",
       "    </tr>\n",
       "    <tr>\n",
       "      <th>4</th>\n",
       "      <td>2014-02-03</td>\n",
       "      <td>1078.666667</td>\n",
       "      <td>0.833333</td>\n",
       "    </tr>\n",
       "    <tr>\n",
       "      <th>...</th>\n",
       "      <td>...</td>\n",
       "      <td>...</td>\n",
       "      <td>...</td>\n",
       "    </tr>\n",
       "    <tr>\n",
       "      <th>405</th>\n",
       "      <td>2021-10-11</td>\n",
       "      <td>1192.625000</td>\n",
       "      <td>2.250000</td>\n",
       "    </tr>\n",
       "    <tr>\n",
       "      <th>406</th>\n",
       "      <td>2021-10-18</td>\n",
       "      <td>1189.300000</td>\n",
       "      <td>-1.700000</td>\n",
       "    </tr>\n",
       "    <tr>\n",
       "      <th>407</th>\n",
       "      <td>2021-10-25</td>\n",
       "      <td>1175.600000</td>\n",
       "      <td>-3.300000</td>\n",
       "    </tr>\n",
       "    <tr>\n",
       "      <th>408</th>\n",
       "      <td>2021-11-01</td>\n",
       "      <td>1172.700000</td>\n",
       "      <td>1.500000</td>\n",
       "    </tr>\n",
       "    <tr>\n",
       "      <th>409</th>\n",
       "      <td>2021-11-08</td>\n",
       "      <td>1182.625000</td>\n",
       "      <td>2.000000</td>\n",
       "    </tr>\n",
       "  </tbody>\n",
       "</table>\n",
       "<p>410 rows × 3 columns</p>\n",
       "</div>"
      ],
      "text/plain": [
       "            일자        매매기준율      직전대비\n",
       "0   2014-01-06  1057.333333  5.333333\n",
       "1   2014-01-13  1063.300000 -1.900000\n",
       "2   2014-01-20  1062.300000  1.400000\n",
       "3   2014-01-27  1074.300000  3.800000\n",
       "4   2014-02-03  1078.666667  0.833333\n",
       "..         ...          ...       ...\n",
       "405 2021-10-11  1192.625000  2.250000\n",
       "406 2021-10-18  1189.300000 -1.700000\n",
       "407 2021-10-25  1175.600000 -3.300000\n",
       "408 2021-11-01  1172.700000  1.500000\n",
       "409 2021-11-08  1182.625000  2.000000\n",
       "\n",
       "[410 rows x 3 columns]"
      ]
     },
     "execution_count": 96,
     "metadata": {},
     "output_type": "execute_result"
    }
   ],
   "source": [
    "dollar_week"
   ]
  },
  {
   "cell_type": "code",
   "execution_count": 97,
   "metadata": {},
   "outputs": [],
   "source": [
    "gg =  pd.read_csv(\"C:/Users/keogu/Desktop/빅데이터 자료분석/weather/경기도_전처리.csv\",parse_dates=['일시'], encoding='cp949')\n",
    "jn =  pd.read_csv(\"C:/Users/keogu/Desktop/빅데이터 자료분석/weather/전라남도_전처리.csv\",parse_dates=['일시'], encoding='cp949')"
   ]
  },
  {
   "cell_type": "code",
   "execution_count": 98,
   "metadata": {},
   "outputs": [],
   "source": [
    "mus_gg = pd.merge(mus_week, gg, how='left',left_on='SALEDATE', right_on='일시')\n",
    "mus_jn = pd.merge(mus_week, jn, how='left',left_on='SALEDATE', right_on='일시')\n",
    "mus_dollar = pd.merge(mus_week, dollar_week, how='left',left_on='SALEDATE', right_on='일자')"
   ]
  },
  {
   "cell_type": "markdown",
   "metadata": {},
   "source": [
    "## 상관관계"
   ]
  },
  {
   "cell_type": "code",
   "execution_count": 99,
   "metadata": {},
   "outputs": [],
   "source": [
    "corr_gg = mus_gg.corr(method = 'pearson')\n",
    "corr_jn = mus_jn.corr(method = 'pearson')\n",
    "corr_dollar = mus_dollar.corr(method = 'pearson')"
   ]
  },
  {
   "cell_type": "code",
   "execution_count": 100,
   "metadata": {},
   "outputs": [
    {
     "data": {
      "text/html": [
       "<div>\n",
       "<style scoped>\n",
       "    .dataframe tbody tr th:only-of-type {\n",
       "        vertical-align: middle;\n",
       "    }\n",
       "\n",
       "    .dataframe tbody tr th {\n",
       "        vertical-align: top;\n",
       "    }\n",
       "\n",
       "    .dataframe thead th {\n",
       "        text-align: right;\n",
       "    }\n",
       "</style>\n",
       "<table border=\"1\" class=\"dataframe\">\n",
       "  <thead>\n",
       "    <tr style=\"text-align: right;\">\n",
       "      <th></th>\n",
       "      <th>TOT_QTY</th>\n",
       "      <th>PER_PRICE</th>\n",
       "      <th>평균기온(°C)</th>\n",
       "      <th>최저기온(°C)</th>\n",
       "      <th>최고기온(°C)</th>\n",
       "      <th>일강수량(mm)</th>\n",
       "      <th>평균 이슬점온도(°C)</th>\n",
       "      <th>평균 상대습도(%)</th>\n",
       "      <th>합계 일사량(MJ/m2)</th>\n",
       "      <th>일 최심적설(cm)</th>\n",
       "      <th>평균 지면온도(°C)</th>\n",
       "    </tr>\n",
       "  </thead>\n",
       "  <tbody>\n",
       "    <tr>\n",
       "      <th>TOT_QTY</th>\n",
       "      <td>1.000000</td>\n",
       "      <td>0.156256</td>\n",
       "      <td>-0.232834</td>\n",
       "      <td>-0.226618</td>\n",
       "      <td>-0.230826</td>\n",
       "      <td>-0.096452</td>\n",
       "      <td>-0.193607</td>\n",
       "      <td>0.023671</td>\n",
       "      <td>-0.316558</td>\n",
       "      <td>0.014110</td>\n",
       "      <td>-0.250027</td>\n",
       "    </tr>\n",
       "    <tr>\n",
       "      <th>PER_PRICE</th>\n",
       "      <td>0.156256</td>\n",
       "      <td>1.000000</td>\n",
       "      <td>-0.147621</td>\n",
       "      <td>-0.113877</td>\n",
       "      <td>-0.179689</td>\n",
       "      <td>0.044932</td>\n",
       "      <td>-0.081950</td>\n",
       "      <td>0.154721</td>\n",
       "      <td>-0.271913</td>\n",
       "      <td>0.098061</td>\n",
       "      <td>-0.165752</td>\n",
       "    </tr>\n",
       "    <tr>\n",
       "      <th>평균기온(°C)</th>\n",
       "      <td>-0.232834</td>\n",
       "      <td>-0.147621</td>\n",
       "      <td>1.000000</td>\n",
       "      <td>0.993708</td>\n",
       "      <td>0.993171</td>\n",
       "      <td>0.387201</td>\n",
       "      <td>0.978589</td>\n",
       "      <td>0.554156</td>\n",
       "      <td>0.564078</td>\n",
       "      <td>-0.355703</td>\n",
       "      <td>0.992198</td>\n",
       "    </tr>\n",
       "    <tr>\n",
       "      <th>최저기온(°C)</th>\n",
       "      <td>-0.226618</td>\n",
       "      <td>-0.113877</td>\n",
       "      <td>0.993708</td>\n",
       "      <td>1.000000</td>\n",
       "      <td>0.974994</td>\n",
       "      <td>0.434836</td>\n",
       "      <td>0.989901</td>\n",
       "      <td>0.616782</td>\n",
       "      <td>0.499355</td>\n",
       "      <td>-0.340217</td>\n",
       "      <td>0.982796</td>\n",
       "    </tr>\n",
       "    <tr>\n",
       "      <th>최고기온(°C)</th>\n",
       "      <td>-0.230826</td>\n",
       "      <td>-0.179689</td>\n",
       "      <td>0.993171</td>\n",
       "      <td>0.974994</td>\n",
       "      <td>1.000000</td>\n",
       "      <td>0.329331</td>\n",
       "      <td>0.956059</td>\n",
       "      <td>0.490684</td>\n",
       "      <td>0.614835</td>\n",
       "      <td>-0.370485</td>\n",
       "      <td>0.987820</td>\n",
       "    </tr>\n",
       "    <tr>\n",
       "      <th>일강수량(mm)</th>\n",
       "      <td>-0.096452</td>\n",
       "      <td>0.044932</td>\n",
       "      <td>0.387201</td>\n",
       "      <td>0.434836</td>\n",
       "      <td>0.329331</td>\n",
       "      <td>1.000000</td>\n",
       "      <td>0.454839</td>\n",
       "      <td>0.541241</td>\n",
       "      <td>-0.122595</td>\n",
       "      <td>-0.095853</td>\n",
       "      <td>0.349415</td>\n",
       "    </tr>\n",
       "    <tr>\n",
       "      <th>평균 이슬점온도(°C)</th>\n",
       "      <td>-0.193607</td>\n",
       "      <td>-0.081950</td>\n",
       "      <td>0.978589</td>\n",
       "      <td>0.989901</td>\n",
       "      <td>0.956059</td>\n",
       "      <td>0.454839</td>\n",
       "      <td>1.000000</td>\n",
       "      <td>0.711684</td>\n",
       "      <td>0.446914</td>\n",
       "      <td>-0.325016</td>\n",
       "      <td>0.961463</td>\n",
       "    </tr>\n",
       "    <tr>\n",
       "      <th>평균 상대습도(%)</th>\n",
       "      <td>0.023671</td>\n",
       "      <td>0.154721</td>\n",
       "      <td>0.554156</td>\n",
       "      <td>0.616782</td>\n",
       "      <td>0.490684</td>\n",
       "      <td>0.541241</td>\n",
       "      <td>0.711684</td>\n",
       "      <td>1.000000</td>\n",
       "      <td>-0.107714</td>\n",
       "      <td>-0.120181</td>\n",
       "      <td>0.506692</td>\n",
       "    </tr>\n",
       "    <tr>\n",
       "      <th>합계 일사량(MJ/m2)</th>\n",
       "      <td>-0.316558</td>\n",
       "      <td>-0.271913</td>\n",
       "      <td>0.564078</td>\n",
       "      <td>0.499355</td>\n",
       "      <td>0.614835</td>\n",
       "      <td>-0.122595</td>\n",
       "      <td>0.446914</td>\n",
       "      <td>-0.107714</td>\n",
       "      <td>1.000000</td>\n",
       "      <td>-0.207281</td>\n",
       "      <td>0.613501</td>\n",
       "    </tr>\n",
       "    <tr>\n",
       "      <th>일 최심적설(cm)</th>\n",
       "      <td>0.014110</td>\n",
       "      <td>0.098061</td>\n",
       "      <td>-0.355703</td>\n",
       "      <td>-0.340217</td>\n",
       "      <td>-0.370485</td>\n",
       "      <td>-0.095853</td>\n",
       "      <td>-0.325016</td>\n",
       "      <td>-0.120181</td>\n",
       "      <td>-0.207281</td>\n",
       "      <td>1.000000</td>\n",
       "      <td>-0.326249</td>\n",
       "    </tr>\n",
       "    <tr>\n",
       "      <th>평균 지면온도(°C)</th>\n",
       "      <td>-0.250027</td>\n",
       "      <td>-0.165752</td>\n",
       "      <td>0.992198</td>\n",
       "      <td>0.982796</td>\n",
       "      <td>0.987820</td>\n",
       "      <td>0.349415</td>\n",
       "      <td>0.961463</td>\n",
       "      <td>0.506692</td>\n",
       "      <td>0.613501</td>\n",
       "      <td>-0.326249</td>\n",
       "      <td>1.000000</td>\n",
       "    </tr>\n",
       "  </tbody>\n",
       "</table>\n",
       "</div>"
      ],
      "text/plain": [
       "                TOT_QTY  PER_PRICE  평균기온(°C)  최저기온(°C)  최고기온(°C)  일강수량(mm)  \\\n",
       "TOT_QTY        1.000000   0.156256 -0.232834 -0.226618 -0.230826 -0.096452   \n",
       "PER_PRICE      0.156256   1.000000 -0.147621 -0.113877 -0.179689  0.044932   \n",
       "평균기온(°C)      -0.232834  -0.147621  1.000000  0.993708  0.993171  0.387201   \n",
       "최저기온(°C)      -0.226618  -0.113877  0.993708  1.000000  0.974994  0.434836   \n",
       "최고기온(°C)      -0.230826  -0.179689  0.993171  0.974994  1.000000  0.329331   \n",
       "일강수량(mm)      -0.096452   0.044932  0.387201  0.434836  0.329331  1.000000   \n",
       "평균 이슬점온도(°C)  -0.193607  -0.081950  0.978589  0.989901  0.956059  0.454839   \n",
       "평균 상대습도(%)     0.023671   0.154721  0.554156  0.616782  0.490684  0.541241   \n",
       "합계 일사량(MJ/m2) -0.316558  -0.271913  0.564078  0.499355  0.614835 -0.122595   \n",
       "일 최심적설(cm)     0.014110   0.098061 -0.355703 -0.340217 -0.370485 -0.095853   \n",
       "평균 지면온도(°C)   -0.250027  -0.165752  0.992198  0.982796  0.987820  0.349415   \n",
       "\n",
       "               평균 이슬점온도(°C)  평균 상대습도(%)  합계 일사량(MJ/m2)  일 최심적설(cm)  \\\n",
       "TOT_QTY           -0.193607    0.023671      -0.316558    0.014110   \n",
       "PER_PRICE         -0.081950    0.154721      -0.271913    0.098061   \n",
       "평균기온(°C)           0.978589    0.554156       0.564078   -0.355703   \n",
       "최저기온(°C)           0.989901    0.616782       0.499355   -0.340217   \n",
       "최고기온(°C)           0.956059    0.490684       0.614835   -0.370485   \n",
       "일강수량(mm)           0.454839    0.541241      -0.122595   -0.095853   \n",
       "평균 이슬점온도(°C)       1.000000    0.711684       0.446914   -0.325016   \n",
       "평균 상대습도(%)         0.711684    1.000000      -0.107714   -0.120181   \n",
       "합계 일사량(MJ/m2)      0.446914   -0.107714       1.000000   -0.207281   \n",
       "일 최심적설(cm)        -0.325016   -0.120181      -0.207281    1.000000   \n",
       "평균 지면온도(°C)        0.961463    0.506692       0.613501   -0.326249   \n",
       "\n",
       "               평균 지면온도(°C)  \n",
       "TOT_QTY          -0.250027  \n",
       "PER_PRICE        -0.165752  \n",
       "평균기온(°C)          0.992198  \n",
       "최저기온(°C)          0.982796  \n",
       "최고기온(°C)          0.987820  \n",
       "일강수량(mm)          0.349415  \n",
       "평균 이슬점온도(°C)      0.961463  \n",
       "평균 상대습도(%)        0.506692  \n",
       "합계 일사량(MJ/m2)     0.613501  \n",
       "일 최심적설(cm)       -0.326249  \n",
       "평균 지면온도(°C)       1.000000  "
      ]
     },
     "execution_count": 100,
     "metadata": {},
     "output_type": "execute_result"
    }
   ],
   "source": [
    "corr_gg"
   ]
  },
  {
   "cell_type": "code",
   "execution_count": 101,
   "metadata": {},
   "outputs": [
    {
     "data": {
      "text/html": [
       "<div>\n",
       "<style scoped>\n",
       "    .dataframe tbody tr th:only-of-type {\n",
       "        vertical-align: middle;\n",
       "    }\n",
       "\n",
       "    .dataframe tbody tr th {\n",
       "        vertical-align: top;\n",
       "    }\n",
       "\n",
       "    .dataframe thead th {\n",
       "        text-align: right;\n",
       "    }\n",
       "</style>\n",
       "<table border=\"1\" class=\"dataframe\">\n",
       "  <thead>\n",
       "    <tr style=\"text-align: right;\">\n",
       "      <th></th>\n",
       "      <th>TOT_QTY</th>\n",
       "      <th>PER_PRICE</th>\n",
       "      <th>평균기온(°C)</th>\n",
       "      <th>최저기온(°C)</th>\n",
       "      <th>최고기온(°C)</th>\n",
       "      <th>일강수량(mm)</th>\n",
       "      <th>평균 이슬점온도(°C)</th>\n",
       "      <th>평균 상대습도(%)</th>\n",
       "      <th>합계 일사량(MJ/m2)</th>\n",
       "      <th>일 최심적설(cm)</th>\n",
       "      <th>평균 지면온도(°C)</th>\n",
       "    </tr>\n",
       "  </thead>\n",
       "  <tbody>\n",
       "    <tr>\n",
       "      <th>TOT_QTY</th>\n",
       "      <td>1.000000</td>\n",
       "      <td>0.156256</td>\n",
       "      <td>-0.183387</td>\n",
       "      <td>-0.191194</td>\n",
       "      <td>-0.172260</td>\n",
       "      <td>-0.142836</td>\n",
       "      <td>-0.179727</td>\n",
       "      <td>-0.132843</td>\n",
       "      <td>-0.337874</td>\n",
       "      <td>-0.050045</td>\n",
       "      <td>-0.214993</td>\n",
       "    </tr>\n",
       "    <tr>\n",
       "      <th>PER_PRICE</th>\n",
       "      <td>0.156256</td>\n",
       "      <td>1.000000</td>\n",
       "      <td>-0.105650</td>\n",
       "      <td>-0.074900</td>\n",
       "      <td>-0.135962</td>\n",
       "      <td>0.018282</td>\n",
       "      <td>-0.070540</td>\n",
       "      <td>0.042573</td>\n",
       "      <td>-0.323922</td>\n",
       "      <td>0.114560</td>\n",
       "      <td>-0.137522</td>\n",
       "    </tr>\n",
       "    <tr>\n",
       "      <th>평균기온(°C)</th>\n",
       "      <td>-0.183387</td>\n",
       "      <td>-0.105650</td>\n",
       "      <td>1.000000</td>\n",
       "      <td>0.993817</td>\n",
       "      <td>0.992866</td>\n",
       "      <td>0.387706</td>\n",
       "      <td>0.986005</td>\n",
       "      <td>0.703245</td>\n",
       "      <td>0.487302</td>\n",
       "      <td>-0.359988</td>\n",
       "      <td>0.992006</td>\n",
       "    </tr>\n",
       "    <tr>\n",
       "      <th>최저기온(°C)</th>\n",
       "      <td>-0.191194</td>\n",
       "      <td>-0.074900</td>\n",
       "      <td>0.993817</td>\n",
       "      <td>1.000000</td>\n",
       "      <td>0.974252</td>\n",
       "      <td>0.421923</td>\n",
       "      <td>0.992976</td>\n",
       "      <td>0.750378</td>\n",
       "      <td>0.419153</td>\n",
       "      <td>-0.333775</td>\n",
       "      <td>0.980779</td>\n",
       "    </tr>\n",
       "    <tr>\n",
       "      <th>최고기온(°C)</th>\n",
       "      <td>-0.172260</td>\n",
       "      <td>-0.135962</td>\n",
       "      <td>0.992866</td>\n",
       "      <td>0.974252</td>\n",
       "      <td>1.000000</td>\n",
       "      <td>0.337493</td>\n",
       "      <td>0.965457</td>\n",
       "      <td>0.644331</td>\n",
       "      <td>0.553182</td>\n",
       "      <td>-0.384715</td>\n",
       "      <td>0.990917</td>\n",
       "    </tr>\n",
       "    <tr>\n",
       "      <th>일강수량(mm)</th>\n",
       "      <td>-0.142836</td>\n",
       "      <td>0.018282</td>\n",
       "      <td>0.387706</td>\n",
       "      <td>0.421923</td>\n",
       "      <td>0.337493</td>\n",
       "      <td>1.000000</td>\n",
       "      <td>0.440314</td>\n",
       "      <td>0.540569</td>\n",
       "      <td>-0.135698</td>\n",
       "      <td>-0.090577</td>\n",
       "      <td>0.339018</td>\n",
       "    </tr>\n",
       "    <tr>\n",
       "      <th>평균 이슬점온도(°C)</th>\n",
       "      <td>-0.179727</td>\n",
       "      <td>-0.070540</td>\n",
       "      <td>0.986005</td>\n",
       "      <td>0.992976</td>\n",
       "      <td>0.965457</td>\n",
       "      <td>0.440314</td>\n",
       "      <td>1.000000</td>\n",
       "      <td>0.810670</td>\n",
       "      <td>0.375124</td>\n",
       "      <td>-0.318921</td>\n",
       "      <td>0.968173</td>\n",
       "    </tr>\n",
       "    <tr>\n",
       "      <th>평균 상대습도(%)</th>\n",
       "      <td>-0.132843</td>\n",
       "      <td>0.042573</td>\n",
       "      <td>0.703245</td>\n",
       "      <td>0.750378</td>\n",
       "      <td>0.644331</td>\n",
       "      <td>0.540569</td>\n",
       "      <td>0.810670</td>\n",
       "      <td>1.000000</td>\n",
       "      <td>-0.092262</td>\n",
       "      <td>-0.107965</td>\n",
       "      <td>0.654995</td>\n",
       "    </tr>\n",
       "    <tr>\n",
       "      <th>합계 일사량(MJ/m2)</th>\n",
       "      <td>-0.337874</td>\n",
       "      <td>-0.323922</td>\n",
       "      <td>0.487302</td>\n",
       "      <td>0.419153</td>\n",
       "      <td>0.553182</td>\n",
       "      <td>-0.135698</td>\n",
       "      <td>0.375124</td>\n",
       "      <td>-0.092262</td>\n",
       "      <td>1.000000</td>\n",
       "      <td>-0.231705</td>\n",
       "      <td>0.562002</td>\n",
       "    </tr>\n",
       "    <tr>\n",
       "      <th>일 최심적설(cm)</th>\n",
       "      <td>-0.050045</td>\n",
       "      <td>0.114560</td>\n",
       "      <td>-0.359988</td>\n",
       "      <td>-0.333775</td>\n",
       "      <td>-0.384715</td>\n",
       "      <td>-0.090577</td>\n",
       "      <td>-0.318921</td>\n",
       "      <td>-0.107965</td>\n",
       "      <td>-0.231705</td>\n",
       "      <td>1.000000</td>\n",
       "      <td>-0.330874</td>\n",
       "    </tr>\n",
       "    <tr>\n",
       "      <th>평균 지면온도(°C)</th>\n",
       "      <td>-0.214993</td>\n",
       "      <td>-0.137522</td>\n",
       "      <td>0.992006</td>\n",
       "      <td>0.980779</td>\n",
       "      <td>0.990917</td>\n",
       "      <td>0.339018</td>\n",
       "      <td>0.968173</td>\n",
       "      <td>0.654995</td>\n",
       "      <td>0.562002</td>\n",
       "      <td>-0.330874</td>\n",
       "      <td>1.000000</td>\n",
       "    </tr>\n",
       "  </tbody>\n",
       "</table>\n",
       "</div>"
      ],
      "text/plain": [
       "                TOT_QTY  PER_PRICE  평균기온(°C)  최저기온(°C)  최고기온(°C)  일강수량(mm)  \\\n",
       "TOT_QTY        1.000000   0.156256 -0.183387 -0.191194 -0.172260 -0.142836   \n",
       "PER_PRICE      0.156256   1.000000 -0.105650 -0.074900 -0.135962  0.018282   \n",
       "평균기온(°C)      -0.183387  -0.105650  1.000000  0.993817  0.992866  0.387706   \n",
       "최저기온(°C)      -0.191194  -0.074900  0.993817  1.000000  0.974252  0.421923   \n",
       "최고기온(°C)      -0.172260  -0.135962  0.992866  0.974252  1.000000  0.337493   \n",
       "일강수량(mm)      -0.142836   0.018282  0.387706  0.421923  0.337493  1.000000   \n",
       "평균 이슬점온도(°C)  -0.179727  -0.070540  0.986005  0.992976  0.965457  0.440314   \n",
       "평균 상대습도(%)    -0.132843   0.042573  0.703245  0.750378  0.644331  0.540569   \n",
       "합계 일사량(MJ/m2) -0.337874  -0.323922  0.487302  0.419153  0.553182 -0.135698   \n",
       "일 최심적설(cm)    -0.050045   0.114560 -0.359988 -0.333775 -0.384715 -0.090577   \n",
       "평균 지면온도(°C)   -0.214993  -0.137522  0.992006  0.980779  0.990917  0.339018   \n",
       "\n",
       "               평균 이슬점온도(°C)  평균 상대습도(%)  합계 일사량(MJ/m2)  일 최심적설(cm)  \\\n",
       "TOT_QTY           -0.179727   -0.132843      -0.337874   -0.050045   \n",
       "PER_PRICE         -0.070540    0.042573      -0.323922    0.114560   \n",
       "평균기온(°C)           0.986005    0.703245       0.487302   -0.359988   \n",
       "최저기온(°C)           0.992976    0.750378       0.419153   -0.333775   \n",
       "최고기온(°C)           0.965457    0.644331       0.553182   -0.384715   \n",
       "일강수량(mm)           0.440314    0.540569      -0.135698   -0.090577   \n",
       "평균 이슬점온도(°C)       1.000000    0.810670       0.375124   -0.318921   \n",
       "평균 상대습도(%)         0.810670    1.000000      -0.092262   -0.107965   \n",
       "합계 일사량(MJ/m2)      0.375124   -0.092262       1.000000   -0.231705   \n",
       "일 최심적설(cm)        -0.318921   -0.107965      -0.231705    1.000000   \n",
       "평균 지면온도(°C)        0.968173    0.654995       0.562002   -0.330874   \n",
       "\n",
       "               평균 지면온도(°C)  \n",
       "TOT_QTY          -0.214993  \n",
       "PER_PRICE        -0.137522  \n",
       "평균기온(°C)          0.992006  \n",
       "최저기온(°C)          0.980779  \n",
       "최고기온(°C)          0.990917  \n",
       "일강수량(mm)          0.339018  \n",
       "평균 이슬점온도(°C)      0.968173  \n",
       "평균 상대습도(%)        0.654995  \n",
       "합계 일사량(MJ/m2)     0.562002  \n",
       "일 최심적설(cm)       -0.330874  \n",
       "평균 지면온도(°C)       1.000000  "
      ]
     },
     "execution_count": 101,
     "metadata": {},
     "output_type": "execute_result"
    }
   ],
   "source": [
    "corr_jn"
   ]
  },
  {
   "cell_type": "code",
   "execution_count": 102,
   "metadata": {},
   "outputs": [
    {
     "data": {
      "text/html": [
       "<div>\n",
       "<style scoped>\n",
       "    .dataframe tbody tr th:only-of-type {\n",
       "        vertical-align: middle;\n",
       "    }\n",
       "\n",
       "    .dataframe tbody tr th {\n",
       "        vertical-align: top;\n",
       "    }\n",
       "\n",
       "    .dataframe thead th {\n",
       "        text-align: right;\n",
       "    }\n",
       "</style>\n",
       "<table border=\"1\" class=\"dataframe\">\n",
       "  <thead>\n",
       "    <tr style=\"text-align: right;\">\n",
       "      <th></th>\n",
       "      <th>TOT_QTY</th>\n",
       "      <th>PER_PRICE</th>\n",
       "      <th>매매기준율</th>\n",
       "      <th>직전대비</th>\n",
       "    </tr>\n",
       "  </thead>\n",
       "  <tbody>\n",
       "    <tr>\n",
       "      <th>TOT_QTY</th>\n",
       "      <td>1.000000</td>\n",
       "      <td>0.156256</td>\n",
       "      <td>0.059307</td>\n",
       "      <td>-0.032272</td>\n",
       "    </tr>\n",
       "    <tr>\n",
       "      <th>PER_PRICE</th>\n",
       "      <td>0.156256</td>\n",
       "      <td>1.000000</td>\n",
       "      <td>0.103120</td>\n",
       "      <td>0.008449</td>\n",
       "    </tr>\n",
       "    <tr>\n",
       "      <th>매매기준율</th>\n",
       "      <td>0.059307</td>\n",
       "      <td>0.103120</td>\n",
       "      <td>1.000000</td>\n",
       "      <td>0.010748</td>\n",
       "    </tr>\n",
       "    <tr>\n",
       "      <th>직전대비</th>\n",
       "      <td>-0.032272</td>\n",
       "      <td>0.008449</td>\n",
       "      <td>0.010748</td>\n",
       "      <td>1.000000</td>\n",
       "    </tr>\n",
       "  </tbody>\n",
       "</table>\n",
       "</div>"
      ],
      "text/plain": [
       "            TOT_QTY  PER_PRICE     매매기준율      직전대비\n",
       "TOT_QTY    1.000000   0.156256  0.059307 -0.032272\n",
       "PER_PRICE  0.156256   1.000000  0.103120  0.008449\n",
       "매매기준율      0.059307   0.103120  1.000000  0.010748\n",
       "직전대비      -0.032272   0.008449  0.010748  1.000000"
      ]
     },
     "execution_count": 102,
     "metadata": {},
     "output_type": "execute_result"
    }
   ],
   "source": [
    "corr_dollar"
   ]
  },
  {
   "cell_type": "markdown",
   "metadata": {},
   "source": [
    "## 정상성 확인(ADF-test)"
   ]
  },
  {
   "cell_type": "code",
   "execution_count": 103,
   "metadata": {},
   "outputs": [],
   "source": [
    "from statsmodels.tsa.stattools import adfuller \n",
    "\n",
    "def adf_test(timeseries):\n",
    "    result = adfuller(timeseries)\n",
    "    print('ADF Statistic: %f' % result[0])\n",
    "    print('p-value: %f' % result[1])\n",
    "    print('Critical Values:')\n",
    "    for key, value in result[4].items():\n",
    "        print('\\t%s: %.3f' % (key,value))"
   ]
  },
  {
   "cell_type": "code",
   "execution_count": 104,
   "metadata": {},
   "outputs": [
    {
     "name": "stdout",
     "output_type": "stream",
     "text": [
      "ADF Statistic: -4.493859\n",
      "p-value: 0.000202\n",
      "Critical Values:\n",
      "\t1%: -3.447\n",
      "\t5%: -2.869\n",
      "\t10%: -2.571\n"
     ]
    }
   ],
   "source": [
    "adf_test(mus_week['PER_PRICE'])"
   ]
  },
  {
   "cell_type": "code",
   "execution_count": 105,
   "metadata": {},
   "outputs": [
    {
     "name": "stdout",
     "output_type": "stream",
     "text": [
      "ADF Statistic: -7.098065\n",
      "p-value: 0.000000\n",
      "Critical Values:\n",
      "\t1%: -3.447\n",
      "\t5%: -2.869\n",
      "\t10%: -2.571\n"
     ]
    }
   ],
   "source": [
    "adf_test(mus_week['TOT_QTY'])"
   ]
  },
  {
   "cell_type": "markdown",
   "metadata": {},
   "source": [
    "## 공적분"
   ]
  },
  {
   "cell_type": "code",
   "execution_count": 106,
   "metadata": {},
   "outputs": [],
   "source": [
    "import statsmodels\n",
    "from statsmodels.tsa.stattools import coint"
   ]
  },
  {
   "cell_type": "code",
   "execution_count": 107,
   "metadata": {},
   "outputs": [
    {
     "name": "stdout",
     "output_type": "stream",
     "text": [
      "Cointegration test p-value: 0.0011181329279846065\n"
     ]
    }
   ],
   "source": [
    "score, pvalue, _ = coint(mus_week['PER_PRICE'],mus_week['TOT_QTY'])\n",
    "print('Cointegration test p-value: ' + str(pvalue))"
   ]
  }
 ],
 "metadata": {
  "hide_input": false,
  "kernelspec": {
   "display_name": "Python 3",
   "language": "python",
   "name": "python3"
  },
  "language_info": {
   "codemirror_mode": {
    "name": "ipython",
    "version": 3
   },
   "file_extension": ".py",
   "mimetype": "text/x-python",
   "name": "python",
   "nbconvert_exporter": "python",
   "pygments_lexer": "ipython3",
   "version": "3.7.6"
  },
  "toc": {
   "base_numbering": 1,
   "nav_menu": {},
   "number_sections": true,
   "sideBar": true,
   "skip_h1_title": false,
   "title_cell": "Table of Contents",
   "title_sidebar": "Contents",
   "toc_cell": false,
   "toc_position": {},
   "toc_section_display": true,
   "toc_window_display": false
  },
  "varInspector": {
   "cols": {
    "lenName": 16,
    "lenType": 16,
    "lenVar": 40
   },
   "kernels_config": {
    "python": {
     "delete_cmd_postfix": "",
     "delete_cmd_prefix": "del ",
     "library": "var_list.py",
     "varRefreshCmd": "print(var_dic_list())"
    },
    "r": {
     "delete_cmd_postfix": ") ",
     "delete_cmd_prefix": "rm(",
     "library": "var_list.r",
     "varRefreshCmd": "cat(var_dic_list()) "
    }
   },
   "types_to_exclude": [
    "module",
    "function",
    "builtin_function_or_method",
    "instance",
    "_Feature"
   ],
   "window_display": false
  }
 },
 "nbformat": 4,
 "nbformat_minor": 4
}
